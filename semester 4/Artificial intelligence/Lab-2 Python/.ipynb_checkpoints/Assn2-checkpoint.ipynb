{
 "cells": [
  {
   "cell_type": "markdown",
   "id": "47e2aa83",
   "metadata": {},
   "source": [
    "# Lab - 2 "
   ]
  },
  {
   "cell_type": "markdown",
   "id": "bdc25c1c",
   "metadata": {},
   "source": [
    "Question - 1 "
   ]
  },
  {
   "cell_type": "code",
   "execution_count": 14,
   "id": "0b44dab9",
   "metadata": {},
   "outputs": [],
   "source": [
    "import numpy as np\n",
    "from time import time\n",
    "import matplotlib.pyplot as plt"
   ]
  },
  {
   "cell_type": "code",
   "execution_count": 79,
   "id": "0c116e3d",
   "metadata": {},
   "outputs": [],
   "source": [
    "firstMatrix=np.random.randint(10,size=(10,10))\n",
    "secondMatrix=np.random.randint(10,size=(10,10))\n",
    "finalMatrix=np.random.randint(1,size=(10,10))\n",
    "t = time()"
   ]
  },
  {
   "cell_type": "code",
   "execution_count": 82,
   "id": "ab80dc56",
   "metadata": {},
   "outputs": [
    {
     "name": "stdout",
     "output_type": "stream",
     "text": [
      "7.6395652294158936\n",
      "[[202 182 226 199 142 216 180 168 154 201]\n",
      " [144 208 158 161 100 130 126  81 160 149]\n",
      " [131 140 164 116 126 145 150 128 143 158]\n",
      " [217 277 247 237 147 205 178 122 195 208]\n",
      " [227 250 294 201 223 296 226 173 194 246]\n",
      " [147 231 210 199 170 174 169 143 210 218]\n",
      " [166 195 178 164 116 162 158 100 113 149]\n",
      " [175 246 230 176 138 139 174 109 138 197]\n",
      " [221 317 263 232 174 185 185 134 183 273]\n",
      " [152 205 198 137 179 153 185 181 174 209]]\n"
     ]
    }
   ],
   "source": [
    "transposeMatrix=secondMatrix.T\n",
    "for row in range(10):\n",
    "    for col in range(10):\n",
    "        transposeMatrix[row][col]=secondMatrix[col][row]\n",
    "for i in range(10):\n",
    "    for j in range(10):\n",
    "        value=0\n",
    "        for k in range(10):\n",
    "            value +=firstMatrix[i][k]*transposeMatrix[k][j]\n",
    "        finalMatrix[i][j] =value\n",
    "        value=0\n",
    "t1 = time() - t\n",
    "print(t1)\n",
    "print(finalMatrix)"
   ]
  },
  {
   "cell_type": "code",
   "execution_count": 83,
   "id": "0be1c91c",
   "metadata": {},
   "outputs": [
    {
     "name": "stdout",
     "output_type": "stream",
     "text": [
      "0.0001285076141357422\n",
      "[[177 214 180 217 149 212 136 123 156 232]\n",
      " [130 186 125 167 112 198 103 135 125 198]\n",
      " [153 152 108 185 113 151  94 103  73 226]\n",
      " [177 267 184 206 160 256 165 179 199 274]\n",
      " [257 225 192 274 197 293 196 178 149 363]\n",
      " [147 244 161 210 120 219 164 162 155 316]\n",
      " [162 170 131 196 137 219 115 113  88 170]\n",
      " [154 226 151 177 127 214 129 114 126 232]\n",
      " [168 300 206 214 146 314 169 150 186 338]\n",
      " [177 196 158 228 123 175  99 141  98 278]]\n"
     ]
    }
   ],
   "source": [
    "t2=time()\n",
    "transposeMatrix=secondMatrix.T\n",
    "multipliedMatrix=np.dot(firstMatrix,secondMatrix)\n",
    "t2 = time()-t2\n",
    "print(t2)\n",
    "print(multipliedMatrix)"
   ]
  },
  {
   "cell_type": "code",
   "execution_count": 6,
   "id": "b293db15",
   "metadata": {},
   "outputs": [
    {
     "name": "stdout",
     "output_type": "stream",
     "text": [
      "SpeedUp : 1328.6673913043478\n"
     ]
    }
   ],
   "source": [
    "print(\"SpeedUp : \" + str(t1/t2))"
   ]
  },
  {
   "cell_type": "markdown",
   "id": "95415c8c",
   "metadata": {},
   "source": [
    "Question - 2"
   ]
  },
  {
   "cell_type": "code",
   "execution_count": 7,
   "id": "bc404069",
   "metadata": {},
   "outputs": [],
   "source": [
    "size=np.random.randint(1,11)\n",
    "p=np.random.randint(5,11,(size))\n",
    "q=np.random.randint(5,11,(size))"
   ]
  },
  {
   "cell_type": "code",
   "execution_count": 8,
   "id": "1934ca22",
   "metadata": {},
   "outputs": [
    {
     "name": "stdout",
     "output_type": "stream",
     "text": [
      "2.449489742783178\n"
     ]
    }
   ],
   "source": [
    "print(np.sqrt(np.sum(pow(p-q,2))))"
   ]
  },
  {
   "cell_type": "code",
   "execution_count": 9,
   "id": "eb378ad4",
   "metadata": {},
   "outputs": [],
   "source": [
    "size=np.random.randint(1,11)\n",
    "p=np.random.randint(5,11,(size))\n",
    "q=np.random.randint(5,11,(size))"
   ]
  },
  {
   "cell_type": "code",
   "execution_count": 10,
   "id": "37c33231",
   "metadata": {},
   "outputs": [
    {
     "name": "stdout",
     "output_type": "stream",
     "text": [
      "0.012363357629260923\n"
     ]
    }
   ],
   "source": [
    "#calculating mean\n",
    "xMean=np.mean(p)\n",
    "yMean=np.mean(q)\n",
    "p=p-xMean\n",
    "q=q-yMean\n",
    "numerator=np.sum(p*q)\n",
    "denominator=np.sqrt(np.sum(pow(p,2))*np.sum(pow(q,2)))\n",
    "print(numerator/denominator)\n"
   ]
  },
  {
   "cell_type": "markdown",
   "id": "f4f4da51",
   "metadata": {},
   "source": [
    "Question - 3"
   ]
  },
  {
   "cell_type": "code",
   "execution_count": 11,
   "id": "6ee8c992",
   "metadata": {},
   "outputs": [],
   "source": [
    "p=np.array([2,1,2])\n",
    "q=np.array([1,1,1])\n"
   ]
  },
  {
   "cell_type": "code",
   "execution_count": 12,
   "id": "7536cfb0",
   "metadata": {},
   "outputs": [
    {
     "name": "stdout",
     "output_type": "stream",
     "text": [
      "15.79316904826397\n"
     ]
    }
   ],
   "source": [
    "numerator=np.dot(p,q)\n",
    "denominator=np.sqrt(np.sum(pow(p,2))*np.sum(pow(q,2)))\n",
    "print(np.degrees(np.arccos(numerator/denominator)))"
   ]
  },
  {
   "cell_type": "markdown",
   "id": "3671751c",
   "metadata": {},
   "source": [
    "Question - 4 "
   ]
  },
  {
   "cell_type": "code",
   "execution_count": 90,
   "id": "a36838ba",
   "metadata": {},
   "outputs": [
    {
     "name": "stdout",
     "output_type": "stream",
     "text": [
      "[[442 363 411 386 385 463 469 410]\n",
      " [478 386 443 397 434 504 526 422]\n",
      " [445 360 409 370 386 474 478 396]\n",
      " [462 379 426 404 415 476 508 416]\n",
      " [527 424 486 455 474 540 564 478]\n",
      " [454 362 413 372 407 467 479 405]\n",
      " [519 419 480 445 462 528 564 463]\n",
      " [436 358 419 397 391 460 478 409]]\n",
      "(array([ 3.56565531e+03 +0.j        , -1.13222294e+01+12.32272636j,\n",
      "       -1.13222294e+01-12.32272636j,  1.06522501e+01 +0.55472014j,\n",
      "        1.06522501e+01 -0.55472014j,  1.05111734e+00 +5.21166427j,\n",
      "        1.05111734e+00 -5.21166427j,  5.82417915e-01 +0.j        ]), array([[ 0.35804869+0.j        , -0.1984463 -0.33889836j,\n",
      "        -0.1984463 +0.33889836j, -0.21435552-0.01537734j,\n",
      "        -0.21435552+0.01537734j, -0.26073691+0.12920165j,\n",
      "        -0.26073691-0.12920165j,  0.16460267+0.j        ],\n",
      "       [ 0.32530116+0.j        , -0.32093543+0.04266074j,\n",
      "        -0.32093543-0.04266074j,  0.0238376 +0.0097785j ,\n",
      "         0.0238376 -0.0097785j , -0.02110678+0.00128576j,\n",
      "        -0.02110678-0.00128576j, -0.60790128+0.j        ],\n",
      "       [ 0.32450863+0.j        ,  0.43547412+0.j        ,\n",
      "         0.43547412-0.j        ,  0.41434695-0.01867161j,\n",
      "         0.41434695+0.01867161j, -0.19466092-0.29154125j,\n",
      "        -0.19466092+0.29154125j, -0.3091588 +0.j        ],\n",
      "       [ 0.39798369+0.j        , -0.28441161-0.23385169j,\n",
      "        -0.28441161+0.23385169j,  0.17284234-0.0052086j ,\n",
      "         0.17284234+0.0052086j , -0.38117547-0.06619008j,\n",
      "        -0.38117547+0.06619008j, -0.09578326+0.j        ],\n",
      "       [ 0.33541946+0.j        , -0.01793073+0.23429492j,\n",
      "        -0.01793073-0.23429492j,  0.65354394+0.j        ,\n",
      "         0.65354394-0.j        , -0.02838189-0.07414065j,\n",
      "        -0.02838189+0.07414065j, -0.22369544+0.j        ],\n",
      "       [ 0.36507255+0.j        , -0.07534344+0.26563281j,\n",
      "        -0.07534344-0.26563281j, -0.16885022-0.00068223j,\n",
      "        -0.16885022+0.00068223j, -0.10222525+0.04906769j,\n",
      "        -0.10222525-0.04906769j, -0.03925939+0.j        ],\n",
      "       [ 0.35867613+0.j        ,  0.22506547-0.28041343j,\n",
      "         0.22506547+0.28041343j, -0.49818289+0.02474297j,\n",
      "        -0.49818289-0.02474297j,  0.24072196+0.19462325j,\n",
      "         0.24072196-0.19462325j,  0.46392335+0.j        ],\n",
      "       [ 0.35756212+0.j        ,  0.17091976+0.35465537j,\n",
      "         0.17091976-0.35465537j, -0.21627554+0.00370273j,\n",
      "        -0.21627554-0.00370273j,  0.72617197+0.j        ,\n",
      "         0.72617197-0.j        ,  0.48145879+0.j        ]]))\n",
      "(array([ 3.56565531e+03 +0.j        , -1.13222294e+01+12.32272636j,\n",
      "       -1.13222294e+01-12.32272636j,  1.06522501e+01 +0.55472014j,\n",
      "        1.06522501e+01 -0.55472014j,  1.05111734e+00 +5.21166427j,\n",
      "        1.05111734e+00 -5.21166427j,  5.82417915e-01 +0.j        ]), array([[ 0.32320322+0.j        ,  0.18066067-0.23784554j,\n",
      "         0.18066067+0.23784554j,  0.27052853+0.01564282j,\n",
      "         0.27052853-0.01564282j,  0.20703724-0.24626042j,\n",
      "         0.20703724+0.24626042j,  0.16357489+0.j        ],\n",
      "       [ 0.37594782+0.j        , -0.61192471+0.j        ,\n",
      "        -0.61192471-0.j        ,  0.00480184-0.01741378j,\n",
      "         0.00480184+0.01741378j,  0.1966223 +0.16113103j,\n",
      "         0.1966223 -0.16113103j,  0.40084166+0.j        ],\n",
      "       [ 0.29218778+0.j        , -0.204698  +0.25160102j,\n",
      "        -0.204698  -0.25160102j, -0.06845701+0.0215236j ,\n",
      "        -0.06845701-0.0215236j , -0.15495649+0.20286873j,\n",
      "        -0.15495649-0.20286873j, -0.21818977+0.j        ],\n",
      "       [ 0.30959096+0.j        ,  0.13304644+0.20800387j,\n",
      "         0.13304644-0.20800387j,  0.38033165-0.01166889j,\n",
      "         0.38033165+0.01166889j,  0.33326317-0.35424531j,\n",
      "         0.33326317+0.35424531j, -0.52525554+0.j        ],\n",
      "       [ 0.43222024+0.j        ,  0.05401906-0.06464985j,\n",
      "         0.05401906+0.06464985j, -0.39625989-0.00798785j,\n",
      "        -0.39625989+0.00798785j,  0.23673845+0.03634966j,\n",
      "         0.23673845-0.03634966j, -0.1607566 +0.j        ],\n",
      "       [ 0.33063491+0.j        ,  0.07946524-0.35692668j,\n",
      "         0.07946524+0.35692668j,  0.21862173+0.00652719j,\n",
      "         0.21862173-0.00652719j, -0.28135949+0.22222111j,\n",
      "        -0.28135949-0.22222111j, -0.23882692+0.j        ],\n",
      "       [ 0.36081671+0.j        ,  0.19607562-0.15505052j,\n",
      "         0.19607562+0.15505052j, -0.64012567+0.j        ,\n",
      "        -0.64012567-0.j        , -0.58289307+0.j        ,\n",
      "        -0.58289307-0.j        ,  0.62438528+0.j        ],\n",
      "       [ 0.38296238+0.j        ,  0.1743382 +0.36943051j,\n",
      "         0.1743382 -0.36943051j,  0.40201544-0.00207447j,\n",
      "         0.40201544+0.00207447j,  0.06464347-0.01707788j,\n",
      "         0.06464347+0.01707788j, -0.12779319+0.j        ]]))\n"
     ]
    }
   ],
   "source": [
    "size=np.random.randint(1,11)\n",
    "a=np.random.randint(5,11,(size,size))\n",
    "b=np.random.randint(5,11,(size,size))\n",
    "transpose=a.T\n",
    "print(np.dot(transpose,b))\n",
    "print(np.linalg.eig(np.dot(a,b)))\n",
    "print(np.linalg.eig(np.dot(b,a)))"
   ]
  },
  {
   "cell_type": "markdown",
   "id": "aa6644aa",
   "metadata": {},
   "source": [
    "Question - 5"
   ]
  },
  {
   "cell_type": "code",
   "execution_count": 13,
   "id": "2b3437bb",
   "metadata": {},
   "outputs": [],
   "source": [
    "size=np.random.randint(1,11)\n",
    "p=np.random.randint(5,11,(size))\n",
    "q=np.random.randint(5,11,(size))"
   ]
  },
  {
   "cell_type": "code",
   "execution_count": 14,
   "id": "6a61f680",
   "metadata": {},
   "outputs": [
    {
     "name": "stdout",
     "output_type": "stream",
     "text": [
      "13\n"
     ]
    }
   ],
   "source": [
    "#firstPart\n",
    "print(np.sum(np.absolute(p-q)))"
   ]
  },
  {
   "cell_type": "code",
   "execution_count": 15,
   "id": "c7cfbf72",
   "metadata": {},
   "outputs": [],
   "source": [
    "#secondPart\n",
    "matrix = np.array([[1, 2, 3], [4, 5, 6], [7, 8, 9]])\n",
    "left = 0\n",
    "right = 2\n",
    "top = 0\n",
    "bottom = 2"
   ]
  },
  {
   "cell_type": "code",
   "execution_count": 16,
   "id": "ce30166b",
   "metadata": {},
   "outputs": [
    {
     "name": "stdout",
     "output_type": "stream",
     "text": [
      "1 2 3 8 7 4 5 8 5 \n"
     ]
    }
   ],
   "source": [
    "while left <= right and top <= bottom:\n",
    "\n",
    "    \"\"\" Print the first row from the remaining rows\"\"\"\n",
    "    for i in range(left, right + 1):\n",
    "        print(matrix[top][i], end=\" \")\n",
    "    top += 1\n",
    "\n",
    "    \"\"\" Print the last column from the remaining columns\"\"\"\n",
    "    for i in range(top, bottom - 1, -1):\n",
    "        print(matrix[i][right], end=\" \")\n",
    "    right -= 1\n",
    "\n",
    "    \"\"\"Print the last row from the remaining rows\"\"\"\n",
    "    if top <= bottom:\n",
    "        for i in range(right, left - 1, -1):\n",
    "            print(matrix[bottom][i], end=\" \")\n",
    "        bottom -= 1\n",
    "\n",
    "    \"\"\"Print the first column from the remaining columns\"\"\"\n",
    "    if left <= right:\n",
    "        for i in range(bottom, top - 1, -1):\n",
    "            print(matrix[i][left], end=\" \")\n",
    "        left += 1\n",
    "print()"
   ]
  },
  {
   "cell_type": "markdown",
   "id": "32750303",
   "metadata": {},
   "source": [
    "Question - 6 "
   ]
  },
  {
   "cell_type": "code",
   "execution_count": 16,
   "id": "dee98757",
   "metadata": {},
   "outputs": [
    {
     "data": {
      "image/png": "[encoded data removed]",
      "text/plain": [
       "<Figure size 640x480 with 1 Axes>"
      ]
     },
     "metadata": {},
     "output_type": "display_data"
    }
   ],
   "source": [
    "size=np.random.randint(1,21)\n",
    "randomVariable=np.random.randint(1,11,size=(size))\n",
    "standardDev=np.std(randomVariable)\n",
    "variance=pow(standardDev,2)\n",
    "avg=np.mean(randomVariable)\n",
    "value=1/pow(2*np.pi*variance,1/2)*np.exp(-1*0.5*pow((randomVariable-avg)/standardDev,2))\n",
    "plt.scatter(randomVariable,value)\n",
    "plt.show()\n"
   ]
  },
  {
   "cell_type": "markdown",
   "id": "61123167",
   "metadata": {},
   "source": [
    "Question - 7"
   ]
  },
  {
   "cell_type": "code",
   "execution_count": 42,
   "id": "afe3f0d0",
   "metadata": {},
   "outputs": [
    {
     "name": "stdout",
     "output_type": "stream",
     "text": [
      "[1 6 7 7 1 1 5 0 0 9]\n"
     ]
    }
   ],
   "source": [
    "size=np.random.randint(1,11)\n",
    "list=np.random.randint(10,size=(size))\n",
    "print(list)\n",
    "Mean=np.mean(list)"
   ]
  },
  {
   "cell_type": "code",
   "execution_count": 24,
   "id": "f65796c2",
   "metadata": {},
   "outputs": [
    {
     "name": "stdout",
     "output_type": "stream",
     "text": [
      "5.310367218940701\n"
     ]
    }
   ],
   "source": [
    "standardDeviation=np.sqrt(np.sum(pow(list-Mean,2))/size)\n",
    "print(standardDeviation)"
   ]
  },
  {
   "cell_type": "markdown",
   "id": "1e29e770",
   "metadata": {},
   "source": [
    "Question - 8 "
   ]
  },
  {
   "cell_type": "code",
   "execution_count": 17,
   "id": "7af178f6",
   "metadata": {},
   "outputs": [],
   "source": [
    "sizeMat=np.random.randint(1,11)\n",
    "firstMatrix=np.random.randint(10,size=(sizeMat,sizeMat))\n",
    "secondMatrix=np.random.randint(10,size=(sizeMat,sizeMat))"
   ]
  },
  {
   "cell_type": "code",
   "execution_count": 18,
   "id": "15d70a32",
   "metadata": {},
   "outputs": [
    {
     "name": "stdout",
     "output_type": "stream",
     "text": [
      "[[ 4.12348062e-02 -2.34446083e+00 -2.29219283e-03 -4.49959204e-01\n",
      "   7.02079872e-01  4.17472604e-01  5.42054079e-01 -1.42007596e+00\n",
      "  -2.85921084e-01  1.33167440e+00]\n",
      " [ 1.41497553e-01  1.17471869e+00  2.28727060e-01 -4.95662910e-01\n",
      "  -6.47624114e-01 -9.05482031e-01 -9.98423164e-01  3.49089949e-01\n",
      "   5.14881112e-01 -6.53302411e-01]\n",
      " [ 8.55288476e-01 -1.38309125e+00  1.13593869e+00  1.06939287e+00\n",
      "   1.10272409e+00  9.63159970e-01  3.23094041e+00 -6.67552870e-01\n",
      "   3.83261959e-01  1.77045858e+00]\n",
      " [-4.69764685e-01  1.81973881e+00 -6.29862362e-01  1.37434261e+00\n",
      "  -6.59236442e-01  8.41667697e-01 -5.86746842e-03  1.24916766e+00\n",
      "  -3.58004626e-03 -1.38908232e+00]\n",
      " [ 6.06609376e-01 -4.94386368e+00  1.69947204e+00  2.92826035e+00\n",
      "   2.10319476e+00  3.35052767e+00  7.90484211e+00 -3.29598643e+00\n",
      "   1.93738992e+00  3.20465069e+00]\n",
      " [-2.15724456e-02  6.51212290e-01 -4.77841882e-01 -7.70923529e-01\n",
      "  -1.82503367e-01 -7.22334331e-01 -1.78813227e+00  6.93571481e-01\n",
      "  -8.13290866e-01  5.57751625e-01]\n",
      " [-2.12053475e-01  1.60791484e+00 -1.44948973e+00 -2.96951181e+00\n",
      "  -1.38755963e+00 -1.98873202e+00 -5.42749106e+00  1.07094684e+00\n",
      "  -5.85424019e-01 -1.54978597e+00]\n",
      " [ 4.22104956e-01 -8.60065295e-01  1.93786045e+00  4.34199791e+00\n",
      "   1.08437181e+00  2.09664186e+00  6.71874494e+00 -1.02400185e-01\n",
      "   1.24563270e+00  2.30085305e-01]\n",
      " [-2.16209604e-01  3.02032258e+00 -1.16789113e+00 -3.40553663e+00\n",
      "  -1.61171802e+00 -3.70863884e+00 -8.10897008e+00  2.26135170e+00\n",
      "  -1.60096637e+00 -2.54741819e+00]\n",
      " [-5.20895611e-01  2.78289278e+00 -3.04978154e-01 -2.12694708e-01\n",
      "   1.60179590e-02 -1.68997587e-01 -2.15428056e+00  1.41047093e+00\n",
      "   1.91079164e-01 -1.27480773e+00]]\n",
      "\n",
      "[[306 245 321 211 147 203 160 121 123 242]\n",
      " [245 297 277 208 208 247 124  92 150 229]\n",
      " [321 277 516 312 239 250 248 131 194 337]\n",
      " [211 208 312 228 184 180 153  81 144 202]\n",
      " [147 208 239 184 223 191 136  58 146 201]\n",
      " [203 247 250 180 191 269 139  94 119 221]\n",
      " [160 124 248 153 136 139 239  98  60 172]\n",
      " [121  92 131  81  58  94  98  67  40  96]\n",
      " [123 150 194 144 146 119  60  40 132 129]\n",
      " [242 229 337 202 201 221 172  96 129 313]]\n",
      "\n",
      "[[172 114 225 228 258 177 182 135 187 265]\n",
      " [173 113 240 215 230 145 168 102 236 293]\n",
      " [272 218 304 306 357 268 240 238 279 354]\n",
      " [171 114 190 213 208 176 157 134 195 228]\n",
      " [144  95 174 153 187 143  99  85 230 223]\n",
      " [152 144 197 196 213 141 135 133 203 285]\n",
      " [132  84  99 108 146 156  94 114 182 152]\n",
      " [ 74  53  84  92  95  69  74  72  79  98]\n",
      " [119  57 152 130 143  80  79  70 130 159]\n",
      " [166 208 234 234 305 230 175 162 259 284]]\n",
      "\n"
     ]
    }
   ],
   "source": [
    "firstInverse=np.linalg.inv(firstMatrix)\n",
    "firstTranspose=firstMatrix.T\n",
    "#firstPart\n",
    "print(np.dot(firstInverse,secondMatrix))\n",
    "print()\n",
    "#secondPart\n",
    "print(np.dot(firstTranspose,firstMatrix))\n",
    "print()\n",
    "#thirdPart\n",
    "print(np.dot(firstTranspose,secondMatrix))\n",
    "print()"
   ]
  },
  {
   "cell_type": "markdown",
   "id": "866df9d2",
   "metadata": {},
   "source": [
    "Question - 9"
   ]
  },
  {
   "cell_type": "code",
   "execution_count": 69,
   "id": "03205b06",
   "metadata": {},
   "outputs": [
    {
     "name": "stdout",
     "output_type": "stream",
     "text": [
      "[0 3 4 5 6 7]\n"
     ]
    }
   ],
   "source": [
    "size=np.random.randint(1,11)\n",
    "list=np.random.randint(10,size=(size))\n",
    "calculatedMean=np.sum(list)/size\n",
    "calculatedSD=np.sqrt(np.sum(pow(list-calculatedMean,2))/size)\n",
    "variance=pow(calculatedSD,2)\n",
    "list.sort()\n",
    "print(list)\n"
   ]
  },
  {
   "cell_type": "code",
   "execution_count": 70,
   "id": "20776128",
   "metadata": {},
   "outputs": [
    {
     "name": "stdout",
     "output_type": "stream",
     "text": [
      "calculated Mean : 4.166666666666667\n",
      "calculated Median : 4.5\n",
      "calculated Standard Deviation : 2.266911751455907\n",
      "Verified Mean : 4.166666666666667\n",
      "Verified Median : 4.5\n",
      "Verified Standard Deviation:2.266911751455907\n"
     ]
    }
   ],
   "source": [
    "print(\"calculated Mean : \" +str(calculatedMean))\n",
    "if size & 1 ==0:\n",
    "    print(\"calculated Median :\",end=\" \")\n",
    "    print((list[(int(size/2)-1)]+list[(int((size/2)))])/2)\n",
    "else:\n",
    "    print(\"calculated Median : \",end=\" \")\n",
    "    print(list[(int((size/2)))])\n",
    "print(\"calculated Standard Deviation : \" +str(calculatedSD))\n",
    "print(\"Verified Mean : \" +str(np.mean(list)))\n",
    "print(\"Verified Median : \" +str(np.median(list)))\n",
    "print(\"Verified Standard Deviation:\" + str(np.std(list)))\n",
    "\n"
   ]
  },
  {
   "cell_type": "markdown",
   "id": "45a61d2c",
   "metadata": {},
   "source": [
    "Question - 10"
   ]
  },
  {
   "cell_type": "code",
   "execution_count": 9,
   "id": "2c72c1e7",
   "metadata": {},
   "outputs": [
    {
     "name": "stdout",
     "output_type": "stream",
     "text": [
      "For p = 1 18.0\n",
      "For p = 2 4.242640687119285\n",
      "For p = 3 2.6207413942088964\n",
      "For p = 4 2.0597671439071177\n"
     ]
    }
   ],
   "source": [
    "x1=np.random.randint(1,11)\n",
    "x2=np.random.randint(1,11)\n",
    "x3=np.random.randint(1,11)\n",
    "y1=np.random.randint(1,11)\n",
    "y2=np.random.randint(1,11)\n",
    "y3=np.random.randint(1,11)\n",
    "\n",
    "for i in range(1,5):\n",
    "    value=pow(np.absolute(x1-y1),2) + pow(np.absolute(x2-y2),2) + pow(np.absolute(x3-y3),2)\n",
    "    print(\"For p = \" + str(i) + \" \" + str(pow(value,1/i)))\n",
    "    \n",
    "\n"
   ]
  },
  {
   "cell_type": "markdown",
   "id": "af2febc8",
   "metadata": {},
   "source": [
    "Question - 11"
   ]
  },
  {
   "cell_type": "code",
   "execution_count": 77,
   "id": "7049fd8d",
   "metadata": {},
   "outputs": [
    {
     "name": "stdout",
     "output_type": "stream",
     "text": [
      "[[4 3]\n",
      " [6 1]]\n",
      "\n",
      "[[0.8        0.6       ]\n",
      " [0.98639392 0.16439899]]\n"
     ]
    }
   ],
   "source": [
    "sizeMat=np.random.randint(1,11)\n",
    "matrix=np.random.randint(10,size=(sizeMat,sizeMat))\n",
    "print(matrix)\n",
    "print()\n",
    "answer = []\n",
    "for i in range(sizeMat):\n",
    "    list=matrix[i]\n",
    "    mod=np.sqrt(np.sum(pow(list,2)))\n",
    "    answer.append(matrix[i]/mod)\n",
    "answer = np.array(answer)\n",
    "print(answer)    "
   ]
  },
  {
   "cell_type": "markdown",
   "id": "1f734f26",
   "metadata": {},
   "source": [
    "Question - 12 "
   ]
  },
  {
   "cell_type": "code",
   "execution_count": 19,
   "id": "b07a423e",
   "metadata": {},
   "outputs": [],
   "source": [
    "x1=np.array([9, 2, 5, 0, 0, 7, 5, 0, 0, 0, 9, 2, 5, 0, 0])\n",
    "x2=np.array([9, 2, 2, 9, 0, 9, 2, 5, 0, 0, 9, 2, 5, 0, 0])"
   ]
  },
  {
   "cell_type": "code",
   "execution_count": 20,
   "id": "d110ea3e",
   "metadata": {},
   "outputs": [
    {
     "name": "stdout",
     "output_type": "stream",
     "text": [
      "278\n",
      "\n",
      "[[81 18 18 81  0 81 18 45  0  0 81 18 45  0  0]\n",
      " [18  4  4 18  0 18  4 10  0  0 18  4 10  0  0]\n",
      " [45 10 10 45  0 45 10 25  0  0 45 10 25  0  0]\n",
      " [ 0  0  0  0  0  0  0  0  0  0  0  0  0  0  0]\n",
      " [ 0  0  0  0  0  0  0  0  0  0  0  0  0  0  0]\n",
      " [63 14 14 63  0 63 14 35  0  0 63 14 35  0  0]\n",
      " [45 10 10 45  0 45 10 25  0  0 45 10 25  0  0]\n",
      " [ 0  0  0  0  0  0  0  0  0  0  0  0  0  0  0]\n",
      " [ 0  0  0  0  0  0  0  0  0  0  0  0  0  0  0]\n",
      " [ 0  0  0  0  0  0  0  0  0  0  0  0  0  0  0]\n",
      " [81 18 18 81  0 81 18 45  0  0 81 18 45  0  0]\n",
      " [18  4  4 18  0 18  4 10  0  0 18  4 10  0  0]\n",
      " [45 10 10 45  0 45 10 25  0  0 45 10 25  0  0]\n",
      " [ 0  0  0  0  0  0  0  0  0  0  0  0  0  0  0]\n",
      " [ 0  0  0  0  0  0  0  0  0  0  0  0  0  0  0]]\n",
      "\n",
      "[81  4 10  0  0 63 10  0  0  0 81  4 25  0  0]\n",
      "\n",
      "278\n",
      "\n"
     ]
    }
   ],
   "source": [
    "#firstPart\n",
    "print(np.vdot(x1,x2))\n",
    "print()\n",
    "#secondPart\n",
    "print(np.outer(x1,x2))\n",
    "print()\n",
    "#thirdPart\n",
    "print(np.multiply(x1,x2))\n",
    "print()\n",
    "#fourthPart\n",
    "print(np.dot(x1,x2))\n",
    "print()"
   ]
  }
 ],
 "metadata": {
  "kernelspec": {
   "display_name": "Python 3 (ipykernel)",
   "language": "python",
   "name": "python3"
  },
  "language_info": {
   "codemirror_mode": {
    "name": "ipython",
    "version": 3
   },
   "file_extension": ".py",
   "mimetype": "text/x-python",
   "name": "python",
   "nbconvert_exporter": "python",
   "pygments_lexer": "ipython3",
   "version": "3.10.6"
  }
 },
 "nbformat": 4,
 "nbformat_minor": 5
}
