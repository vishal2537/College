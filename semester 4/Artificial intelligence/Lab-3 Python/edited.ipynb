{
 "cells": [
  {
   "cell_type": "code",
   "execution_count": 503,
   "metadata": {},
   "outputs": [],
   "source": [
    "pathGraph = {\n",
    "    '0': ['MG'],\n",
    "    'W': ['MWC','MWG'],\n",
    "    'MG': ['0','MWG','MGC'],\n",
    "    'MC': ['MWC','MGC'],\n",
    "    'MWC': ['W','MC', 'MWGC'],\n",
    "    'MWG': ['W','MG'],\n",
    "    'MGC': ['MG','MC'],\n",
    "    'MWGC': ['MWC'] \n",
    "}"
   ]
  },
  {
   "cell_type": "code",
   "execution_count": 504,
   "metadata": {},
   "outputs": [],
   "source": [
    "visited={\n",
    "    '0' : False,\n",
    "    'W' : False,\n",
    "    'MG': False,\n",
    "    'MC': False, \n",
    "    'MWC': False,\n",
    "    'MWG': False,\n",
    "    'MGC': False,\n",
    "    'MWGC': False     \n",
    "}"
   ]
  },
  {
   "cell_type": "code",
   "execution_count": 506,
   "metadata": {},
   "outputs": [],
   "source": [
    "currentPostn={\n",
    "    \"man\" : \"left\",\n",
    "    \"wolf\" : \"left\",\n",
    "    \"cabbage\":\"left\",\n",
    "    \"goat\":\"left\"\n",
    "}"
   ]
  },
  {
   "cell_type": "code",
   "execution_count": 507,
   "metadata": {},
   "outputs": [],
   "source": [
    "def isSafe(currentPostn):\n",
    "    if(currentPostn['goat'] == currentPostn['cabbage'] and currentPostn['goat']!=currentPostn['man']):\n",
    "        return False\n",
    "    elif(currentPostn['wolf'] == currentPostn['goat'] and currentPostn['goat']!=currentPostn['man']):\n",
    "        return False\n",
    "    else: \n",
    "        return True"
   ]
  },
  {
   "cell_type": "code",
   "execution_count": 508,
   "metadata": {},
   "outputs": [],
   "source": [
    "def toggleState(currentPostn,thing):\n",
    "    if(currentPostn[thing]==\"left\"):\n",
    "        currentPostn[thing]=\"right\"\n",
    "    else:\n",
    "        currentPostn[thing]=\"left\""
   ]
  },
  {
   "cell_type": "code",
   "execution_count": 509,
   "metadata": {},
   "outputs": [],
   "source": [
    "def success(Postn):\n",
    "    if Postn=='MWGC':\n",
    "        return True\n",
    "    else:\n",
    "        return False"
   ]
  },
  {
   "cell_type": "code",
   "execution_count": 510,
   "metadata": {},
   "outputs": [],
   "source": [
    "def getName(name):\n",
    "    if name=='M':\n",
    "        return 'man'\n",
    "    elif name=='G':\n",
    "        return 'goat'\n",
    "    elif name=='C':\n",
    "        return 'cabbage'\n",
    "    else :\n",
    "        return 'wolf'"
   ]
  },
  {
   "cell_type": "code",
   "execution_count": 511,
   "metadata": {},
   "outputs": [],
   "source": [
    "def getPostn(value):\n",
    "    for thing in currentPostn:\n",
    "        currentPostn[thing]='left'\n",
    "    for ch in value:\n",
    "        if ch!='0':\n",
    "            currentPostn[getName(ch)]='right'\n",
    "    print(currentPostn)\n",
    "    if currentPostn['man']=='right' and len(value)!=4:\n",
    "        toggleState(currentPostn,'man')\n",
    "        if isSafe(currentPostn):\n",
    "            print(currentPostn)\n"
   ]
  },
  {
   "cell_type": "code",
   "execution_count": 512,
   "metadata": {},
   "outputs": [],
   "source": [
    "def bfsSearchSpace(initialState):\n",
    "    queue=[]\n",
    "    queue.append(initialState)\n",
    "    path=[]\n",
    "    visited[initialState]=True\n",
    "    parent={}\n",
    "    while len(queue)!=0:\n",
    "        nextNode=queue.pop(0)\n",
    "        if(success(nextNode)):\n",
    "            print(\"Soultion Found!\")\n",
    "            while nextNode!= '0':\n",
    "                path.insert(0,nextNode)\n",
    "                nextNode = parent.get(nextNode)\n",
    "            path.insert(0,'0')\n",
    "            for value in path:\n",
    "                getPostn(value)\n",
    "            break\n",
    "        for adjacent in pathGraph[nextNode]:\n",
    "            if visited[adjacent]==False:\n",
    "                visited[adjacent]=True\n",
    "                parent[adjacent]=nextNode\n",
    "                queue.append(adjacent)"
   ]
  },
  {
   "cell_type": "code",
   "execution_count": 513,
   "metadata": {},
   "outputs": [
    {
     "name": "stdout",
     "output_type": "stream",
     "text": [
      "Soultion Found!\n",
      "{'man': 'left', 'wolf': 'left', 'cabbage': 'left', 'goat': 'left'}\n",
      "{'man': 'right', 'wolf': 'left', 'cabbage': 'left', 'goat': 'right'}\n",
      "{'man': 'left', 'wolf': 'left', 'cabbage': 'left', 'goat': 'right'}\n",
      "{'man': 'right', 'wolf': 'right', 'cabbage': 'left', 'goat': 'right'}\n",
      "{'man': 'left', 'wolf': 'right', 'cabbage': 'left', 'goat': 'left'}\n",
      "{'man': 'right', 'wolf': 'right', 'cabbage': 'right', 'goat': 'left'}\n",
      "{'man': 'left', 'wolf': 'right', 'cabbage': 'right', 'goat': 'left'}\n",
      "{'man': 'right', 'wolf': 'right', 'cabbage': 'right', 'goat': 'right'}\n"
     ]
    }
   ],
   "source": [
    "bfsSearchSpace('0')"
   ]
  },
  {
   "cell_type": "markdown",
   "metadata": {},
   "source": []
  }
 ],
 "metadata": {
  "kernelspec": {
   "display_name": "Python 3 (ipykernel)",
   "language": "python",
   "name": "python3"
  },
  "language_info": {
   "codemirror_mode": {
    "name": "ipython",
    "version": 3
   },
   "file_extension": ".py",
   "mimetype": "text/x-python",
   "name": "python",
   "nbconvert_exporter": "python",
   "pygments_lexer": "ipython3",
   "version": "3.10.6"
  },
  "vscode": {
   "interpreter": {
    "hash": "916dbcbb3f70747c44a77c7bcd40155683ae19c65e1c03b4aa3499c5328201f1"
   }
  }
 },
 "nbformat": 4,
 "nbformat_minor": 2
}
