{
 "cells": [
  {
   "cell_type": "code",
   "execution_count": 1,
   "metadata": {},
   "outputs": [],
   "source": [
    "pathGraph = {\n",
    "    'initial': ['goat'],\n",
    "    'wolf': ['man with wolf and goat','man with wolf and cabbage'],\n",
    "    'goat': ['initial','man with wolf and goat','man with goat and cabbage'],\n",
    "    'cabbage': ['man with wolf and cabbage','man with goat and cabbage'], \n",
    "    'man with wolf and cabbage': ['wolf','cabbage', 'final'],\n",
    "    'man with wolf and goat': ['wolf','goat'],\n",
    "    'man with goat and cabbage': ['goat','cabbage'],\n",
    "    'final': ['man with wolf and cabbage']   \n",
    "}"
   ]
  },
  {
   "cell_type": "code",
   "execution_count": 2,
   "metadata": {},
   "outputs": [],
   "source": [
    "visited={\n",
    "    'initial' : False,\n",
    "    'wolf' : False,\n",
    "    'goat': False,\n",
    "    'cabbage': False, \n",
    "    'man with wolf and cabbage': False,\n",
    "    'man with wolf and goat': False,\n",
    "    'man with goat and cabbage': False,\n",
    "    'final': False     \n",
    "}"
   ]
  },
  {
   "cell_type": "code",
   "execution_count": 3,
   "metadata": {},
   "outputs": [],
   "source": [
    "def success(Postn):\n",
    "    if Postn=='final':\n",
    "        return True\n",
    "    else:\n",
    "        return False"
   ]
  },
  {
   "cell_type": "code",
   "execution_count": 4,
   "metadata": {},
   "outputs": [],
   "source": [
    "def bfsSearchSpace(initialPostn):\n",
    "    queue=[]\n",
    "    queue.append(initialPostn)\n",
    "    path=[]\n",
    "    visited[initialPostn]=True\n",
    "    parent={}\n",
    "    while len(queue)!=0:\n",
    "        nextNode=queue.pop(0)\n",
    "        if(success(nextNode)):\n",
    "            print(\"Soultion Found!\")\n",
    "            while nextNode!= 'initial':\n",
    "                path.insert(0,nextNode)\n",
    "                nextNode = parent.get(nextNode)\n",
    "            path.insert(0,'initial')\n",
    "            print(\"Things on right side of river : \")\n",
    "            print(path)\n",
    "            break\n",
    "        for adjacent in pathGraph[nextNode]:\n",
    "            if visited[adjacent]==False:\n",
    "                visited[adjacent]=True\n",
    "                parent[adjacent]=nextNode\n",
    "                queue.append(adjacent)"
   ]
  },
  {
   "cell_type": "code",
   "execution_count": 5,
   "metadata": {},
   "outputs": [
    {
     "name": "stdout",
     "output_type": "stream",
     "text": [
      "Soultion Found!\n",
      "Things on right side of river : \n",
      "['initial', 'goat', 'man with wolf and goat', 'wolf', 'man with wolf and cabbage', 'final']\n"
     ]
    }
   ],
   "source": [
    "bfsSearchSpace('initial')"
   ]
  }
 ],
 "metadata": {
  "kernelspec": {
   "display_name": "Python 3",
   "language": "python",
   "name": "python3"
  },
  "language_info": {
   "codemirror_mode": {
    "name": "ipython",
    "version": 3
   },
   "file_extension": ".py",
   "mimetype": "text/x-python",
   "name": "python",
   "nbconvert_exporter": "python",
   "pygments_lexer": "ipython3",
   "version": "3.10.6"
  },
  "orig_nbformat": 4,
  "vscode": {
   "interpreter": {
    "hash": "916dbcbb3f70747c44a77c7bcd40155683ae19c65e1c03b4aa3499c5328201f1"
   }
  }
 },
 "nbformat": 4,
 "nbformat_minor": 2
}
