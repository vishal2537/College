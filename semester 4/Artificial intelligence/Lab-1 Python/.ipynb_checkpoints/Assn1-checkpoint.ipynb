{
 "cells": [
  {
   "cell_type": "markdown",
   "id": "78a393ab",
   "metadata": {},
   "source": [
    "# Lab-1"
   ]
  },
  {
   "cell_type": "markdown",
   "id": "2f566d79",
   "metadata": {},
   "source": [
    "Question - 1"
   ]
  },
  {
   "cell_type": "code",
   "execution_count": null,
   "id": "d4ecfca8",
   "metadata": {},
   "outputs": [],
   "source": [
    "import numpy as np\n",
    "from time import time"
   ]
  },
  {
   "cell_type": "code",
   "execution_count": null,
   "id": "36aa1209",
   "metadata": {},
   "outputs": [],
   "source": [
    "arr = []\n",
    "vectoradd = []"
   ]
  },
  {
   "cell_type": "code",
   "execution_count": null,
   "id": "f005bd08",
   "metadata": {},
   "outputs": [],
   "source": [
    "for i in range(10):\n",
    "    temp = []\n",
    "    for j in range(10):\n",
    "        value = np.random.randint(0, 2)\n",
    "        temp.append(value)\n",
    "    arr.append(temp)"
   ]
  },
  {
   "cell_type": "code",
   "execution_count": null,
   "id": "14a87946",
   "metadata": {},
   "outputs": [],
   "source": [
    "t = time()"
   ]
  },
  {
   "cell_type": "code",
   "execution_count": null,
   "id": "4b1c7c5d",
   "metadata": {},
   "outputs": [],
   "source": [
    "for i in range(10):\n",
    "    for j in range(10):\n",
    "        arr[i][j] += 10\n",
    "print(arr)"
   ]
  },
  {
   "cell_type": "code",
   "execution_count": null,
   "id": "6a1ccf06",
   "metadata": {},
   "outputs": [],
   "source": [
    "print(time() - t)"
   ]
  },
  {
   "cell_type": "code",
   "execution_count": null,
   "id": "c75b5187",
   "metadata": {},
   "outputs": [],
   "source": [
    "arr = []\n",
    "vectoradd = []"
   ]
  },
  {
   "cell_type": "code",
   "execution_count": null,
   "id": "40a369df",
   "metadata": {},
   "outputs": [],
   "source": [
    "for i in range(10):\n",
    "    temp = []\n",
    "    for j in range(10):\n",
    "        value = np.random.randint(0, 2)\n",
    "        temp.append(value)\n",
    "    arr.append(temp)"
   ]
  },
  {
   "cell_type": "code",
   "execution_count": null,
   "id": "07a58a34",
   "metadata": {},
   "outputs": [],
   "source": [
    "for i in range(10):\n",
    "    vectoradd.append(10)"
   ]
  },
  {
   "cell_type": "code",
   "execution_count": null,
   "id": "96d5d86f",
   "metadata": {},
   "outputs": [],
   "source": [
    "arr = np.array(arr)\n",
    "vectorad = np.array(vectoradd)\n",
    "t = time()\n",
    "arr = arr+vectoradd\n",
    "print(arr)\n",
    "print(time() - t)\n"
   ]
  },
  {
   "cell_type": "markdown",
   "id": "3a415f3b",
   "metadata": {},
   "source": [
    "Question - 2"
   ]
  },
  {
   "cell_type": "code",
   "execution_count": null,
   "id": "9ff81b1e",
   "metadata": {},
   "outputs": [],
   "source": [
    "import pandas as pd"
   ]
  },
  {
   "cell_type": "code",
   "execution_count": null,
   "id": "8f4ef939",
   "metadata": {},
   "outputs": [],
   "source": [
    "df = pd.read_csv('secondData.csv')"
   ]
  },
  {
   "cell_type": "code",
   "execution_count": null,
   "id": "1679047b",
   "metadata": {},
   "outputs": [],
   "source": [
    "print(df)"
   ]
  },
  {
   "cell_type": "code",
   "execution_count": null,
   "id": "f54c5b5b",
   "metadata": {},
   "outputs": [],
   "source": [
    "print(\"Maximum : \" + str(df['marks'].max()))\n",
    "print(\"Minimum : \" + str(df['marks'].min()))\n",
    "print(\"Mean : \" + str(df['marks'].mean()))\n",
    "print(\"Median : \" + str(df['marks'].median()))\n",
    "print(\"Standard Deviation : \" + str(df['marks'].std()))"
   ]
  },
  {
   "cell_type": "markdown",
   "id": "5044e9d4",
   "metadata": {},
   "source": []
  },
  {
   "cell_type": "code",
   "execution_count": null,
   "id": "6d191e5e",
   "metadata": {},
   "outputs": [],
   "source": []
  }
 ],
 "metadata": {
  "kernelspec": {
   "display_name": "Python 3 (ipykernel)",
   "language": "python",
   "name": "python3"
  },
  "language_info": {
   "codemirror_mode": {
    "name": "ipython",
    "version": 3
   },
   "file_extension": ".py",
   "mimetype": "text/x-python",
   "name": "python",
   "nbconvert_exporter": "python",
   "pygments_lexer": "ipython3",
   "version": "3.10.6"
  }
 },
 "nbformat": 4,
 "nbformat_minor": 5
}
