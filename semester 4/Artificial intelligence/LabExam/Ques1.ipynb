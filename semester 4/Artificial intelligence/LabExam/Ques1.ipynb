{
 "cells": [
  {
   "cell_type": "code",
   "execution_count": 1,
   "id": "470dbbed",
   "metadata": {},
   "outputs": [],
   "source": [
    "from collections import deque"
   ]
  },
  {
   "cell_type": "code",
   "execution_count": 2,
   "id": "a8fe465a",
   "metadata": {},
   "outputs": [],
   "source": [
    "initialState ={\n",
    "    'm' : 0,\n",
    "    'n' : 0\n",
    "}"
   ]
  },
  {
   "cell_type": "code",
   "execution_count": 3,
   "id": "d060e886",
   "metadata": {},
   "outputs": [],
   "source": [
    "filledState={\n",
    "    'm' : 4,\n",
    "    'n' : 5,\n",
    "    'd' : 7\n",
    "}"
   ]
  },
  {
   "cell_type": "code",
   "execution_count": 4,
   "id": "5fa91a9a",
   "metadata": {},
   "outputs": [],
   "source": [
    "def success(m,n):\n",
    "    return m+n==filledState['d']"
   ]
  },
  {
   "cell_type": "code",
   "execution_count": 5,
   "id": "1846356d",
   "metadata": {},
   "outputs": [],
   "source": [
    "def bfsSearchSpace(initialState,filledState):\n",
    "    queue = deque([(initialState['m'], initialState['n'])]) \n",
    "    visited = set([(initialState['m'], initialState['n'])])\n",
    "    parent = {(initialState['m'], initialState['n']): None}                           \n",
    "    while len(queue)!=0:\n",
    "        first, second = queue.popleft()\n",
    "        if success(first,second)==True: \n",
    "            print(\"Solution Found!\")\n",
    "            print(\"Steps are : \")                                \n",
    "            getsteps(parent, (first, second))\n",
    "            return\n",
    "        # possible actions\n",
    "        if first < filledState['m']:  # fill m\n",
    "            state = (filledState['m'], second)\n",
    "            if state not in visited:\n",
    "                visited.add(state)\n",
    "                parent[state] = (first, second)\n",
    "                queue.append(state)\n",
    "        if second < filledState['n']:     # fill n\n",
    "            state = (first, filledState['n'])\n",
    "            if state not in visited:\n",
    "                visited.add(state)\n",
    "                parent[state] = (first, second)\n",
    "                queue.append(state)\n",
    "        if first > 0:   # empty m\n",
    "            state = (0, second)\n",
    "            if state not in visited:\n",
    "                visited.add(state)\n",
    "                parent[state] = (first, second)\n",
    "                queue.append(state)\n",
    "        if second > 0:  # empty n\n",
    "            state = (first, 0)\n",
    "            if state not in visited:\n",
    "                visited.add(state)\n",
    "                parent[state] = (first, second)\n",
    "                queue.append(state)\n",
    "        if first > 0 and second < filledState['n']: # transfer water from jug m to jug n\n",
    "            state = (first - min(first, filledState['n'] - second), second + min(first, filledState['n'] - second))\n",
    "            if state not in visited:\n",
    "                visited.add(state)\n",
    "                parent[state] = (first, second)\n",
    "                queue.append(state)\n",
    "        if second > 0 and first < filledState['m']: # transfer water from jug n to jug m\n",
    "            state = (first + min(second, filledState['m'] - first), second - min(second, filledState['m'] - first))\n",
    "            if state not in visited:\n",
    "                visited.add(state)\n",
    "                parent[state] = (first, second)\n",
    "                queue.append(state)"
   ]
  },
  {
   "cell_type": "code",
   "execution_count": 6,
   "id": "2d2b9056",
   "metadata": {},
   "outputs": [],
   "source": [
    "def getsteps(parent, currentState):\n",
    "    if parent[currentState] is None:\n",
    "        print(currentState,end=\" \")\n",
    "        print(\" capacity : \" + str(sum(currentState)))\n",
    "        return\n",
    "    getsteps(parent, parent[currentState])\n",
    "    print(currentState,end=\" \")\n",
    "    print(\" capacity : \" + str(sum(currentState)))"
   ]
  },
  {
   "cell_type": "code",
   "execution_count": 7,
   "id": "9b2e29e2",
   "metadata": {},
   "outputs": [
    {
     "name": "stdout",
     "output_type": "stream",
     "text": [
      "Solution Found!\n",
      "Steps are : \n",
      "(0, 0)  capacity : 0\n",
      "(4, 0)  capacity : 4\n",
      "(0, 4)  capacity : 4\n",
      "(4, 4)  capacity : 8\n",
      "(3, 5)  capacity : 8\n",
      "(3, 0)  capacity : 3\n",
      "(0, 3)  capacity : 3\n",
      "(4, 3)  capacity : 7\n"
     ]
    }
   ],
   "source": [
    "bfsSearchSpace(initialState,filledState)"
   ]
  }
 ],
 "metadata": {
  "kernelspec": {
   "display_name": "Python 3",
   "language": "python",
   "name": "python3"
  },
  "language_info": {
   "codemirror_mode": {
    "name": "ipython",
    "version": 3
   },
   "file_extension": ".py",
   "mimetype": "text/x-python",
   "name": "python",
   "nbconvert_exporter": "python",
   "pygments_lexer": "ipython3",
   "version": "3.10.6"
  },
  "vscode": {
   "interpreter": {
    "hash": "916dbcbb3f70747c44a77c7bcd40155683ae19c65e1c03b4aa3499c5328201f1"
   }
  }
 },
 "nbformat": 4,
 "nbformat_minor": 5
}
