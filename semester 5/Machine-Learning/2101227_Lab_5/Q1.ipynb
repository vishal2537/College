{
 "cells": [
  {
   "cell_type": "code",
   "execution_count": 1,
   "metadata": {},
   "outputs": [],
   "source": [
    "import numpy as np\n",
    "import pandas as pd\n",
    "import operator\n",
    "from random import randrange\n",
    "import seaborn as sns\n",
    "import matplotlib.pyplot as plt\n",
    "from collections import Counter\n"
   ]
  },
  {
   "cell_type": "code",
   "execution_count": 2,
   "metadata": {},
   "outputs": [],
   "source": [
    "col_names = ['buyingprice', 'maintenancecost', 'doors',\n",
    "             'persons', 'lug_boot', 'safety', 'class']\n",
    "data = pd.read_csv('car_evaluation.csv',names=col_names)"
   ]
  },
  {
   "cell_type": "code",
   "execution_count": 3,
   "metadata": {},
   "outputs": [
    {
     "data": {
      "text/html": [
       "<div>\n",
       "<style scoped>\n",
       "    .dataframe tbody tr th:only-of-type {\n",
       "        vertical-align: middle;\n",
       "    }\n",
       "\n",
       "    .dataframe tbody tr th {\n",
       "        vertical-align: top;\n",
       "    }\n",
       "\n",
       "    .dataframe thead th {\n",
       "        text-align: right;\n",
       "    }\n",
       "</style>\n",
       "<table border=\"1\" class=\"dataframe\">\n",
       "  <thead>\n",
       "    <tr style=\"text-align: right;\">\n",
       "      <th></th>\n",
       "      <th>buyingprice</th>\n",
       "      <th>maintenancecost</th>\n",
       "      <th>doors</th>\n",
       "      <th>persons</th>\n",
       "      <th>lug_boot</th>\n",
       "      <th>safety</th>\n",
       "      <th>class</th>\n",
       "    </tr>\n",
       "  </thead>\n",
       "  <tbody>\n",
       "    <tr>\n",
       "      <th>0</th>\n",
       "      <td>vhigh</td>\n",
       "      <td>vhigh</td>\n",
       "      <td>2</td>\n",
       "      <td>2</td>\n",
       "      <td>small</td>\n",
       "      <td>med</td>\n",
       "      <td>unacc</td>\n",
       "    </tr>\n",
       "    <tr>\n",
       "      <th>1</th>\n",
       "      <td>vhigh</td>\n",
       "      <td>vhigh</td>\n",
       "      <td>2</td>\n",
       "      <td>2</td>\n",
       "      <td>small</td>\n",
       "      <td>high</td>\n",
       "      <td>unacc</td>\n",
       "    </tr>\n",
       "    <tr>\n",
       "      <th>2</th>\n",
       "      <td>vhigh</td>\n",
       "      <td>vhigh</td>\n",
       "      <td>2</td>\n",
       "      <td>2</td>\n",
       "      <td>med</td>\n",
       "      <td>low</td>\n",
       "      <td>unacc</td>\n",
       "    </tr>\n",
       "    <tr>\n",
       "      <th>3</th>\n",
       "      <td>vhigh</td>\n",
       "      <td>vhigh</td>\n",
       "      <td>2</td>\n",
       "      <td>2</td>\n",
       "      <td>med</td>\n",
       "      <td>med</td>\n",
       "      <td>unacc</td>\n",
       "    </tr>\n",
       "    <tr>\n",
       "      <th>4</th>\n",
       "      <td>vhigh</td>\n",
       "      <td>vhigh</td>\n",
       "      <td>2</td>\n",
       "      <td>2</td>\n",
       "      <td>med</td>\n",
       "      <td>high</td>\n",
       "      <td>unacc</td>\n",
       "    </tr>\n",
       "  </tbody>\n",
       "</table>\n",
       "</div>"
      ],
      "text/plain": [
       "  buyingprice maintenancecost doors persons lug_boot safety  class\n",
       "0       vhigh           vhigh     2       2    small    med  unacc\n",
       "1       vhigh           vhigh     2       2    small   high  unacc\n",
       "2       vhigh           vhigh     2       2      med    low  unacc\n",
       "3       vhigh           vhigh     2       2      med    med  unacc\n",
       "4       vhigh           vhigh     2       2      med   high  unacc"
      ]
     },
     "execution_count": 3,
     "metadata": {},
     "output_type": "execute_result"
    }
   ],
   "source": [
    "data.head()"
   ]
  },
  {
   "cell_type": "code",
   "execution_count": 4,
   "metadata": {},
   "outputs": [
    {
     "data": {
      "text/plain": [
       "class\n",
       "unacc    1209\n",
       "acc       384\n",
       "good       69\n",
       "vgood      65\n",
       "Name: count, dtype: int64"
      ]
     },
     "execution_count": 4,
     "metadata": {},
     "output_type": "execute_result"
    }
   ],
   "source": [
    "data['class'].value_counts()\n"
   ]
  },
  {
   "cell_type": "code",
   "execution_count": 5,
   "metadata": {},
   "outputs": [
    {
     "data": {
      "text/plain": [
       "<Axes: xlabel='class'>"
      ]
     },
     "execution_count": 5,
     "metadata": {},
     "output_type": "execute_result"
    },
    {
     "data": {
      "image/png": "[encoded data removed]",
      "text/plain": [
       "<Figure size 300x300 with 1 Axes>"
      ]
     },
     "metadata": {},
     "output_type": "display_data"
    }
   ],
   "source": [
    "data['class'].value_counts().plot(kind = 'bar',figsize=(3,3))"
   ]
  },
  {
   "cell_type": "code",
   "execution_count": 6,
   "metadata": {},
   "outputs": [
    {
     "data": {
      "text/html": [
       "<div>\n",
       "<style scoped>\n",
       "    .dataframe tbody tr th:only-of-type {\n",
       "        vertical-align: middle;\n",
       "    }\n",
       "\n",
       "    .dataframe tbody tr th {\n",
       "        vertical-align: top;\n",
       "    }\n",
       "\n",
       "    .dataframe thead th {\n",
       "        text-align: right;\n",
       "    }\n",
       "</style>\n",
       "<table border=\"1\" class=\"dataframe\">\n",
       "  <thead>\n",
       "    <tr style=\"text-align: right;\">\n",
       "      <th></th>\n",
       "      <th>buyingprice</th>\n",
       "      <th>maintenancecost</th>\n",
       "      <th>doors</th>\n",
       "      <th>persons</th>\n",
       "      <th>lug_boot</th>\n",
       "      <th>safety</th>\n",
       "      <th>class</th>\n",
       "    </tr>\n",
       "  </thead>\n",
       "  <tbody>\n",
       "    <tr>\n",
       "      <th>count</th>\n",
       "      <td>1727</td>\n",
       "      <td>1727</td>\n",
       "      <td>1727</td>\n",
       "      <td>1727</td>\n",
       "      <td>1727</td>\n",
       "      <td>1727</td>\n",
       "      <td>1727</td>\n",
       "    </tr>\n",
       "    <tr>\n",
       "      <th>unique</th>\n",
       "      <td>4</td>\n",
       "      <td>4</td>\n",
       "      <td>4</td>\n",
       "      <td>3</td>\n",
       "      <td>3</td>\n",
       "      <td>3</td>\n",
       "      <td>4</td>\n",
       "    </tr>\n",
       "    <tr>\n",
       "      <th>top</th>\n",
       "      <td>high</td>\n",
       "      <td>high</td>\n",
       "      <td>3</td>\n",
       "      <td>4</td>\n",
       "      <td>med</td>\n",
       "      <td>med</td>\n",
       "      <td>unacc</td>\n",
       "    </tr>\n",
       "    <tr>\n",
       "      <th>freq</th>\n",
       "      <td>432</td>\n",
       "      <td>432</td>\n",
       "      <td>432</td>\n",
       "      <td>576</td>\n",
       "      <td>576</td>\n",
       "      <td>576</td>\n",
       "      <td>1209</td>\n",
       "    </tr>\n",
       "  </tbody>\n",
       "</table>\n",
       "</div>"
      ],
      "text/plain": [
       "       buyingprice maintenancecost doors persons lug_boot safety  class\n",
       "count         1727            1727  1727    1727     1727   1727   1727\n",
       "unique           4               4     4       3        3      3      4\n",
       "top           high            high     3       4      med    med  unacc\n",
       "freq           432             432   432     576      576    576   1209"
      ]
     },
     "execution_count": 6,
     "metadata": {},
     "output_type": "execute_result"
    }
   ],
   "source": [
    "data.describe()\n"
   ]
  },
  {
   "cell_type": "code",
   "execution_count": 7,
   "metadata": {},
   "outputs": [],
   "source": [
    "# data = pd.read_csv('car_evaluation.csv', names=col_names)\n",
    "buying_label = {ni: n for n, ni in enumerate(set(data['buyingprice']))}\n",
    "maintenancecost_label = {ni: n for n,ni in enumerate(set(data['maintenancecost']))}\n",
    "doors_label = {ni: n for n, ni in enumerate(set(data['doors']))}\n",
    "persons_label = {ni: n for n, ni in enumerate(set(data['persons']))}\n",
    "lug_boot_label = {ni: n for n, ni in enumerate(set(data['lug_boot']))}\n",
    "safety_label = {ni: n for n, ni in enumerate(set(data['safety']))}\n",
    "class_label = {ni: n for n, ni in enumerate(set(data['class']))}\n"
   ]
  },
  {
   "cell_type": "code",
   "execution_count": 8,
   "metadata": {},
   "outputs": [
    {
     "name": "stdout",
     "output_type": "stream",
     "text": [
      "buying_label : {'low': 0, 'med': 1, 'vhigh': 2, 'high': 3}\n",
      "maintenancecost_label : {'low': 0, 'med': 1, 'vhigh': 2, 'high': 3}\n",
      "doors_label : {'2': 0, '5more': 1, '3': 2, '4': 3}\n",
      "persons_label : {'2': 0, 'more': 1, '4': 2}\n",
      "lug_boot_label : {'med': 0, 'small': 1, 'big': 2}\n",
      "safety_label : {'low': 0, 'med': 1, 'high': 2}\n",
      "class_label : {'unacc': 0, 'acc': 1, 'vgood': 2, 'good': 3}\n"
     ]
    }
   ],
   "source": [
    "print(f\"buying_label : {buying_label}\")\n",
    "print(f\"maintenancecost_label : {maintenancecost_label}\")\n",
    "print(f\"doors_label : {doors_label}\")\n",
    "print(f\"persons_label : {persons_label}\")\n",
    "print(f\"lug_boot_label : {lug_boot_label}\")\n",
    "print(f\"safety_label : {safety_label}\")\n",
    "print(f\"class_label : {class_label}\")\n"
   ]
  },
  {
   "cell_type": "code",
   "execution_count": 9,
   "metadata": {},
   "outputs": [],
   "source": [
    "data['buyingprice'] = data['buyingprice'].map(buying_label)\n",
    "data['maintenancecost'] = data['maintenancecost'].map(\n",
    "    maintenancecost_label)\n",
    "data['doors'] = data['doors'].map(doors_label)\n",
    "data['persons'] = data['persons'].map(persons_label)\n",
    "data['lug_boot'] = data['lug_boot'].map(lug_boot_label)\n",
    "data['safety'] = data['safety'].map(safety_label)\n",
    "data['class'] = data['class'].map(class_label)\n"
   ]
  },
  {
   "cell_type": "code",
   "execution_count": 10,
   "metadata": {},
   "outputs": [],
   "source": [
    "class TreeNode:\n",
    "    def __init__(self, depth, max_depth=None):\n",
    "        self.depth = depth\n",
    "        self.max_depth = max_depth\n",
    "        self.feature_index = None\n",
    "        self.threshold = None\n",
    "        self.left = None\n",
    "        self.right = None\n",
    "        self.value = None  # For leaf nodes, this stores the predicted class\n",
    "\n",
    "class DecisionTreeClassifier:\n",
    "    def __init__(self, max_depth=None):\n",
    "        self.max_depth = max_depth\n",
    "\n",
    "    def fit(self, X, y):\n",
    "        self.n_classes_ = len(np.unique(y))\n",
    "        self.n_features_ = X.shape[1]\n",
    "        self.tree_ = self._grow_tree(X, y)\n",
    "\n",
    "    def predict(self, X):\n",
    "        return [self._predict(inputs) for inputs in X]\n",
    "\n",
    "    def _grow_tree(self, X, y, depth=0):\n",
    "        n_samples, n_features = X.shape\n",
    "        n_labels = len(np.unique(y))\n",
    "\n",
    "        # Stopping conditions\n",
    "        if (self.max_depth is not None and depth >= self.max_depth) or n_labels == 1 or n_samples < 2:\n",
    "            leaf = TreeNode(depth)\n",
    "            leaf.value = self._most_common_label(y)\n",
    "            return leaf\n",
    "\n",
    "        # Find the best split\n",
    "        feature_indices = np.arange(n_features)\n",
    "        candidates = np.random.choice(feature_indices, np.sqrt(n_features).astype(int), replace=False)\n",
    "        best_gain = -1\n",
    "        best_feature = None\n",
    "        best_threshold = None\n",
    "        for feature_index in candidates:\n",
    "            thresholds = np.unique(X[:, feature_index])\n",
    "            for threshold in thresholds:\n",
    "                gain = self._information_gain(X, y, feature_index, threshold)\n",
    "                if gain > best_gain:\n",
    "                    best_gain = gain\n",
    "                    best_feature = feature_index\n",
    "                    best_threshold = threshold\n",
    "\n",
    "        if best_gain < 1e-5:  # No significant gain, create a leaf\n",
    "            leaf = TreeNode(depth)\n",
    "            leaf.value = self._most_common_label(y)\n",
    "            return leaf\n",
    "\n",
    "        # Split the data and build the subtrees\n",
    "        left_indices = X[:, best_feature] < best_threshold\n",
    "        X_left, y_left = X[left_indices], y[left_indices]\n",
    "        X_right, y_right = X[~left_indices], y[~left_indices]\n",
    "\n",
    "        left = self._grow_tree(X_left, y_left, depth + 1)\n",
    "        right = self._grow_tree(X_right, y_right, depth + 1)\n",
    "\n",
    "        node = TreeNode(depth)\n",
    "        node.feature_index = best_feature\n",
    "        node.threshold = best_threshold\n",
    "        node.left = left\n",
    "        node.right = right\n",
    "        return node\n",
    "\n",
    "    def _most_common_label(self, y):\n",
    "        return np.bincount(y).argmax()\n",
    "\n",
    "    def _information_gain(self, X, y, feature_index, threshold):\n",
    "        parent_entropy = self._entropy(y)\n",
    "        left_indices = X[:, feature_index] < threshold\n",
    "        right_indices = ~left_indices\n",
    "        n = len(y)\n",
    "\n",
    "        if n == 0:\n",
    "            return 0\n",
    "\n",
    "        left_entropy = (len(y[left_indices]) / n) * self._entropy(y[left_indices])\n",
    "        right_entropy = (len(y[right_indices]) / n) * self._entropy(y[right_indices])\n",
    "\n",
    "        return parent_entropy - left_entropy - right_entropy\n",
    "\n",
    "    def _entropy(self, y):\n",
    "        _, counts = np.unique(y, return_counts=True)\n",
    "        probabilities = counts / counts.sum()\n",
    "        return -np.sum(probabilities * np.log2(probabilities + 1e-10))\n",
    "\n",
    "    def _predict(self, inputs):\n",
    "        node = self.tree_\n",
    "        while node.left:\n",
    "            if inputs[node.feature_index] < node.threshold:\n",
    "                node = node.left\n",
    "            else:\n",
    "                node = node.right\n",
    "        return node.value\n"
   ]
  },
  {
   "cell_type": "code",
   "execution_count": 11,
   "metadata": {},
   "outputs": [
    {
     "name": "stdout",
     "output_type": "stream",
     "text": [
      "Predicted class: [0]\n"
     ]
    }
   ],
   "source": [
    "if __name__ == \"__main__\":\n",
    "    X = data.drop(columns=['class'])\n",
    "    y = data['class']\n",
    "    clf = DecisionTreeClassifier(max_depth=3)\n",
    "    clf.fit(X.values, y.values)  \n",
    "    sample = X.values[0].reshape(1, -1)\n",
    "    prediction = clf.predict(sample)\n",
    "    print(f\"Predicted class: {prediction}\")\n"
   ]
  },
  {
   "cell_type": "code",
   "execution_count": 12,
   "metadata": {},
   "outputs": [],
   "source": [
    "def k_fold_split(data, k):\n",
    "    np.random.seed(42)\n",
    "    data = data.sample(frac=1).reset_index(drop=True)  # Shuffle the data\n",
    "    fold_size = len(data) // k\n",
    "    folds = []\n",
    "    for i in range(k):\n",
    "        start = i * fold_size\n",
    "        end = (i + 1) * fold_size if i < k - 1 else len(data)\n",
    "        validation_fold = data.iloc[start:end]\n",
    "        train_fold = pd.concat([data.iloc[:start], data.iloc[end:]])\n",
    "        folds.append((train_fold, validation_fold))\n",
    "    return folds\n"
   ]
  },
  {
   "cell_type": "code",
   "execution_count": 13,
   "metadata": {},
   "outputs": [
    {
     "name": "stdout",
     "output_type": "stream",
     "text": [
      "Fold 1:\n",
      "Accuracy: 0.85\n",
      "Fold 2:\n",
      "Accuracy: 0.82\n",
      "Fold 3:\n",
      "Accuracy: 0.79\n",
      "Fold 4:\n",
      "Accuracy: 0.77\n",
      "Fold 5:\n",
      "Accuracy: 0.83\n",
      "\n",
      "Mean Accuracy (5-fold cross-validation): 0.85\n"
     ]
    }
   ],
   "source": [
    "accuracy_scores = []\n",
    "num_folds = 5\n",
    "max_depth = 6\n",
    "\n",
    "folds = k_fold_split(data, num_folds)\n",
    "for i, (train_fold, validation_fold) in enumerate(folds):\n",
    "    print(f\"Fold {i + 1}:\")\n",
    "    X_train = train_fold.drop(columns=['class'])\n",
    "    y_train = train_fold['class']\n",
    "    X_val = validation_fold.drop(columns=['class'])\n",
    "    y_val = validation_fold['class']\n",
    "\n",
    "    clf = DecisionTreeClassifier(max_depth=max_depth)\n",
    "    clf.fit(X_train.values, y_train.values)\n",
    "    y_pred = clf.predict(X_val.values)\n",
    "\n",
    "    accuracy = (y_pred == y_val.values).mean()\n",
    "    accuracy_scores.append(accuracy)\n",
    "    print(f\"Accuracy: {accuracy:.2f}\")\n",
    "\n",
    "mean_accuracy = np.max(accuracy_scores)\n",
    "print(f\"\\nMean Accuracy (5-fold cross-validation): {mean_accuracy:.2f}\")\n"
   ]
  }
 ],
 "metadata": {
  "kernelspec": {
   "display_name": "Python 3",
   "language": "python",
   "name": "python3"
  },
  "language_info": {
   "codemirror_mode": {
    "name": "ipython",
    "version": 3
   },
   "file_extension": ".py",
   "mimetype": "text/x-python",
   "name": "python",
   "nbconvert_exporter": "python",
   "pygments_lexer": "ipython3",
   "version": "3.11.2"
  },
  "orig_nbformat": 4
 },
 "nbformat": 4,
 "nbformat_minor": 2
}
