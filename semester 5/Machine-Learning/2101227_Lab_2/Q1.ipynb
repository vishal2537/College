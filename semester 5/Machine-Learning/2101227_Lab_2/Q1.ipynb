{
 "cells": [
  {
   "cell_type": "code",
   "execution_count": 116,
   "metadata": {},
   "outputs": [],
   "source": [
    "import math\n",
    "import copy\n",
    "import numpy as np\n",
    "import matplotlib.pyplot as plt\n"
   ]
  },
  {
   "cell_type": "code",
   "execution_count": 117,
   "metadata": {},
   "outputs": [],
   "source": [
    "# load our dataset\n",
    "x = np.array([0,1,2,3,1,1.5])             # features\n",
    "y = np.array([1,2,1.5,2,1,2])             # target value\n"
   ]
  },
  {
   "cell_type": "code",
   "execution_count": 118,
   "metadata": {},
   "outputs": [],
   "source": [
    "def xi_sum(x,d):\n",
    "    sum_arr = 0\n",
    "    for i in range(0,len(x)):\n",
    "        sum_arr = sum_arr +  x[i]**d\n",
    "    return sum_arr\n",
    "    "
   ]
  },
  {
   "cell_type": "code",
   "execution_count": 119,
   "metadata": {},
   "outputs": [],
   "source": [
    "coeff_matrix = np.array([[xi_sum(x,4) , xi_sum(x,3),xi_sum(x,2)],\n",
    "                         [xi_sum(x,3) , xi_sum(x,2),xi_sum(x,1)],\n",
    "                         [xi_sum(x,2) , xi_sum(x,1),len(x)]])"
   ]
  },
  {
   "cell_type": "code",
   "execution_count": 120,
   "metadata": {},
   "outputs": [
    {
     "data": {
      "text/plain": [
       "array([[104.0625,  40.375 ,  17.25  ],\n",
       "       [ 40.375 ,  17.25  ,   8.5   ],\n",
       "       [ 17.25  ,   8.5   ,   6.    ]])"
      ]
     },
     "execution_count": 120,
     "metadata": {},
     "output_type": "execute_result"
    }
   ],
   "source": [
    "coeff_matrix"
   ]
  },
  {
   "cell_type": "code",
   "execution_count": 121,
   "metadata": {},
   "outputs": [],
   "source": [
    "def xi_yi_sum(x,y,d1,d2):\n",
    "    sum_arr = 0\n",
    "    for i in range(0, len(x)):\n",
    "        sum_arr = sum_arr + (x[i]**d1)*(y[i]**d2)\n",
    "    return sum_arr\n"
   ]
  },
  {
   "cell_type": "code",
   "execution_count": 122,
   "metadata": {},
   "outputs": [],
   "source": [
    "y_mat =  np.array([[xi_yi_sum(x,y,2,1)],\n",
    "                    [xi_yi_sum(x,y,1,1)],\n",
    "                    [xi_yi_sum(x,y,0,1)]])"
   ]
  },
  {
   "cell_type": "code",
   "execution_count": 123,
   "metadata": {},
   "outputs": [
    {
     "data": {
      "text/plain": [
       "array([[31.5],\n",
       "       [15. ],\n",
       "       [ 9.5]])"
      ]
     },
     "execution_count": 123,
     "metadata": {},
     "output_type": "execute_result"
    }
   ],
   "source": [
    "y_mat"
   ]
  },
  {
   "cell_type": "code",
   "execution_count": 124,
   "metadata": {},
   "outputs": [],
   "source": [
    "inv_coeff_matrix = np.linalg.inv(coeff_matrix)\n",
    "a_b_c = np.dot(inv_coeff_matrix,y_mat)"
   ]
  },
  {
   "cell_type": "code",
   "execution_count": 125,
   "metadata": {},
   "outputs": [
    {
     "data": {
      "text/plain": [
       "array([[-0.09298246],\n",
       "       [ 0.58052632],\n",
       "       [ 1.02824561]])"
      ]
     },
     "execution_count": 125,
     "metadata": {},
     "output_type": "execute_result"
    }
   ],
   "source": [
    "a_b_c\n"
   ]
  },
  {
   "cell_type": "code",
   "execution_count": 126,
   "metadata": {},
   "outputs": [],
   "source": [
    "a = a_b_c[0][0]\n",
    "b = a_b_c[1][0]\n",
    "c = a_b_c[2][0]"
   ]
  },
  {
   "cell_type": "code",
   "execution_count": 127,
   "metadata": {},
   "outputs": [],
   "source": [
    "def y_pred_i(x,y,a,b,c):\n",
    "    y_i = []\n",
    "    for i in range(0,len(y)):\n",
    "        y_i.append((a*(x[i]**2)) + b*x[i] + c)\n",
    "    return y_i  "
   ]
  },
  {
   "cell_type": "code",
   "execution_count": 128,
   "metadata": {},
   "outputs": [],
   "source": [
    "y_i = y_pred_i(x, y, a, b, c)"
   ]
  },
  {
   "cell_type": "code",
   "execution_count": 129,
   "metadata": {},
   "outputs": [
    {
     "data": {
      "text/plain": [
       "[1.0282456140350864,\n",
       " 1.5157894736842106,\n",
       " 1.8173684210526317,\n",
       " 1.9329824561403497,\n",
       " 1.5157894736842106,\n",
       " 1.689824561403509]"
      ]
     },
     "execution_count": 129,
     "metadata": {},
     "output_type": "execute_result"
    }
   ],
   "source": [
    "y_i"
   ]
  },
  {
   "cell_type": "code",
   "execution_count": 130,
   "metadata": {},
   "outputs": [],
   "source": [
    "error = 0\n",
    "error = np.sum((y_i - y)**2)"
   ]
  },
  {
   "cell_type": "code",
   "execution_count": 131,
   "metadata": {},
   "outputs": [
    {
     "data": {
      "text/plain": [
       "0.7027192982456141"
      ]
     },
     "execution_count": 131,
     "metadata": {},
     "output_type": "execute_result"
    }
   ],
   "source": [
    "error"
   ]
  }
 ],
 "metadata": {
  "kernelspec": {
   "display_name": "Python 3",
   "language": "python",
   "name": "python3"
  },
  "language_info": {
   "codemirror_mode": {
    "name": "ipython",
    "version": 3
   },
   "file_extension": ".py",
   "mimetype": "text/x-python",
   "name": "python",
   "nbconvert_exporter": "python",
   "pygments_lexer": "ipython3",
   "version": "3.11.2"
  },
  "orig_nbformat": 4
 },
 "nbformat": 4,
 "nbformat_minor": 2
}
