{
 "cells": [
  {
   "cell_type": "code",
   "execution_count": 1,
   "id": "7bdcd555",
   "metadata": {},
   "outputs": [],
   "source": [
    "from pgmpy.models import BayesianModel\n",
    "from pgmpy.factors.discrete import TabularCPD\n",
    "from pgmpy.inference import VariableElimination\n",
    "import numpy as np"
   ]
  },
  {
   "cell_type": "code",
   "execution_count": 2,
   "id": "388443a9",
   "metadata": {},
   "outputs": [
    {
     "name": "stderr",
     "output_type": "stream",
     "text": [
      "c:\\Python311\\Lib\\site-packages\\pgmpy\\models\\BayesianModel.py:8: FutureWarning: BayesianModel has been renamed to BayesianNetwork. Please use BayesianNetwork class, BayesianModel will be removed in future.\n",
      "  warnings.warn(\n"
     ]
    }
   ],
   "source": [
    "bayesNet = BayesianModel()\n",
    "\n",
    "bayesNet.add_node(\"E\")\n",
    "bayesNet.add_node(\"I\")\n",
    "bayesNet.add_node(\"M\")\n",
    "bayesNet.add_node(\"S\")\n",
    "bayesNet.add_node(\"A\")\n",
    "\n",
    "bayesNet.add_edge(\"E\", \"M\")\n",
    "bayesNet.add_edge(\"I\", \"M\")\n",
    "bayesNet.add_edge(\"I\", \"S\")\n",
    "bayesNet.add_edge(\"M\", \"A\")"
   ]
  },
  {
   "cell_type": "code",
   "execution_count": 3,
   "id": "274374e3",
   "metadata": {},
   "outputs": [],
   "source": [
    "# Exam Level\n",
    "cpd_E = TabularCPD('E', 2, values=[[.7], [.3]])\n",
    "\n",
    "# IQ level\n",
    "cpd_I = TabularCPD('I', 2, values=[[.8], [.2]])\n",
    "\n",
    "# Marks\n",
    "cpd_M = TabularCPD('M', 2, values=[[0.6, 0.9, 0.5, 0.8], [0.4, 0.1, 0.5, 0.2]],\n",
    "                   evidence=['I', 'E'], evidence_card=[2, 2])\n",
    "\n",
    "# Apti Score\n",
    "cpd_S = TabularCPD('S', 2, values=[[0.75, 0.4], [0.25, 0.6]],\n",
    "                   evidence=['I'], evidence_card=[2])\n",
    "\n",
    "# Admission\n",
    "cpd_A = TabularCPD('A', 2, values=[[0.6, 0.9], [0.4, 0.1]],\n",
    "                   evidence=['M'], evidence_card=[2])\n",
    "\n",
    "bayesNet.add_cpds(cpd_E, cpd_I, cpd_M, cpd_S, cpd_A)"
   ]
  },
  {
   "cell_type": "code",
   "execution_count": 4,
   "id": "08be3f6f",
   "metadata": {},
   "outputs": [
    {
     "name": "stdout",
     "output_type": "stream",
     "text": [
      "Model is correct.\n"
     ]
    }
   ],
   "source": [
    "# checking if model is correct\n",
    "if bayesNet.check_model():\n",
    "    print(\"Model is correct.\")"
   ]
  },
  {
   "cell_type": "code",
   "execution_count": 5,
   "id": "afcc65be",
   "metadata": {},
   "outputs": [],
   "source": [
    "# Creating solver that uses variable elimination internally for inference.\n",
    "solver = VariableElimination(bayesNet)"
   ]
  },
  {
   "cell_type": "code",
   "execution_count": 6,
   "id": "dcb449be",
   "metadata": {},
   "outputs": [
    {
     "name": "stdout",
     "output_type": "stream",
     "text": [
      "M | E +------+----------+\n",
      "| M    |   phi(M) |\n",
      "+======+==========+\n",
      "| M(0) |   0.8800 |\n",
      "+------+----------+\n",
      "| M(1) |   0.1200 |\n",
      "+------+----------+\n"
     ]
    }
   ],
   "source": [
    "# P(M | E)\n",
    "result = solver.query(variables=['M'], evidence={'E': 1})\n",
    "print(\"M | E\", result)"
   ]
  },
  {
   "cell_type": "code",
   "execution_count": 7,
   "id": "7944c583",
   "metadata": {},
   "outputs": [
    {
     "name": "stdout",
     "output_type": "stream",
     "text": [
      "M | E +------+----------+\n",
      "| M    |   phi(M) |\n",
      "+======+==========+\n",
      "| M(0) |   0.5800 |\n",
      "+------+----------+\n",
      "| M(1) |   0.4200 |\n",
      "+------+----------+\n"
     ]
    }
   ],
   "source": [
    "# P(M | !E)\n",
    "result = solver.query(variables=['M'], evidence={'E': 0})\n",
    "print(\"M | ~E\", result)"
   ]
  },
  {
   "cell_type": "code",
   "execution_count": null,
   "id": "d104aa40",
   "metadata": {},
   "outputs": [],
   "source": []
  },
  {
   "cell_type": "code",
   "execution_count": null,
   "id": "ca1702bf",
   "metadata": {},
   "outputs": [],
   "source": []
  }
 ],
 "metadata": {
  "kernelspec": {
   "display_name": "Python 3 (ipykernel)",
   "language": "python",
   "name": "python3"
  },
  "language_info": {
   "codemirror_mode": {
    "name": "ipython",
    "version": 3
   },
   "file_extension": ".py",
   "mimetype": "text/x-python",
   "name": "python",
   "nbconvert_exporter": "python",
   "pygments_lexer": "ipython3",
   "version": "3.11.2"
  }
 },
 "nbformat": 4,
 "nbformat_minor": 5
}
