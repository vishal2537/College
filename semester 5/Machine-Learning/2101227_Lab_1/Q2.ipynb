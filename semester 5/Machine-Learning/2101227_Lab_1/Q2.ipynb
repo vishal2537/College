{
 "cells": [
  {
   "cell_type": "code",
   "execution_count": 40,
   "metadata": {},
   "outputs": [],
   "source": [
    "import numpy as np\n",
    "import pandas as pd\n",
    "import matplotlib.pyplot as plt\n",
    "from sklearn.model_selection import train_test_split\n",
    "from sklearn.datasets import load_boston\n",
    "from sklearn.linear_model import LinearRegression\n",
    "from sklearn.metrics import mean_squared_error, mean_absolute_error\n"
   ]
  },
  {
   "cell_type": "code",
   "execution_count": 41,
   "metadata": {},
   "outputs": [
    {
     "name": "stderr",
     "output_type": "stream",
     "text": [
      "c:\\Python311\\Lib\\site-packages\\sklearn\\utils\\deprecation.py:87: FutureWarning: Function load_boston is deprecated; `load_boston` is deprecated in 1.0 and will be removed in 1.2.\n",
      "\n",
      "    The Boston housing prices dataset has an ethical problem. You can refer to\n",
      "    the documentation of this function for further details.\n",
      "\n",
      "    The scikit-learn maintainers therefore strongly discourage the use of this\n",
      "    dataset unless the purpose of the code is to study and educate about\n",
      "    ethical issues in data science and machine learning.\n",
      "\n",
      "    In this special case, you can fetch the dataset from the original\n",
      "    source::\n",
      "\n",
      "        import pandas as pd\n",
      "        import numpy as np\n",
      "\n",
      "        data_url = \"http://lib.stat.cmu.edu/datasets/boston\"\n",
      "        raw_df = pd.read_csv(data_url, sep=\"\\s+\", skiprows=22, header=None)\n",
      "        data = np.hstack([raw_df.values[::2, :], raw_df.values[1::2, :2]])\n",
      "        target = raw_df.values[1::2, 2]\n",
      "\n",
      "    Alternative datasets include the California housing dataset (i.e.\n",
      "    :func:`~sklearn.datasets.fetch_california_housing`) and the Ames housing\n",
      "    dataset. You can load the datasets as follows::\n",
      "\n",
      "        from sklearn.datasets import fetch_california_housing\n",
      "        housing = fetch_california_housing()\n",
      "\n",
      "    for the California housing dataset and::\n",
      "\n",
      "        from sklearn.datasets import fetch_openml\n",
      "        housing = fetch_openml(name=\"house_prices\", as_frame=True)\n",
      "\n",
      "    for the Ames housing dataset.\n",
      "  warnings.warn(msg, category=FutureWarning)\n"
     ]
    }
   ],
   "source": [
    "boston = load_boston()"
   ]
  },
  {
   "cell_type": "code",
   "execution_count": 42,
   "metadata": {},
   "outputs": [
    {
     "data": {
      "text/plain": [
       "(506, 13)"
      ]
     },
     "execution_count": 42,
     "metadata": {},
     "output_type": "execute_result"
    }
   ],
   "source": [
    "boston.data.shape"
   ]
  },
  {
   "cell_type": "code",
   "execution_count": 43,
   "metadata": {},
   "outputs": [
    {
     "data": {
      "text/plain": [
       "array(['CRIM', 'ZN', 'INDUS', 'CHAS', 'NOX', 'RM', 'AGE', 'DIS', 'RAD',\n",
       "       'TAX', 'PTRATIO', 'B', 'LSTAT'], dtype='<U7')"
      ]
     },
     "execution_count": 43,
     "metadata": {},
     "output_type": "execute_result"
    }
   ],
   "source": [
    "boston.feature_names"
   ]
  },
  {
   "cell_type": "code",
   "execution_count": 44,
   "metadata": {},
   "outputs": [
    {
     "data": {
      "text/html": [
       "<div>\n",
       "<style scoped>\n",
       "    .dataframe tbody tr th:only-of-type {\n",
       "        vertical-align: middle;\n",
       "    }\n",
       "\n",
       "    .dataframe tbody tr th {\n",
       "        vertical-align: top;\n",
       "    }\n",
       "\n",
       "    .dataframe thead th {\n",
       "        text-align: right;\n",
       "    }\n",
       "</style>\n",
       "<table border=\"1\" class=\"dataframe\">\n",
       "  <thead>\n",
       "    <tr style=\"text-align: right;\">\n",
       "      <th></th>\n",
       "      <th>CRIM</th>\n",
       "      <th>ZN</th>\n",
       "      <th>INDUS</th>\n",
       "      <th>CHAS</th>\n",
       "      <th>NOX</th>\n",
       "      <th>RM</th>\n",
       "      <th>AGE</th>\n",
       "      <th>DIS</th>\n",
       "      <th>RAD</th>\n",
       "      <th>TAX</th>\n",
       "      <th>PTRATIO</th>\n",
       "      <th>B</th>\n",
       "      <th>LSTAT</th>\n",
       "    </tr>\n",
       "  </thead>\n",
       "  <tbody>\n",
       "    <tr>\n",
       "      <th>0</th>\n",
       "      <td>0.00632</td>\n",
       "      <td>18.0</td>\n",
       "      <td>2.31</td>\n",
       "      <td>0.0</td>\n",
       "      <td>0.538</td>\n",
       "      <td>6.575</td>\n",
       "      <td>65.2</td>\n",
       "      <td>4.0900</td>\n",
       "      <td>1.0</td>\n",
       "      <td>296.0</td>\n",
       "      <td>15.3</td>\n",
       "      <td>396.90</td>\n",
       "      <td>4.98</td>\n",
       "    </tr>\n",
       "    <tr>\n",
       "      <th>1</th>\n",
       "      <td>0.02731</td>\n",
       "      <td>0.0</td>\n",
       "      <td>7.07</td>\n",
       "      <td>0.0</td>\n",
       "      <td>0.469</td>\n",
       "      <td>6.421</td>\n",
       "      <td>78.9</td>\n",
       "      <td>4.9671</td>\n",
       "      <td>2.0</td>\n",
       "      <td>242.0</td>\n",
       "      <td>17.8</td>\n",
       "      <td>396.90</td>\n",
       "      <td>9.14</td>\n",
       "    </tr>\n",
       "    <tr>\n",
       "      <th>2</th>\n",
       "      <td>0.02729</td>\n",
       "      <td>0.0</td>\n",
       "      <td>7.07</td>\n",
       "      <td>0.0</td>\n",
       "      <td>0.469</td>\n",
       "      <td>7.185</td>\n",
       "      <td>61.1</td>\n",
       "      <td>4.9671</td>\n",
       "      <td>2.0</td>\n",
       "      <td>242.0</td>\n",
       "      <td>17.8</td>\n",
       "      <td>392.83</td>\n",
       "      <td>4.03</td>\n",
       "    </tr>\n",
       "    <tr>\n",
       "      <th>3</th>\n",
       "      <td>0.03237</td>\n",
       "      <td>0.0</td>\n",
       "      <td>2.18</td>\n",
       "      <td>0.0</td>\n",
       "      <td>0.458</td>\n",
       "      <td>6.998</td>\n",
       "      <td>45.8</td>\n",
       "      <td>6.0622</td>\n",
       "      <td>3.0</td>\n",
       "      <td>222.0</td>\n",
       "      <td>18.7</td>\n",
       "      <td>394.63</td>\n",
       "      <td>2.94</td>\n",
       "    </tr>\n",
       "    <tr>\n",
       "      <th>4</th>\n",
       "      <td>0.06905</td>\n",
       "      <td>0.0</td>\n",
       "      <td>2.18</td>\n",
       "      <td>0.0</td>\n",
       "      <td>0.458</td>\n",
       "      <td>7.147</td>\n",
       "      <td>54.2</td>\n",
       "      <td>6.0622</td>\n",
       "      <td>3.0</td>\n",
       "      <td>222.0</td>\n",
       "      <td>18.7</td>\n",
       "      <td>396.90</td>\n",
       "      <td>5.33</td>\n",
       "    </tr>\n",
       "  </tbody>\n",
       "</table>\n",
       "</div>"
      ],
      "text/plain": [
       "      CRIM    ZN  INDUS  CHAS    NOX     RM   AGE     DIS  RAD    TAX   \n",
       "0  0.00632  18.0   2.31   0.0  0.538  6.575  65.2  4.0900  1.0  296.0  \\\n",
       "1  0.02731   0.0   7.07   0.0  0.469  6.421  78.9  4.9671  2.0  242.0   \n",
       "2  0.02729   0.0   7.07   0.0  0.469  7.185  61.1  4.9671  2.0  242.0   \n",
       "3  0.03237   0.0   2.18   0.0  0.458  6.998  45.8  6.0622  3.0  222.0   \n",
       "4  0.06905   0.0   2.18   0.0  0.458  7.147  54.2  6.0622  3.0  222.0   \n",
       "\n",
       "   PTRATIO       B  LSTAT  \n",
       "0     15.3  396.90   4.98  \n",
       "1     17.8  396.90   9.14  \n",
       "2     17.8  392.83   4.03  \n",
       "3     18.7  394.63   2.94  \n",
       "4     18.7  396.90   5.33  "
      ]
     },
     "execution_count": 44,
     "metadata": {},
     "output_type": "execute_result"
    }
   ],
   "source": [
    "data = pd.DataFrame(boston.data)\n",
    "data.columns = boston.feature_names\n",
    "data.head()"
   ]
  },
  {
   "cell_type": "code",
   "execution_count": 45,
   "metadata": {},
   "outputs": [
    {
     "name": "stdout",
     "output_type": "stream",
     "text": [
      "             CRIM          ZN       INDUS        CHAS         NOX          RM   \n",
      "count  506.000000  506.000000  506.000000  506.000000  506.000000  506.000000  \\\n",
      "mean     3.613524   11.363636   11.136779    0.069170    0.554695    6.284634   \n",
      "std      8.601545   23.322453    6.860353    0.253994    0.115878    0.702617   \n",
      "min      0.006320    0.000000    0.460000    0.000000    0.385000    3.561000   \n",
      "25%      0.082045    0.000000    5.190000    0.000000    0.449000    5.885500   \n",
      "50%      0.256510    0.000000    9.690000    0.000000    0.538000    6.208500   \n",
      "75%      3.677083   12.500000   18.100000    0.000000    0.624000    6.623500   \n",
      "max     88.976200  100.000000   27.740000    1.000000    0.871000    8.780000   \n",
      "\n",
      "              AGE         DIS         RAD         TAX     PTRATIO           B   \n",
      "count  506.000000  506.000000  506.000000  506.000000  506.000000  506.000000  \\\n",
      "mean    68.574901    3.795043    9.549407  408.237154   18.455534  356.674032   \n",
      "std     28.148861    2.105710    8.707259  168.537116    2.164946   91.294864   \n",
      "min      2.900000    1.129600    1.000000  187.000000   12.600000    0.320000   \n",
      "25%     45.025000    2.100175    4.000000  279.000000   17.400000  375.377500   \n",
      "50%     77.500000    3.207450    5.000000  330.000000   19.050000  391.440000   \n",
      "75%     94.075000    5.188425   24.000000  666.000000   20.200000  396.225000   \n",
      "max    100.000000   12.126500   24.000000  711.000000   22.000000  396.900000   \n",
      "\n",
      "            LSTAT  \n",
      "count  506.000000  \n",
      "mean    12.653063  \n",
      "std      7.141062  \n",
      "min      1.730000  \n",
      "25%      6.950000  \n",
      "50%     11.360000  \n",
      "75%     16.955000  \n",
      "max     37.970000  \n"
     ]
    }
   ],
   "source": [
    "# Adding 'Price' (target) column to the data\n",
    "# boston.target.shape\n",
    "print(data.describe())\n"
   ]
  },
  {
   "cell_type": "code",
   "execution_count": 46,
   "metadata": {},
   "outputs": [],
   "source": [
    "# data['Price'] = boston.target\n",
    "# data.head()\n"
   ]
  },
  {
   "cell_type": "code",
   "execution_count": 47,
   "metadata": {},
   "outputs": [
    {
     "name": "stdout",
     "output_type": "stream",
     "text": [
      "<class 'pandas.core.frame.DataFrame'>\n",
      "RangeIndex: 506 entries, 0 to 505\n",
      "Data columns (total 13 columns):\n",
      " #   Column   Non-Null Count  Dtype  \n",
      "---  ------   --------------  -----  \n",
      " 0   CRIM     506 non-null    float64\n",
      " 1   ZN       506 non-null    float64\n",
      " 2   INDUS    506 non-null    float64\n",
      " 3   CHAS     506 non-null    float64\n",
      " 4   NOX      506 non-null    float64\n",
      " 5   RM       506 non-null    float64\n",
      " 6   AGE      506 non-null    float64\n",
      " 7   DIS      506 non-null    float64\n",
      " 8   RAD      506 non-null    float64\n",
      " 9   TAX      506 non-null    float64\n",
      " 10  PTRATIO  506 non-null    float64\n",
      " 11  B        506 non-null    float64\n",
      " 12  LSTAT    506 non-null    float64\n",
      "dtypes: float64(13)\n",
      "memory usage: 51.5 KB\n"
     ]
    }
   ],
   "source": [
    "data.info()"
   ]
  },
  {
   "cell_type": "code",
   "execution_count": 48,
   "metadata": {},
   "outputs": [],
   "source": [
    "# Input Data\n",
    "x = boston.data\n",
    "\n",
    "# Output Data\n",
    "y = boston.target\n",
    "# splitting data to training and testing dataset.\n",
    "x_train, x_test, ytrain, y_test = train_test_split(x, y, test_size=0.2,random_state=42)\n"
   ]
  },
  {
   "cell_type": "code",
   "execution_count": 49,
   "metadata": {},
   "outputs": [
    {
     "data": {
      "text/plain": [
       "array([-1.13055924e-01,  3.01104641e-02,  4.03807204e-02,  2.78443820e+00,\n",
       "       -1.72026334e+01,  4.43883520e+00, -6.29636221e-03, -1.44786537e+00,\n",
       "        2.62429736e-01, -1.06467863e-02, -9.15456240e-01,  1.23513347e-02,\n",
       "       -5.08571424e-01])"
      ]
     },
     "execution_count": 49,
     "metadata": {},
     "output_type": "execute_result"
    }
   ],
   "source": [
    "# Fitting Multi Linear regression model to training model\n",
    "reg = LinearRegression()\n",
    "reg.fit(x_train, ytrain)\n",
    "\n",
    "# predicting the test set results\n",
    "y_pred = reg.predict(x_test)\n",
    "reg.coef_\n"
   ]
  },
  {
   "cell_type": "code",
   "execution_count": 50,
   "metadata": {},
   "outputs": [
    {
     "data": {
      "image/png": "[encoded data removed]",
      "text/plain": [
       "<Figure size 640x480 with 1 Axes>"
      ]
     },
     "metadata": {},
     "output_type": "display_data"
    }
   ],
   "source": [
    "# Plotting Scatter graph to show the prediction\n",
    "plt.scatter(y_test, y_pred, c='blue')\n",
    "plt.xlabel(\"Price: in $1000's\")\n",
    "plt.ylabel(\"Predicted value\")\n",
    "plt.title(\"True value vs predicted value : Linear Regression\")\n",
    "plt.show()\n"
   ]
  },
  {
   "cell_type": "code",
   "execution_count": 51,
   "metadata": {},
   "outputs": [
    {
     "name": "stdout",
     "output_type": "stream",
     "text": [
      "Mean Square Error :  24.29111947497386\n",
      "Mean Absolute Error :  3.1890919658878847\n"
     ]
    }
   ],
   "source": [
    "Mean_Square_Error = mean_squared_error(y_test, y_pred)\n",
    "Mean_Absolute_Error  = mean_absolute_error(y_test,y_pred)\n",
    "print(\"Mean Square Error : \", Mean_Square_Error)\n",
    "print(\"Mean Absolute Error : \", Mean_Absolute_Error )"
   ]
  },
  {
   "cell_type": "code",
   "execution_count": 61,
   "metadata": {},
   "outputs": [
    {
     "name": "stdout",
     "output_type": "stream",
     "text": [
      "y_pred : 28.9967 <=====> y_test: 23.6\n",
      "y_pred : 36.0256 <=====> y_test: 32.4\n",
      "y_pred : 14.8169 <=====> y_test: 13.6\n",
      "y_pred : 25.0320 <=====> y_test: 22.8\n",
      "y_pred : 18.7699 <=====> y_test: 16.1\n",
      "y_pred : 23.2544 <=====> y_test: 20.0\n",
      "y_pred : 17.6625 <=====> y_test: 17.8\n",
      "y_pred : 14.3412 <=====> y_test: 14.0\n",
      "y_pred : 23.0132 <=====> y_test: 19.6\n",
      "y_pred : 20.6325 <=====> y_test: 16.8\n",
      "y_pred : 24.9085 <=====> y_test: 21.5\n",
      "y_pred : 18.6388 <=====> y_test: 18.9\n",
      "y_pred : -6.0884 <=====> y_test: 7.0\n",
      "y_pred : 21.7583 <=====> y_test: 21.2\n",
      "y_pred : 19.2392 <=====> y_test: 18.5\n",
      "y_pred : 26.1932 <=====> y_test: 29.8\n",
      "y_pred : 20.6477 <=====> y_test: 18.8\n",
      "y_pred : 5.7947 <=====> y_test: 10.2\n",
      "y_pred : 40.5003 <=====> y_test: 50.0\n",
      "y_pred : 17.6129 <=====> y_test: 14.1\n",
      "y_pred : 27.2491 <=====> y_test: 25.2\n",
      "y_pred : 30.0663 <=====> y_test: 29.1\n",
      "y_pred : 11.3418 <=====> y_test: 12.7\n",
      "y_pred : 24.1608 <=====> y_test: 22.4\n",
      "y_pred : 17.8606 <=====> y_test: 14.2\n",
      "y_pred : 15.8361 <=====> y_test: 13.8\n",
      "y_pred : 22.7815 <=====> y_test: 20.3\n",
      "y_pred : 14.5770 <=====> y_test: 14.9\n",
      "y_pred : 22.4363 <=====> y_test: 21.7\n",
      "y_pred : 19.1963 <=====> y_test: 18.3\n",
      "y_pred : 22.4338 <=====> y_test: 23.1\n",
      "y_pred : 25.2198 <=====> y_test: 23.8\n",
      "y_pred : 25.9391 <=====> y_test: 15.0\n",
      "y_pred : 17.7016 <=====> y_test: 20.8\n",
      "y_pred : 16.7691 <=====> y_test: 19.1\n",
      "y_pred : 16.9513 <=====> y_test: 19.4\n",
      "y_pred : 31.2334 <=====> y_test: 34.7\n",
      "y_pred : 20.1325 <=====> y_test: 19.5\n",
      "y_pred : 23.7658 <=====> y_test: 24.4\n",
      "y_pred : 24.6323 <=====> y_test: 23.4\n",
      "y_pred : 13.9420 <=====> y_test: 19.7\n",
      "y_pred : 32.2558 <=====> y_test: 28.2\n",
      "y_pred : 42.6725 <=====> y_test: 50.0\n",
      "y_pred : 17.3275 <=====> y_test: 17.4\n",
      "y_pred : 27.2762 <=====> y_test: 22.6\n",
      "y_pred : 16.9931 <=====> y_test: 15.1\n",
      "y_pred : 14.0701 <=====> y_test: 13.1\n",
      "y_pred : 25.9034 <=====> y_test: 24.2\n",
      "y_pred : 20.2949 <=====> y_test: 19.9\n",
      "y_pred : 29.9534 <=====> y_test: 24.0\n",
      "y_pred : 21.2886 <=====> y_test: 18.9\n",
      "y_pred : 34.3445 <=====> y_test: 35.4\n",
      "y_pred : 16.0474 <=====> y_test: 15.2\n",
      "y_pred : 26.2256 <=====> y_test: 26.5\n",
      "y_pred : 39.5394 <=====> y_test: 43.5\n",
      "y_pred : 22.5795 <=====> y_test: 21.2\n",
      "y_pred : 18.8453 <=====> y_test: 18.4\n",
      "y_pred : 32.7253 <=====> y_test: 28.5\n",
      "y_pred : 25.0673 <=====> y_test: 23.9\n",
      "y_pred : 12.8863 <=====> y_test: 18.5\n",
      "y_pred : 22.6822 <=====> y_test: 25.0\n",
      "y_pred : 30.4829 <=====> y_test: 35.4\n",
      "y_pred : 31.5263 <=====> y_test: 31.5\n",
      "y_pred : 15.9015 <=====> y_test: 20.2\n",
      "y_pred : 20.2209 <=====> y_test: 24.1\n",
      "y_pred : 16.7109 <=====> y_test: 20.0\n",
      "y_pred : 20.5238 <=====> y_test: 13.1\n",
      "y_pred : 25.9636 <=====> y_test: 24.8\n",
      "y_pred : 30.6161 <=====> y_test: 30.8\n",
      "y_pred : 11.5978 <=====> y_test: 12.7\n",
      "y_pred : 20.5123 <=====> y_test: 20.0\n",
      "y_pred : 27.4811 <=====> y_test: 23.7\n",
      "y_pred : 11.0196 <=====> y_test: 10.8\n",
      "y_pred : 15.6810 <=====> y_test: 20.6\n",
      "y_pred : 23.7932 <=====> y_test: 20.8\n",
      "y_pred : 6.1993 <=====> y_test: 5.0\n",
      "y_pred : 21.6039 <=====> y_test: 20.1\n",
      "y_pred : 41.4138 <=====> y_test: 48.5\n",
      "y_pred : 18.7655 <=====> y_test: 10.9\n",
      "y_pred : 8.8793 <=====> y_test: 7.0\n",
      "y_pred : 20.8308 <=====> y_test: 20.9\n",
      "y_pred : 13.2562 <=====> y_test: 17.2\n",
      "y_pred : 20.7396 <=====> y_test: 20.9\n",
      "y_pred : 9.3648 <=====> y_test: 9.7\n",
      "y_pred : 23.2244 <=====> y_test: 19.4\n",
      "y_pred : 31.9155 <=====> y_test: 29.0\n",
      "y_pred : 19.1023 <=====> y_test: 16.4\n",
      "y_pred : 25.5158 <=====> y_test: 25.0\n",
      "y_pred : 29.0426 <=====> y_test: 25.0\n",
      "y_pred : 20.1436 <=====> y_test: 17.1\n",
      "y_pred : 25.5860 <=====> y_test: 23.2\n",
      "y_pred : 5.7016 <=====> y_test: 10.4\n",
      "y_pred : 20.0947 <=====> y_test: 19.6\n",
      "y_pred : 14.9507 <=====> y_test: 17.2\n",
      "y_pred : 12.5040 <=====> y_test: 27.5\n",
      "y_pred : 20.7264 <=====> y_test: 23.0\n",
      "y_pred : 24.7396 <=====> y_test: 50.0\n",
      "y_pred : -0.1642 <=====> y_test: 17.9\n",
      "y_pred : 13.6849 <=====> y_test: 9.6\n",
      "y_pred : 16.1836 <=====> y_test: 17.2\n",
      "y_pred : 22.2762 <=====> y_test: 22.5\n",
      "y_pred : 24.4790 <=====> y_test: 21.4\n"
     ]
    }
   ],
   "source": [
    "# print(\"Actual Value : \" + str(y_test))\n",
    "# print(\"Prediction Value : \" + str(y_pred))\n",
    "\n",
    "\n",
    "for i in range(len(y_test)):\n",
    "    print(f\"y_pred : {y_pred[i]:.4f} <=====> y_test: {y_test[i]}\")"
   ]
  },
  {
   "cell_type": "code",
   "execution_count": null,
   "metadata": {},
   "outputs": [],
   "source": []
  }
 ],
 "metadata": {
  "kernelspec": {
   "display_name": "Python 3",
   "language": "python",
   "name": "python3"
  },
  "language_info": {
   "codemirror_mode": {
    "name": "ipython",
    "version": 3
   },
   "file_extension": ".py",
   "mimetype": "text/x-python",
   "name": "python",
   "nbconvert_exporter": "python",
   "pygments_lexer": "ipython3",
   "version": "3.11.2"
  },
  "orig_nbformat": 4
 },
 "nbformat": 4,
 "nbformat_minor": 2
}
