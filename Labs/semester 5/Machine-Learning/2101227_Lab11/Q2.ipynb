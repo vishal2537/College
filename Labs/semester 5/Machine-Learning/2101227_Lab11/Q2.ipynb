{
 "cells": [
  {
   "cell_type": "code",
   "execution_count": 1,
   "metadata": {},
   "outputs": [
    {
     "name": "stdout",
     "output_type": "stream",
     "text": [
      "1/1 [==============================] - 0s 70ms/step\n",
      "The output of the BPNN model is [[0.05000125 0.6       ]] with an error of [[-1.24871731e-06 -2.38418579e-08]].\n"
     ]
    }
   ],
   "source": [
    "import numpy as np\n",
    "import tensorflow as tf\n",
    "\n",
    "# Define the model\n",
    "model = tf.keras.Sequential([\n",
    "    tf.keras.layers.Dense(2, input_shape=(2,), activation='sigmoid'),\n",
    "    tf.keras.layers.Dense(2, activation='sigmoid')\n",
    "])\n",
    "\n",
    "# Set the weights\n",
    "weights_ih = np.array([[0.1, 0.25], [0.3, 0.8]])\n",
    "weights_ho = np.array([[0.2, 0.4], [0.6, 0.7]])\n",
    "model.set_weights([weights_ih, np.array([1, 1]), weights_ho, np.array([1, 1])])\n",
    "\n",
    "# Set the learning rate and compile the model\n",
    "learning_rate = 0.5\n",
    "model.compile(optimizer=tf.keras.optimizers.SGD(learning_rate=learning_rate), loss='mse')\n",
    "\n",
    "# Define the input and output data\n",
    "input_data = np.array([[0.3, 0.8]])\n",
    "output_data = np.array([[0.05, 0.6]])\n",
    "\n",
    "# Train the model\n",
    "epochs = 10000\n",
    "history = model.fit(input_data, output_data, epochs=epochs, verbose=0)\n",
    "\n",
    "# Predict the output\n",
    "result = model.predict(input_data)\n",
    "\n",
    "# Calculate the error\n",
    "error = output_data - result\n",
    "\n",
    "# Print the output and error\n",
    "print(f\"The output of the BPNN model is {result} with an error of {error}.\")"
   ]
  },
  {
   "cell_type": "code",
   "execution_count": null,
   "metadata": {},
   "outputs": [],
   "source": []
  }
 ],
 "metadata": {
  "kernelspec": {
   "display_name": "Python 3",
   "language": "python",
   "name": "python3"
  },
  "language_info": {
   "codemirror_mode": {
    "name": "ipython",
    "version": 3
   },
   "file_extension": ".py",
   "mimetype": "text/x-python",
   "name": "python",
   "nbconvert_exporter": "python",
   "pygments_lexer": "ipython3",
   "version": "3.11.2"
  }
 },
 "nbformat": 4,
 "nbformat_minor": 2
}
