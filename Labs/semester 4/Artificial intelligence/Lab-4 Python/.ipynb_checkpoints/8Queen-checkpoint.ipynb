{
 "cells": [
  {
   "cell_type": "code",
   "execution_count": 1,
   "metadata": {},
   "outputs": [],
   "source": [
    "import numpy as np \n",
    "from queue import Queue\n",
    "from matplotlib import pyplot as plt\n",
    "import heapq\n",
    "from colorama import Fore, Back, Style\n",
    "import random"
   ]
  },
  {
   "cell_type": "code",
   "execution_count": 2,
   "metadata": {},
   "outputs": [],
   "source": [
    "canIterate=4000 # applying a maximium limit of 100000 iterations \n",
    "totalQueen=8 #total number of queens"
   ]
  },
  {
   "cell_type": "code",
   "execution_count": 3,
   "metadata": {},
   "outputs": [],
   "source": [
    "def isAvailable(state): # checking if any queen is not placed yet it returns the first column where no queen is present\n",
    "    for col in range(totalQueen):\n",
    "        if(state[col]==-1):\n",
    "            return col"
   ]
  },
  {
   "cell_type": "code",
   "execution_count": 4,
   "metadata": {},
   "outputs": [],
   "source": [
    "# it will check that if it is safe to place the queen or not\n",
    "def isSafe(firstCol, firstRow, secondCol, secondRow):\n",
    "    if (firstRow == -1 or secondRow == -1):\n",
    "        return True\n",
    "    if (firstRow == secondRow):  # if any conflict in row\n",
    "        return False\n",
    "    # if there is any conflict in between queen diagonally\n",
    "    elif (abs(firstRow-secondRow) == abs(firstCol-secondCol)):\n",
    "        return False\n",
    "    else:\n",
    "        return True\n"
   ]
  },
  {
   "cell_type": "code",
   "execution_count": 5,
   "metadata": {},
   "outputs": [],
   "source": [
    "def printResult(state):\n",
    "    for row in range(totalQueen):\n",
    "        rowVal=''\n",
    "        for col in range(totalQueen):\n",
    "            if(state[col]==row):\n",
    "                print(Fore.CYAN +' Q ',end=\" \")\n",
    "            else:\n",
    "                print(Fore.WHITE +\" # \" , end=\" \")\n",
    "        print()    "
   ]
  },
  {
   "cell_type": "code",
   "execution_count": 6,
   "metadata": {},
   "outputs": [],
   "source": [
    "def heuristic(state):\n",
    "    attackingQueens=0\n",
    "    for i in range(totalQueen):\n",
    "        for j in range(i+1,totalQueen):\n",
    "            if(isSafe(i,state[i],j,state[j])==False):\n",
    "                attackingQueens+=1\n",
    "                \n",
    "    return attackingQueens"
   ]
  },
  {
   "cell_type": "code",
   "execution_count": 7,
   "metadata": {},
   "outputs": [],
   "source": [
    "def plot(iteration, positions, state, value):\n",
    "    plt.plot(range(iteration), positions, 'teal')\n",
    "    plt.plot(iteration, value, 'red')\n",
    "    plt.xlabel(\"Iterations\")\n",
    "    plt.ylabel(\"Evaluation Score\")\n",
    "    plt.show()"
   ]
  },
  {
   "cell_type": "code",
   "execution_count": 8,
   "metadata": {},
   "outputs": [],
   "source": [
    "def nextState(state):\n",
    "    toInsert=isAvailable(state)\n",
    "    expansionSpace=[]\n",
    "    for row in range(totalQueen):\n",
    "        newState=state.copy()\n",
    "        newState[toInsert]=row\n",
    "        if(heuristic(newState)==0):\n",
    "            expansionSpace.append(newState)\n",
    "\n",
    "    return expansionSpace"
   ]
  },
  {
   "cell_type": "code",
   "execution_count": 9,
   "metadata": {},
   "outputs": [],
   "source": [
    "def searchSpace(state):\n",
    "    list=[]\n",
    "    for col in range(totalQueen):\n",
    "        for row in range(totalQueen):\n",
    "            newState=state.copy()\n",
    "            newState[col]=row\n",
    "            list.append(newState)\n",
    "    return list         "
   ]
  },
  {
   "cell_type": "code",
   "execution_count": 10,
   "metadata": {},
   "outputs": [],
   "source": [
    "def countQueens(state):\n",
    "    count=0\n",
    "    for col in range(totalQueen):\n",
    "        if(state[col]!=-1):\n",
    "            count+=1\n",
    "    return count"
   ]
  },
  {
   "cell_type": "code",
   "execution_count": 11,
   "metadata": {},
   "outputs": [],
   "source": [
    "def UCS(state):\n",
    "    que=Queue()\n",
    "    que.put(state)\n",
    "    iteration=0\n",
    "    positions=[]\n",
    "    while(que.empty()==False):\n",
    "        currentState=que.get()\n",
    "        iteration+=1\n",
    "        positions.append(countQueens(currentState))\n",
    "        if(countQueens(currentState)==totalQueen):\n",
    "            print(\"Success!\")\n",
    "            print('totalIterations -> ' + str(iteration) + ' finalState -> ' + str(currentState))\n",
    "            printResult(currentState)\n",
    "            plot(iteration,positions,currentState,0)\n",
    "            return\n",
    "        if(canIterate==iteration):\n",
    "            plot(iteration, positions, currentState, 0)\n",
    "            return\n",
    "        expansionSpace = nextState(currentState)\n",
    "        for newState in expansionSpace:\n",
    "            que.put(newState)\n",
    "\n"
   ]
  },
  {
   "cell_type": "code",
   "execution_count": 12,
   "metadata": {},
   "outputs": [],
   "source": [
    "def Astar(state):\n",
    "    pque=[[0, state]]\n",
    "    heapq.heapify(pque)\n",
    "    iteration=0\n",
    "    positions=[]\n",
    "    while(len(pque)>0):\n",
    "        currentPair=heapq.heappop(pque)\n",
    "        currentState=currentPair[1]\n",
    "        iteration+=1\n",
    "        positions.append(countQueens(currentState))\n",
    "        if(countQueens(currentState)==totalQueen):\n",
    "            print(\"Success!\")\n",
    "            print('totalIterations -> ' + str(iteration) + ' finalState -> ' + str(currentState))\n",
    "            printResult(currentState)\n",
    "            plot(iteration,positions,currentState,0)\n",
    "            return\n",
    "        if(canIterate==iteration):\n",
    "            plot(iteration,positions,currentState,0)\n",
    "            return \n",
    "        expansionSpace = nextState(currentState)\n",
    "        for newState in expansionSpace:\n",
    "            heapq.heappush(pque,[heuristic(newState),list(newState)])\n"
   ]
  },
  {
   "cell_type": "code",
   "execution_count": 13,
   "metadata": {},
   "outputs": [],
   "source": [
    "def localHillClimbing(state):\n",
    "    state=np.random.randint(0,8,8)\n",
    "    currentState=state\n",
    "    iteration=0\n",
    "    while(1):\n",
    "        allStates=searchSpace(currentState)\n",
    "        iteration+=1\n",
    "        for nextState in allStates:\n",
    "            if(heuristic(currentState)> heuristic(nextState)):\n",
    "                currentState=nextState\n",
    "                break\n",
    "        if(heuristic(currentState)==0):\n",
    "            print(\"Success!\")\n",
    "            print('totalIterations -> ' + str(iteration) + ' finalState -> ' + str(currentState))\n",
    "            printResult(currentState)\n",
    "            return\n",
    "        if(iteration==canIterate):\n",
    "            print(\"OOPS! stuck in local hill\")\n",
    "            print(\"Total no of Attacking Queens : \"+str(heuristic(currentState)))\n",
    "            print('totalIterations -> ' + str(iteration) + ' finalState -> ' + str(currentState))\n",
    "            printResult(currentState)\n",
    "            return"
   ]
  },
  {
   "cell_type": "code",
   "execution_count": 14,
   "metadata": {},
   "outputs": [],
   "source": [
    "def steepestHillClimbing(state):\n",
    "    state=np.random.randint(0,8,8)\n",
    "    currentState=state\n",
    "    iteration=0\n",
    "    while(1):\n",
    "        allStates=searchSpace(currentState)\n",
    "        bestState=currentState\n",
    "        iteration+=1\n",
    "        for nextState in allStates:\n",
    "            if(heuristic(currentState)> heuristic(nextState)):\n",
    "                bestState=nextState\n",
    "        currentState=bestState\n",
    "        if(heuristic(currentState)==0):\n",
    "            print(\"Success!\")\n",
    "            print('totalIterations -> ' + str(iteration) + ' finalState -> ' + str(currentState))\n",
    "            printResult(currentState)\n",
    "            return\n",
    "        if(iteration==canIterate):\n",
    "            print(\"OOPS! stuck in local hill\")\n",
    "            print(\"Total no of Attacking Queens : \"+str(heuristic(currentState)))\n",
    "            print('totalIterations -> ' + str(iteration) + ' finalState -> ' + str(currentState))\n",
    "            printResult(currentState)\n",
    "            return"
   ]
  },
  {
   "cell_type": "code",
   "execution_count": 15,
   "metadata": {},
   "outputs": [
    {
     "name": "stdout",
     "output_type": "stream",
     "text": [
      "OOPS! stuck in local hill\n",
      "Total no of Attacking Queens : 1\n",
      "totalIterations -> 4000 finalState -> [0 4 6 2 5 7 1 3]\n",
      "\u001b[36m Q  \u001b[37m #  \u001b[37m #  \u001b[37m #  \u001b[37m #  \u001b[37m #  \u001b[37m #  \u001b[37m #  \n",
      "\u001b[37m #  \u001b[37m #  \u001b[37m #  \u001b[37m #  \u001b[37m #  \u001b[37m #  \u001b[36m Q  \u001b[37m #  \n",
      "\u001b[37m #  \u001b[37m #  \u001b[37m #  \u001b[36m Q  \u001b[37m #  \u001b[37m #  \u001b[37m #  \u001b[37m #  \n",
      "\u001b[37m #  \u001b[37m #  \u001b[37m #  \u001b[37m #  \u001b[37m #  \u001b[37m #  \u001b[37m #  \u001b[36m Q  \n",
      "\u001b[37m #  \u001b[36m Q  \u001b[37m #  \u001b[37m #  \u001b[37m #  \u001b[37m #  \u001b[37m #  \u001b[37m #  \n",
      "\u001b[37m #  \u001b[37m #  \u001b[37m #  \u001b[37m #  \u001b[36m Q  \u001b[37m #  \u001b[37m #  \u001b[37m #  \n",
      "\u001b[37m #  \u001b[37m #  \u001b[36m Q  \u001b[37m #  \u001b[37m #  \u001b[37m #  \u001b[37m #  \u001b[37m #  \n",
      "\u001b[37m #  \u001b[37m #  \u001b[37m #  \u001b[37m #  \u001b[37m #  \u001b[36m Q  \u001b[37m #  \u001b[37m #  \n",
      "Success!\n",
      "totalIterations -> 1966 finalState -> [0 4 7 5 2 6 1 3]\n",
      "\u001b[36m Q  \u001b[37m #  \u001b[37m #  \u001b[37m #  \u001b[37m #  \u001b[37m #  \u001b[37m #  \u001b[37m #  \n",
      "\u001b[37m #  \u001b[37m #  \u001b[37m #  \u001b[37m #  \u001b[37m #  \u001b[37m #  \u001b[36m Q  \u001b[37m #  \n",
      "\u001b[37m #  \u001b[37m #  \u001b[37m #  \u001b[37m #  \u001b[36m Q  \u001b[37m #  \u001b[37m #  \u001b[37m #  \n",
      "\u001b[37m #  \u001b[37m #  \u001b[37m #  \u001b[37m #  \u001b[37m #  \u001b[37m #  \u001b[37m #  \u001b[36m Q  \n",
      "\u001b[37m #  \u001b[36m Q  \u001b[37m #  \u001b[37m #  \u001b[37m #  \u001b[37m #  \u001b[37m #  \u001b[37m #  \n",
      "\u001b[37m #  \u001b[37m #  \u001b[37m #  \u001b[36m Q  \u001b[37m #  \u001b[37m #  \u001b[37m #  \u001b[37m #  \n",
      "\u001b[37m #  \u001b[37m #  \u001b[37m #  \u001b[37m #  \u001b[37m #  \u001b[36m Q  \u001b[37m #  \u001b[37m #  \n",
      "\u001b[37m #  \u001b[37m #  \u001b[36m Q  \u001b[37m #  \u001b[37m #  \u001b[37m #  \u001b[37m #  \u001b[37m #  \n"
     ]
    },
    {
     "data": {
      "image/png": "[encoded data removed]",
      "text/plain": [
       "<Figure size 640x480 with 1 Axes>"
      ]
     },
     "metadata": {},
     "output_type": "display_data"
    }
   ],
   "source": [
    "def main():\n",
    "    choice=0\n",
    "    while(choice!=5):\n",
    "        state = np.full(totalQueen, -1, int)\n",
    "        choice = int(input('1. UCS\\n2. A*\\n3. localHillClimbing\\n4. steepestHillClimbing\\n5. Exit\\n'))\n",
    "        if choice==1: UCS(state)\n",
    "        elif(choice==2): Astar(state)\n",
    "        elif choice==3: localHillClimbing(state)\n",
    "        elif choice==4: steepestHillClimbing(state)\n",
    "        elif choice==5: return\n",
    "\n",
    "    \n",
    "\n",
    "if __name__ == \"__main__\":\n",
    "    main()"
   ]
  }
 ],
 "metadata": {
  "kernelspec": {
   "display_name": "Python 3 (ipykernel)",
   "language": "python",
   "name": "python3"
  },
  "language_info": {
   "codemirror_mode": {
    "name": "ipython",
    "version": 3
   },
   "file_extension": ".py",
   "mimetype": "text/x-python",
   "name": "python",
   "nbconvert_exporter": "python",
   "pygments_lexer": "ipython3",
   "version": "3.10.6"
  },
  "vscode": {
   "interpreter": {
    "hash": "916dbcbb3f70747c44a77c7bcd40155683ae19c65e1c03b4aa3499c5328201f1"
   }
  }
 },
 "nbformat": 4,
 "nbformat_minor": 2
}
