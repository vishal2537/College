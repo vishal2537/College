{
 "cells": [
  {
   "cell_type": "markdown",
   "id": "80aa40d1",
   "metadata": {},
   "source": [
    "# Lab - 3"
   ]
  },
  {
   "attachments": {},
   "cell_type": "markdown",
   "id": "2ef0a500",
   "metadata": {},
   "source": [
    "                                                                      Question - 1"
   ]
  },
  {
   "cell_type": "markdown",
   "id": "0f2cdc01",
   "metadata": {},
   "source": [
    "Part - 1"
   ]
  },
  {
   "cell_type": "code",
   "execution_count": 1,
   "id": "12779582",
   "metadata": {},
   "outputs": [],
   "source": [
    "# it will check the current postion of every thing and return true or false if current postion is safe position or not\n",
    "def isSafe(currentPostn):\n",
    "    if(currentPostn['goat'] == currentPostn['cabbage'] and currentPostn['goat']!=currentPostn['man']):\n",
    "        return False\n",
    "    elif(currentPostn['wolf'] == currentPostn['goat'] and currentPostn['goat']!=currentPostn['man']):\n",
    "        return False\n",
    "    else: \n",
    "        return True"
   ]
  },
  {
   "cell_type": "code",
   "execution_count": 2,
   "id": "4b5dc208",
   "metadata": {},
   "outputs": [],
   "source": [
    "# initialPostion of every element that is left of the riverBank at start \n",
    "initialPostn={\n",
    "    \"man\" :\"left\",\n",
    "    \"wolf\" : \"left\",\n",
    "    \"cabbage\":\"left\",\n",
    "    \"goat\":\"left\"\n",
    "}"
   ]
  },
  {
   "cell_type": "code",
   "execution_count": 3,
   "id": "b5ec1549",
   "metadata": {},
   "outputs": [],
   "source": [
    "# this is the goal success postion that every thing is at right side without any Conflict\n",
    "def success(currentPostn):\n",
    "    if(currentPostn['man']==\"right\" and currentPostn['cabbage']==\"right\" and currentPostn['wolf']==\"right\" and currentPostn['goat']==\"right\"):\n",
    "        return True\n",
    "    else:\n",
    "        return False"
   ]
  },
  {
   "cell_type": "code",
   "execution_count": 4,
   "id": "c0e91426",
   "metadata": {},
   "outputs": [],
   "source": [
    "# this will toggle the currentPostn of a thing that is if it is present at right side then it will move it to the left and vice versa.\n",
    "def toggleState(currentPostn,thing):\n",
    "    if(currentPostn[thing]==\"left\"):\n",
    "        currentPostn[thing]=\"right\"\n",
    "    else:\n",
    "        currentPostn[thing]=\"left\""
   ]
  },
  {
   "cell_type": "code",
   "execution_count": 5,
   "id": "345e0b2b",
   "metadata": {},
   "outputs": [],
   "source": [
    "def nextState(currentPostn, nextPossiblePostnList, visited): # this function is getting nextState of the elements \n",
    "\n",
    "    nextProbablePostn={ # firstly copy currentPostn in nextProbablePostn\n",
    "            'man':currentPostn['man'],\n",
    "            'goat':currentPostn['goat'],\n",
    "            'wolf':currentPostn['wolf'],\n",
    "            'cabbage':currentPostn['cabbage']\n",
    "    }\n",
    "    toggleState(nextProbablePostn, 'man') #then toggle postn of man\n",
    "    if isSafe(nextProbablePostn) and nextProbablePostn not in visited:   # check that toggling the postn of man is valid or not \n",
    "            nextPossiblePostnList.append(nextProbablePostn)   # if it is valid than add this postion to list of all nextPossiblePostnList\n",
    "    \n",
    "    itemList = ['goat', 'wolf', 'cabbage'] # make a list of all the items that man will carry one by one with him to the other side \n",
    "    \n",
    "    for i in range(3): # now run a loop by changing postn of man with an item such that it is safe to carry an item with him\n",
    "        nextProbablePostn={\n",
    "            'man':currentPostn['man'],\n",
    "            'goat':currentPostn['goat'],\n",
    "            'wolf':currentPostn['wolf'],\n",
    "            'cabbage':currentPostn['cabbage']\n",
    "        }\n",
    "        toggleState(nextProbablePostn, 'man')\n",
    "        toggleState(nextProbablePostn, itemList[i])\n",
    "        if isSafe(nextProbablePostn) and nextProbablePostn not in visited:\n",
    "            nextPossiblePostnList.append(nextProbablePostn)  # if it is valid than add this postion to list of all nextPossiblePostnList"
   ]
  },
  {
   "cell_type": "code",
   "execution_count": 6,
   "id": "6388dac8",
   "metadata": {},
   "outputs": [],
   "source": [
    "def stateSearch(initialPostn): # working as dfs\n",
    "    nextPossiblePostnList=[initialPostn] # firstly fill the list with initial postion\n",
    "    visited = []\n",
    "    while len(nextPossiblePostnList) > 0:\n",
    "        nextNode = nextPossiblePostnList.pop() # take out the nextNode from the list\n",
    "        print(nextNode) # print the extracted postion of items \n",
    "        if(success(nextNode)):\n",
    "            print(\"Solution Found!\") # if success then break the search\n",
    "            break\n",
    "        if len(visited) == 0 or nextNode not in visited: #if the node is not visited then visite it and add it to visited array\n",
    "            visited.append(nextNode)\n",
    "            nextState(nextNode, nextPossiblePostnList, visited) #find the nextPossible state"
   ]
  },
  {
   "cell_type": "code",
   "execution_count": 7,
   "id": "ec49c492",
   "metadata": {},
   "outputs": [
    {
     "name": "stdout",
     "output_type": "stream",
     "text": [
      "{'man': 'left', 'wolf': 'left', 'cabbage': 'left', 'goat': 'left'}\n",
      "{'man': 'right', 'goat': 'right', 'wolf': 'left', 'cabbage': 'left'}\n",
      "{'man': 'left', 'goat': 'right', 'wolf': 'left', 'cabbage': 'left'}\n",
      "{'man': 'right', 'goat': 'right', 'wolf': 'left', 'cabbage': 'right'}\n",
      "{'man': 'left', 'goat': 'left', 'wolf': 'left', 'cabbage': 'right'}\n",
      "{'man': 'right', 'goat': 'left', 'wolf': 'right', 'cabbage': 'right'}\n",
      "{'man': 'left', 'goat': 'left', 'wolf': 'right', 'cabbage': 'left'}\n",
      "{'man': 'right', 'goat': 'right', 'wolf': 'right', 'cabbage': 'left'}\n",
      "{'man': 'left', 'goat': 'left', 'wolf': 'right', 'cabbage': 'right'}\n",
      "{'man': 'right', 'goat': 'right', 'wolf': 'right', 'cabbage': 'right'}\n",
      "Solution Found!\n"
     ]
    }
   ],
   "source": [
    "stateSearch(initialPostn)"
   ]
  },
  {
   "attachments": {},
   "cell_type": "markdown",
   "id": "a7bf7110",
   "metadata": {},
   "source": [
    "                                                                    Question - 2 "
   ]
  },
  {
   "cell_type": "code",
   "execution_count": 8,
   "id": "48904d38",
   "metadata": {},
   "outputs": [],
   "source": [
    "pathGraph = {\n",
    "    '0': ['MG'],\n",
    "    'W': ['MWC','MWG'],\n",
    "    'MG': ['0','MWG','MGC'],\n",
    "    'MC': ['MWC','MGC'],\n",
    "    'MWC': ['W','MC', 'MWGC'],\n",
    "    'MWG': ['W','MG'],\n",
    "    'MGC': ['MG','MC'],\n",
    "    'MWGC': ['MWC'] \n",
    "}"
   ]
  },
  {
   "cell_type": "code",
   "execution_count": 9,
   "id": "275a7e8e",
   "metadata": {},
   "outputs": [],
   "source": [
    "visited={\n",
    "    '0' : False,\n",
    "    'W' : False,\n",
    "    'MG': False,\n",
    "    'MC': False, \n",
    "    'MWC': False,\n",
    "    'MWG': False,\n",
    "    'MGC': False,\n",
    "    'MWGC': False     \n",
    "}"
   ]
  },
  {
   "cell_type": "code",
   "execution_count": 10,
   "id": "bdc4f0fd",
   "metadata": {},
   "outputs": [],
   "source": [
    "def isSafe(currentPostn):\n",
    "    if(currentPostn['goat'] == currentPostn['cabbage'] and currentPostn['goat']!=currentPostn['man']):\n",
    "        return False\n",
    "    elif(currentPostn['wolf'] == currentPostn['goat'] and currentPostn['goat']!=currentPostn['man']):\n",
    "        return False\n",
    "    else: \n",
    "        return True"
   ]
  },
  {
   "cell_type": "code",
   "execution_count": 11,
   "id": "5a316c60",
   "metadata": {},
   "outputs": [],
   "source": [
    "def toggleState(currentPostn,thing):\n",
    "    if(currentPostn[thing]==\"left\"):\n",
    "        currentPostn[thing]=\"right\"\n",
    "    else:\n",
    "        currentPostn[thing]=\"left\""
   ]
  },
  {
   "cell_type": "code",
   "execution_count": 12,
   "id": "a384b6b5",
   "metadata": {},
   "outputs": [],
   "source": [
    "def success(Postn):\n",
    "    if Postn=='MWGC':\n",
    "        return True\n",
    "    else:\n",
    "        return False"
   ]
  },
  {
   "cell_type": "code",
   "execution_count": 13,
   "id": "a3ef1497",
   "metadata": {},
   "outputs": [],
   "source": [
    "currentPostn={\n",
    "    \"man\" : \"left\",\n",
    "    \"wolf\" : \"left\",\n",
    "    \"cabbage\":\"left\",\n",
    "    \"goat\":\"left\"\n",
    "}"
   ]
  },
  {
   "cell_type": "code",
   "execution_count": 14,
   "id": "404f299e",
   "metadata": {},
   "outputs": [],
   "source": [
    "def getName(name):\n",
    "    if name=='M':\n",
    "        return 'man'\n",
    "    elif name=='G':\n",
    "        return 'goat'\n",
    "    elif name=='C':\n",
    "        return 'cabbage'\n",
    "    else :\n",
    "        return 'wolf'"
   ]
  },
  {
   "cell_type": "code",
   "execution_count": 15,
   "id": "156db601",
   "metadata": {},
   "outputs": [],
   "source": [
    "def getPostn(value):\n",
    "    for thing in currentPostn:\n",
    "        currentPostn[thing]='left'\n",
    "    for ch in value:\n",
    "        if ch!='0':\n",
    "            currentPostn[getName(ch)]='right'\n",
    "    print(currentPostn)\n",
    "    if currentPostn['man']=='right' and len(value)!=4:\n",
    "        toggleState(currentPostn,'man')\n",
    "        if isSafe(currentPostn):\n",
    "            print(currentPostn)\n"
   ]
  },
  {
   "cell_type": "code",
   "execution_count": 16,
   "id": "79fc9e7f",
   "metadata": {},
   "outputs": [],
   "source": [
    "def bfsSearchSpace(initialState):\n",
    "    queue=[]\n",
    "    queue.append(initialState)\n",
    "    path=[]\n",
    "    visited[initialState]=True\n",
    "    parent={}\n",
    "    while len(queue)!=0:\n",
    "        nextNode=queue.pop(0)\n",
    "        if(success(nextNode)):\n",
    "            print(\"Soultion Found!\")\n",
    "            while nextNode!= '0':\n",
    "                path.insert(0,nextNode)\n",
    "                nextNode = parent.get(nextNode)\n",
    "            path.insert(0,'0')\n",
    "            for value in path:\n",
    "                getPostn(value)\n",
    "            break\n",
    "        for adjacent in pathGraph[nextNode]:\n",
    "            if visited[adjacent]==False:\n",
    "                visited[adjacent]=True\n",
    "                parent[adjacent]=nextNode\n",
    "                queue.append(adjacent)"
   ]
  },
  {
   "cell_type": "code",
   "execution_count": 17,
   "id": "4c70cf56",
   "metadata": {},
   "outputs": [
    {
     "name": "stdout",
     "output_type": "stream",
     "text": [
      "Soultion Found!\n",
      "{'man': 'left', 'wolf': 'left', 'cabbage': 'left', 'goat': 'left'}\n",
      "{'man': 'right', 'wolf': 'left', 'cabbage': 'left', 'goat': 'right'}\n",
      "{'man': 'left', 'wolf': 'left', 'cabbage': 'left', 'goat': 'right'}\n",
      "{'man': 'right', 'wolf': 'right', 'cabbage': 'left', 'goat': 'right'}\n",
      "{'man': 'left', 'wolf': 'right', 'cabbage': 'left', 'goat': 'left'}\n",
      "{'man': 'right', 'wolf': 'right', 'cabbage': 'right', 'goat': 'left'}\n",
      "{'man': 'left', 'wolf': 'right', 'cabbage': 'right', 'goat': 'left'}\n",
      "{'man': 'right', 'wolf': 'right', 'cabbage': 'right', 'goat': 'right'}\n"
     ]
    }
   ],
   "source": [
    "bfsSearchSpace('0')"
   ]
  }
 ],
 "metadata": {
  "kernelspec": {
   "display_name": "Python 3",
   "language": "python",
   "name": "python3"
  },
  "language_info": {
   "codemirror_mode": {
    "name": "ipython",
    "version": 3
   },
   "file_extension": ".py",
   "mimetype": "text/x-python",
   "name": "python",
   "nbconvert_exporter": "python",
   "pygments_lexer": "ipython3",
   "version": "3.10.6"
  },
  "vscode": {
   "interpreter": {
    "hash": "916dbcbb3f70747c44a77c7bcd40155683ae19c65e1c03b4aa3499c5328201f1"
   }
  }
 },
 "nbformat": 4,
 "nbformat_minor": 5
}
