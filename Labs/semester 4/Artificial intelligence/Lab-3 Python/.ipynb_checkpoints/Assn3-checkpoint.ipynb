{
 "cells": [
  {
   "cell_type": "markdown",
   "id": "80aa40d1",
   "metadata": {},
   "source": [
    "# Lab - 3"
   ]
  },
  {
   "cell_type": "markdown",
   "id": "2ef0a500",
   "metadata": {},
   "source": [
    "                                                 Question - 1"
   ]
  },
  {
   "cell_type": "markdown",
   "id": "0f2cdc01",
   "metadata": {},
   "source": [
    "Part - 1"
   ]
  },
  {
   "cell_type": "code",
   "execution_count": 126,
   "id": "12779582",
   "metadata": {},
   "outputs": [],
   "source": [
    "def isSafe(currentPostn):\n",
    "    if(currentPostn['goat'] == currentPostn['cabbage'] and currentPostn['goat']!=currentPostn['man']):\n",
    "        return False\n",
    "    elif(currentPostn['wolf'] == currentPostn['goat'] and currentPostn['goat']!=currentPostn['man']):\n",
    "        return False\n",
    "    else: \n",
    "        return True"
   ]
  },
  {
   "cell_type": "code",
   "execution_count": 127,
   "id": "4b5dc208",
   "metadata": {},
   "outputs": [],
   "source": [
    "initialPostn={\n",
    "    \"man\" :\"left\",\n",
    "    \"wolf\" : \"left\",\n",
    "    \"cabbage\":\"left\",\n",
    "    \"goat\":\"left\"\n",
    "}\n"
   ]
  },
  {
   "cell_type": "code",
   "execution_count": 128,
   "id": "8438ee86",
   "metadata": {},
   "outputs": [],
   "source": [
    "def success(currentPostn):\n",
    "    if(currentPostn['man']==\"right\" and currentPostn['cabbage']==\"right\" and currentPostn['wolf']==\"right\" and currentPostn['goat']==\"right\"):\n",
    "        return True\n",
    "    else:\n",
    "        return False"
   ]
  },
  {
   "cell_type": "code",
   "execution_count": 129,
   "id": "dfdd81bd",
   "metadata": {},
   "outputs": [],
   "source": [
    "def toggleState(currentPostn,thing):\n",
    "    if(currentPostn[thing]==\"left\"):\n",
    "        currentPostn[thing]=\"right\"\n",
    "    else:\n",
    "        currentPostn[thing]=\"left\""
   ]
  },
  {
   "cell_type": "code",
   "execution_count": 131,
   "id": "49352c43",
   "metadata": {},
   "outputs": [],
   "source": [
    "def nextState(currentPostn, nextPossiblePostnList):\n",
    "    nextProbablePostn={\n",
    "            'man':currentPostn['man'],\n",
    "            'goat':currentPostn['goat'],\n",
    "            'wolf':currentPostn['wolf'],\n",
    "            'cabbage':currentPostn['cabbage']\n",
    "    }\n",
    "    toggleState(nextProbablePostn, 'man')\n",
    "    if isSafe(nextProbablePostn):\n",
    "            nextPossiblePostnList.append(nextProbablePostn)   \n",
    "    \n",
    "    itemList = ['goat', 'wolf', 'cabbage']\n",
    "    \n",
    "    for i in range(3):\n",
    "        nextProbablePostn={\n",
    "            'man':currentPostn['man'],\n",
    "            'goat':currentPostn['goat'],\n",
    "            'wolf':currentPostn['wolf'],\n",
    "            'cabbage':currentPostn['cabbage']\n",
    "        }\n",
    "        toggleState(nextProbablePostn, 'man')\n",
    "        toggleState(nextProbablePostn, itemList[i])\n",
    "        if isSafe(nextProbablePostn):\n",
    "            nextPossiblePostnList.append(nextProbablePostn)          "
   ]
  },
  {
   "cell_type": "code",
   "execution_count": null,
   "id": "246d777a",
   "metadata": {},
   "outputs": [],
   "source": [
    "def getPath(prevPostn,currentPostn):\n",
    "    "
   ]
  },
  {
   "cell_type": "code",
   "execution_count": 132,
   "id": "35a0dba6",
   "metadata": {},
   "outputs": [],
   "source": [
    "def stateSearch(initialPostn):\n",
    "    nextPossiblePostnList=[initialPostn]\n",
    "    visited = []\n",
    "    while len(nextPossiblePostnList) > 0:\n",
    "        nextNode = nextPossiblePostnList.pop()\n",
    "        print(nextPossiblePostnList)\n",
    "        if(success(nextNode)):\n",
    "            print(\"Solution Found!\")\n",
    "            print(nextNode)\n",
    "            break\n",
    "        if len(visited) == 0 or nextNode not in visited:\n",
    "            visited.append(nextNode)\n",
    "            nextState(nextNode, nextPossiblePostnList)\n"
   ]
  },
  {
   "cell_type": "code",
   "execution_count": 133,
   "id": "cd987b5d",
   "metadata": {},
   "outputs": [
    {
     "name": "stdout",
     "output_type": "stream",
     "text": [
      "[]\n",
      "[]\n",
      "[{'man': 'left', 'goat': 'right', 'wolf': 'left', 'cabbage': 'left'}]\n",
      "[]\n",
      "[{'man': 'right', 'goat': 'right', 'wolf': 'left', 'cabbage': 'left'}, {'man': 'right', 'goat': 'right', 'wolf': 'right', 'cabbage': 'left'}]\n",
      "[{'man': 'right', 'goat': 'right', 'wolf': 'left', 'cabbage': 'left'}, {'man': 'right', 'goat': 'right', 'wolf': 'right', 'cabbage': 'left'}, {'man': 'left', 'goat': 'left', 'wolf': 'left', 'cabbage': 'right'}]\n",
      "[{'man': 'right', 'goat': 'right', 'wolf': 'left', 'cabbage': 'left'}, {'man': 'right', 'goat': 'right', 'wolf': 'right', 'cabbage': 'left'}]\n",
      "[{'man': 'right', 'goat': 'right', 'wolf': 'left', 'cabbage': 'left'}, {'man': 'right', 'goat': 'right', 'wolf': 'right', 'cabbage': 'left'}, {'man': 'right', 'goat': 'right', 'wolf': 'left', 'cabbage': 'right'}]\n",
      "[{'man': 'right', 'goat': 'right', 'wolf': 'left', 'cabbage': 'left'}, {'man': 'right', 'goat': 'right', 'wolf': 'right', 'cabbage': 'left'}, {'man': 'right', 'goat': 'right', 'wolf': 'left', 'cabbage': 'right'}, {'man': 'left', 'goat': 'left', 'wolf': 'right', 'cabbage': 'right'}, {'man': 'left', 'goat': 'left', 'wolf': 'left', 'cabbage': 'right'}]\n",
      "[{'man': 'right', 'goat': 'right', 'wolf': 'left', 'cabbage': 'left'}, {'man': 'right', 'goat': 'right', 'wolf': 'right', 'cabbage': 'left'}, {'man': 'right', 'goat': 'right', 'wolf': 'left', 'cabbage': 'right'}, {'man': 'left', 'goat': 'left', 'wolf': 'right', 'cabbage': 'right'}, {'man': 'left', 'goat': 'left', 'wolf': 'left', 'cabbage': 'right'}, {'man': 'right', 'goat': 'right', 'wolf': 'right', 'cabbage': 'left'}]\n",
      "[{'man': 'right', 'goat': 'right', 'wolf': 'left', 'cabbage': 'left'}, {'man': 'right', 'goat': 'right', 'wolf': 'right', 'cabbage': 'left'}, {'man': 'right', 'goat': 'right', 'wolf': 'left', 'cabbage': 'right'}, {'man': 'left', 'goat': 'left', 'wolf': 'right', 'cabbage': 'right'}, {'man': 'left', 'goat': 'left', 'wolf': 'left', 'cabbage': 'right'}]\n",
      "[{'man': 'right', 'goat': 'right', 'wolf': 'left', 'cabbage': 'left'}, {'man': 'right', 'goat': 'right', 'wolf': 'right', 'cabbage': 'left'}, {'man': 'right', 'goat': 'right', 'wolf': 'left', 'cabbage': 'right'}, {'man': 'left', 'goat': 'left', 'wolf': 'right', 'cabbage': 'right'}, {'man': 'left', 'goat': 'left', 'wolf': 'left', 'cabbage': 'right'}, {'man': 'left', 'goat': 'left', 'wolf': 'right', 'cabbage': 'left'}]\n",
      "[{'man': 'right', 'goat': 'right', 'wolf': 'left', 'cabbage': 'left'}, {'man': 'right', 'goat': 'right', 'wolf': 'right', 'cabbage': 'left'}, {'man': 'right', 'goat': 'right', 'wolf': 'left', 'cabbage': 'right'}, {'man': 'left', 'goat': 'left', 'wolf': 'right', 'cabbage': 'right'}, {'man': 'left', 'goat': 'left', 'wolf': 'left', 'cabbage': 'right'}]\n",
      "[{'man': 'right', 'goat': 'right', 'wolf': 'left', 'cabbage': 'left'}, {'man': 'right', 'goat': 'right', 'wolf': 'right', 'cabbage': 'left'}, {'man': 'right', 'goat': 'right', 'wolf': 'left', 'cabbage': 'right'}, {'man': 'left', 'goat': 'left', 'wolf': 'right', 'cabbage': 'right'}]\n",
      "[{'man': 'right', 'goat': 'right', 'wolf': 'left', 'cabbage': 'left'}, {'man': 'right', 'goat': 'right', 'wolf': 'right', 'cabbage': 'left'}, {'man': 'right', 'goat': 'right', 'wolf': 'left', 'cabbage': 'right'}]\n",
      "[{'man': 'right', 'goat': 'right', 'wolf': 'left', 'cabbage': 'left'}, {'man': 'right', 'goat': 'right', 'wolf': 'right', 'cabbage': 'left'}, {'man': 'right', 'goat': 'right', 'wolf': 'left', 'cabbage': 'right'}, {'man': 'right', 'goat': 'left', 'wolf': 'right', 'cabbage': 'right'}]\n",
      "Solution Found!\n"
     ]
    }
   ],
   "source": [
    "stateSearch(initialPostn)"
   ]
  },
  {
   "cell_type": "code",
   "execution_count": null,
   "id": "36572ef2",
   "metadata": {},
   "outputs": [],
   "source": []
  },
  {
   "cell_type": "code",
   "execution_count": null,
   "id": "83a3f8c6",
   "metadata": {},
   "outputs": [],
   "source": []
  }
 ],
 "metadata": {
  "kernelspec": {
   "display_name": "Python 3 (ipykernel)",
   "language": "python",
   "name": "python3"
  },
  "language_info": {
   "codemirror_mode": {
    "name": "ipython",
    "version": 3
   },
   "file_extension": ".py",
   "mimetype": "text/x-python",
   "name": "python",
   "nbconvert_exporter": "python",
   "pygments_lexer": "ipython3",
   "version": "3.10.6"
  }
 },
 "nbformat": 4,
 "nbformat_minor": 5
}
