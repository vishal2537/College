{
 "cells": [
  {
   "cell_type": "code",
   "execution_count": 2,
   "metadata": {},
   "outputs": [],
   "source": [
    "import numpy as np\n",
    "from time import time"
   ]
  },
  {
   "cell_type": "code",
   "execution_count": 3,
   "metadata": {},
   "outputs": [],
   "source": [
    "arr = []\n",
    "vectoradd = []"
   ]
  },
  {
   "cell_type": "code",
   "execution_count": 4,
   "metadata": {},
   "outputs": [],
   "source": [
    "for i in range(10):\n",
    "    temp = []\n",
    "    for j in range(10):\n",
    "        value = np.random.randint(0, 2)\n",
    "        temp.append(value)\n",
    "    arr.append(temp)"
   ]
  },
  {
   "cell_type": "code",
   "execution_count": 5,
   "metadata": {},
   "outputs": [],
   "source": [
    "t = time()"
   ]
  },
  {
   "cell_type": "code",
   "execution_count": 6,
   "metadata": {},
   "outputs": [
    {
     "name": "stdout",
     "output_type": "stream",
     "text": [
      "[[10, 11, 11, 10, 11, 11, 11, 10, 11, 11], [10, 10, 11, 11, 11, 10, 10, 10, 10, 10], [10, 11, 10, 11, 10, 11, 10, 10, 10, 10], [11, 11, 10, 10, 11, 11, 10, 11, 11, 10], [10, 10, 10, 11, 11, 10, 11, 10, 11, 11], [11, 10, 10, 11, 10, 11, 10, 10, 11, 11], [10, 10, 11, 11, 10, 10, 11, 10, 11, 10], [11, 10, 11, 11, 11, 11, 10, 11, 11, 10], [10, 10, 10, 10, 10, 10, 11, 11, 11, 10], [11, 11, 10, 10, 11, 10, 11, 11, 11, 10]]\n"
     ]
    }
   ],
   "source": [
    "for i in range(10):\n",
    "    for j in range(10):\n",
    "        arr[i][j] += 10\n",
    "print(arr)"
   ]
  },
  {
   "cell_type": "code",
   "execution_count": 7,
   "metadata": {},
   "outputs": [
    {
     "name": "stdout",
     "output_type": "stream",
     "text": [
      "0.4085841178894043\n"
     ]
    }
   ],
   "source": [
    "print(time() - t)"
   ]
  },
  {
   "cell_type": "code",
   "execution_count": 8,
   "metadata": {},
   "outputs": [],
   "source": [
    "arr = []\n",
    "vectoradd = []"
   ]
  },
  {
   "cell_type": "code",
   "execution_count": 9,
   "metadata": {},
   "outputs": [],
   "source": [
    "for i in range(10):\n",
    "    temp = []\n",
    "    for j in range(10):\n",
    "        value = np.random.randint(0, 2)\n",
    "        temp.append(value)\n",
    "    arr.append(temp)"
   ]
  },
  {
   "cell_type": "code",
   "execution_count": 10,
   "metadata": {},
   "outputs": [],
   "source": [
    "for i in range(10):\n",
    "    vectoradd.append(10)"
   ]
  },
  {
   "cell_type": "code",
   "execution_count": 11,
   "metadata": {},
   "outputs": [
    {
     "name": "stdout",
     "output_type": "stream",
     "text": [
      "[[11 10 11 10 11 11 10 10 11 10]\n",
      " [11 11 10 11 11 11 10 10 11 11]\n",
      " [10 11 11 11 10 11 11 11 11 10]\n",
      " [10 10 11 11 11 10 10 11 10 11]\n",
      " [10 11 10 10 11 10 11 11 11 11]\n",
      " [11 10 10 11 10 10 10 10 11 11]\n",
      " [10 11 11 11 10 11 11 10 10 11]\n",
      " [10 10 10 10 10 10 11 10 11 10]\n",
      " [11 11 11 11 10 10 11 10 11 11]\n",
      " [10 11 10 10 10 10 10 11 10 11]]\n",
      "0.000457763671875\n"
     ]
    }
   ],
   "source": [
    "arr = np.array(arr)\n",
    "vectorad = np.array(vectoradd)\n",
    "t = time()\n",
    "arr = arr+vectoradd\n",
    "print(arr)\n",
    "print(time() - t)"
   ]
  }
 ],
 "metadata": {
  "kernelspec": {
   "display_name": "Python 3 (ipykernel)",
   "language": "python",
   "name": "python3"
  },
  "language_info": {
   "codemirror_mode": {
    "name": "ipython",
    "version": 3
   },
   "file_extension": ".py",
   "mimetype": "text/x-python",
   "name": "python",
   "nbconvert_exporter": "python",
   "pygments_lexer": "ipython3",
   "version": "3.10.6"
  }
 },
 "nbformat": 4,
 "nbformat_minor": 2
}
