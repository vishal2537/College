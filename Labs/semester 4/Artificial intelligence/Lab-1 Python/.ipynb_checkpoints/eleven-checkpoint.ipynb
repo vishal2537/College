{
 "cells": [
  {
   "cell_type": "code",
   "execution_count": null,
   "metadata": {},
   "outputs": [],
   "source": [
    "import numpy as np"
   ]
  },
  {
   "cell_type": "code",
   "execution_count": null,
   "metadata": {},
   "outputs": [],
   "source": [
    "print(\"Enter n : \",end=\" \")\n",
    "n=int(input())\n",
    "print(\"Enter m : \",end=\" \")\n",
    "m=int(input())\n",
    "matrix=np.random.randint(0,2,(n,m))\n",
    "print(\"Original Matrix : \")\n",
    "print(matrix)\n",
    "print()\n",
    "transposeMatrix=np.random.randint(0,1,(n,m))"
   ]
  },
  {
   "cell_type": "code",
   "execution_count": null,
   "metadata": {},
   "outputs": [],
   "source": [
    "for row in range(n):\n",
    "    for col in range(m):\n",
    "        transposeMatrix[row][col]=matrix[col][row]\n",
    "print(\"Transpose Matrix : \")\n",
    "print(transposeMatrix)\n",
    "print()\n",
    "print(\"Flattened Result : \")\n",
    "for row in range(n):\n",
    "    for col in range(m):\n",
    "        print(transposeMatrix[row][col],end=\" \")"
   ]
  }
 ],
 "metadata": {
  "kernelspec": {
   "display_name": "Python 3 (ipykernel)",
   "language": "python",
   "name": "python3"
  },
  "language_info": {
   "codemirror_mode": {
    "name": "ipython",
    "version": 3
   },
   "file_extension": ".py",
   "mimetype": "text/x-python",
   "name": "python",
   "nbconvert_exporter": "python",
   "pygments_lexer": "ipython3",
   "version": "3.10.6"
  }
 },
 "nbformat": 4,
 "nbformat_minor": 2
}
