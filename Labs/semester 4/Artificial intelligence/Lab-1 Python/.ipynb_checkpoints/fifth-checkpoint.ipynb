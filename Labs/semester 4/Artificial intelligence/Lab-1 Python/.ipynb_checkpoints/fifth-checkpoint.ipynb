{
 "cells": [
  {
   "cell_type": "code",
   "execution_count": null,
   "metadata": {},
   "outputs": [],
   "source": [
    "import numpy as np "
   ]
  },
  {
   "cell_type": "code",
   "execution_count": null,
   "metadata": {},
   "outputs": [],
   "source": [
    "list=np.random.randint(5,10,(9));\n",
    "hashArr=[0]*10000\n",
    "print(list)\n",
    "for i in range(len(list)):\n",
    "    hashArr[list[i]] +=1\n",
    "index=0\n",
    "maxValue=0\n",
    "for i in range(len(hashArr)):\n",
    "    if(hashArr[i]>0):\n",
    "        if(maxValue<hashArr[i]):\n",
    "            maxValue=hashArr[i]   \n",
    "        print(str(i) + \" : \"+str(hashArr[i]))"
   ]
  },
  {
   "cell_type": "code",
   "execution_count": null,
   "metadata": {},
   "outputs": [],
   "source": [
    "for i in range(len(list)):\n",
    "    if(hashArr[list[i]]==maxValue):\n",
    "        print(i , end=\" \")"
   ]
  }
 ],
 "metadata": {
  "kernelspec": {
   "display_name": "Python 3 (ipykernel)",
   "language": "python",
   "name": "python3"
  },
  "language_info": {
   "codemirror_mode": {
    "name": "ipython",
    "version": 3
   },
   "file_extension": ".py",
   "mimetype": "text/x-python",
   "name": "python",
   "nbconvert_exporter": "python",
   "pygments_lexer": "ipython3",
   "version": "3.10.6"
  }
 },
 "nbformat": 4,
 "nbformat_minor": 2
}
