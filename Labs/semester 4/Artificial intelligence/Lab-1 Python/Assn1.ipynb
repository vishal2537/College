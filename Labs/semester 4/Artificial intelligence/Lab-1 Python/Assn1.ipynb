{
 "cells": [
  {
   "cell_type": "markdown",
   "id": "a27ae65e",
   "metadata": {},
   "source": [
    "# Lab-1"
   ]
  },
  {
   "cell_type": "markdown",
   "id": "80150cbd",
   "metadata": {},
   "source": [
    "Question - 1"
   ]
  },
  {
   "cell_type": "code",
   "execution_count": null,
   "id": "fe44a5d9",
   "metadata": {},
   "outputs": [],
   "source": [
    "import numpy as np\n",
    "from time import time"
   ]
  },
  {
   "cell_type": "code",
   "execution_count": null,
   "id": "ad944db1",
   "metadata": {},
   "outputs": [],
   "source": [
    "arr = []\n",
    "vectoradd = []"
   ]
  },
  {
   "cell_type": "code",
   "execution_count": null,
   "id": "be92fd3c",
   "metadata": {},
   "outputs": [],
   "source": [
    "for i in range(10):\n",
    "    temp = []\n",
    "    for j in range(10):\n",
    "        value = np.random.randint(0, 2)\n",
    "        temp.append(value)\n",
    "    arr.append(temp)"
   ]
  },
  {
   "cell_type": "code",
   "execution_count": null,
   "id": "dea9d49f",
   "metadata": {},
   "outputs": [],
   "source": [
    "t = time()"
   ]
  },
  {
   "cell_type": "code",
   "execution_count": null,
   "id": "1bb6b5c5",
   "metadata": {},
   "outputs": [],
   "source": [
    "for i in range(10):\n",
    "    for j in range(10):\n",
    "        arr[i][j] += 10\n",
    "print(arr)"
   ]
  },
  {
   "cell_type": "code",
   "execution_count": null,
   "id": "693d7f62",
   "metadata": {},
   "outputs": [],
   "source": [
    "print(time() - t)"
   ]
  },
  {
   "cell_type": "code",
   "execution_count": null,
   "id": "46cba68b",
   "metadata": {},
   "outputs": [],
   "source": [
    "arr = []\n",
    "vectoradd = []"
   ]
  },
  {
   "cell_type": "code",
   "execution_count": null,
   "id": "27586912",
   "metadata": {},
   "outputs": [],
   "source": [
    "for i in range(10):\n",
    "    temp = []\n",
    "    for j in range(10):\n",
    "        value = np.random.randint(0, 2)\n",
    "        temp.append(value)\n",
    "    arr.append(temp)"
   ]
  },
  {
   "cell_type": "code",
   "execution_count": null,
   "id": "e4c9b71e",
   "metadata": {},
   "outputs": [],
   "source": [
    "for i in range(10):\n",
    "    vectoradd.append(10)"
   ]
  },
  {
   "cell_type": "code",
   "execution_count": null,
   "id": "037daa17",
   "metadata": {},
   "outputs": [],
   "source": [
    "arr = np.array(arr)\n",
    "vectorad = np.array(vectoradd)\n",
    "t = time()\n",
    "arr = arr+vectoradd\n",
    "print(arr)\n",
    "print(time() - t)\n"
   ]
  },
  {
   "cell_type": "markdown",
   "id": "d8749abc",
   "metadata": {},
   "source": [
    "Question - 2"
   ]
  },
  {
   "cell_type": "code",
   "execution_count": 1,
   "id": "3f720188",
   "metadata": {},
   "outputs": [],
   "source": [
    "import pandas as pd"
   ]
  },
  {
   "cell_type": "code",
   "execution_count": 2,
   "id": "e451714b",
   "metadata": {},
   "outputs": [],
   "source": [
    "df = pd.read_csv('secondData.csv')"
   ]
  },
  {
   "cell_type": "code",
   "execution_count": 3,
   "id": "a184e456",
   "metadata": {},
   "outputs": [
    {
     "name": "stdout",
     "output_type": "stream",
     "text": [
      "   rollNo       name    subject  age  marks\n",
      "0       1      Ronit        DSA   19     86\n",
      "1       2    Rishabh         ML   20     85\n",
      "2       3      Satya        DSA   20     78\n",
      "3       4      Sahaj         Cp   20     91\n",
      "4       5      Anant        Dev   19     91\n",
      "5       6   Himanshu     Matlab   19     79\n",
      "6       7  Shreyansh     Logics   19     96\n",
      "7       8       Yash      Maths   19     89\n",
      "8       9    Saksham  Economics   20     71\n",
      "9      10     Vishal      Maths   20     86\n"
     ]
    }
   ],
   "source": [
    "print(df)"
   ]
  },
  {
   "cell_type": "code",
   "execution_count": 4,
   "id": "825bc8d5",
   "metadata": {},
   "outputs": [
    {
     "name": "stdout",
     "output_type": "stream",
     "text": [
      "Maximum : 96\n",
      "Minimum : 71\n",
      "Mean : 85.2\n",
      "Median : 86.0\n",
      "Standard Deviation : 7.390684827688313\n"
     ]
    }
   ],
   "source": [
    "print(\"Maximum : \" + str(df['marks'].max()))\n",
    "print(\"Minimum : \" + str(df['marks'].min()))\n",
    "print(\"Mean : \" + str(df['marks'].mean()))\n",
    "print(\"Median : \" + str(df['marks'].median()))\n",
    "print(\"Standard Deviation : \" + str(df['marks'].std()))"
   ]
  },
  {
   "cell_type": "markdown",
   "id": "5ee94294",
   "metadata": {},
   "source": [
    "Question - 3"
   ]
  },
  {
   "cell_type": "code",
   "execution_count": null,
   "id": "285c79fe",
   "metadata": {},
   "outputs": [],
   "source": [
    "def check(s1, s2):\n",
    "     \n",
    "    # the sorted strings are checked\n",
    "    if(sorted(s1)== sorted(s2)):\n",
    "        print(\"The strings are anagrams.\")\n",
    "    else:\n",
    "        print(\"The strings aren't anagrams.\")        \n",
    "  \n",
    "firstString=input() \n",
    "secondString=input()\n",
    "check(firstString, secondString) "
   ]
  },
  {
   "cell_type": "markdown",
   "id": "f04c1ccd",
   "metadata": {},
   "source": [
    "Question - 4"
   ]
  },
  {
   "cell_type": "code",
   "execution_count": null,
   "id": "21cc4028",
   "metadata": {},
   "outputs": [],
   "source": [
    "import numpy as np "
   ]
  },
  {
   "cell_type": "code",
   "execution_count": null,
   "id": "e79b5541",
   "metadata": {},
   "outputs": [],
   "source": [
    "list=np.random.randint(5,10,(9));\n",
    "hashArr=[0]*10000\n",
    "print(list)\n",
    "for i in range(len(list)):\n",
    "    hashArr[list[i]] +=1\n",
    "index=0\n",
    "maxValue=0\n",
    "for i in range(len(hashArr)):\n",
    "    if(hashArr[i]>0):\n",
    "        if(maxValue<hashArr[i]):\n",
    "            maxValue=hashArr[i]   \n",
    "        print(str(i) + \" : \"+str(hashArr[i]))"
   ]
  },
  {
   "cell_type": "code",
   "execution_count": null,
   "id": "5d369c12",
   "metadata": {},
   "outputs": [],
   "source": [
    "for i in range(len(list)):\n",
    "    if(hashArr[list[i]]==maxValue):\n",
    "        print(i , end=\" \")"
   ]
  },
  {
   "cell_type": "markdown",
   "id": "c8552318",
   "metadata": {},
   "source": [
    "Question - 5"
   ]
  },
  {
   "cell_type": "code",
   "execution_count": null,
   "id": "660197dd",
   "metadata": {},
   "outputs": [],
   "source": [
    "import numpy as np "
   ]
  },
  {
   "cell_type": "code",
   "execution_count": null,
   "id": "c71f151c",
   "metadata": {},
   "outputs": [],
   "source": [
    "list=np.random.randint(5,10,(9));\n",
    "hashArr=[0]*10000\n",
    "print(list)\n",
    "for i in range(len(list)):\n",
    "    hashArr[list[i]] +=1\n",
    "index=0\n",
    "maxValue=0\n",
    "for i in range(len(hashArr)):\n",
    "    if(hashArr[i]>0):\n",
    "        if(maxValue<hashArr[i]):\n",
    "            maxValue=hashArr[i]   \n",
    "        print(str(i) + \" : \"+str(hashArr[i]))"
   ]
  },
  {
   "cell_type": "code",
   "execution_count": null,
   "id": "95c7a507",
   "metadata": {},
   "outputs": [],
   "source": [
    "for i in range(len(list)):\n",
    "    if(hashArr[list[i]]==maxValue):\n",
    "        print(i , end=\" \")"
   ]
  },
  {
   "cell_type": "markdown",
   "id": "cfb6e4a9",
   "metadata": {},
   "source": [
    "Question - 6"
   ]
  },
  {
   "cell_type": "code",
   "execution_count": null,
   "id": "35384232",
   "metadata": {},
   "outputs": [],
   "source": [
    "import numpy as np"
   ]
  },
  {
   "cell_type": "code",
   "execution_count": null,
   "id": "6a19b922",
   "metadata": {},
   "outputs": [],
   "source": [
    "list1 =np.random.randint(40,50,(10))\n",
    "list2=np.random.randint(41,49,(10))\n",
    "finalList=[]\n",
    "for i in range(0,len(list1),2):\n",
    "    finalList.append(list1[i])"
   ]
  },
  {
   "cell_type": "code",
   "execution_count": null,
   "id": "a5293899",
   "metadata": {},
   "outputs": [],
   "source": [
    "for i in range(1,len(list2),2):\n",
    "    finalList.append(list2[i])"
   ]
  },
  {
   "cell_type": "code",
   "execution_count": null,
   "id": "cd98b199",
   "metadata": {},
   "outputs": [],
   "source": [
    "print(\"First List : \"+ str(list1))\n",
    "print(\"Second List : \" + str(list2))\n",
    "print(\"Final List : \" + str(finalList))"
   ]
  },
  {
   "cell_type": "markdown",
   "id": "50a4b531",
   "metadata": {},
   "source": [
    "Question - 7 "
   ]
  },
  {
   "cell_type": "code",
   "execution_count": null,
   "id": "e07d53f8",
   "metadata": {},
   "outputs": [],
   "source": [
    "import numpy as np "
   ]
  },
  {
   "cell_type": "code",
   "execution_count": null,
   "id": "d1f4d4e7",
   "metadata": {},
   "outputs": [],
   "source": [
    "list=[]\n",
    "print(\"Enter the size of list : \",end=\" \")\n",
    "size=int(input())"
   ]
  },
  {
   "cell_type": "code",
   "execution_count": null,
   "id": "61312703",
   "metadata": {},
   "outputs": [],
   "source": [
    "for i in range(size):\n",
    "    value=int(input())\n",
    "    list.append(value)"
   ]
  },
  {
   "cell_type": "code",
   "execution_count": null,
   "id": "0228c08d",
   "metadata": {},
   "outputs": [],
   "source": [
    "hashArr=[0]*10000"
   ]
  },
  {
   "cell_type": "code",
   "execution_count": null,
   "id": "6b0c447b",
   "metadata": {},
   "outputs": [],
   "source": [
    "for i in range(len(list)):\n",
    "    hashArr[list[i]] +=1"
   ]
  },
  {
   "cell_type": "code",
   "execution_count": null,
   "id": "d8c53e5f",
   "metadata": {},
   "outputs": [],
   "source": [
    "def returnUnique(list,hashArr):\n",
    "    newList=[]\n",
    "    for i in range(len(list)):\n",
    "        if(hashArr[list[i]]==1):\n",
    "            newList.append(list[i])\n",
    "    return newList"
   ]
  },
  {
   "cell_type": "code",
   "execution_count": null,
   "id": "b0f33bc0",
   "metadata": {},
   "outputs": [],
   "source": [
    "newList=returnUnique(list, hashArr)\n",
    "print(newList)"
   ]
  },
  {
   "cell_type": "markdown",
   "id": "98a0847c",
   "metadata": {},
   "source": [
    "Question - 8 "
   ]
  },
  {
   "cell_type": "code",
   "execution_count": null,
   "id": "6119b7f6",
   "metadata": {},
   "outputs": [],
   "source": [
    "import numpy as np "
   ]
  },
  {
   "cell_type": "code",
   "execution_count": null,
   "id": "7db1a49e",
   "metadata": {},
   "outputs": [],
   "source": [
    "list=np.random.randint(0,101,(20,5))\n",
    "finalList=[]\n",
    "for i in range(10):\n",
    "    finalList.extend(list[i])"
   ]
  },
  {
   "cell_type": "code",
   "execution_count": null,
   "id": "92865db1",
   "metadata": {},
   "outputs": [],
   "source": [
    "print(\"Original List : \"+str(list))\n",
    "print(\"Final List : \"+ str(finalList))"
   ]
  },
  {
   "cell_type": "markdown",
   "id": "c8af86d5",
   "metadata": {},
   "source": [
    "Question - 9 "
   ]
  },
  {
   "cell_type": "code",
   "execution_count": null,
   "id": "3357f96d",
   "metadata": {},
   "outputs": [],
   "source": [
    "import numpy as np "
   ]
  },
  {
   "cell_type": "code",
   "execution_count": null,
   "id": "b177f3fa",
   "metadata": {},
   "outputs": [],
   "source": [
    "arr=[]\n",
    "print(\"Enter size of array\");\n",
    "size=int(input())\n",
    "for i in range(size):\n",
    "    value=int(input())\n",
    "    arr.append(value)"
   ]
  },
  {
   "cell_type": "code",
   "execution_count": null,
   "id": "42fd8d9a",
   "metadata": {},
   "outputs": [],
   "source": [
    "arr=np.array(arr)\n",
    "print(\"Enter index\");\n",
    "sliceValue=int(input())\n",
    "slicedArr=arr[:sliceValue]\n",
    "arr=arr[sliceValue:]\n",
    "print(np.concatenate((arr,slicedArr)))"
   ]
  },
  {
   "cell_type": "markdown",
   "id": "5c1e323c",
   "metadata": {},
   "source": [
    "Question - 10"
   ]
  },
  {
   "cell_type": "code",
   "execution_count": null,
   "id": "d310f1e3",
   "metadata": {},
   "outputs": [],
   "source": [
    "import numpy as np "
   ]
  },
  {
   "cell_type": "code",
   "execution_count": null,
   "id": "bb529485",
   "metadata": {},
   "outputs": [],
   "source": [
    "arr=[]\n",
    "print(\"Enter size of array\");\n",
    "size=int(input())\n",
    "for i in range(size):\n",
    "    value=int(input())\n",
    "    arr.append(value)"
   ]
  },
  {
   "cell_type": "code",
   "execution_count": null,
   "id": "5293cfde",
   "metadata": {},
   "outputs": [],
   "source": [
    "arr=np.array(arr)\n",
    "print(\"Enter index\");\n",
    "sliceValue=int(input())\n",
    "slicedArr=arr[:sliceValue]\n",
    "arr=arr[sliceValue:]\n",
    "print(np.concatenate((arr,slicedArr)))"
   ]
  },
  {
   "cell_type": "markdown",
   "id": "da5145d9",
   "metadata": {},
   "source": [
    "Question - 11"
   ]
  },
  {
   "cell_type": "code",
   "execution_count": null,
   "id": "b091607d",
   "metadata": {},
   "outputs": [],
   "source": [
    "import numpy as np"
   ]
  },
  {
   "cell_type": "code",
   "execution_count": null,
   "id": "b6e67d08",
   "metadata": {},
   "outputs": [],
   "source": [
    "print(\"Enter n : \",end=\" \")\n",
    "n=int(input())\n",
    "print(\"Enter m : \",end=\" \")\n",
    "m=int(input())\n",
    "matrix=np.random.randint(0,2,(n,m))\n",
    "print(\"Original Matrix : \")\n",
    "print(matrix)\n",
    "print()\n",
    "transposeMatrix=np.random.randint(0,1,(n,m))"
   ]
  },
  {
   "cell_type": "code",
   "execution_count": null,
   "id": "fd99cd37",
   "metadata": {},
   "outputs": [],
   "source": [
    "for row in range(n):\n",
    "    for col in range(m):\n",
    "        transposeMatrix[row][col]=matrix[col][row]\n",
    "print(\"Transpose Matrix : \")\n",
    "print(transposeMatrix)\n",
    "print()\n",
    "print(\"Flattened Result : \")\n",
    "for row in range(n):\n",
    "    for col in range(m):\n",
    "        print(transposeMatrix[row][col],end=\" \")"
   ]
  },
  {
   "cell_type": "markdown",
   "id": "91dc726a",
   "metadata": {},
   "source": [
    "Question - 12"
   ]
  },
  {
   "cell_type": "code",
   "execution_count": null,
   "id": "cd6c924d",
   "metadata": {},
   "outputs": [],
   "source": [
    "Maps={}"
   ]
  },
  {
   "cell_type": "code",
   "execution_count": null,
   "id": "cb12429b",
   "metadata": {},
   "outputs": [],
   "source": [
    "print(\"Enter number of values in dictionary : \",end=\" \")\n",
    "size=int(input())"
   ]
  },
  {
   "cell_type": "code",
   "execution_count": null,
   "id": "a0a6e6ad",
   "metadata": {},
   "outputs": [],
   "source": [
    "for i in range(size):\n",
    "    key=input()\n",
    "    value=int(input())\n",
    "    Maps[key]=value"
   ]
  },
  {
   "cell_type": "code",
   "execution_count": null,
   "id": "9081bf7f",
   "metadata": {},
   "outputs": [],
   "source": [
    "sum=0\n",
    "for key in Maps:\n",
    "    sum +=Maps[key]"
   ]
  },
  {
   "cell_type": "code",
   "execution_count": null,
   "id": "b49ad0c8",
   "metadata": {},
   "outputs": [],
   "source": [
    "print(\"Sum : \"+ str(sum))"
   ]
  }
 ],
 "metadata": {
  "kernelspec": {
   "display_name": "Python 3 (ipykernel)",
   "language": "python",
   "name": "python3"
  },
  "language_info": {
   "codemirror_mode": {
    "name": "ipython",
    "version": 3
   },
   "file_extension": ".py",
   "mimetype": "text/x-python",
   "name": "python",
   "nbconvert_exporter": "python",
   "pygments_lexer": "ipython3",
   "version": "3.10.6"
  }
 },
 "nbformat": 4,
 "nbformat_minor": 5
}
