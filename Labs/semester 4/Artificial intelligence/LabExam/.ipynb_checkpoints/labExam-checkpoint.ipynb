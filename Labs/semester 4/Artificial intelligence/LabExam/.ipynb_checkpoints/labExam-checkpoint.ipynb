{
 "cells": [
  {
   "cell_type": "code",
   "execution_count": 5,
   "id": "470dbbed",
   "metadata": {},
   "outputs": [],
   "source": [
    "import numpy as np\n",
    "from time import time"
   ]
  },
  {
   "cell_type": "code",
   "execution_count": 6,
   "id": "5fa91a9a",
   "metadata": {},
   "outputs": [
    {
     "name": "stdout",
     "output_type": "stream",
     "text": [
      "Enter dimensions\n",
      "Enter m1 :  3\n",
      "Enter n1 :  3\n",
      "Enter r1 :  3\n",
      "Enter m2 :  3\n",
      "Enter n2 :  3\n",
      "Enter r2 :  3\n"
     ]
    }
   ],
   "source": [
    "print(\"Enter dimensions\")\n",
    "print(\"Enter m1 : \",end=\" \")\n",
    "m1=int(input())\n",
    "print(\"Enter n1 : \",end=\" \")\n",
    "n1=int(input())\n",
    "print(\"Enter r1 : \",end=\" \")\n",
    "r1=int(input())\n",
    "print(\"Enter m2 : \",end=\" \")\n",
    "m2=int(input())\n",
    "print(\"Enter n2 : \",end=\" \")\n",
    "n2=int(input())\n",
    "print(\"Enter r2 : \",end=\" \")\n",
    "\n",
    "r2=int(input())"
   ]
  },
  {
   "cell_type": "code",
   "execution_count": 7,
   "id": "1846356d",
   "metadata": {},
   "outputs": [
    {
     "name": "stdout",
     "output_type": "stream",
     "text": [
      "[[[-1.17773887  0.8491604   0.84273639]\n",
      "  [-0.5948389   0.60583929  0.19485903]\n",
      "  [-0.08573177 -0.0970042   0.25687968]]\n",
      "\n",
      " [[ 1.49412437  0.18320301  0.78301569]\n",
      "  [-1.27256385  0.1019142  -0.26391088]\n",
      "  [-2.27211381 -0.42249728  2.26647075]]\n",
      "\n",
      " [[-0.13664601  1.58885983  0.55020791]\n",
      "  [-0.86357133 -0.13985251 -0.38050241]\n",
      "  [ 0.53805733  0.282649    0.06591608]]]\n",
      "\n",
      "[[[0.09278267 0.96442275 0.22131263]\n",
      "  [0.54537763 0.60349106 0.03302374]\n",
      "  [0.7197893  0.39600948 0.22732221]]\n",
      "\n",
      " [[0.28011749 0.33889768 0.71277317]\n",
      "  [0.04237763 0.07793116 0.80144775]\n",
      "  [0.49495064 0.22594881 0.8726954 ]]\n",
      "\n",
      " [[0.80626839 0.77345098 0.82377721]\n",
      "  [0.04185261 0.58191173 0.49517606]\n",
      "  [0.07188619 0.14671307 0.61874855]]]\n"
     ]
    }
   ],
   "source": [
    "tensor1=np.random.normal(0,1,(m1,n1,r1))\n",
    "tensor2=np.random.rand(m2,n2,r2)\n",
    "print(tensor1)\n",
    "print()\n",
    "print(tensor2)"
   ]
  },
  {
   "cell_type": "code",
   "execution_count": 9,
   "id": "2d2b9056",
   "metadata": {},
   "outputs": [
    {
     "name": "stdout",
     "output_type": "stream",
     "text": [
      "c1 : 9 c2 : 1 c3 : 2\n",
      "[[[ -8.50686716  10.60686639   9.80594015]\n",
      "  [ -2.80817243   8.05604463   3.78675502]\n",
      "  [  1.94820335   1.5229717    4.53923937]]\n",
      "\n",
      " [[ 15.72723679   3.98772475   9.75991437]\n",
      "  [ -9.41069704   2.99515893   0.42624983]\n",
      "  [-17.95407364  -1.57652668  23.27093218]]\n",
      "\n",
      " [[  1.57645432  17.07318943   7.77564843]\n",
      "  [ -5.73028937   1.32323916  -0.92934566]\n",
      "  [  6.91440212   4.69055409   3.21199331]]]\n",
      "Time for Linear Combination :  0.00049591064453125\n"
     ]
    }
   ],
   "source": [
    "c1=np.random.randint(1,11)\n",
    "c2=np.random.randint(1,11)\n",
    "c3=np.random.randint(1,11)\n",
    "print(\"c1 : \"+str(c1)+\" c2 : \"+str(c2)+\" c3 : \"+str(c3))\n",
    "currentTime=time()\n",
    "print(np.dot(c1,tensor1)+np.dot(c2,tensor2)+c3)\n",
    "print(\"Time for Linear Combination : \",end=\" \")\n",
    "print(time()-currentTime)"
   ]
  },
  {
   "cell_type": "code",
   "execution_count": null,
   "id": "1a933943",
   "metadata": {},
   "outputs": [],
   "source": []
  }
 ],
 "metadata": {
  "kernelspec": {
   "display_name": "Python 3 (ipykernel)",
   "language": "python",
   "name": "python3"
  },
  "language_info": {
   "codemirror_mode": {
    "name": "ipython",
    "version": 3
   },
   "file_extension": ".py",
   "mimetype": "text/x-python",
   "name": "python",
   "nbconvert_exporter": "python",
   "pygments_lexer": "ipython3",
   "version": "3.10.6"
  }
 },
 "nbformat": 4,
 "nbformat_minor": 5
}
