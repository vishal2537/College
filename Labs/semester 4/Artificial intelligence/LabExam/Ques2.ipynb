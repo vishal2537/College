{
 "cells": [
  {
   "cell_type": "code",
   "execution_count": 11,
   "id": "470dbbed",
   "metadata": {},
   "outputs": [],
   "source": [
    "import numpy as np\n",
    "from time import time"
   ]
  },
  {
   "cell_type": "code",
   "execution_count": 12,
   "id": "5fa91a9a",
   "metadata": {},
   "outputs": [
    {
     "name": "stdout",
     "output_type": "stream",
     "text": [
      "Enter dimensions\n",
      "Enter m1 :  Enter n1 :  Enter r1 :  Enter m2 :  Enter n2 :  Enter r2 :  "
     ]
    }
   ],
   "source": [
    "print(\"Enter dimensions\")\n",
    "print(\"Enter m1 : \",end=\" \")\n",
    "m1=int(input())\n",
    "print(\"Enter n1 : \",end=\" \")\n",
    "n1=int(input())\n",
    "print(\"Enter r1 : \",end=\" \")\n",
    "r1=int(input())\n",
    "print(\"Enter m2 : \",end=\" \")\n",
    "m2=int(input())\n",
    "print(\"Enter n2 : \",end=\" \")\n",
    "n2=int(input())\n",
    "print(\"Enter r2 : \",end=\" \")\n",
    "\n",
    "r2=int(input())"
   ]
  },
  {
   "cell_type": "code",
   "execution_count": 13,
   "id": "1846356d",
   "metadata": {},
   "outputs": [
    {
     "name": "stdout",
     "output_type": "stream",
     "text": [
      "[[[ 0.76368489 -0.93027596 -0.21136636]\n",
      "  [-0.53988927  0.02926394  0.45123863]\n",
      "  [-0.20409001  0.15683354  0.89284336]]\n",
      "\n",
      " [[ 0.74028131  1.26671515 -0.7821946 ]\n",
      "  [ 0.25617697  2.6895436   0.14448085]\n",
      "  [-2.29289401 -0.76962538 -0.24882023]]\n",
      "\n",
      " [[ 0.0076769  -1.89655659 -1.71582864]\n",
      "  [ 0.66048275 -1.06397483  0.07416108]\n",
      "  [-2.03999954  0.35833237  0.20780525]]]\n",
      "\n",
      "[[[9.87683664e-01 7.39289551e-01 8.18002189e-01]\n",
      "  [1.83360817e-04 9.67341546e-01 9.78568814e-01]\n",
      "  [4.15887321e-01 9.53992201e-01 9.38298547e-01]]\n",
      "\n",
      " [[2.53612723e-03 7.38550481e-01 4.99203686e-01]\n",
      "  [4.99928700e-01 1.33030902e-01 6.73648297e-01]\n",
      "  [9.57387817e-01 5.91593768e-02 1.16480182e-01]]\n",
      "\n",
      " [[4.56449782e-01 5.76172637e-01 5.79663584e-01]\n",
      "  [1.14934302e-01 8.14312238e-01 3.02533999e-01]\n",
      "  [9.67388002e-01 8.57571601e-01 8.63436498e-01]]]\n"
     ]
    }
   ],
   "source": [
    "tensor1=np.random.normal(0,1,(m1,n1,r1))\n",
    "tensor2=np.random.rand(m2,n2,r2)\n",
    "print(tensor1)\n",
    "print()\n",
    "print(tensor2)"
   ]
  },
  {
   "cell_type": "code",
   "execution_count": 14,
   "id": "2d2b9056",
   "metadata": {},
   "outputs": [
    {
     "name": "stdout",
     "output_type": "stream",
     "text": [
      "c1 : 6 c2 : 10 c3 : 1\n",
      "[[[15.45894599  2.81123975  7.9118237 ]\n",
      "  [-2.23750204 10.84899907 13.49311992]\n",
      "  [ 3.93433314 11.48092327 15.74004564]]\n",
      "\n",
      " [[ 5.46704912 15.98579574  1.29886927]\n",
      "  [ 7.53634885 18.46757061  8.60336809]\n",
      "  [-3.18348587 -3.02615851  0.67188042]]\n",
      "\n",
      " [[ 5.61055923 -4.61761318 -3.49833601]\n",
      "  [ 6.11223955  2.75927342  4.47030648]\n",
      "  [-1.56611721 11.72571024 10.88119646]]]\n",
      "Time for Linear Combination :  0.0006628036499023438\n"
     ]
    }
   ],
   "source": [
    "c1=np.random.randint(1,11)\n",
    "c2=np.random.randint(1,11)\n",
    "c3=np.random.randint(1,11)\n",
    "print(\"c1 : \"+str(c1)+\" c2 : \"+str(c2)+\" c3 : \"+str(c3))\n",
    "currentTime=time()\n",
    "print(np.dot(c1,tensor1)+np.dot(c2,tensor2)+c3)\n",
    "print(\"Time for Linear Combination : \",end=\" \")\n",
    "print(time()-currentTime)"
   ]
  }
 ],
 "metadata": {
  "kernelspec": {
   "display_name": "Python 3 (ipykernel)",
   "language": "python",
   "name": "python3"
  }
 },
 "nbformat": 4,
 "nbformat_minor": 5
}
