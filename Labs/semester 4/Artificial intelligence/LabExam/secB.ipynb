{
 "cells": [
  {
   "cell_type": "code",
   "execution_count": 5,
   "metadata": {},
   "outputs": [],
   "source": [
    "import random\n",
    "import networkx as nx"
   ]
  },
  {
   "cell_type": "code",
   "execution_count": 6,
   "metadata": {},
   "outputs": [],
   "source": [
    "def localHillClimbing(graph):\n",
    "    # Initializing the dominating set with a random subset of vertices\n",
    "    dominating_set = set(random.sample(graph.nodes, len(graph) // 2))\n",
    "\n",
    "    while True:\n",
    "        current_size = len(dominating_set) #calculate size\n",
    "\n",
    "        # Try adding a vertex to the dominating set\n",
    "        for v in graph.nodes:\n",
    "            if v not in dominating_set:\n",
    "                new_set = dominating_set | {v}\n",
    "                if is_dominating_set(graph, new_set) and len(new_set) < current_size:\n",
    "                    dominating_set = new_set\n",
    "                    break\n",
    "\n",
    "        # Try removing a vertex from the dominating set\n",
    "        for u in dominating_set:\n",
    "            new_set = dominating_set - {u}\n",
    "            if is_dominating_set(graph, new_set) and len(new_set) < current_size:\n",
    "                dominating_set = new_set\n",
    "                break\n",
    "\n",
    "        if len(dominating_set) == current_size: # break if no improvement was made\n",
    "            break\n",
    "\n",
    "    return dominating_set"
   ]
  },
  {
   "cell_type": "code",
   "execution_count": 7,
   "metadata": {},
   "outputs": [],
   "source": [
    "def is_dominating_set(graph, vertices):\n",
    "    # Checking if every vertex in the graph is in the set or adjacent to a vertex in the set\n",
    "    for v in graph.nodes:\n",
    "        if v not in vertices and all(u not in vertices for u in graph.neighbors(v)):\n",
    "            return False\n",
    "    return True"
   ]
  },
  {
   "cell_type": "code",
   "execution_count": 8,
   "metadata": {},
   "outputs": [
    {
     "name": "stdout",
     "output_type": "stream",
     "text": [
      "{2, 6}\n"
     ]
    },
    {
     "name": "stderr",
     "output_type": "stream",
     "text": [
      "/tmp/ipykernel_50663/733852977.py:3: DeprecationWarning: Sampling from a set deprecated\n",
      "since Python 3.9 and will be removed in a subsequent version.\n",
      "  dominating_set = set(random.sample(graph.nodes, len(graph) // 2))\n"
     ]
    }
   ],
   "source": [
    "graph = nx.Graph([(0, 1), (1, 2), (0, 2), (2, 3), (3, 4), (3, 6), (3, 5), (5, 6), (4, 6), (1, 3)])\n",
    "dominating_set = localHillClimbing(graph)\n",
    "print(dominating_set)"
   ]
  }
 ],
 "metadata": {
  "kernelspec": {
   "display_name": "Python 3",
   "language": "python",
   "name": "python3"
  },
  "language_info": {
   "codemirror_mode": {
    "name": "ipython",
    "version": 3
   },
   "file_extension": ".py",
   "mimetype": "text/x-python",
   "name": "python",
   "nbconvert_exporter": "python",
   "pygments_lexer": "ipython3",
   "version": "3.10.6"
  },
  "orig_nbformat": 4,
  "vscode": {
   "interpreter": {
    "hash": "916dbcbb3f70747c44a77c7bcd40155683ae19c65e1c03b4aa3499c5328201f1"
   }
  }
 },
 "nbformat": 4,
 "nbformat_minor": 2
}
