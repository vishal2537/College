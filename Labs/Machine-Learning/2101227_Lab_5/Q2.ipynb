{
 "cells": [
  {
   "cell_type": "code",
   "execution_count": 1,
   "metadata": {},
   "outputs": [],
   "source": [
    "import numpy as np\n",
    "import pandas as pd\n",
    "import operator\n",
    "from random import randrange\n",
    "import seaborn as sns\n",
    "import matplotlib.pyplot as plt"
   ]
  },
  {
   "cell_type": "code",
   "execution_count": 2,
   "metadata": {},
   "outputs": [],
   "source": [
    "col_names = ['buyingprice', 'maintenancecost', 'doors',\n",
    "             'persons', 'lug_boot', 'safety', 'class']\n",
    "df = pd.read_csv('car_evaluation.csv',names=col_names)"
   ]
  },
  {
   "cell_type": "code",
   "execution_count": 3,
   "metadata": {},
   "outputs": [
    {
     "data": {
      "text/html": [
       "<div>\n",
       "<style scoped>\n",
       "    .dataframe tbody tr th:only-of-type {\n",
       "        vertical-align: middle;\n",
       "    }\n",
       "\n",
       "    .dataframe tbody tr th {\n",
       "        vertical-align: top;\n",
       "    }\n",
       "\n",
       "    .dataframe thead th {\n",
       "        text-align: right;\n",
       "    }\n",
       "</style>\n",
       "<table border=\"1\" class=\"dataframe\">\n",
       "  <thead>\n",
       "    <tr style=\"text-align: right;\">\n",
       "      <th></th>\n",
       "      <th>buyingprice</th>\n",
       "      <th>maintenancecost</th>\n",
       "      <th>doors</th>\n",
       "      <th>persons</th>\n",
       "      <th>lug_boot</th>\n",
       "      <th>safety</th>\n",
       "      <th>class</th>\n",
       "    </tr>\n",
       "  </thead>\n",
       "  <tbody>\n",
       "    <tr>\n",
       "      <th>0</th>\n",
       "      <td>vhigh</td>\n",
       "      <td>vhigh</td>\n",
       "      <td>2</td>\n",
       "      <td>2</td>\n",
       "      <td>small</td>\n",
       "      <td>med</td>\n",
       "      <td>unacc</td>\n",
       "    </tr>\n",
       "    <tr>\n",
       "      <th>1</th>\n",
       "      <td>vhigh</td>\n",
       "      <td>vhigh</td>\n",
       "      <td>2</td>\n",
       "      <td>2</td>\n",
       "      <td>small</td>\n",
       "      <td>high</td>\n",
       "      <td>unacc</td>\n",
       "    </tr>\n",
       "    <tr>\n",
       "      <th>2</th>\n",
       "      <td>vhigh</td>\n",
       "      <td>vhigh</td>\n",
       "      <td>2</td>\n",
       "      <td>2</td>\n",
       "      <td>med</td>\n",
       "      <td>low</td>\n",
       "      <td>unacc</td>\n",
       "    </tr>\n",
       "    <tr>\n",
       "      <th>3</th>\n",
       "      <td>vhigh</td>\n",
       "      <td>vhigh</td>\n",
       "      <td>2</td>\n",
       "      <td>2</td>\n",
       "      <td>med</td>\n",
       "      <td>med</td>\n",
       "      <td>unacc</td>\n",
       "    </tr>\n",
       "    <tr>\n",
       "      <th>4</th>\n",
       "      <td>vhigh</td>\n",
       "      <td>vhigh</td>\n",
       "      <td>2</td>\n",
       "      <td>2</td>\n",
       "      <td>med</td>\n",
       "      <td>high</td>\n",
       "      <td>unacc</td>\n",
       "    </tr>\n",
       "  </tbody>\n",
       "</table>\n",
       "</div>"
      ],
      "text/plain": [
       "  buyingprice maintenancecost doors persons lug_boot safety  class\n",
       "0       vhigh           vhigh     2       2    small    med  unacc\n",
       "1       vhigh           vhigh     2       2    small   high  unacc\n",
       "2       vhigh           vhigh     2       2      med    low  unacc\n",
       "3       vhigh           vhigh     2       2      med    med  unacc\n",
       "4       vhigh           vhigh     2       2      med   high  unacc"
      ]
     },
     "execution_count": 3,
     "metadata": {},
     "output_type": "execute_result"
    }
   ],
   "source": [
    "df.head()\n"
   ]
  },
  {
   "cell_type": "code",
   "execution_count": 4,
   "metadata": {},
   "outputs": [
    {
     "data": {
      "text/plain": [
       "class\n",
       "unacc    1209\n",
       "acc       384\n",
       "good       69\n",
       "vgood      65\n",
       "Name: count, dtype: int64"
      ]
     },
     "execution_count": 4,
     "metadata": {},
     "output_type": "execute_result"
    }
   ],
   "source": [
    "df['class'].value_counts()\n"
   ]
  },
  {
   "cell_type": "code",
   "execution_count": 5,
   "metadata": {},
   "outputs": [
    {
     "data": {
      "text/plain": [
       "<Axes: xlabel='class'>"
      ]
     },
     "execution_count": 5,
     "metadata": {},
     "output_type": "execute_result"
    },
    {
     "data": {
      "image/png": "[encoded data removed]",
      "text/plain": [
       "<Figure size 300x300 with 1 Axes>"
      ]
     },
     "metadata": {},
     "output_type": "display_data"
    }
   ],
   "source": [
    "df['class'].value_counts().plot(kind = 'bar',figsize=(3,3))"
   ]
  },
  {
   "cell_type": "code",
   "execution_count": 6,
   "metadata": {},
   "outputs": [
    {
     "data": {
      "text/html": [
       "<div>\n",
       "<style scoped>\n",
       "    .dataframe tbody tr th:only-of-type {\n",
       "        vertical-align: middle;\n",
       "    }\n",
       "\n",
       "    .dataframe tbody tr th {\n",
       "        vertical-align: top;\n",
       "    }\n",
       "\n",
       "    .dataframe thead th {\n",
       "        text-align: right;\n",
       "    }\n",
       "</style>\n",
       "<table border=\"1\" class=\"dataframe\">\n",
       "  <thead>\n",
       "    <tr style=\"text-align: right;\">\n",
       "      <th></th>\n",
       "      <th>buyingprice</th>\n",
       "      <th>maintenancecost</th>\n",
       "      <th>doors</th>\n",
       "      <th>persons</th>\n",
       "      <th>lug_boot</th>\n",
       "      <th>safety</th>\n",
       "      <th>class</th>\n",
       "    </tr>\n",
       "  </thead>\n",
       "  <tbody>\n",
       "    <tr>\n",
       "      <th>count</th>\n",
       "      <td>1727</td>\n",
       "      <td>1727</td>\n",
       "      <td>1727</td>\n",
       "      <td>1727</td>\n",
       "      <td>1727</td>\n",
       "      <td>1727</td>\n",
       "      <td>1727</td>\n",
       "    </tr>\n",
       "    <tr>\n",
       "      <th>unique</th>\n",
       "      <td>4</td>\n",
       "      <td>4</td>\n",
       "      <td>4</td>\n",
       "      <td>3</td>\n",
       "      <td>3</td>\n",
       "      <td>3</td>\n",
       "      <td>4</td>\n",
       "    </tr>\n",
       "    <tr>\n",
       "      <th>top</th>\n",
       "      <td>high</td>\n",
       "      <td>high</td>\n",
       "      <td>3</td>\n",
       "      <td>4</td>\n",
       "      <td>med</td>\n",
       "      <td>med</td>\n",
       "      <td>unacc</td>\n",
       "    </tr>\n",
       "    <tr>\n",
       "      <th>freq</th>\n",
       "      <td>432</td>\n",
       "      <td>432</td>\n",
       "      <td>432</td>\n",
       "      <td>576</td>\n",
       "      <td>576</td>\n",
       "      <td>576</td>\n",
       "      <td>1209</td>\n",
       "    </tr>\n",
       "  </tbody>\n",
       "</table>\n",
       "</div>"
      ],
      "text/plain": [
       "       buyingprice maintenancecost doors persons lug_boot safety  class\n",
       "count         1727            1727  1727    1727     1727   1727   1727\n",
       "unique           4               4     4       3        3      3      4\n",
       "top           high            high     3       4      med    med  unacc\n",
       "freq           432             432   432     576      576    576   1209"
      ]
     },
     "execution_count": 6,
     "metadata": {},
     "output_type": "execute_result"
    }
   ],
   "source": [
    "df.describe()\n"
   ]
  },
  {
   "cell_type": "code",
   "execution_count": 7,
   "metadata": {},
   "outputs": [
    {
     "data": {
      "text/plain": [
       "buyingprice        0\n",
       "maintenancecost    0\n",
       "doors              0\n",
       "persons            0\n",
       "lug_boot           0\n",
       "safety             0\n",
       "class              0\n",
       "dtype: int64"
      ]
     },
     "execution_count": 7,
     "metadata": {},
     "output_type": "execute_result"
    }
   ],
   "source": [
    "df.isna().sum()\n"
   ]
  },
  {
   "cell_type": "code",
   "execution_count": 8,
   "metadata": {},
   "outputs": [],
   "source": [
    "buying_label = {ni: n for n, ni in enumerate(set(df['buyingprice']))}\n",
    "maintenancecost_label = {ni: n for n,\n",
    "                         ni in enumerate(set(df['maintenancecost']))}\n",
    "doors_label = {ni: n for n, ni in enumerate(set(df['doors']))}\n",
    "persons_label = {ni: n for n, ni in enumerate(set(df['persons']))}\n",
    "lug_boot_label = {ni: n for n, ni in enumerate(set(df['lug_boot']))}\n",
    "safety_label = {ni: n for n, ni in enumerate(set(df['safety']))}\n",
    "class_label = {ni: n for n, ni in enumerate(set(df['class']))}\n"
   ]
  },
  {
   "cell_type": "code",
   "execution_count": 9,
   "metadata": {},
   "outputs": [
    {
     "name": "stdout",
     "output_type": "stream",
     "text": [
      "buying_label : {'vhigh': 0, 'high': 1, 'med': 2, 'low': 3}\n",
      "maintenancecost_label : {'vhigh': 0, 'high': 1, 'med': 2, 'low': 3}\n",
      "doors_label : {'5more': 0, '3': 1, '2': 2, '4': 3}\n",
      "persons_label : {'2': 0, 'more': 1, '4': 2}\n",
      "lug_boot_label : {'small': 0, 'med': 1, 'big': 2}\n",
      "safety_label : {'high': 0, 'med': 1, 'low': 2}\n",
      "class_label : {'vgood': 0, 'good': 1, 'acc': 2, 'unacc': 3}\n"
     ]
    }
   ],
   "source": [
    "print(f\"buying_label : {buying_label}\")\n",
    "print(f\"maintenancecost_label : {maintenancecost_label}\")\n",
    "print(f\"doors_label : {doors_label}\")\n",
    "print(f\"persons_label : {persons_label}\")\n",
    "print(f\"lug_boot_label : {lug_boot_label}\")\n",
    "print(f\"safety_label : {safety_label}\")\n",
    "print(f\"class_label : {class_label}\")\n"
   ]
  },
  {
   "cell_type": "code",
   "execution_count": 10,
   "metadata": {},
   "outputs": [],
   "source": [
    "df['buyingprice'] = df['buyingprice'].map(buying_label)\n",
    "df['maintenancecost'] = df['maintenancecost'].map(maintenancecost_label)\n",
    "df['doors'] = df['doors'].map(doors_label)\n",
    "df['persons'] = df['persons'].map(persons_label)\n",
    "df['lug_boot'] = df['lug_boot'].map(lug_boot_label)\n",
    "df['safety'] = df['safety'].map(safety_label)\n",
    "df['class'] = df['class'].map(class_label)\n"
   ]
  },
  {
   "cell_type": "code",
   "execution_count": 11,
   "metadata": {},
   "outputs": [
    {
     "data": {
      "text/html": [
       "<div>\n",
       "<style scoped>\n",
       "    .dataframe tbody tr th:only-of-type {\n",
       "        vertical-align: middle;\n",
       "    }\n",
       "\n",
       "    .dataframe tbody tr th {\n",
       "        vertical-align: top;\n",
       "    }\n",
       "\n",
       "    .dataframe thead th {\n",
       "        text-align: right;\n",
       "    }\n",
       "</style>\n",
       "<table border=\"1\" class=\"dataframe\">\n",
       "  <thead>\n",
       "    <tr style=\"text-align: right;\">\n",
       "      <th></th>\n",
       "      <th>buyingprice</th>\n",
       "      <th>maintenancecost</th>\n",
       "      <th>doors</th>\n",
       "      <th>persons</th>\n",
       "      <th>lug_boot</th>\n",
       "      <th>safety</th>\n",
       "      <th>class</th>\n",
       "    </tr>\n",
       "  </thead>\n",
       "  <tbody>\n",
       "    <tr>\n",
       "      <th>0</th>\n",
       "      <td>0</td>\n",
       "      <td>0</td>\n",
       "      <td>2</td>\n",
       "      <td>0</td>\n",
       "      <td>0</td>\n",
       "      <td>1</td>\n",
       "      <td>3</td>\n",
       "    </tr>\n",
       "    <tr>\n",
       "      <th>1</th>\n",
       "      <td>0</td>\n",
       "      <td>0</td>\n",
       "      <td>2</td>\n",
       "      <td>0</td>\n",
       "      <td>0</td>\n",
       "      <td>0</td>\n",
       "      <td>3</td>\n",
       "    </tr>\n",
       "    <tr>\n",
       "      <th>2</th>\n",
       "      <td>0</td>\n",
       "      <td>0</td>\n",
       "      <td>2</td>\n",
       "      <td>0</td>\n",
       "      <td>1</td>\n",
       "      <td>2</td>\n",
       "      <td>3</td>\n",
       "    </tr>\n",
       "    <tr>\n",
       "      <th>3</th>\n",
       "      <td>0</td>\n",
       "      <td>0</td>\n",
       "      <td>2</td>\n",
       "      <td>0</td>\n",
       "      <td>1</td>\n",
       "      <td>1</td>\n",
       "      <td>3</td>\n",
       "    </tr>\n",
       "    <tr>\n",
       "      <th>4</th>\n",
       "      <td>0</td>\n",
       "      <td>0</td>\n",
       "      <td>2</td>\n",
       "      <td>0</td>\n",
       "      <td>1</td>\n",
       "      <td>0</td>\n",
       "      <td>3</td>\n",
       "    </tr>\n",
       "    <tr>\n",
       "      <th>...</th>\n",
       "      <td>...</td>\n",
       "      <td>...</td>\n",
       "      <td>...</td>\n",
       "      <td>...</td>\n",
       "      <td>...</td>\n",
       "      <td>...</td>\n",
       "      <td>...</td>\n",
       "    </tr>\n",
       "    <tr>\n",
       "      <th>1722</th>\n",
       "      <td>3</td>\n",
       "      <td>3</td>\n",
       "      <td>0</td>\n",
       "      <td>1</td>\n",
       "      <td>1</td>\n",
       "      <td>1</td>\n",
       "      <td>1</td>\n",
       "    </tr>\n",
       "    <tr>\n",
       "      <th>1723</th>\n",
       "      <td>3</td>\n",
       "      <td>3</td>\n",
       "      <td>0</td>\n",
       "      <td>1</td>\n",
       "      <td>1</td>\n",
       "      <td>0</td>\n",
       "      <td>0</td>\n",
       "    </tr>\n",
       "    <tr>\n",
       "      <th>1724</th>\n",
       "      <td>3</td>\n",
       "      <td>3</td>\n",
       "      <td>0</td>\n",
       "      <td>1</td>\n",
       "      <td>2</td>\n",
       "      <td>2</td>\n",
       "      <td>3</td>\n",
       "    </tr>\n",
       "    <tr>\n",
       "      <th>1725</th>\n",
       "      <td>3</td>\n",
       "      <td>3</td>\n",
       "      <td>0</td>\n",
       "      <td>1</td>\n",
       "      <td>2</td>\n",
       "      <td>1</td>\n",
       "      <td>1</td>\n",
       "    </tr>\n",
       "    <tr>\n",
       "      <th>1726</th>\n",
       "      <td>3</td>\n",
       "      <td>3</td>\n",
       "      <td>0</td>\n",
       "      <td>1</td>\n",
       "      <td>2</td>\n",
       "      <td>0</td>\n",
       "      <td>0</td>\n",
       "    </tr>\n",
       "  </tbody>\n",
       "</table>\n",
       "<p>1727 rows × 7 columns</p>\n",
       "</div>"
      ],
      "text/plain": [
       "      buyingprice  maintenancecost  doors  persons  lug_boot  safety  class\n",
       "0               0                0      2        0         0       1      3\n",
       "1               0                0      2        0         0       0      3\n",
       "2               0                0      2        0         1       2      3\n",
       "3               0                0      2        0         1       1      3\n",
       "4               0                0      2        0         1       0      3\n",
       "...           ...              ...    ...      ...       ...     ...    ...\n",
       "1722            3                3      0        1         1       1      1\n",
       "1723            3                3      0        1         1       0      0\n",
       "1724            3                3      0        1         2       2      3\n",
       "1725            3                3      0        1         2       1      1\n",
       "1726            3                3      0        1         2       0      0\n",
       "\n",
       "[1727 rows x 7 columns]"
      ]
     },
     "execution_count": 11,
     "metadata": {},
     "output_type": "execute_result"
    }
   ],
   "source": [
    "df"
   ]
  },
  {
   "cell_type": "code",
   "execution_count": 12,
   "metadata": {},
   "outputs": [
    {
     "data": {
      "text/plain": [
       "<Axes: >"
      ]
     },
     "execution_count": 12,
     "metadata": {},
     "output_type": "execute_result"
    },
    {
     "data": {
      "image/png": "[encoded data removed]",
      "text/plain": [
       "<Figure size 1000x1000 with 2 Axes>"
      ]
     },
     "metadata": {},
     "output_type": "display_data"
    }
   ],
   "source": [
    "plt.figure(figsize = (10,10))\n",
    "sns.heatmap(df.corr(),annot=True)"
   ]
  },
  {
   "cell_type": "code",
   "execution_count": 13,
   "metadata": {},
   "outputs": [],
   "source": [
    "class distance_metrics:\n",
    "    def __init__(self):\n",
    "        pass\n",
    "\n",
    "    def euclidean_distance(self, list1, list2):\n",
    "        self.lista, self.listb = list1, list2\n",
    "        if len(self.lista) != len(self.listb):\n",
    "            raise ValueError(\"Undefined for sequences of unequal length.\")\n",
    "        distance = 0.0\n",
    "        for i in range(len(self.lista)-1):\n",
    "            distance += (self.lista[i] - self.listb[i])**2\n",
    "        return (distance)**0.5\n",
    "\n",
    "    def manhattan_distance(self, list1, list2):\n",
    "        self.lista, self.listb = list1, list2\n",
    "        if len(self.lista) != len(self.listb):\n",
    "            raise ValueError(\"Undefined for sequences of unequal length.\")\n",
    "        return np.abs(np.array(self.lista) - np.array(self.listb)).sum()"
   ]
  },
  {
   "cell_type": "code",
   "execution_count": 14,
   "metadata": {},
   "outputs": [],
   "source": [
    "class knn_class:\n",
    "    def __init__(self, k=5, distance_metric='euclidean'):\n",
    "        pass\n",
    "\n",
    "    def fit(self, x_train, y_train):\n",
    "        assert len(x_train) == len(y_train)\n",
    "        self.train_data = x_train\n",
    "        self.train_labels = y_train\n",
    "\n",
    "    def get_neighbors(self, test_row):\n",
    "        calculate_distance_matrux = distance_metrics()\n",
    "        distances = []\n",
    "        for i, train_row in enumerate(self.train_data):\n",
    "            if self.distance_metric == 'euclidean':\n",
    "                distances.append([train_row, calculate_distance_matrux.euclidean_distance(\n",
    "                    test_row, train_row), self.train_labels[i]])\n",
    "            elif self.distance_metric == 'manhattan':\n",
    "                distances.append([train_row, calculate_distance_matrux.manhattan_distance(\n",
    "                    test_row, train_row), self.train_labels[i]])\n",
    "            distances.sort(key=operator.itemgetter(1))\n",
    "        neighbors = []\n",
    "        for index in range(self.k):\n",
    "            neighbors.append(distances[index])\n",
    "        return neighbors\n",
    "\n",
    "    def predict(self, x_test, k, distance_metric):\n",
    "        self.test_data = x_test\n",
    "        self.k = k\n",
    "        self.distance_metric = distance_metric\n",
    "        predictions = []\n",
    "\n",
    "        for i, test_case in enumerate(self.test_data):\n",
    "            neighbors = self.get_neighbors(test_case)\n",
    "            output = [row[-1] for row in neighbors]\n",
    "            prediction = max(set(output), key=output.count)\n",
    "            predictions.append(prediction)\n",
    "        return predictions\n"
   ]
  },
  {
   "cell_type": "code",
   "execution_count": 15,
   "metadata": {},
   "outputs": [],
   "source": [
    "def calculate_accuracy(actual, predictions):\n",
    "    assert len(actual) == len(predictions)\n",
    "    correct = 0\n",
    "    for i in range(len(actual)):\n",
    "        if actual[i] == predictions[i]:\n",
    "            correct += 1\n",
    "    return (correct / float(len(actual)) * 100.0)\n"
   ]
  },
  {
   "cell_type": "code",
   "execution_count": 16,
   "metadata": {},
   "outputs": [],
   "source": [
    "class k_fold_cross_validation:\n",
    "    def __init__(self):\n",
    "        pass\n",
    "    \n",
    "    def cros_validation_split(self, dataset, num_folds):\n",
    "        data_split = list()\n",
    "        data_copy = list(dataset)\n",
    "        foldSize = int(len(dataset) / num_folds)\n",
    "        for _ in range(num_folds):\n",
    "            fold = list()\n",
    "            while len(fold) < foldSize:\n",
    "                index = randrange(len(data_copy))\n",
    "                fold.append(data_copy.pop(index))\n",
    "            data_split.append(fold)\n",
    "        return data_split\n",
    "\n",
    "    def k_fold_cross_validation_evaluation(self, dataset, num_folds, *args):\n",
    "        knn = knn_class()\n",
    "        folds = self.cros_validation_split(dataset, num_folds)\n",
    "        scores = list()\n",
    "        for fold in folds:\n",
    "            train_set = list(folds)\n",
    "            train_set.remove(fold)\n",
    "            train_set = sum(train_set, [])\n",
    "            test_set = list()\n",
    "            for row in fold:\n",
    "                rowCopy = list(row)\n",
    "                test_set.append(rowCopy)\n",
    "\n",
    "            train_labels = [row[-1] for row in train_set]\n",
    "            train_set = [train[:-1] for train in train_set]\n",
    "            knn.fit(train_set, train_labels)\n",
    "\n",
    "            actual = [row[-1] for row in test_set]\n",
    "            test_set = [test[:-1] for test in test_set]\n",
    "            predicted = knn.predict(test_set, *args)\n",
    "\n",
    "            accuracy = calculate_accuracy(actual, predicted)\n",
    "            scores.append(accuracy)\n",
    "        print(f\"Scores: {scores}\")\n",
    "        print(f\"Maximum Accuracy: {max(scores)}\" )\n",
    "        print(f\"Mean Accuracy: {sum(scores)/float(len(scores))}\")\n"
   ]
  },
  {
   "cell_type": "code",
   "execution_count": 17,
   "metadata": {},
   "outputs": [
    {
     "name": "stdout",
     "output_type": "stream",
     "text": [
      "[[0, 0, 2, 0, 0, 1, 3], [0, 0, 2, 0, 0, 0, 3], [0, 0, 2, 0, 1, 2, 3], [0, 0, 2, 0, 1, 1, 3], [0, 0, 2, 0, 1, 0, 3], [0, 0, 2, 0, 2, 2, 3], [0, 0, 2, 0, 2, 1, 3], [0, 0, 2, 0, 2, 0, 3], [0, 0, 2, 2, 0, 2, 3], [0, 0, 2, 2, 0, 1, 3], [0, 0, 2, 2, 0, 0, 3], [0, 0, 2, 2, 1, 2, 3], [0, 0, 2, 2, 1, 1, 3], [0, 0, 2, 2, 1, 0, 3], [0, 0, 2, 2, 2, 2, 3], [0, 0, 2, 2, 2, 1, 3], [0, 0, 2, 2, 2, 0, 3], [0, 0, 2, 1, 0, 2, 3], [0, 0, 2, 1, 0, 1, 3], [0, 0, 2, 1, 0, 0, 3], [0, 0, 2, 1, 1, 2, 3], [0, 0, 2, 1, 1, 1, 3], [0, 0, 2, 1, 1, 0, 3], [0, 0, 2, 1, 2, 2, 3], [0, 0, 2, 1, 2, 1, 3], [0, 0, 2, 1, 2, 0, 3], [0, 0, 1, 0, 0, 2, 3], [0, 0, 1, 0, 0, 1, 3], [0, 0, 1, 0, 0, 0, 3], [0, 0, 1, 0, 1, 2, 3], [0, 0, 1, 0, 1, 1, 3], [0, 0, 1, 0, 1, 0, 3], [0, 0, 1, 0, 2, 2, 3], [0, 0, 1, 0, 2, 1, 3], [0, 0, 1, 0, 2, 0, 3], [0, 0, 1, 2, 0, 2, 3], [0, 0, 1, 2, 0, 1, 3], [0, 0, 1, 2, 0, 0, 3], [0, 0, 1, 2, 1, 2, 3], [0, 0, 1, 2, 1, 1, 3], [0, 0, 1, 2, 1, 0, 3], [0, 0, 1, 2, 2, 2, 3], [0, 0, 1, 2, 2, 1, 3], [0, 0, 1, 2, 2, 0, 3], [0, 0, 1, 1, 0, 2, 3], [0, 0, 1, 1, 0, 1, 3], [0, 0, 1, 1, 0, 0, 3], [0, 0, 1, 1, 1, 2, 3], [0, 0, 1, 1, 1, 1, 3], [0, 0, 1, 1, 1, 0, 3], [0, 0, 1, 1, 2, 2, 3], [0, 0, 1, 1, 2, 1, 3], [0, 0, 1, 1, 2, 0, 3], [0, 0, 3, 0, 0, 2, 3], [0, 0, 3, 0, 0, 1, 3], [0, 0, 3, 0, 0, 0, 3], [0, 0, 3, 0, 1, 2, 3], [0, 0, 3, 0, 1, 1, 3], [0, 0, 3, 0, 1, 0, 3], [0, 0, 3, 0, 2, 2, 3], [0, 0, 3, 0, 2, 1, 3], [0, 0, 3, 0, 2, 0, 3], [0, 0, 3, 2, 0, 2, 3], [0, 0, 3, 2, 0, 1, 3], [0, 0, 3, 2, 0, 0, 3], [0, 0, 3, 2, 1, 2, 3], [0, 0, 3, 2, 1, 1, 3], [0, 0, 3, 2, 1, 0, 3], [0, 0, 3, 2, 2, 2, 3], [0, 0, 3, 2, 2, 1, 3], [0, 0, 3, 2, 2, 0, 3], [0, 0, 3, 1, 0, 2, 3], [0, 0, 3, 1, 0, 1, 3], [0, 0, 3, 1, 0, 0, 3], [0, 0, 3, 1, 1, 2, 3], [0, 0, 3, 1, 1, 1, 3], [0, 0, 3, 1, 1, 0, 3], [0, 0, 3, 1, 2, 2, 3], [0, 0, 3, 1, 2, 1, 3], [0, 0, 3, 1, 2, 0, 3], [0, 0, 0, 0, 0, 2, 3], [0, 0, 0, 0, 0, 1, 3], [0, 0, 0, 0, 0, 0, 3], [0, 0, 0, 0, 1, 2, 3], [0, 0, 0, 0, 1, 1, 3], [0, 0, 0, 0, 1, 0, 3], [0, 0, 0, 0, 2, 2, 3], [0, 0, 0, 0, 2, 1, 3], [0, 0, 0, 0, 2, 0, 3], [0, 0, 0, 2, 0, 2, 3], [0, 0, 0, 2, 0, 1, 3], [0, 0, 0, 2, 0, 0, 3], [0, 0, 0, 2, 1, 2, 3], [0, 0, 0, 2, 1, 1, 3], [0, 0, 0, 2, 1, 0, 3], [0, 0, 0, 2, 2, 2, 3], [0, 0, 0, 2, 2, 1, 3], [0, 0, 0, 2, 2, 0, 3], [0, 0, 0, 1, 0, 2, 3], [0, 0, 0, 1, 0, 1, 3], [0, 0, 0, 1, 0, 0, 3], [0, 0, 0, 1, 1, 2, 3], [0, 0, 0, 1, 1, 1, 3], [0, 0, 0, 1, 1, 0, 3], [0, 0, 0, 1, 2, 2, 3], [0, 0, 0, 1, 2, 1, 3], [0, 0, 0, 1, 2, 0, 3], [0, 1, 2, 0, 0, 2, 3], [0, 1, 2, 0, 0, 1, 3], [0, 1, 2, 0, 0, 0, 3], [0, 1, 2, 0, 1, 2, 3], [0, 1, 2, 0, 1, 1, 3], [0, 1, 2, 0, 1, 0, 3], [0, 1, 2, 0, 2, 2, 3], [0, 1, 2, 0, 2, 1, 3], [0, 1, 2, 0, 2, 0, 3], [0, 1, 2, 2, 0, 2, 3], [0, 1, 2, 2, 0, 1, 3], [0, 1, 2, 2, 0, 0, 3], [0, 1, 2, 2, 1, 2, 3], [0, 1, 2, 2, 1, 1, 3], [0, 1, 2, 2, 1, 0, 3], [0, 1, 2, 2, 2, 2, 3], [0, 1, 2, 2, 2, 1, 3], [0, 1, 2, 2, 2, 0, 3], [0, 1, 2, 1, 0, 2, 3], [0, 1, 2, 1, 0, 1, 3], [0, 1, 2, 1, 0, 0, 3], [0, 1, 2, 1, 1, 2, 3], [0, 1, 2, 1, 1, 1, 3], [0, 1, 2, 1, 1, 0, 3], [0, 1, 2, 1, 2, 2, 3], [0, 1, 2, 1, 2, 1, 3], [0, 1, 2, 1, 2, 0, 3], [0, 1, 1, 0, 0, 2, 3], [0, 1, 1, 0, 0, 1, 3], [0, 1, 1, 0, 0, 0, 3], [0, 1, 1, 0, 1, 2, 3], [0, 1, 1, 0, 1, 1, 3], [0, 1, 1, 0, 1, 0, 3], [0, 1, 1, 0, 2, 2, 3], [0, 1, 1, 0, 2, 1, 3], [0, 1, 1, 0, 2, 0, 3], [0, 1, 1, 2, 0, 2, 3], [0, 1, 1, 2, 0, 1, 3], [0, 1, 1, 2, 0, 0, 3], [0, 1, 1, 2, 1, 2, 3], [0, 1, 1, 2, 1, 1, 3], [0, 1, 1, 2, 1, 0, 3], [0, 1, 1, 2, 2, 2, 3], [0, 1, 1, 2, 2, 1, 3], [0, 1, 1, 2, 2, 0, 3], [0, 1, 1, 1, 0, 2, 3], [0, 1, 1, 1, 0, 1, 3], [0, 1, 1, 1, 0, 0, 3], [0, 1, 1, 1, 1, 2, 3], [0, 1, 1, 1, 1, 1, 3], [0, 1, 1, 1, 1, 0, 3], [0, 1, 1, 1, 2, 2, 3], [0, 1, 1, 1, 2, 1, 3], [0, 1, 1, 1, 2, 0, 3], [0, 1, 3, 0, 0, 2, 3], [0, 1, 3, 0, 0, 1, 3], [0, 1, 3, 0, 0, 0, 3], [0, 1, 3, 0, 1, 2, 3], [0, 1, 3, 0, 1, 1, 3], [0, 1, 3, 0, 1, 0, 3], [0, 1, 3, 0, 2, 2, 3], [0, 1, 3, 0, 2, 1, 3], [0, 1, 3, 0, 2, 0, 3], [0, 1, 3, 2, 0, 2, 3], [0, 1, 3, 2, 0, 1, 3], [0, 1, 3, 2, 0, 0, 3], [0, 1, 3, 2, 1, 2, 3], [0, 1, 3, 2, 1, 1, 3], [0, 1, 3, 2, 1, 0, 3], [0, 1, 3, 2, 2, 2, 3], [0, 1, 3, 2, 2, 1, 3], [0, 1, 3, 2, 2, 0, 3], [0, 1, 3, 1, 0, 2, 3], [0, 1, 3, 1, 0, 1, 3], [0, 1, 3, 1, 0, 0, 3], [0, 1, 3, 1, 1, 2, 3], [0, 1, 3, 1, 1, 1, 3], [0, 1, 3, 1, 1, 0, 3], [0, 1, 3, 1, 2, 2, 3], [0, 1, 3, 1, 2, 1, 3], [0, 1, 3, 1, 2, 0, 3], [0, 1, 0, 0, 0, 2, 3], [0, 1, 0, 0, 0, 1, 3], [0, 1, 0, 0, 0, 0, 3], [0, 1, 0, 0, 1, 2, 3], [0, 1, 0, 0, 1, 1, 3], [0, 1, 0, 0, 1, 0, 3], [0, 1, 0, 0, 2, 2, 3], [0, 1, 0, 0, 2, 1, 3], [0, 1, 0, 0, 2, 0, 3], [0, 1, 0, 2, 0, 2, 3], [0, 1, 0, 2, 0, 1, 3], [0, 1, 0, 2, 0, 0, 3], [0, 1, 0, 2, 1, 2, 3], [0, 1, 0, 2, 1, 1, 3], [0, 1, 0, 2, 1, 0, 3], [0, 1, 0, 2, 2, 2, 3], [0, 1, 0, 2, 2, 1, 3], [0, 1, 0, 2, 2, 0, 3], [0, 1, 0, 1, 0, 2, 3], [0, 1, 0, 1, 0, 1, 3], [0, 1, 0, 1, 0, 0, 3], [0, 1, 0, 1, 1, 2, 3], [0, 1, 0, 1, 1, 1, 3], [0, 1, 0, 1, 1, 0, 3], [0, 1, 0, 1, 2, 2, 3], [0, 1, 0, 1, 2, 1, 3], [0, 1, 0, 1, 2, 0, 3], [0, 2, 2, 0, 0, 2, 3], [0, 2, 2, 0, 0, 1, 3], [0, 2, 2, 0, 0, 0, 3], [0, 2, 2, 0, 1, 2, 3], [0, 2, 2, 0, 1, 1, 3], [0, 2, 2, 0, 1, 0, 3], [0, 2, 2, 0, 2, 2, 3], [0, 2, 2, 0, 2, 1, 3], [0, 2, 2, 0, 2, 0, 3], [0, 2, 2, 2, 0, 2, 3], [0, 2, 2, 2, 0, 1, 3], [0, 2, 2, 2, 0, 0, 2], [0, 2, 2, 2, 1, 2, 3], [0, 2, 2, 2, 1, 1, 3], [0, 2, 2, 2, 1, 0, 2], [0, 2, 2, 2, 2, 2, 3], [0, 2, 2, 2, 2, 1, 2], [0, 2, 2, 2, 2, 0, 2], [0, 2, 2, 1, 0, 2, 3], [0, 2, 2, 1, 0, 1, 3], [0, 2, 2, 1, 0, 0, 3], [0, 2, 2, 1, 1, 2, 3], [0, 2, 2, 1, 1, 1, 3], [0, 2, 2, 1, 1, 0, 2], [0, 2, 2, 1, 2, 2, 3], [0, 2, 2, 1, 2, 1, 2], [0, 2, 2, 1, 2, 0, 2], [0, 2, 1, 0, 0, 2, 3], [0, 2, 1, 0, 0, 1, 3], [0, 2, 1, 0, 0, 0, 3], [0, 2, 1, 0, 1, 2, 3], [0, 2, 1, 0, 1, 1, 3], [0, 2, 1, 0, 1, 0, 3], [0, 2, 1, 0, 2, 2, 3], [0, 2, 1, 0, 2, 1, 3], [0, 2, 1, 0, 2, 0, 3], [0, 2, 1, 2, 0, 2, 3], [0, 2, 1, 2, 0, 1, 3], [0, 2, 1, 2, 0, 0, 2], [0, 2, 1, 2, 1, 2, 3], [0, 2, 1, 2, 1, 1, 3], [0, 2, 1, 2, 1, 0, 2], [0, 2, 1, 2, 2, 2, 3], [0, 2, 1, 2, 2, 1, 2], [0, 2, 1, 2, 2, 0, 2], [0, 2, 1, 1, 0, 2, 3], [0, 2, 1, 1, 0, 1, 3], [0, 2, 1, 1, 0, 0, 2], [0, 2, 1, 1, 1, 2, 3], [0, 2, 1, 1, 1, 1, 2], [0, 2, 1, 1, 1, 0, 2], [0, 2, 1, 1, 2, 2, 3], [0, 2, 1, 1, 2, 1, 2], [0, 2, 1, 1, 2, 0, 2], [0, 2, 3, 0, 0, 2, 3], [0, 2, 3, 0, 0, 1, 3], [0, 2, 3, 0, 0, 0, 3], [0, 2, 3, 0, 1, 2, 3], [0, 2, 3, 0, 1, 1, 3], [0, 2, 3, 0, 1, 0, 3], [0, 2, 3, 0, 2, 2, 3], [0, 2, 3, 0, 2, 1, 3], [0, 2, 3, 0, 2, 0, 3], [0, 2, 3, 2, 0, 2, 3], [0, 2, 3, 2, 0, 1, 3], [0, 2, 3, 2, 0, 0, 2], [0, 2, 3, 2, 1, 2, 3], [0, 2, 3, 2, 1, 1, 2], [0, 2, 3, 2, 1, 0, 2], [0, 2, 3, 2, 2, 2, 3], [0, 2, 3, 2, 2, 1, 2], [0, 2, 3, 2, 2, 0, 2], [0, 2, 3, 1, 0, 2, 3], [0, 2, 3, 1, 0, 1, 3], [0, 2, 3, 1, 0, 0, 2], [0, 2, 3, 1, 1, 2, 3], [0, 2, 3, 1, 1, 1, 2], [0, 2, 3, 1, 1, 0, 2], [0, 2, 3, 1, 2, 2, 3], [0, 2, 3, 1, 2, 1, 2], [0, 2, 3, 1, 2, 0, 2], [0, 2, 0, 0, 0, 2, 3], [0, 2, 0, 0, 0, 1, 3], [0, 2, 0, 0, 0, 0, 3], [0, 2, 0, 0, 1, 2, 3], [0, 2, 0, 0, 1, 1, 3], [0, 2, 0, 0, 1, 0, 3], [0, 2, 0, 0, 2, 2, 3], [0, 2, 0, 0, 2, 1, 3], [0, 2, 0, 0, 2, 0, 3], [0, 2, 0, 2, 0, 2, 3], [0, 2, 0, 2, 0, 1, 3], [0, 2, 0, 2, 0, 0, 2], [0, 2, 0, 2, 1, 2, 3], [0, 2, 0, 2, 1, 1, 2], [0, 2, 0, 2, 1, 0, 2], [0, 2, 0, 2, 2, 2, 3], [0, 2, 0, 2, 2, 1, 2], [0, 2, 0, 2, 2, 0, 2], [0, 2, 0, 1, 0, 2, 3], [0, 2, 0, 1, 0, 1, 3], [0, 2, 0, 1, 0, 0, 2], [0, 2, 0, 1, 1, 2, 3], [0, 2, 0, 1, 1, 1, 2], [0, 2, 0, 1, 1, 0, 2], [0, 2, 0, 1, 2, 2, 3], [0, 2, 0, 1, 2, 1, 2], [0, 2, 0, 1, 2, 0, 2], [0, 3, 2, 0, 0, 2, 3], [0, 3, 2, 0, 0, 1, 3], [0, 3, 2, 0, 0, 0, 3], [0, 3, 2, 0, 1, 2, 3], [0, 3, 2, 0, 1, 1, 3], [0, 3, 2, 0, 1, 0, 3], [0, 3, 2, 0, 2, 2, 3], [0, 3, 2, 0, 2, 1, 3], [0, 3, 2, 0, 2, 0, 3], [0, 3, 2, 2, 0, 2, 3], [0, 3, 2, 2, 0, 1, 3], [0, 3, 2, 2, 0, 0, 2], [0, 3, 2, 2, 1, 2, 3], [0, 3, 2, 2, 1, 1, 3], [0, 3, 2, 2, 1, 0, 2], [0, 3, 2, 2, 2, 2, 3], [0, 3, 2, 2, 2, 1, 2], [0, 3, 2, 2, 2, 0, 2], [0, 3, 2, 1, 0, 2, 3], [0, 3, 2, 1, 0, 1, 3], [0, 3, 2, 1, 0, 0, 3], [0, 3, 2, 1, 1, 2, 3], [0, 3, 2, 1, 1, 1, 3], [0, 3, 2, 1, 1, 0, 2], [0, 3, 2, 1, 2, 2, 3], [0, 3, 2, 1, 2, 1, 2], [0, 3, 2, 1, 2, 0, 2], [0, 3, 1, 0, 0, 2, 3], [0, 3, 1, 0, 0, 1, 3], [0, 3, 1, 0, 0, 0, 3], [0, 3, 1, 0, 1, 2, 3], [0, 3, 1, 0, 1, 1, 3], [0, 3, 1, 0, 1, 0, 3], [0, 3, 1, 0, 2, 2, 3], [0, 3, 1, 0, 2, 1, 3], [0, 3, 1, 0, 2, 0, 3], [0, 3, 1, 2, 0, 2, 3], [0, 3, 1, 2, 0, 1, 3], [0, 3, 1, 2, 0, 0, 2], [0, 3, 1, 2, 1, 2, 3], [0, 3, 1, 2, 1, 1, 3], [0, 3, 1, 2, 1, 0, 2], [0, 3, 1, 2, 2, 2, 3], [0, 3, 1, 2, 2, 1, 2], [0, 3, 1, 2, 2, 0, 2], [0, 3, 1, 1, 0, 2, 3], [0, 3, 1, 1, 0, 1, 3], [0, 3, 1, 1, 0, 0, 2], [0, 3, 1, 1, 1, 2, 3], [0, 3, 1, 1, 1, 1, 2], [0, 3, 1, 1, 1, 0, 2], [0, 3, 1, 1, 2, 2, 3], [0, 3, 1, 1, 2, 1, 2], [0, 3, 1, 1, 2, 0, 2], [0, 3, 3, 0, 0, 2, 3], [0, 3, 3, 0, 0, 1, 3], [0, 3, 3, 0, 0, 0, 3], [0, 3, 3, 0, 1, 2, 3], [0, 3, 3, 0, 1, 1, 3], [0, 3, 3, 0, 1, 0, 3], [0, 3, 3, 0, 2, 2, 3], [0, 3, 3, 0, 2, 1, 3], [0, 3, 3, 0, 2, 0, 3], [0, 3, 3, 2, 0, 2, 3], [0, 3, 3, 2, 0, 1, 3], [0, 3, 3, 2, 0, 0, 2], [0, 3, 3, 2, 1, 2, 3], [0, 3, 3, 2, 1, 1, 2], [0, 3, 3, 2, 1, 0, 2], [0, 3, 3, 2, 2, 2, 3], [0, 3, 3, 2, 2, 1, 2], [0, 3, 3, 2, 2, 0, 2], [0, 3, 3, 1, 0, 2, 3], [0, 3, 3, 1, 0, 1, 3], [0, 3, 3, 1, 0, 0, 2], [0, 3, 3, 1, 1, 2, 3], [0, 3, 3, 1, 1, 1, 2], [0, 3, 3, 1, 1, 0, 2], [0, 3, 3, 1, 2, 2, 3], [0, 3, 3, 1, 2, 1, 2], [0, 3, 3, 1, 2, 0, 2], [0, 3, 0, 0, 0, 2, 3], [0, 3, 0, 0, 0, 1, 3], [0, 3, 0, 0, 0, 0, 3], [0, 3, 0, 0, 1, 2, 3], [0, 3, 0, 0, 1, 1, 3], [0, 3, 0, 0, 1, 0, 3], [0, 3, 0, 0, 2, 2, 3], [0, 3, 0, 0, 2, 1, 3], [0, 3, 0, 0, 2, 0, 3], [0, 3, 0, 2, 0, 2, 3], [0, 3, 0, 2, 0, 1, 3], [0, 3, 0, 2, 0, 0, 2], [0, 3, 0, 2, 1, 2, 3], [0, 3, 0, 2, 1, 1, 2], [0, 3, 0, 2, 1, 0, 2], [0, 3, 0, 2, 2, 2, 3], [0, 3, 0, 2, 2, 1, 2], [0, 3, 0, 2, 2, 0, 2], [0, 3, 0, 1, 0, 2, 3], [0, 3, 0, 1, 0, 1, 3], [0, 3, 0, 1, 0, 0, 2], [0, 3, 0, 1, 1, 2, 3], [0, 3, 0, 1, 1, 1, 2], [0, 3, 0, 1, 1, 0, 2], [0, 3, 0, 1, 2, 2, 3], [0, 3, 0, 1, 2, 1, 2], [0, 3, 0, 1, 2, 0, 2], [1, 0, 2, 0, 0, 2, 3], [1, 0, 2, 0, 0, 1, 3], [1, 0, 2, 0, 0, 0, 3], [1, 0, 2, 0, 1, 2, 3], [1, 0, 2, 0, 1, 1, 3], [1, 0, 2, 0, 1, 0, 3], [1, 0, 2, 0, 2, 2, 3], [1, 0, 2, 0, 2, 1, 3], [1, 0, 2, 0, 2, 0, 3], [1, 0, 2, 2, 0, 2, 3], [1, 0, 2, 2, 0, 1, 3], [1, 0, 2, 2, 0, 0, 3], [1, 0, 2, 2, 1, 2, 3], [1, 0, 2, 2, 1, 1, 3], [1, 0, 2, 2, 1, 0, 3], [1, 0, 2, 2, 2, 2, 3], [1, 0, 2, 2, 2, 1, 3], [1, 0, 2, 2, 2, 0, 3], [1, 0, 2, 1, 0, 2, 3], [1, 0, 2, 1, 0, 1, 3], [1, 0, 2, 1, 0, 0, 3], [1, 0, 2, 1, 1, 2, 3], [1, 0, 2, 1, 1, 1, 3], [1, 0, 2, 1, 1, 0, 3], [1, 0, 2, 1, 2, 2, 3], [1, 0, 2, 1, 2, 1, 3], [1, 0, 2, 1, 2, 0, 3], [1, 0, 1, 0, 0, 2, 3], [1, 0, 1, 0, 0, 1, 3], [1, 0, 1, 0, 0, 0, 3], [1, 0, 1, 0, 1, 2, 3], [1, 0, 1, 0, 1, 1, 3], [1, 0, 1, 0, 1, 0, 3], [1, 0, 1, 0, 2, 2, 3], [1, 0, 1, 0, 2, 1, 3], [1, 0, 1, 0, 2, 0, 3], [1, 0, 1, 2, 0, 2, 3], [1, 0, 1, 2, 0, 1, 3], [1, 0, 1, 2, 0, 0, 3], [1, 0, 1, 2, 1, 2, 3], [1, 0, 1, 2, 1, 1, 3], [1, 0, 1, 2, 1, 0, 3], [1, 0, 1, 2, 2, 2, 3], [1, 0, 1, 2, 2, 1, 3], [1, 0, 1, 2, 2, 0, 3], [1, 0, 1, 1, 0, 2, 3], [1, 0, 1, 1, 0, 1, 3], [1, 0, 1, 1, 0, 0, 3], [1, 0, 1, 1, 1, 2, 3], [1, 0, 1, 1, 1, 1, 3], [1, 0, 1, 1, 1, 0, 3], [1, 0, 1, 1, 2, 2, 3], [1, 0, 1, 1, 2, 1, 3], [1, 0, 1, 1, 2, 0, 3], [1, 0, 3, 0, 0, 2, 3], [1, 0, 3, 0, 0, 1, 3], [1, 0, 3, 0, 0, 0, 3], [1, 0, 3, 0, 1, 2, 3], [1, 0, 3, 0, 1, 1, 3], [1, 0, 3, 0, 1, 0, 3], [1, 0, 3, 0, 2, 2, 3], [1, 0, 3, 0, 2, 1, 3], [1, 0, 3, 0, 2, 0, 3], [1, 0, 3, 2, 0, 2, 3], [1, 0, 3, 2, 0, 1, 3], [1, 0, 3, 2, 0, 0, 3], [1, 0, 3, 2, 1, 2, 3], [1, 0, 3, 2, 1, 1, 3], [1, 0, 3, 2, 1, 0, 3], [1, 0, 3, 2, 2, 2, 3], [1, 0, 3, 2, 2, 1, 3], [1, 0, 3, 2, 2, 0, 3], [1, 0, 3, 1, 0, 2, 3], [1, 0, 3, 1, 0, 1, 3], [1, 0, 3, 1, 0, 0, 3], [1, 0, 3, 1, 1, 2, 3], [1, 0, 3, 1, 1, 1, 3], [1, 0, 3, 1, 1, 0, 3], [1, 0, 3, 1, 2, 2, 3], [1, 0, 3, 1, 2, 1, 3], [1, 0, 3, 1, 2, 0, 3], [1, 0, 0, 0, 0, 2, 3], [1, 0, 0, 0, 0, 1, 3], [1, 0, 0, 0, 0, 0, 3], [1, 0, 0, 0, 1, 2, 3], [1, 0, 0, 0, 1, 1, 3], [1, 0, 0, 0, 1, 0, 3], [1, 0, 0, 0, 2, 2, 3], [1, 0, 0, 0, 2, 1, 3], [1, 0, 0, 0, 2, 0, 3], [1, 0, 0, 2, 0, 2, 3], [1, 0, 0, 2, 0, 1, 3], [1, 0, 0, 2, 0, 0, 3], [1, 0, 0, 2, 1, 2, 3], [1, 0, 0, 2, 1, 1, 3], [1, 0, 0, 2, 1, 0, 3], [1, 0, 0, 2, 2, 2, 3], [1, 0, 0, 2, 2, 1, 3], [1, 0, 0, 2, 2, 0, 3], [1, 0, 0, 1, 0, 2, 3], [1, 0, 0, 1, 0, 1, 3], [1, 0, 0, 1, 0, 0, 3], [1, 0, 0, 1, 1, 2, 3], [1, 0, 0, 1, 1, 1, 3], [1, 0, 0, 1, 1, 0, 3], [1, 0, 0, 1, 2, 2, 3], [1, 0, 0, 1, 2, 1, 3], [1, 0, 0, 1, 2, 0, 3], [1, 1, 2, 0, 0, 2, 3], [1, 1, 2, 0, 0, 1, 3], [1, 1, 2, 0, 0, 0, 3], [1, 1, 2, 0, 1, 2, 3], [1, 1, 2, 0, 1, 1, 3], [1, 1, 2, 0, 1, 0, 3], [1, 1, 2, 0, 2, 2, 3], [1, 1, 2, 0, 2, 1, 3], [1, 1, 2, 0, 2, 0, 3], [1, 1, 2, 2, 0, 2, 3], [1, 1, 2, 2, 0, 1, 3], [1, 1, 2, 2, 0, 0, 2], [1, 1, 2, 2, 1, 2, 3], [1, 1, 2, 2, 1, 1, 3], [1, 1, 2, 2, 1, 0, 2], [1, 1, 2, 2, 2, 2, 3], [1, 1, 2, 2, 2, 1, 2], [1, 1, 2, 2, 2, 0, 2], [1, 1, 2, 1, 0, 2, 3], [1, 1, 2, 1, 0, 1, 3], [1, 1, 2, 1, 0, 0, 3], [1, 1, 2, 1, 1, 2, 3], [1, 1, 2, 1, 1, 1, 3], [1, 1, 2, 1, 1, 0, 2], [1, 1, 2, 1, 2, 2, 3], [1, 1, 2, 1, 2, 1, 2], [1, 1, 2, 1, 2, 0, 2], [1, 1, 1, 0, 0, 2, 3], [1, 1, 1, 0, 0, 1, 3], [1, 1, 1, 0, 0, 0, 3], [1, 1, 1, 0, 1, 2, 3], [1, 1, 1, 0, 1, 1, 3], [1, 1, 1, 0, 1, 0, 3], [1, 1, 1, 0, 2, 2, 3], [1, 1, 1, 0, 2, 1, 3], [1, 1, 1, 0, 2, 0, 3], [1, 1, 1, 2, 0, 2, 3], [1, 1, 1, 2, 0, 1, 3], [1, 1, 1, 2, 0, 0, 2], [1, 1, 1, 2, 1, 2, 3], [1, 1, 1, 2, 1, 1, 3], [1, 1, 1, 2, 1, 0, 2], [1, 1, 1, 2, 2, 2, 3], [1, 1, 1, 2, 2, 1, 2], [1, 1, 1, 2, 2, 0, 2], [1, 1, 1, 1, 0, 2, 3], [1, 1, 1, 1, 0, 1, 3], [1, 1, 1, 1, 0, 0, 2], [1, 1, 1, 1, 1, 2, 3], [1, 1, 1, 1, 1, 1, 2], [1, 1, 1, 1, 1, 0, 2], [1, 1, 1, 1, 2, 2, 3], [1, 1, 1, 1, 2, 1, 2], [1, 1, 1, 1, 2, 0, 2], [1, 1, 3, 0, 0, 2, 3], [1, 1, 3, 0, 0, 1, 3], [1, 1, 3, 0, 0, 0, 3], [1, 1, 3, 0, 1, 2, 3], [1, 1, 3, 0, 1, 1, 3], [1, 1, 3, 0, 1, 0, 3], [1, 1, 3, 0, 2, 2, 3], [1, 1, 3, 0, 2, 1, 3], [1, 1, 3, 0, 2, 0, 3], [1, 1, 3, 2, 0, 2, 3], [1, 1, 3, 2, 0, 1, 3], [1, 1, 3, 2, 0, 0, 2], [1, 1, 3, 2, 1, 2, 3], [1, 1, 3, 2, 1, 1, 2], [1, 1, 3, 2, 1, 0, 2], [1, 1, 3, 2, 2, 2, 3], [1, 1, 3, 2, 2, 1, 2], [1, 1, 3, 2, 2, 0, 2], [1, 1, 3, 1, 0, 2, 3], [1, 1, 3, 1, 0, 1, 3], [1, 1, 3, 1, 0, 0, 2], [1, 1, 3, 1, 1, 2, 3], [1, 1, 3, 1, 1, 1, 2], [1, 1, 3, 1, 1, 0, 2], [1, 1, 3, 1, 2, 2, 3], [1, 1, 3, 1, 2, 1, 2], [1, 1, 3, 1, 2, 0, 2], [1, 1, 0, 0, 0, 2, 3], [1, 1, 0, 0, 0, 1, 3], [1, 1, 0, 0, 0, 0, 3], [1, 1, 0, 0, 1, 2, 3], [1, 1, 0, 0, 1, 1, 3], [1, 1, 0, 0, 1, 0, 3], [1, 1, 0, 0, 2, 2, 3], [1, 1, 0, 0, 2, 1, 3], [1, 1, 0, 0, 2, 0, 3], [1, 1, 0, 2, 0, 2, 3], [1, 1, 0, 2, 0, 1, 3], [1, 1, 0, 2, 0, 0, 2], [1, 1, 0, 2, 1, 2, 3], [1, 1, 0, 2, 1, 1, 2], [1, 1, 0, 2, 1, 0, 2], [1, 1, 0, 2, 2, 2, 3], [1, 1, 0, 2, 2, 1, 2], [1, 1, 0, 2, 2, 0, 2], [1, 1, 0, 1, 0, 2, 3], [1, 1, 0, 1, 0, 1, 3], [1, 1, 0, 1, 0, 0, 2], [1, 1, 0, 1, 1, 2, 3], [1, 1, 0, 1, 1, 1, 2], [1, 1, 0, 1, 1, 0, 2], [1, 1, 0, 1, 2, 2, 3], [1, 1, 0, 1, 2, 1, 2], [1, 1, 0, 1, 2, 0, 2], [1, 2, 2, 0, 0, 2, 3], [1, 2, 2, 0, 0, 1, 3], [1, 2, 2, 0, 0, 0, 3], [1, 2, 2, 0, 1, 2, 3], [1, 2, 2, 0, 1, 1, 3], [1, 2, 2, 0, 1, 0, 3], [1, 2, 2, 0, 2, 2, 3], [1, 2, 2, 0, 2, 1, 3], [1, 2, 2, 0, 2, 0, 3], [1, 2, 2, 2, 0, 2, 3], [1, 2, 2, 2, 0, 1, 3], [1, 2, 2, 2, 0, 0, 2], [1, 2, 2, 2, 1, 2, 3], [1, 2, 2, 2, 1, 1, 3], [1, 2, 2, 2, 1, 0, 2], [1, 2, 2, 2, 2, 2, 3], [1, 2, 2, 2, 2, 1, 2], [1, 2, 2, 2, 2, 0, 2], [1, 2, 2, 1, 0, 2, 3], [1, 2, 2, 1, 0, 1, 3], [1, 2, 2, 1, 0, 0, 3], [1, 2, 2, 1, 1, 2, 3], [1, 2, 2, 1, 1, 1, 3], [1, 2, 2, 1, 1, 0, 2], [1, 2, 2, 1, 2, 2, 3], [1, 2, 2, 1, 2, 1, 2], [1, 2, 2, 1, 2, 0, 2], [1, 2, 1, 0, 0, 2, 3], [1, 2, 1, 0, 0, 1, 3], [1, 2, 1, 0, 0, 0, 3], [1, 2, 1, 0, 1, 2, 3], [1, 2, 1, 0, 1, 1, 3], [1, 2, 1, 0, 1, 0, 3], [1, 2, 1, 0, 2, 2, 3], [1, 2, 1, 0, 2, 1, 3], [1, 2, 1, 0, 2, 0, 3], [1, 2, 1, 2, 0, 2, 3], [1, 2, 1, 2, 0, 1, 3], [1, 2, 1, 2, 0, 0, 2], [1, 2, 1, 2, 1, 2, 3], [1, 2, 1, 2, 1, 1, 3], [1, 2, 1, 2, 1, 0, 2], [1, 2, 1, 2, 2, 2, 3], [1, 2, 1, 2, 2, 1, 2], [1, 2, 1, 2, 2, 0, 2], [1, 2, 1, 1, 0, 2, 3], [1, 2, 1, 1, 0, 1, 3], [1, 2, 1, 1, 0, 0, 2], [1, 2, 1, 1, 1, 2, 3], [1, 2, 1, 1, 1, 1, 2], [1, 2, 1, 1, 1, 0, 2], [1, 2, 1, 1, 2, 2, 3], [1, 2, 1, 1, 2, 1, 2], [1, 2, 1, 1, 2, 0, 2], [1, 2, 3, 0, 0, 2, 3], [1, 2, 3, 0, 0, 1, 3], [1, 2, 3, 0, 0, 0, 3], [1, 2, 3, 0, 1, 2, 3], [1, 2, 3, 0, 1, 1, 3], [1, 2, 3, 0, 1, 0, 3], [1, 2, 3, 0, 2, 2, 3], [1, 2, 3, 0, 2, 1, 3], [1, 2, 3, 0, 2, 0, 3], [1, 2, 3, 2, 0, 2, 3], [1, 2, 3, 2, 0, 1, 3], [1, 2, 3, 2, 0, 0, 2], [1, 2, 3, 2, 1, 2, 3], [1, 2, 3, 2, 1, 1, 2], [1, 2, 3, 2, 1, 0, 2], [1, 2, 3, 2, 2, 2, 3], [1, 2, 3, 2, 2, 1, 2], [1, 2, 3, 2, 2, 0, 2], [1, 2, 3, 1, 0, 2, 3], [1, 2, 3, 1, 0, 1, 3], [1, 2, 3, 1, 0, 0, 2], [1, 2, 3, 1, 1, 2, 3], [1, 2, 3, 1, 1, 1, 2], [1, 2, 3, 1, 1, 0, 2], [1, 2, 3, 1, 2, 2, 3], [1, 2, 3, 1, 2, 1, 2], [1, 2, 3, 1, 2, 0, 2], [1, 2, 0, 0, 0, 2, 3], [1, 2, 0, 0, 0, 1, 3], [1, 2, 0, 0, 0, 0, 3], [1, 2, 0, 0, 1, 2, 3], [1, 2, 0, 0, 1, 1, 3], [1, 2, 0, 0, 1, 0, 3], [1, 2, 0, 0, 2, 2, 3], [1, 2, 0, 0, 2, 1, 3], [1, 2, 0, 0, 2, 0, 3], [1, 2, 0, 2, 0, 2, 3], [1, 2, 0, 2, 0, 1, 3], [1, 2, 0, 2, 0, 0, 2], [1, 2, 0, 2, 1, 2, 3], [1, 2, 0, 2, 1, 1, 2], [1, 2, 0, 2, 1, 0, 2], [1, 2, 0, 2, 2, 2, 3], [1, 2, 0, 2, 2, 1, 2], [1, 2, 0, 2, 2, 0, 2], [1, 2, 0, 1, 0, 2, 3], [1, 2, 0, 1, 0, 1, 3], [1, 2, 0, 1, 0, 0, 2], [1, 2, 0, 1, 1, 2, 3], [1, 2, 0, 1, 1, 1, 2], [1, 2, 0, 1, 1, 0, 2], [1, 2, 0, 1, 2, 2, 3], [1, 2, 0, 1, 2, 1, 2], [1, 2, 0, 1, 2, 0, 2], [1, 3, 2, 0, 0, 2, 3], [1, 3, 2, 0, 0, 1, 3], [1, 3, 2, 0, 0, 0, 3], [1, 3, 2, 0, 1, 2, 3], [1, 3, 2, 0, 1, 1, 3], [1, 3, 2, 0, 1, 0, 3], [1, 3, 2, 0, 2, 2, 3], [1, 3, 2, 0, 2, 1, 3], [1, 3, 2, 0, 2, 0, 3], [1, 3, 2, 2, 0, 2, 3], [1, 3, 2, 2, 0, 1, 3], [1, 3, 2, 2, 0, 0, 2], [1, 3, 2, 2, 1, 2, 3], [1, 3, 2, 2, 1, 1, 3], [1, 3, 2, 2, 1, 0, 2], [1, 3, 2, 2, 2, 2, 3], [1, 3, 2, 2, 2, 1, 2], [1, 3, 2, 2, 2, 0, 2], [1, 3, 2, 1, 0, 2, 3], [1, 3, 2, 1, 0, 1, 3], [1, 3, 2, 1, 0, 0, 3], [1, 3, 2, 1, 1, 2, 3], [1, 3, 2, 1, 1, 1, 3], [1, 3, 2, 1, 1, 0, 2], [1, 3, 2, 1, 2, 2, 3], [1, 3, 2, 1, 2, 1, 2], [1, 3, 2, 1, 2, 0, 2], [1, 3, 1, 0, 0, 2, 3], [1, 3, 1, 0, 0, 1, 3], [1, 3, 1, 0, 0, 0, 3], [1, 3, 1, 0, 1, 2, 3], [1, 3, 1, 0, 1, 1, 3], [1, 3, 1, 0, 1, 0, 3], [1, 3, 1, 0, 2, 2, 3], [1, 3, 1, 0, 2, 1, 3], [1, 3, 1, 0, 2, 0, 3], [1, 3, 1, 2, 0, 2, 3], [1, 3, 1, 2, 0, 1, 3], [1, 3, 1, 2, 0, 0, 2], [1, 3, 1, 2, 1, 2, 3], [1, 3, 1, 2, 1, 1, 3], [1, 3, 1, 2, 1, 0, 2], [1, 3, 1, 2, 2, 2, 3], [1, 3, 1, 2, 2, 1, 2], [1, 3, 1, 2, 2, 0, 2], [1, 3, 1, 1, 0, 2, 3], [1, 3, 1, 1, 0, 1, 3], [1, 3, 1, 1, 0, 0, 2], [1, 3, 1, 1, 1, 2, 3], [1, 3, 1, 1, 1, 1, 2], [1, 3, 1, 1, 1, 0, 2], [1, 3, 1, 1, 2, 2, 3], [1, 3, 1, 1, 2, 1, 2], [1, 3, 1, 1, 2, 0, 2], [1, 3, 3, 0, 0, 2, 3], [1, 3, 3, 0, 0, 1, 3], [1, 3, 3, 0, 0, 0, 3], [1, 3, 3, 0, 1, 2, 3], [1, 3, 3, 0, 1, 1, 3], [1, 3, 3, 0, 1, 0, 3], [1, 3, 3, 0, 2, 2, 3], [1, 3, 3, 0, 2, 1, 3], [1, 3, 3, 0, 2, 0, 3], [1, 3, 3, 2, 0, 2, 3], [1, 3, 3, 2, 0, 1, 3], [1, 3, 3, 2, 0, 0, 2], [1, 3, 3, 2, 1, 2, 3], [1, 3, 3, 2, 1, 1, 2], [1, 3, 3, 2, 1, 0, 2], [1, 3, 3, 2, 2, 2, 3], [1, 3, 3, 2, 2, 1, 2], [1, 3, 3, 2, 2, 0, 2], [1, 3, 3, 1, 0, 2, 3], [1, 3, 3, 1, 0, 1, 3], [1, 3, 3, 1, 0, 0, 2], [1, 3, 3, 1, 1, 2, 3], [1, 3, 3, 1, 1, 1, 2], [1, 3, 3, 1, 1, 0, 2], [1, 3, 3, 1, 2, 2, 3], [1, 3, 3, 1, 2, 1, 2], [1, 3, 3, 1, 2, 0, 2], [1, 3, 0, 0, 0, 2, 3], [1, 3, 0, 0, 0, 1, 3], [1, 3, 0, 0, 0, 0, 3], [1, 3, 0, 0, 1, 2, 3], [1, 3, 0, 0, 1, 1, 3], [1, 3, 0, 0, 1, 0, 3], [1, 3, 0, 0, 2, 2, 3], [1, 3, 0, 0, 2, 1, 3], [1, 3, 0, 0, 2, 0, 3], [1, 3, 0, 2, 0, 2, 3], [1, 3, 0, 2, 0, 1, 3], [1, 3, 0, 2, 0, 0, 2], [1, 3, 0, 2, 1, 2, 3], [1, 3, 0, 2, 1, 1, 2], [1, 3, 0, 2, 1, 0, 2], [1, 3, 0, 2, 2, 2, 3], [1, 3, 0, 2, 2, 1, 2], [1, 3, 0, 2, 2, 0, 2], [1, 3, 0, 1, 0, 2, 3], [1, 3, 0, 1, 0, 1, 3], [1, 3, 0, 1, 0, 0, 2], [1, 3, 0, 1, 1, 2, 3], [1, 3, 0, 1, 1, 1, 2], [1, 3, 0, 1, 1, 0, 2], [1, 3, 0, 1, 2, 2, 3], [1, 3, 0, 1, 2, 1, 2], [1, 3, 0, 1, 2, 0, 2], [2, 0, 2, 0, 0, 2, 3], [2, 0, 2, 0, 0, 1, 3], [2, 0, 2, 0, 0, 0, 3], [2, 0, 2, 0, 1, 2, 3], [2, 0, 2, 0, 1, 1, 3], [2, 0, 2, 0, 1, 0, 3], [2, 0, 2, 0, 2, 2, 3], [2, 0, 2, 0, 2, 1, 3], [2, 0, 2, 0, 2, 0, 3], [2, 0, 2, 2, 0, 2, 3], [2, 0, 2, 2, 0, 1, 3], [2, 0, 2, 2, 0, 0, 2], [2, 0, 2, 2, 1, 2, 3], [2, 0, 2, 2, 1, 1, 3], [2, 0, 2, 2, 1, 0, 2], [2, 0, 2, 2, 2, 2, 3], [2, 0, 2, 2, 2, 1, 2], [2, 0, 2, 2, 2, 0, 2], [2, 0, 2, 1, 0, 2, 3], [2, 0, 2, 1, 0, 1, 3], [2, 0, 2, 1, 0, 0, 3], [2, 0, 2, 1, 1, 2, 3], [2, 0, 2, 1, 1, 1, 3], [2, 0, 2, 1, 1, 0, 2], [2, 0, 2, 1, 2, 2, 3], [2, 0, 2, 1, 2, 1, 2], [2, 0, 2, 1, 2, 0, 2], [2, 0, 1, 0, 0, 2, 3], [2, 0, 1, 0, 0, 1, 3], [2, 0, 1, 0, 0, 0, 3], [2, 0, 1, 0, 1, 2, 3], [2, 0, 1, 0, 1, 1, 3], [2, 0, 1, 0, 1, 0, 3], [2, 0, 1, 0, 2, 2, 3], [2, 0, 1, 0, 2, 1, 3], [2, 0, 1, 0, 2, 0, 3], [2, 0, 1, 2, 0, 2, 3], [2, 0, 1, 2, 0, 1, 3], [2, 0, 1, 2, 0, 0, 2], [2, 0, 1, 2, 1, 2, 3], [2, 0, 1, 2, 1, 1, 3], [2, 0, 1, 2, 1, 0, 2], [2, 0, 1, 2, 2, 2, 3], [2, 0, 1, 2, 2, 1, 2], [2, 0, 1, 2, 2, 0, 2], [2, 0, 1, 1, 0, 2, 3], [2, 0, 1, 1, 0, 1, 3], [2, 0, 1, 1, 0, 0, 2], [2, 0, 1, 1, 1, 2, 3], [2, 0, 1, 1, 1, 1, 2], [2, 0, 1, 1, 1, 0, 2], [2, 0, 1, 1, 2, 2, 3], [2, 0, 1, 1, 2, 1, 2], [2, 0, 1, 1, 2, 0, 2], [2, 0, 3, 0, 0, 2, 3], [2, 0, 3, 0, 0, 1, 3], [2, 0, 3, 0, 0, 0, 3], [2, 0, 3, 0, 1, 2, 3], [2, 0, 3, 0, 1, 1, 3], [2, 0, 3, 0, 1, 0, 3], [2, 0, 3, 0, 2, 2, 3], [2, 0, 3, 0, 2, 1, 3], [2, 0, 3, 0, 2, 0, 3], [2, 0, 3, 2, 0, 2, 3], [2, 0, 3, 2, 0, 1, 3], [2, 0, 3, 2, 0, 0, 2], [2, 0, 3, 2, 1, 2, 3], [2, 0, 3, 2, 1, 1, 2], [2, 0, 3, 2, 1, 0, 2], [2, 0, 3, 2, 2, 2, 3], [2, 0, 3, 2, 2, 1, 2], [2, 0, 3, 2, 2, 0, 2], [2, 0, 3, 1, 0, 2, 3], [2, 0, 3, 1, 0, 1, 3], [2, 0, 3, 1, 0, 0, 2], [2, 0, 3, 1, 1, 2, 3], [2, 0, 3, 1, 1, 1, 2], [2, 0, 3, 1, 1, 0, 2], [2, 0, 3, 1, 2, 2, 3], [2, 0, 3, 1, 2, 1, 2], [2, 0, 3, 1, 2, 0, 2], [2, 0, 0, 0, 0, 2, 3], [2, 0, 0, 0, 0, 1, 3], [2, 0, 0, 0, 0, 0, 3], [2, 0, 0, 0, 1, 2, 3], [2, 0, 0, 0, 1, 1, 3], [2, 0, 0, 0, 1, 0, 3], [2, 0, 0, 0, 2, 2, 3], [2, 0, 0, 0, 2, 1, 3], [2, 0, 0, 0, 2, 0, 3], [2, 0, 0, 2, 0, 2, 3], [2, 0, 0, 2, 0, 1, 3], [2, 0, 0, 2, 0, 0, 2], [2, 0, 0, 2, 1, 2, 3], [2, 0, 0, 2, 1, 1, 2], [2, 0, 0, 2, 1, 0, 2], [2, 0, 0, 2, 2, 2, 3], [2, 0, 0, 2, 2, 1, 2], [2, 0, 0, 2, 2, 0, 2], [2, 0, 0, 1, 0, 2, 3], [2, 0, 0, 1, 0, 1, 3], [2, 0, 0, 1, 0, 0, 2], [2, 0, 0, 1, 1, 2, 3], [2, 0, 0, 1, 1, 1, 2], [2, 0, 0, 1, 1, 0, 2], [2, 0, 0, 1, 2, 2, 3], [2, 0, 0, 1, 2, 1, 2], [2, 0, 0, 1, 2, 0, 2], [2, 1, 2, 0, 0, 2, 3], [2, 1, 2, 0, 0, 1, 3], [2, 1, 2, 0, 0, 0, 3], [2, 1, 2, 0, 1, 2, 3], [2, 1, 2, 0, 1, 1, 3], [2, 1, 2, 0, 1, 0, 3], [2, 1, 2, 0, 2, 2, 3], [2, 1, 2, 0, 2, 1, 3], [2, 1, 2, 0, 2, 0, 3], [2, 1, 2, 2, 0, 2, 3], [2, 1, 2, 2, 0, 1, 3], [2, 1, 2, 2, 0, 0, 2], [2, 1, 2, 2, 1, 2, 3], [2, 1, 2, 2, 1, 1, 3], [2, 1, 2, 2, 1, 0, 2], [2, 1, 2, 2, 2, 2, 3], [2, 1, 2, 2, 2, 1, 2], [2, 1, 2, 2, 2, 0, 2], [2, 1, 2, 1, 0, 2, 3], [2, 1, 2, 1, 0, 1, 3], [2, 1, 2, 1, 0, 0, 3], [2, 1, 2, 1, 1, 2, 3], [2, 1, 2, 1, 1, 1, 3], [2, 1, 2, 1, 1, 0, 2], [2, 1, 2, 1, 2, 2, 3], [2, 1, 2, 1, 2, 1, 2], [2, 1, 2, 1, 2, 0, 2], [2, 1, 1, 0, 0, 2, 3], [2, 1, 1, 0, 0, 1, 3], [2, 1, 1, 0, 0, 0, 3], [2, 1, 1, 0, 1, 2, 3], [2, 1, 1, 0, 1, 1, 3], [2, 1, 1, 0, 1, 0, 3], [2, 1, 1, 0, 2, 2, 3], [2, 1, 1, 0, 2, 1, 3], [2, 1, 1, 0, 2, 0, 3], [2, 1, 1, 2, 0, 2, 3], [2, 1, 1, 2, 0, 1, 3], [2, 1, 1, 2, 0, 0, 2], [2, 1, 1, 2, 1, 2, 3], [2, 1, 1, 2, 1, 1, 3], [2, 1, 1, 2, 1, 0, 2], [2, 1, 1, 2, 2, 2, 3], [2, 1, 1, 2, 2, 1, 2], [2, 1, 1, 2, 2, 0, 2], [2, 1, 1, 1, 0, 2, 3], [2, 1, 1, 1, 0, 1, 3], [2, 1, 1, 1, 0, 0, 2], [2, 1, 1, 1, 1, 2, 3], [2, 1, 1, 1, 1, 1, 2], [2, 1, 1, 1, 1, 0, 2], [2, 1, 1, 1, 2, 2, 3], [2, 1, 1, 1, 2, 1, 2], [2, 1, 1, 1, 2, 0, 2], [2, 1, 3, 0, 0, 2, 3], [2, 1, 3, 0, 0, 1, 3], [2, 1, 3, 0, 0, 0, 3], [2, 1, 3, 0, 1, 2, 3], [2, 1, 3, 0, 1, 1, 3], [2, 1, 3, 0, 1, 0, 3], [2, 1, 3, 0, 2, 2, 3], [2, 1, 3, 0, 2, 1, 3], [2, 1, 3, 0, 2, 0, 3], [2, 1, 3, 2, 0, 2, 3], [2, 1, 3, 2, 0, 1, 3], [2, 1, 3, 2, 0, 0, 2], [2, 1, 3, 2, 1, 2, 3], [2, 1, 3, 2, 1, 1, 2], [2, 1, 3, 2, 1, 0, 2], [2, 1, 3, 2, 2, 2, 3], [2, 1, 3, 2, 2, 1, 2], [2, 1, 3, 2, 2, 0, 2], [2, 1, 3, 1, 0, 2, 3], [2, 1, 3, 1, 0, 1, 3], [2, 1, 3, 1, 0, 0, 2], [2, 1, 3, 1, 1, 2, 3], [2, 1, 3, 1, 1, 1, 2], [2, 1, 3, 1, 1, 0, 2], [2, 1, 3, 1, 2, 2, 3], [2, 1, 3, 1, 2, 1, 2], [2, 1, 3, 1, 2, 0, 2], [2, 1, 0, 0, 0, 2, 3], [2, 1, 0, 0, 0, 1, 3], [2, 1, 0, 0, 0, 0, 3], [2, 1, 0, 0, 1, 2, 3], [2, 1, 0, 0, 1, 1, 3], [2, 1, 0, 0, 1, 0, 3], [2, 1, 0, 0, 2, 2, 3], [2, 1, 0, 0, 2, 1, 3], [2, 1, 0, 0, 2, 0, 3], [2, 1, 0, 2, 0, 2, 3], [2, 1, 0, 2, 0, 1, 3], [2, 1, 0, 2, 0, 0, 2], [2, 1, 0, 2, 1, 2, 3], [2, 1, 0, 2, 1, 1, 2], [2, 1, 0, 2, 1, 0, 2], [2, 1, 0, 2, 2, 2, 3], [2, 1, 0, 2, 2, 1, 2], [2, 1, 0, 2, 2, 0, 2], [2, 1, 0, 1, 0, 2, 3], [2, 1, 0, 1, 0, 1, 3], [2, 1, 0, 1, 0, 0, 2], [2, 1, 0, 1, 1, 2, 3], [2, 1, 0, 1, 1, 1, 2], [2, 1, 0, 1, 1, 0, 2], [2, 1, 0, 1, 2, 2, 3], [2, 1, 0, 1, 2, 1, 2], [2, 1, 0, 1, 2, 0, 2], [2, 2, 2, 0, 0, 2, 3], [2, 2, 2, 0, 0, 1, 3], [2, 2, 2, 0, 0, 0, 3], [2, 2, 2, 0, 1, 2, 3], [2, 2, 2, 0, 1, 1, 3], [2, 2, 2, 0, 1, 0, 3], [2, 2, 2, 0, 2, 2, 3], [2, 2, 2, 0, 2, 1, 3], [2, 2, 2, 0, 2, 0, 3], [2, 2, 2, 2, 0, 2, 3], [2, 2, 2, 2, 0, 1, 2], [2, 2, 2, 2, 0, 0, 2], [2, 2, 2, 2, 1, 2, 3], [2, 2, 2, 2, 1, 1, 2], [2, 2, 2, 2, 1, 0, 2], [2, 2, 2, 2, 2, 2, 3], [2, 2, 2, 2, 2, 1, 2], [2, 2, 2, 2, 2, 0, 0], [2, 2, 2, 1, 0, 2, 3], [2, 2, 2, 1, 0, 1, 3], [2, 2, 2, 1, 0, 0, 3], [2, 2, 2, 1, 1, 2, 3], [2, 2, 2, 1, 1, 1, 2], [2, 2, 2, 1, 1, 0, 2], [2, 2, 2, 1, 2, 2, 3], [2, 2, 2, 1, 2, 1, 2], [2, 2, 2, 1, 2, 0, 0], [2, 2, 1, 0, 0, 2, 3], [2, 2, 1, 0, 0, 1, 3], [2, 2, 1, 0, 0, 0, 3], [2, 2, 1, 0, 1, 2, 3], [2, 2, 1, 0, 1, 1, 3], [2, 2, 1, 0, 1, 0, 3], [2, 2, 1, 0, 2, 2, 3], [2, 2, 1, 0, 2, 1, 3], [2, 2, 1, 0, 2, 0, 3], [2, 2, 1, 2, 0, 2, 3], [2, 2, 1, 2, 0, 1, 2], [2, 2, 1, 2, 0, 0, 2], [2, 2, 1, 2, 1, 2, 3], [2, 2, 1, 2, 1, 1, 2], [2, 2, 1, 2, 1, 0, 2], [2, 2, 1, 2, 2, 2, 3], [2, 2, 1, 2, 2, 1, 2], [2, 2, 1, 2, 2, 0, 0], [2, 2, 1, 1, 0, 2, 3], [2, 2, 1, 1, 0, 1, 2], [2, 2, 1, 1, 0, 0, 2], [2, 2, 1, 1, 1, 2, 3], [2, 2, 1, 1, 1, 1, 2], [2, 2, 1, 1, 1, 0, 0], [2, 2, 1, 1, 2, 2, 3], [2, 2, 1, 1, 2, 1, 2], [2, 2, 1, 1, 2, 0, 0], [2, 2, 3, 0, 0, 2, 3], [2, 2, 3, 0, 0, 1, 3], [2, 2, 3, 0, 0, 0, 3], [2, 2, 3, 0, 1, 2, 3], [2, 2, 3, 0, 1, 1, 3], [2, 2, 3, 0, 1, 0, 3], [2, 2, 3, 0, 2, 2, 3], [2, 2, 3, 0, 2, 1, 3], [2, 2, 3, 0, 2, 0, 3], [2, 2, 3, 2, 0, 2, 3], [2, 2, 3, 2, 0, 1, 2], [2, 2, 3, 2, 0, 0, 2], [2, 2, 3, 2, 1, 2, 3], [2, 2, 3, 2, 1, 1, 2], [2, 2, 3, 2, 1, 0, 0], [2, 2, 3, 2, 2, 2, 3], [2, 2, 3, 2, 2, 1, 2], [2, 2, 3, 2, 2, 0, 0], [2, 2, 3, 1, 0, 2, 3], [2, 2, 3, 1, 0, 1, 2], [2, 2, 3, 1, 0, 0, 2], [2, 2, 3, 1, 1, 2, 3], [2, 2, 3, 1, 1, 1, 2], [2, 2, 3, 1, 1, 0, 0], [2, 2, 3, 1, 2, 2, 3], [2, 2, 3, 1, 2, 1, 2], [2, 2, 3, 1, 2, 0, 0], [2, 2, 0, 0, 0, 2, 3], [2, 2, 0, 0, 0, 1, 3], [2, 2, 0, 0, 0, 0, 3], [2, 2, 0, 0, 1, 2, 3], [2, 2, 0, 0, 1, 1, 3], [2, 2, 0, 0, 1, 0, 3], [2, 2, 0, 0, 2, 2, 3], [2, 2, 0, 0, 2, 1, 3], [2, 2, 0, 0, 2, 0, 3], [2, 2, 0, 2, 0, 2, 3], [2, 2, 0, 2, 0, 1, 2], [2, 2, 0, 2, 0, 0, 2], [2, 2, 0, 2, 1, 2, 3], [2, 2, 0, 2, 1, 1, 2], [2, 2, 0, 2, 1, 0, 0], [2, 2, 0, 2, 2, 2, 3], [2, 2, 0, 2, 2, 1, 2], [2, 2, 0, 2, 2, 0, 0], [2, 2, 0, 1, 0, 2, 3], [2, 2, 0, 1, 0, 1, 2], [2, 2, 0, 1, 0, 0, 2], [2, 2, 0, 1, 1, 2, 3], [2, 2, 0, 1, 1, 1, 2], [2, 2, 0, 1, 1, 0, 0], [2, 2, 0, 1, 2, 2, 3], [2, 2, 0, 1, 2, 1, 2], [2, 2, 0, 1, 2, 0, 0], [2, 3, 2, 0, 0, 2, 3], [2, 3, 2, 0, 0, 1, 3], [2, 3, 2, 0, 0, 0, 3], [2, 3, 2, 0, 1, 2, 3], [2, 3, 2, 0, 1, 1, 3], [2, 3, 2, 0, 1, 0, 3], [2, 3, 2, 0, 2, 2, 3], [2, 3, 2, 0, 2, 1, 3], [2, 3, 2, 0, 2, 0, 3], [2, 3, 2, 2, 0, 2, 3], [2, 3, 2, 2, 0, 1, 2], [2, 3, 2, 2, 0, 0, 1], [2, 3, 2, 2, 1, 2, 3], [2, 3, 2, 2, 1, 1, 2], [2, 3, 2, 2, 1, 0, 1], [2, 3, 2, 2, 2, 2, 3], [2, 3, 2, 2, 2, 1, 1], [2, 3, 2, 2, 2, 0, 0], [2, 3, 2, 1, 0, 2, 3], [2, 3, 2, 1, 0, 1, 3], [2, 3, 2, 1, 0, 0, 3], [2, 3, 2, 1, 1, 2, 3], [2, 3, 2, 1, 1, 1, 2], [2, 3, 2, 1, 1, 0, 1], [2, 3, 2, 1, 2, 2, 3], [2, 3, 2, 1, 2, 1, 1], [2, 3, 2, 1, 2, 0, 0], [2, 3, 1, 0, 0, 2, 3], [2, 3, 1, 0, 0, 1, 3], [2, 3, 1, 0, 0, 0, 3], [2, 3, 1, 0, 1, 2, 3], [2, 3, 1, 0, 1, 1, 3], [2, 3, 1, 0, 1, 0, 3], [2, 3, 1, 0, 2, 2, 3], [2, 3, 1, 0, 2, 1, 3], [2, 3, 1, 0, 2, 0, 3], [2, 3, 1, 2, 0, 2, 3], [2, 3, 1, 2, 0, 1, 2], [2, 3, 1, 2, 0, 0, 1], [2, 3, 1, 2, 1, 2, 3], [2, 3, 1, 2, 1, 1, 2], [2, 3, 1, 2, 1, 0, 1], [2, 3, 1, 2, 2, 2, 3], [2, 3, 1, 2, 2, 1, 1], [2, 3, 1, 2, 2, 0, 0], [2, 3, 1, 1, 0, 2, 3], [2, 3, 1, 1, 0, 1, 2], [2, 3, 1, 1, 0, 0, 1], [2, 3, 1, 1, 1, 2, 3], [2, 3, 1, 1, 1, 1, 1], [2, 3, 1, 1, 1, 0, 0], [2, 3, 1, 1, 2, 2, 3], [2, 3, 1, 1, 2, 1, 1], [2, 3, 1, 1, 2, 0, 0], [2, 3, 3, 0, 0, 2, 3], [2, 3, 3, 0, 0, 1, 3], [2, 3, 3, 0, 0, 0, 3], [2, 3, 3, 0, 1, 2, 3], [2, 3, 3, 0, 1, 1, 3], [2, 3, 3, 0, 1, 0, 3], [2, 3, 3, 0, 2, 2, 3], [2, 3, 3, 0, 2, 1, 3], [2, 3, 3, 0, 2, 0, 3], [2, 3, 3, 2, 0, 2, 3], [2, 3, 3, 2, 0, 1, 2], [2, 3, 3, 2, 0, 0, 1], [2, 3, 3, 2, 1, 2, 3], [2, 3, 3, 2, 1, 1, 1], [2, 3, 3, 2, 1, 0, 0], [2, 3, 3, 2, 2, 2, 3], [2, 3, 3, 2, 2, 1, 1], [2, 3, 3, 2, 2, 0, 0], [2, 3, 3, 1, 0, 2, 3], [2, 3, 3, 1, 0, 1, 2], [2, 3, 3, 1, 0, 0, 1], [2, 3, 3, 1, 1, 2, 3], [2, 3, 3, 1, 1, 1, 1], [2, 3, 3, 1, 1, 0, 0], [2, 3, 3, 1, 2, 2, 3], [2, 3, 3, 1, 2, 1, 1], [2, 3, 3, 1, 2, 0, 0], [2, 3, 0, 0, 0, 2, 3], [2, 3, 0, 0, 0, 1, 3], [2, 3, 0, 0, 0, 0, 3], [2, 3, 0, 0, 1, 2, 3], [2, 3, 0, 0, 1, 1, 3], [2, 3, 0, 0, 1, 0, 3], [2, 3, 0, 0, 2, 2, 3], [2, 3, 0, 0, 2, 1, 3], [2, 3, 0, 0, 2, 0, 3], [2, 3, 0, 2, 0, 2, 3], [2, 3, 0, 2, 0, 1, 2], [2, 3, 0, 2, 0, 0, 1], [2, 3, 0, 2, 1, 2, 3], [2, 3, 0, 2, 1, 1, 1], [2, 3, 0, 2, 1, 0, 0], [2, 3, 0, 2, 2, 2, 3], [2, 3, 0, 2, 2, 1, 1], [2, 3, 0, 2, 2, 0, 0], [2, 3, 0, 1, 0, 2, 3], [2, 3, 0, 1, 0, 1, 2], [2, 3, 0, 1, 0, 0, 1], [2, 3, 0, 1, 1, 2, 3], [2, 3, 0, 1, 1, 1, 1], [2, 3, 0, 1, 1, 0, 0], [2, 3, 0, 1, 2, 2, 3], [2, 3, 0, 1, 2, 1, 1], [2, 3, 0, 1, 2, 0, 0], [3, 0, 2, 0, 0, 2, 3], [3, 0, 2, 0, 0, 1, 3], [3, 0, 2, 0, 0, 0, 3], [3, 0, 2, 0, 1, 2, 3], [3, 0, 2, 0, 1, 1, 3], [3, 0, 2, 0, 1, 0, 3], [3, 0, 2, 0, 2, 2, 3], [3, 0, 2, 0, 2, 1, 3], [3, 0, 2, 0, 2, 0, 3], [3, 0, 2, 2, 0, 2, 3], [3, 0, 2, 2, 0, 1, 3], [3, 0, 2, 2, 0, 0, 2], [3, 0, 2, 2, 1, 2, 3], [3, 0, 2, 2, 1, 1, 3], [3, 0, 2, 2, 1, 0, 2], [3, 0, 2, 2, 2, 2, 3], [3, 0, 2, 2, 2, 1, 2], [3, 0, 2, 2, 2, 0, 2], [3, 0, 2, 1, 0, 2, 3], [3, 0, 2, 1, 0, 1, 3], [3, 0, 2, 1, 0, 0, 3], [3, 0, 2, 1, 1, 2, 3], [3, 0, 2, 1, 1, 1, 3], [3, 0, 2, 1, 1, 0, 2], [3, 0, 2, 1, 2, 2, 3], [3, 0, 2, 1, 2, 1, 2], [3, 0, 2, 1, 2, 0, 2], [3, 0, 1, 0, 0, 2, 3], [3, 0, 1, 0, 0, 1, 3], [3, 0, 1, 0, 0, 0, 3], [3, 0, 1, 0, 1, 2, 3], [3, 0, 1, 0, 1, 1, 3], [3, 0, 1, 0, 1, 0, 3], [3, 0, 1, 0, 2, 2, 3], [3, 0, 1, 0, 2, 1, 3], [3, 0, 1, 0, 2, 0, 3], [3, 0, 1, 2, 0, 2, 3], [3, 0, 1, 2, 0, 1, 3], [3, 0, 1, 2, 0, 0, 2], [3, 0, 1, 2, 1, 2, 3], [3, 0, 1, 2, 1, 1, 3], [3, 0, 1, 2, 1, 0, 2], [3, 0, 1, 2, 2, 2, 3], [3, 0, 1, 2, 2, 1, 2], [3, 0, 1, 2, 2, 0, 2], [3, 0, 1, 1, 0, 2, 3], [3, 0, 1, 1, 0, 1, 3], [3, 0, 1, 1, 0, 0, 2], [3, 0, 1, 1, 1, 2, 3], [3, 0, 1, 1, 1, 1, 2], [3, 0, 1, 1, 1, 0, 2], [3, 0, 1, 1, 2, 2, 3], [3, 0, 1, 1, 2, 1, 2], [3, 0, 1, 1, 2, 0, 2], [3, 0, 3, 0, 0, 2, 3], [3, 0, 3, 0, 0, 1, 3], [3, 0, 3, 0, 0, 0, 3], [3, 0, 3, 0, 1, 2, 3], [3, 0, 3, 0, 1, 1, 3], [3, 0, 3, 0, 1, 0, 3], [3, 0, 3, 0, 2, 2, 3], [3, 0, 3, 0, 2, 1, 3], [3, 0, 3, 0, 2, 0, 3], [3, 0, 3, 2, 0, 2, 3], [3, 0, 3, 2, 0, 1, 3], [3, 0, 3, 2, 0, 0, 2], [3, 0, 3, 2, 1, 2, 3], [3, 0, 3, 2, 1, 1, 2], [3, 0, 3, 2, 1, 0, 2], [3, 0, 3, 2, 2, 2, 3], [3, 0, 3, 2, 2, 1, 2], [3, 0, 3, 2, 2, 0, 2], [3, 0, 3, 1, 0, 2, 3], [3, 0, 3, 1, 0, 1, 3], [3, 0, 3, 1, 0, 0, 2], [3, 0, 3, 1, 1, 2, 3], [3, 0, 3, 1, 1, 1, 2], [3, 0, 3, 1, 1, 0, 2], [3, 0, 3, 1, 2, 2, 3], [3, 0, 3, 1, 2, 1, 2], [3, 0, 3, 1, 2, 0, 2], [3, 0, 0, 0, 0, 2, 3], [3, 0, 0, 0, 0, 1, 3], [3, 0, 0, 0, 0, 0, 3], [3, 0, 0, 0, 1, 2, 3], [3, 0, 0, 0, 1, 1, 3], [3, 0, 0, 0, 1, 0, 3], [3, 0, 0, 0, 2, 2, 3], [3, 0, 0, 0, 2, 1, 3], [3, 0, 0, 0, 2, 0, 3], [3, 0, 0, 2, 0, 2, 3], [3, 0, 0, 2, 0, 1, 3], [3, 0, 0, 2, 0, 0, 2], [3, 0, 0, 2, 1, 2, 3], [3, 0, 0, 2, 1, 1, 2], [3, 0, 0, 2, 1, 0, 2], [3, 0, 0, 2, 2, 2, 3], [3, 0, 0, 2, 2, 1, 2], [3, 0, 0, 2, 2, 0, 2], [3, 0, 0, 1, 0, 2, 3], [3, 0, 0, 1, 0, 1, 3], [3, 0, 0, 1, 0, 0, 2], [3, 0, 0, 1, 1, 2, 3], [3, 0, 0, 1, 1, 1, 2], [3, 0, 0, 1, 1, 0, 2], [3, 0, 0, 1, 2, 2, 3], [3, 0, 0, 1, 2, 1, 2], [3, 0, 0, 1, 2, 0, 2], [3, 1, 2, 0, 0, 2, 3], [3, 1, 2, 0, 0, 1, 3], [3, 1, 2, 0, 0, 0, 3], [3, 1, 2, 0, 1, 2, 3], [3, 1, 2, 0, 1, 1, 3], [3, 1, 2, 0, 1, 0, 3], [3, 1, 2, 0, 2, 2, 3], [3, 1, 2, 0, 2, 1, 3], [3, 1, 2, 0, 2, 0, 3], [3, 1, 2, 2, 0, 2, 3], [3, 1, 2, 2, 0, 1, 2], [3, 1, 2, 2, 0, 0, 2], [3, 1, 2, 2, 1, 2, 3], [3, 1, 2, 2, 1, 1, 2], [3, 1, 2, 2, 1, 0, 2], [3, 1, 2, 2, 2, 2, 3], [3, 1, 2, 2, 2, 1, 2], [3, 1, 2, 2, 2, 0, 0], [3, 1, 2, 1, 0, 2, 3], [3, 1, 2, 1, 0, 1, 3], [3, 1, 2, 1, 0, 0, 3], [3, 1, 2, 1, 1, 2, 3], [3, 1, 2, 1, 1, 1, 2], [3, 1, 2, 1, 1, 0, 2], [3, 1, 2, 1, 2, 2, 3], [3, 1, 2, 1, 2, 1, 2], [3, 1, 2, 1, 2, 0, 0], [3, 1, 1, 0, 0, 2, 3], [3, 1, 1, 0, 0, 1, 3], [3, 1, 1, 0, 0, 0, 3], [3, 1, 1, 0, 1, 2, 3], [3, 1, 1, 0, 1, 1, 3], [3, 1, 1, 0, 1, 0, 3], [3, 1, 1, 0, 2, 2, 3], [3, 1, 1, 0, 2, 1, 3], [3, 1, 1, 0, 2, 0, 3], [3, 1, 1, 2, 0, 2, 3], [3, 1, 1, 2, 0, 1, 2], [3, 1, 1, 2, 0, 0, 2], [3, 1, 1, 2, 1, 2, 3], [3, 1, 1, 2, 1, 1, 2], [3, 1, 1, 2, 1, 0, 2], [3, 1, 1, 2, 2, 2, 3], [3, 1, 1, 2, 2, 1, 2], [3, 1, 1, 2, 2, 0, 0], [3, 1, 1, 1, 0, 2, 3], [3, 1, 1, 1, 0, 1, 2], [3, 1, 1, 1, 0, 0, 2], [3, 1, 1, 1, 1, 2, 3], [3, 1, 1, 1, 1, 1, 2], [3, 1, 1, 1, 1, 0, 0], [3, 1, 1, 1, 2, 2, 3], [3, 1, 1, 1, 2, 1, 2], [3, 1, 1, 1, 2, 0, 0], [3, 1, 3, 0, 0, 2, 3], [3, 1, 3, 0, 0, 1, 3], [3, 1, 3, 0, 0, 0, 3], [3, 1, 3, 0, 1, 2, 3], [3, 1, 3, 0, 1, 1, 3], [3, 1, 3, 0, 1, 0, 3], [3, 1, 3, 0, 2, 2, 3], [3, 1, 3, 0, 2, 1, 3], [3, 1, 3, 0, 2, 0, 3], [3, 1, 3, 2, 0, 2, 3], [3, 1, 3, 2, 0, 1, 2], [3, 1, 3, 2, 0, 0, 2], [3, 1, 3, 2, 1, 2, 3], [3, 1, 3, 2, 1, 1, 2], [3, 1, 3, 2, 1, 0, 0], [3, 1, 3, 2, 2, 2, 3], [3, 1, 3, 2, 2, 1, 2], [3, 1, 3, 2, 2, 0, 0], [3, 1, 3, 1, 0, 2, 3], [3, 1, 3, 1, 0, 1, 2], [3, 1, 3, 1, 0, 0, 2], [3, 1, 3, 1, 1, 2, 3], [3, 1, 3, 1, 1, 1, 2], [3, 1, 3, 1, 1, 0, 0], [3, 1, 3, 1, 2, 2, 3], [3, 1, 3, 1, 2, 1, 2], [3, 1, 3, 1, 2, 0, 0], [3, 1, 0, 0, 0, 2, 3], [3, 1, 0, 0, 0, 1, 3], [3, 1, 0, 0, 0, 0, 3], [3, 1, 0, 0, 1, 2, 3], [3, 1, 0, 0, 1, 1, 3], [3, 1, 0, 0, 1, 0, 3], [3, 1, 0, 0, 2, 2, 3], [3, 1, 0, 0, 2, 1, 3], [3, 1, 0, 0, 2, 0, 3], [3, 1, 0, 2, 0, 2, 3], [3, 1, 0, 2, 0, 1, 2], [3, 1, 0, 2, 0, 0, 2], [3, 1, 0, 2, 1, 2, 3], [3, 1, 0, 2, 1, 1, 2], [3, 1, 0, 2, 1, 0, 0], [3, 1, 0, 2, 2, 2, 3], [3, 1, 0, 2, 2, 1, 2], [3, 1, 0, 2, 2, 0, 0], [3, 1, 0, 1, 0, 2, 3], [3, 1, 0, 1, 0, 1, 2], [3, 1, 0, 1, 0, 0, 2], [3, 1, 0, 1, 1, 2, 3], [3, 1, 0, 1, 1, 1, 2], [3, 1, 0, 1, 1, 0, 0], [3, 1, 0, 1, 2, 2, 3], [3, 1, 0, 1, 2, 1, 2], [3, 1, 0, 1, 2, 0, 0], [3, 2, 2, 0, 0, 2, 3], [3, 2, 2, 0, 0, 1, 3], [3, 2, 2, 0, 0, 0, 3], [3, 2, 2, 0, 1, 2, 3], [3, 2, 2, 0, 1, 1, 3], [3, 2, 2, 0, 1, 0, 3], [3, 2, 2, 0, 2, 2, 3], [3, 2, 2, 0, 2, 1, 3], [3, 2, 2, 0, 2, 0, 3], [3, 2, 2, 2, 0, 2, 3], [3, 2, 2, 2, 0, 1, 2], [3, 2, 2, 2, 0, 0, 1], [3, 2, 2, 2, 1, 2, 3], [3, 2, 2, 2, 1, 1, 2], [3, 2, 2, 2, 1, 0, 1], [3, 2, 2, 2, 2, 2, 3], [3, 2, 2, 2, 2, 1, 1], [3, 2, 2, 2, 2, 0, 0], [3, 2, 2, 1, 0, 2, 3], [3, 2, 2, 1, 0, 1, 3], [3, 2, 2, 1, 0, 0, 3], [3, 2, 2, 1, 1, 2, 3], [3, 2, 2, 1, 1, 1, 2], [3, 2, 2, 1, 1, 0, 1], [3, 2, 2, 1, 2, 2, 3], [3, 2, 2, 1, 2, 1, 1], [3, 2, 2, 1, 2, 0, 0], [3, 2, 1, 0, 0, 2, 3], [3, 2, 1, 0, 0, 1, 3], [3, 2, 1, 0, 0, 0, 3], [3, 2, 1, 0, 1, 2, 3], [3, 2, 1, 0, 1, 1, 3], [3, 2, 1, 0, 1, 0, 3], [3, 2, 1, 0, 2, 2, 3], [3, 2, 1, 0, 2, 1, 3], [3, 2, 1, 0, 2, 0, 3], [3, 2, 1, 2, 0, 2, 3], [3, 2, 1, 2, 0, 1, 2], [3, 2, 1, 2, 0, 0, 1], [3, 2, 1, 2, 1, 2, 3], [3, 2, 1, 2, 1, 1, 2], [3, 2, 1, 2, 1, 0, 1], [3, 2, 1, 2, 2, 2, 3], [3, 2, 1, 2, 2, 1, 1], [3, 2, 1, 2, 2, 0, 0], [3, 2, 1, 1, 0, 2, 3], [3, 2, 1, 1, 0, 1, 2], [3, 2, 1, 1, 0, 0, 1], [3, 2, 1, 1, 1, 2, 3], [3, 2, 1, 1, 1, 1, 1], [3, 2, 1, 1, 1, 0, 0], [3, 2, 1, 1, 2, 2, 3], [3, 2, 1, 1, 2, 1, 1], [3, 2, 1, 1, 2, 0, 0], [3, 2, 3, 0, 0, 2, 3], [3, 2, 3, 0, 0, 1, 3], [3, 2, 3, 0, 0, 0, 3], [3, 2, 3, 0, 1, 2, 3], [3, 2, 3, 0, 1, 1, 3], [3, 2, 3, 0, 1, 0, 3], [3, 2, 3, 0, 2, 2, 3], [3, 2, 3, 0, 2, 1, 3], [3, 2, 3, 0, 2, 0, 3], [3, 2, 3, 2, 0, 2, 3], [3, 2, 3, 2, 0, 1, 2], [3, 2, 3, 2, 0, 0, 1], [3, 2, 3, 2, 1, 2, 3], [3, 2, 3, 2, 1, 1, 1], [3, 2, 3, 2, 1, 0, 0], [3, 2, 3, 2, 2, 2, 3], [3, 2, 3, 2, 2, 1, 1], [3, 2, 3, 2, 2, 0, 0], [3, 2, 3, 1, 0, 2, 3], [3, 2, 3, 1, 0, 1, 2], [3, 2, 3, 1, 0, 0, 1], [3, 2, 3, 1, 1, 2, 3], [3, 2, 3, 1, 1, 1, 1], [3, 2, 3, 1, 1, 0, 0], [3, 2, 3, 1, 2, 2, 3], [3, 2, 3, 1, 2, 1, 1], [3, 2, 3, 1, 2, 0, 0], [3, 2, 0, 0, 0, 2, 3], [3, 2, 0, 0, 0, 1, 3], [3, 2, 0, 0, 0, 0, 3], [3, 2, 0, 0, 1, 2, 3], [3, 2, 0, 0, 1, 1, 3], [3, 2, 0, 0, 1, 0, 3], [3, 2, 0, 0, 2, 2, 3], [3, 2, 0, 0, 2, 1, 3], [3, 2, 0, 0, 2, 0, 3], [3, 2, 0, 2, 0, 2, 3], [3, 2, 0, 2, 0, 1, 2], [3, 2, 0, 2, 0, 0, 1], [3, 2, 0, 2, 1, 2, 3], [3, 2, 0, 2, 1, 1, 1], [3, 2, 0, 2, 1, 0, 0], [3, 2, 0, 2, 2, 2, 3], [3, 2, 0, 2, 2, 1, 1], [3, 2, 0, 2, 2, 0, 0], [3, 2, 0, 1, 0, 2, 3], [3, 2, 0, 1, 0, 1, 2], [3, 2, 0, 1, 0, 0, 1], [3, 2, 0, 1, 1, 2, 3], [3, 2, 0, 1, 1, 1, 1], [3, 2, 0, 1, 1, 0, 0], [3, 2, 0, 1, 2, 2, 3], [3, 2, 0, 1, 2, 1, 1], [3, 2, 0, 1, 2, 0, 0], [3, 3, 2, 0, 0, 2, 3], [3, 3, 2, 0, 0, 1, 3], [3, 3, 2, 0, 0, 0, 3], [3, 3, 2, 0, 1, 2, 3], [3, 3, 2, 0, 1, 1, 3], [3, 3, 2, 0, 1, 0, 3], [3, 3, 2, 0, 2, 2, 3], [3, 3, 2, 0, 2, 1, 3], [3, 3, 2, 0, 2, 0, 3], [3, 3, 2, 2, 0, 2, 3], [3, 3, 2, 2, 0, 1, 2], [3, 3, 2, 2, 0, 0, 1], [3, 3, 2, 2, 1, 2, 3], [3, 3, 2, 2, 1, 1, 2], [3, 3, 2, 2, 1, 0, 1], [3, 3, 2, 2, 2, 2, 3], [3, 3, 2, 2, 2, 1, 1], [3, 3, 2, 2, 2, 0, 0], [3, 3, 2, 1, 0, 2, 3], [3, 3, 2, 1, 0, 1, 3], [3, 3, 2, 1, 0, 0, 3], [3, 3, 2, 1, 1, 2, 3], [3, 3, 2, 1, 1, 1, 2], [3, 3, 2, 1, 1, 0, 1], [3, 3, 2, 1, 2, 2, 3], [3, 3, 2, 1, 2, 1, 1], [3, 3, 2, 1, 2, 0, 0], [3, 3, 1, 0, 0, 2, 3], [3, 3, 1, 0, 0, 1, 3], [3, 3, 1, 0, 0, 0, 3], [3, 3, 1, 0, 1, 2, 3], [3, 3, 1, 0, 1, 1, 3], [3, 3, 1, 0, 1, 0, 3], [3, 3, 1, 0, 2, 2, 3], [3, 3, 1, 0, 2, 1, 3], [3, 3, 1, 0, 2, 0, 3], [3, 3, 1, 2, 0, 2, 3], [3, 3, 1, 2, 0, 1, 2], [3, 3, 1, 2, 0, 0, 1], [3, 3, 1, 2, 1, 2, 3], [3, 3, 1, 2, 1, 1, 2], [3, 3, 1, 2, 1, 0, 1], [3, 3, 1, 2, 2, 2, 3], [3, 3, 1, 2, 2, 1, 1], [3, 3, 1, 2, 2, 0, 0], [3, 3, 1, 1, 0, 2, 3], [3, 3, 1, 1, 0, 1, 2], [3, 3, 1, 1, 0, 0, 1], [3, 3, 1, 1, 1, 2, 3], [3, 3, 1, 1, 1, 1, 1], [3, 3, 1, 1, 1, 0, 0], [3, 3, 1, 1, 2, 2, 3], [3, 3, 1, 1, 2, 1, 1], [3, 3, 1, 1, 2, 0, 0], [3, 3, 3, 0, 0, 2, 3], [3, 3, 3, 0, 0, 1, 3], [3, 3, 3, 0, 0, 0, 3], [3, 3, 3, 0, 1, 2, 3], [3, 3, 3, 0, 1, 1, 3], [3, 3, 3, 0, 1, 0, 3], [3, 3, 3, 0, 2, 2, 3], [3, 3, 3, 0, 2, 1, 3], [3, 3, 3, 0, 2, 0, 3], [3, 3, 3, 2, 0, 2, 3], [3, 3, 3, 2, 0, 1, 2], [3, 3, 3, 2, 0, 0, 1], [3, 3, 3, 2, 1, 2, 3], [3, 3, 3, 2, 1, 1, 1], [3, 3, 3, 2, 1, 0, 0], [3, 3, 3, 2, 2, 2, 3], [3, 3, 3, 2, 2, 1, 1], [3, 3, 3, 2, 2, 0, 0], [3, 3, 3, 1, 0, 2, 3], [3, 3, 3, 1, 0, 1, 2], [3, 3, 3, 1, 0, 0, 1], [3, 3, 3, 1, 1, 2, 3], [3, 3, 3, 1, 1, 1, 1], [3, 3, 3, 1, 1, 0, 0], [3, 3, 3, 1, 2, 2, 3], [3, 3, 3, 1, 2, 1, 1], [3, 3, 3, 1, 2, 0, 0], [3, 3, 0, 0, 0, 2, 3], [3, 3, 0, 0, 0, 1, 3], [3, 3, 0, 0, 0, 0, 3], [3, 3, 0, 0, 1, 2, 3], [3, 3, 0, 0, 1, 1, 3], [3, 3, 0, 0, 1, 0, 3], [3, 3, 0, 0, 2, 2, 3], [3, 3, 0, 0, 2, 1, 3], [3, 3, 0, 0, 2, 0, 3], [3, 3, 0, 2, 0, 2, 3], [3, 3, 0, 2, 0, 1, 2], [3, 3, 0, 2, 0, 0, 1], [3, 3, 0, 2, 1, 2, 3], [3, 3, 0, 2, 1, 1, 1], [3, 3, 0, 2, 1, 0, 0], [3, 3, 0, 2, 2, 2, 3], [3, 3, 0, 2, 2, 1, 1], [3, 3, 0, 2, 2, 0, 0], [3, 3, 0, 1, 0, 2, 3], [3, 3, 0, 1, 0, 1, 2], [3, 3, 0, 1, 0, 0, 1], [3, 3, 0, 1, 1, 2, 3], [3, 3, 0, 1, 1, 1, 1], [3, 3, 0, 1, 1, 0, 0], [3, 3, 0, 1, 2, 2, 3], [3, 3, 0, 1, 2, 1, 1], [3, 3, 0, 1, 2, 0, 0]]\n"
     ]
    }
   ],
   "source": [
    "car_features = df.values.tolist()\n",
    "print(car_features)"
   ]
  },
  {
   "cell_type": "code",
   "execution_count": 18,
   "metadata": {},
   "outputs": [
    {
     "name": "stdout",
     "output_type": "stream",
     "text": [
      "[3, 3, 3, 3, 3, 3, 3, 3, 3, 3, 3, 3, 3, 3, 3, 3, 3, 3, 3, 3, 3, 3, 3, 3, 3, 3, 3, 3, 3, 3, 3, 3, 3, 3, 3, 3, 3, 3, 3, 3, 3, 3, 3, 3, 3, 3, 3, 3, 3, 3, 3, 3, 3, 3, 3, 3, 3, 3, 3, 3, 3, 3, 3, 3, 3, 3, 3, 3, 3, 3, 3, 3, 3, 3, 3, 3, 3, 3, 3, 3, 3, 3, 3, 3, 3, 3, 3, 3, 3, 3, 3, 3, 3, 3, 3, 3, 3, 3, 3, 3, 3, 3, 3, 3, 3, 3, 3, 3, 3, 3, 3, 3, 3, 3, 3, 3, 3, 3, 3, 3, 3, 3, 3, 3, 3, 3, 3, 3, 3, 3, 3, 3, 3, 3, 3, 3, 3, 3, 3, 3, 3, 3, 3, 3, 3, 3, 3, 3, 3, 3, 3, 3, 3, 3, 3, 3, 3, 3, 3, 3, 3, 3, 3, 3, 3, 3, 3, 3, 3, 3, 3, 3, 3, 3, 3, 3, 3, 3, 3, 3, 3, 3, 3, 3, 3, 3, 3, 3, 3, 3, 3, 3, 3, 3, 3, 3, 3, 3, 3, 3, 3, 3, 3, 3, 3, 3, 3, 3, 3, 3, 3, 3, 3, 3, 3, 3, 3, 3, 3, 3, 3, 3, 3, 3, 3, 3, 2, 3, 3, 2, 3, 2, 2, 3, 3, 3, 3, 3, 2, 3, 2, 2, 3, 3, 3, 3, 3, 3, 3, 3, 3, 3, 3, 2, 3, 3, 2, 3, 2, 2, 3, 3, 2, 3, 2, 2, 3, 2, 2, 3, 3, 3, 3, 3, 3, 3, 3, 3, 3, 3, 2, 3, 2, 2, 3, 2, 2, 3, 3, 2, 3, 2, 2, 3, 2, 2, 3, 3, 3, 3, 3, 3, 3, 3, 3, 3, 3, 2, 3, 2, 2, 3, 2, 2, 3, 3, 2, 3, 2, 2, 3, 2, 2, 3, 3, 3, 3, 3, 3, 3, 3, 3, 3, 3, 2, 3, 3, 2, 3, 2, 2, 3, 3, 3, 3, 3, 2, 3, 2, 2, 3, 3, 3, 3, 3, 3, 3, 3, 3, 3, 3, 2, 3, 3, 2, 3, 2, 2, 3, 3, 2, 3, 2, 2, 3, 2, 2, 3, 3, 3, 3, 3, 3, 3, 3, 3, 3, 3, 2, 3, 2, 2, 3, 2, 2, 3, 3, 2, 3, 2, 2, 3, 2, 2, 3, 3, 3, 3, 3, 3, 3, 3, 3, 3, 3, 2, 3, 2, 2, 3, 2, 2, 3, 3, 2, 3, 2, 2, 3, 2, 2, 3, 3, 3, 3, 3, 3, 3, 3, 3, 3, 3, 3, 3, 3, 3, 3, 3, 3, 3, 3, 3, 3, 3, 3, 3, 3, 3, 3, 3, 3, 3, 3, 3, 3, 3, 3, 3, 3, 3, 3, 3, 3, 3, 3, 3, 3, 3, 3, 3, 3, 3, 3, 3, 3, 3, 3, 3, 3, 3, 3, 3, 3, 3, 3, 3, 3, 3, 3, 3, 3, 3, 3, 3, 3, 3, 3, 3, 3, 3, 3, 3, 3, 3, 3, 3, 3, 3, 3, 3, 3, 3, 3, 3, 3, 3, 3, 3, 3, 3, 3, 3, 3, 3, 3, 3, 3, 3, 3, 3, 3, 3, 3, 3, 3, 3, 3, 3, 3, 3, 2, 3, 3, 2, 3, 2, 2, 3, 3, 3, 3, 3, 2, 3, 2, 2, 3, 3, 3, 3, 3, 3, 3, 3, 3, 3, 3, 2, 3, 3, 2, 3, 2, 2, 3, 3, 2, 3, 2, 2, 3, 2, 2, 3, 3, 3, 3, 3, 3, 3, 3, 3, 3, 3, 2, 3, 2, 2, 3, 2, 2, 3, 3, 2, 3, 2, 2, 3, 2, 2, 3, 3, 3, 3, 3, 3, 3, 3, 3, 3, 3, 2, 3, 2, 2, 3, 2, 2, 3, 3, 2, 3, 2, 2, 3, 2, 2, 3, 3, 3, 3, 3, 3, 3, 3, 3, 3, 3, 2, 3, 3, 2, 3, 2, 2, 3, 3, 3, 3, 3, 2, 3, 2, 2, 3, 3, 3, 3, 3, 3, 3, 3, 3, 3, 3, 2, 3, 3, 2, 3, 2, 2, 3, 3, 2, 3, 2, 2, 3, 2, 2, 3, 3, 3, 3, 3, 3, 3, 3, 3, 3, 3, 2, 3, 2, 2, 3, 2, 2, 3, 3, 2, 3, 2, 2, 3, 2, 2, 3, 3, 3, 3, 3, 3, 3, 3, 3, 3, 3, 2, 3, 2, 2, 3, 2, 2, 3, 3, 2, 3, 2, 2, 3, 2, 2, 3, 3, 3, 3, 3, 3, 3, 3, 3, 3, 3, 2, 3, 3, 2, 3, 2, 2, 3, 3, 3, 3, 3, 2, 3, 2, 2, 3, 3, 3, 3, 3, 3, 3, 3, 3, 3, 3, 2, 3, 3, 2, 3, 2, 2, 3, 3, 2, 3, 2, 2, 3, 2, 2, 3, 3, 3, 3, 3, 3, 3, 3, 3, 3, 3, 2, 3, 2, 2, 3, 2, 2, 3, 3, 2, 3, 2, 2, 3, 2, 2, 3, 3, 3, 3, 3, 3, 3, 3, 3, 3, 3, 2, 3, 2, 2, 3, 2, 2, 3, 3, 2, 3, 2, 2, 3, 2, 2, 3, 3, 3, 3, 3, 3, 3, 3, 3, 3, 3, 2, 3, 3, 2, 3, 2, 2, 3, 3, 3, 3, 3, 2, 3, 2, 2, 3, 3, 3, 3, 3, 3, 3, 3, 3, 3, 3, 2, 3, 3, 2, 3, 2, 2, 3, 3, 2, 3, 2, 2, 3, 2, 2, 3, 3, 3, 3, 3, 3, 3, 3, 3, 3, 3, 2, 3, 2, 2, 3, 2, 2, 3, 3, 2, 3, 2, 2, 3, 2, 2, 3, 3, 3, 3, 3, 3, 3, 3, 3, 3, 3, 2, 3, 2, 2, 3, 2, 2, 3, 3, 2, 3, 2, 2, 3, 2, 2, 3, 3, 3, 3, 3, 3, 3, 3, 3, 3, 3, 2, 3, 3, 2, 3, 2, 2, 3, 3, 3, 3, 3, 2, 3, 2, 2, 3, 3, 3, 3, 3, 3, 3, 3, 3, 3, 3, 2, 3, 3, 2, 3, 2, 2, 3, 3, 2, 3, 2, 2, 3, 2, 2, 3, 3, 3, 3, 3, 3, 3, 3, 3, 3, 3, 2, 3, 2, 2, 3, 2, 2, 3, 3, 2, 3, 2, 2, 3, 2, 2, 3, 3, 3, 3, 3, 3, 3, 3, 3, 3, 3, 2, 3, 2, 2, 3, 2, 2, 3, 3, 2, 3, 2, 2, 3, 2, 2, 3, 3, 3, 3, 3, 3, 3, 3, 3, 3, 2, 2, 3, 2, 2, 3, 2, 0, 3, 3, 3, 3, 2, 2, 3, 2, 0, 3, 3, 3, 3, 3, 3, 3, 3, 3, 3, 2, 2, 3, 2, 2, 3, 2, 0, 3, 2, 2, 3, 2, 0, 3, 2, 0, 3, 3, 3, 3, 3, 3, 3, 3, 3, 3, 2, 2, 3, 2, 0, 3, 2, 0, 3, 2, 2, 3, 2, 0, 3, 2, 0, 3, 3, 3, 3, 3, 3, 3, 3, 3, 3, 2, 2, 3, 2, 0, 3, 2, 0, 3, 2, 2, 3, 2, 0, 3, 2, 0, 3, 3, 3, 3, 3, 3, 3, 3, 3, 3, 2, 1, 3, 2, 1, 3, 1, 0, 3, 3, 3, 3, 2, 1, 3, 1, 0, 3, 3, 3, 3, 3, 3, 3, 3, 3, 3, 2, 1, 3, 2, 1, 3, 1, 0, 3, 2, 1, 3, 1, 0, 3, 1, 0, 3, 3, 3, 3, 3, 3, 3, 3, 3, 3, 2, 1, 3, 1, 0, 3, 1, 0, 3, 2, 1, 3, 1, 0, 3, 1, 0, 3, 3, 3, 3, 3, 3, 3, 3, 3, 3, 2, 1, 3, 1, 0, 3, 1, 0, 3, 2, 1, 3, 1, 0, 3, 1, 0, 3, 3, 3, 3, 3, 3, 3, 3, 3, 3, 3, 2, 3, 3, 2, 3, 2, 2, 3, 3, 3, 3, 3, 2, 3, 2, 2, 3, 3, 3, 3, 3, 3, 3, 3, 3, 3, 3, 2, 3, 3, 2, 3, 2, 2, 3, 3, 2, 3, 2, 2, 3, 2, 2, 3, 3, 3, 3, 3, 3, 3, 3, 3, 3, 3, 2, 3, 2, 2, 3, 2, 2, 3, 3, 2, 3, 2, 2, 3, 2, 2, 3, 3, 3, 3, 3, 3, 3, 3, 3, 3, 3, 2, 3, 2, 2, 3, 2, 2, 3, 3, 2, 3, 2, 2, 3, 2, 2, 3, 3, 3, 3, 3, 3, 3, 3, 3, 3, 2, 2, 3, 2, 2, 3, 2, 0, 3, 3, 3, 3, 2, 2, 3, 2, 0, 3, 3, 3, 3, 3, 3, 3, 3, 3, 3, 2, 2, 3, 2, 2, 3, 2, 0, 3, 2, 2, 3, 2, 0, 3, 2, 0, 3, 3, 3, 3, 3, 3, 3, 3, 3, 3, 2, 2, 3, 2, 0, 3, 2, 0, 3, 2, 2, 3, 2, 0, 3, 2, 0, 3, 3, 3, 3, 3, 3, 3, 3, 3, 3, 2, 2, 3, 2, 0, 3, 2, 0, 3, 2, 2, 3, 2, 0, 3, 2, 0, 3, 3, 3, 3, 3, 3, 3, 3, 3, 3, 2, 1, 3, 2, 1, 3, 1, 0, 3, 3, 3, 3, 2, 1, 3, 1, 0, 3, 3, 3, 3, 3, 3, 3, 3, 3, 3, 2, 1, 3, 2, 1, 3, 1, 0, 3, 2, 1, 3, 1, 0, 3, 1, 0, 3, 3, 3, 3, 3, 3, 3, 3, 3, 3, 2, 1, 3, 1, 0, 3, 1, 0, 3, 2, 1, 3, 1, 0, 3, 1, 0, 3, 3, 3, 3, 3, 3, 3, 3, 3, 3, 2, 1, 3, 1, 0, 3, 1, 0, 3, 2, 1, 3, 1, 0, 3, 1, 0, 3, 3, 3, 3, 3, 3, 3, 3, 3, 3, 2, 1, 3, 2, 1, 3, 1, 0, 3, 3, 3, 3, 2, 1, 3, 1, 0, 3, 3, 3, 3, 3, 3, 3, 3, 3, 3, 2, 1, 3, 2, 1, 3, 1, 0, 3, 2, 1, 3, 1, 0, 3, 1, 0, 3, 3, 3, 3, 3, 3, 3, 3, 3, 3, 2, 1, 3, 1, 0, 3, 1, 0, 3, 2, 1, 3, 1, 0, 3, 1, 0, 3, 3, 3, 3, 3, 3, 3, 3, 3, 3, 2, 1, 3, 1, 0, 3, 1, 0, 3, 2, 1, 3, 1, 0, 3, 1, 0]\n"
     ]
    }
   ],
   "source": [
    "car_labels = [car[-1] for car in car_features]\n",
    "print(car_labels)"
   ]
  },
  {
   "cell_type": "code",
   "execution_count": 19,
   "metadata": {},
   "outputs": [
    {
     "name": "stdout",
     "output_type": "stream",
     "text": [
      "Scores: [65.5072463768116, 61.73913043478261, 67.82608695652173, 70.43478260869566, 63.47826086956522]\n",
      "Maximum Accuracy: 70.43478260869566\n",
      "Mean Accuracy: 65.79710144927537\n"
     ]
    }
   ],
   "source": [
    "model_knn = k_fold_cross_validation()\n",
    "model_knn.k_fold_cross_validation_evaluation(car_features, 5, 5,'euclidean')"
   ]
  },
  {
   "cell_type": "code",
   "execution_count": 20,
   "metadata": {},
   "outputs": [
    {
     "name": "stdout",
     "output_type": "stream",
     "text": [
      "Scores: [94.4927536231884, 95.3623188405797, 95.07246376811594, 93.91304347826087, 94.20289855072464]\n",
      "Maximum Accuracy: 95.3623188405797\n",
      "Mean Accuracy: 94.6086956521739\n"
     ]
    }
   ],
   "source": [
    "model_knn.k_fold_cross_validation_evaluation(car_features, 5, 5, 'manhattan')"
   ]
  }
 ],
 "metadata": {
  "kernelspec": {
   "display_name": "Python 3",
   "language": "python",
   "name": "python3"
  },
  "language_info": {
   "codemirror_mode": {
    "name": "ipython",
    "version": 3
   },
   "file_extension": ".py",
   "mimetype": "text/x-python",
   "name": "python",
   "nbconvert_exporter": "python",
   "pygments_lexer": "ipython3",
   "version": "3.11.2"
  },
  "orig_nbformat": 4
 },
 "nbformat": 4,
 "nbformat_minor": 2
}
