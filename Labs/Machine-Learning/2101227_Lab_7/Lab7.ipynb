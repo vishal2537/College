{
 "cells": [
  {
   "cell_type": "code",
   "execution_count": 1,
   "id": "c0c45c36",
   "metadata": {},
   "outputs": [],
   "source": [
    "import numpy as np \n",
    "import pandas as pd \n",
    "import matplotlib.pyplot as plt\n",
    "import seaborn as sns\n",
    "from sklearn.preprocessing import StandardScaler\n",
    "import random as rd"
   ]
  },
  {
   "cell_type": "code",
   "execution_count": 2,
   "id": "1ee665fd",
   "metadata": {},
   "outputs": [
    {
     "name": "stdout",
     "output_type": "stream",
     "text": [
      "(8950, 17)\n"
     ]
    },
    {
     "data": {
      "text/html": [
       "<div>\n",
       "<style scoped>\n",
       "    .dataframe tbody tr th:only-of-type {\n",
       "        vertical-align: middle;\n",
       "    }\n",
       "\n",
       "    .dataframe tbody tr th {\n",
       "        vertical-align: top;\n",
       "    }\n",
       "\n",
       "    .dataframe thead th {\n",
       "        text-align: right;\n",
       "    }\n",
       "</style>\n",
       "<table border=\"1\" class=\"dataframe\">\n",
       "  <thead>\n",
       "    <tr style=\"text-align: right;\">\n",
       "      <th></th>\n",
       "      <th>BALANCE</th>\n",
       "      <th>BALANCE_FREQUENCY</th>\n",
       "      <th>PURCHASES</th>\n",
       "      <th>ONEOFF_PURCHASES</th>\n",
       "      <th>INSTALLMENTS_PURCHASES</th>\n",
       "      <th>CASH_ADVANCE</th>\n",
       "      <th>PURCHASES_FREQUENCY</th>\n",
       "      <th>ONEOFF_PURCHASES_FREQUENCY</th>\n",
       "      <th>PURCHASES_INSTALLMENTS_FREQUENCY</th>\n",
       "      <th>CASH_ADVANCE_FREQUENCY</th>\n",
       "      <th>CASH_ADVANCE_TRX</th>\n",
       "      <th>PURCHASES_TRX</th>\n",
       "      <th>CREDIT_LIMIT</th>\n",
       "      <th>PAYMENTS</th>\n",
       "      <th>MINIMUM_PAYMENTS</th>\n",
       "      <th>PRC_FULL_PAYMENT</th>\n",
       "      <th>TENURE</th>\n",
       "    </tr>\n",
       "  </thead>\n",
       "  <tbody>\n",
       "    <tr>\n",
       "      <th>0</th>\n",
       "      <td>40.900749</td>\n",
       "      <td>0.818182</td>\n",
       "      <td>95.40</td>\n",
       "      <td>0.00</td>\n",
       "      <td>95.4</td>\n",
       "      <td>0.000000</td>\n",
       "      <td>0.166667</td>\n",
       "      <td>0.000000</td>\n",
       "      <td>0.083333</td>\n",
       "      <td>0.000000</td>\n",
       "      <td>0</td>\n",
       "      <td>2</td>\n",
       "      <td>1000.0</td>\n",
       "      <td>201.802084</td>\n",
       "      <td>139.509787</td>\n",
       "      <td>0.000000</td>\n",
       "      <td>12</td>\n",
       "    </tr>\n",
       "    <tr>\n",
       "      <th>1</th>\n",
       "      <td>3202.467416</td>\n",
       "      <td>0.909091</td>\n",
       "      <td>0.00</td>\n",
       "      <td>0.00</td>\n",
       "      <td>0.0</td>\n",
       "      <td>6442.945483</td>\n",
       "      <td>0.000000</td>\n",
       "      <td>0.000000</td>\n",
       "      <td>0.000000</td>\n",
       "      <td>0.250000</td>\n",
       "      <td>4</td>\n",
       "      <td>0</td>\n",
       "      <td>7000.0</td>\n",
       "      <td>4103.032597</td>\n",
       "      <td>1072.340217</td>\n",
       "      <td>0.222222</td>\n",
       "      <td>12</td>\n",
       "    </tr>\n",
       "    <tr>\n",
       "      <th>2</th>\n",
       "      <td>2495.148862</td>\n",
       "      <td>1.000000</td>\n",
       "      <td>773.17</td>\n",
       "      <td>773.17</td>\n",
       "      <td>0.0</td>\n",
       "      <td>0.000000</td>\n",
       "      <td>1.000000</td>\n",
       "      <td>1.000000</td>\n",
       "      <td>0.000000</td>\n",
       "      <td>0.000000</td>\n",
       "      <td>0</td>\n",
       "      <td>12</td>\n",
       "      <td>7500.0</td>\n",
       "      <td>622.066742</td>\n",
       "      <td>627.284787</td>\n",
       "      <td>0.000000</td>\n",
       "      <td>12</td>\n",
       "    </tr>\n",
       "    <tr>\n",
       "      <th>3</th>\n",
       "      <td>1666.670542</td>\n",
       "      <td>0.636364</td>\n",
       "      <td>1499.00</td>\n",
       "      <td>1499.00</td>\n",
       "      <td>0.0</td>\n",
       "      <td>205.788017</td>\n",
       "      <td>0.083333</td>\n",
       "      <td>0.083333</td>\n",
       "      <td>0.000000</td>\n",
       "      <td>0.083333</td>\n",
       "      <td>1</td>\n",
       "      <td>1</td>\n",
       "      <td>7500.0</td>\n",
       "      <td>0.000000</td>\n",
       "      <td>NaN</td>\n",
       "      <td>0.000000</td>\n",
       "      <td>12</td>\n",
       "    </tr>\n",
       "    <tr>\n",
       "      <th>4</th>\n",
       "      <td>817.714335</td>\n",
       "      <td>1.000000</td>\n",
       "      <td>16.00</td>\n",
       "      <td>16.00</td>\n",
       "      <td>0.0</td>\n",
       "      <td>0.000000</td>\n",
       "      <td>0.083333</td>\n",
       "      <td>0.083333</td>\n",
       "      <td>0.000000</td>\n",
       "      <td>0.000000</td>\n",
       "      <td>0</td>\n",
       "      <td>1</td>\n",
       "      <td>1200.0</td>\n",
       "      <td>678.334763</td>\n",
       "      <td>244.791237</td>\n",
       "      <td>0.000000</td>\n",
       "      <td>12</td>\n",
       "    </tr>\n",
       "  </tbody>\n",
       "</table>\n",
       "</div>"
      ],
      "text/plain": [
       "       BALANCE  BALANCE_FREQUENCY  PURCHASES  ONEOFF_PURCHASES   \n",
       "0    40.900749           0.818182      95.40              0.00  \\\n",
       "1  3202.467416           0.909091       0.00              0.00   \n",
       "2  2495.148862           1.000000     773.17            773.17   \n",
       "3  1666.670542           0.636364    1499.00           1499.00   \n",
       "4   817.714335           1.000000      16.00             16.00   \n",
       "\n",
       "   INSTALLMENTS_PURCHASES  CASH_ADVANCE  PURCHASES_FREQUENCY   \n",
       "0                    95.4      0.000000             0.166667  \\\n",
       "1                     0.0   6442.945483             0.000000   \n",
       "2                     0.0      0.000000             1.000000   \n",
       "3                     0.0    205.788017             0.083333   \n",
       "4                     0.0      0.000000             0.083333   \n",
       "\n",
       "   ONEOFF_PURCHASES_FREQUENCY  PURCHASES_INSTALLMENTS_FREQUENCY   \n",
       "0                    0.000000                          0.083333  \\\n",
       "1                    0.000000                          0.000000   \n",
       "2                    1.000000                          0.000000   \n",
       "3                    0.083333                          0.000000   \n",
       "4                    0.083333                          0.000000   \n",
       "\n",
       "   CASH_ADVANCE_FREQUENCY  CASH_ADVANCE_TRX  PURCHASES_TRX  CREDIT_LIMIT   \n",
       "0                0.000000                 0              2        1000.0  \\\n",
       "1                0.250000                 4              0        7000.0   \n",
       "2                0.000000                 0             12        7500.0   \n",
       "3                0.083333                 1              1        7500.0   \n",
       "4                0.000000                 0              1        1200.0   \n",
       "\n",
       "      PAYMENTS  MINIMUM_PAYMENTS  PRC_FULL_PAYMENT  TENURE  \n",
       "0   201.802084        139.509787          0.000000      12  \n",
       "1  4103.032597       1072.340217          0.222222      12  \n",
       "2   622.066742        627.284787          0.000000      12  \n",
       "3     0.000000               NaN          0.000000      12  \n",
       "4   678.334763        244.791237          0.000000      12  "
      ]
     },
     "execution_count": 2,
     "metadata": {},
     "output_type": "execute_result"
    }
   ],
   "source": [
    "data= pd.read_csv(\"CC_GENERAL.csv\")\n",
    "data = data.drop(['CUST_ID'], axis=1)\n",
    "print(data.shape)\n",
    "data.head()"
   ]
  },
  {
   "cell_type": "code",
   "execution_count": 3,
   "id": "3a886012",
   "metadata": {},
   "outputs": [
    {
     "data": {
      "text/plain": [
       "MINIMUM_PAYMENTS          313\n",
       "CREDIT_LIMIT                1\n",
       "BALANCE                     0\n",
       "CASH_ADVANCE_FREQUENCY      0\n",
       "PRC_FULL_PAYMENT            0\n",
       "dtype: int64"
      ]
     },
     "execution_count": 3,
     "metadata": {},
     "output_type": "execute_result"
    }
   ],
   "source": [
    "data.isnull().sum().sort_values(ascending=False).head()"
   ]
  },
  {
   "cell_type": "code",
   "execution_count": 4,
   "id": "ebda9c04",
   "metadata": {},
   "outputs": [],
   "source": [
    "data.loc[(data['MINIMUM_PAYMENTS'].isnull()==True),'MINIMUM_PAYMENTS']=0\n",
    "data.loc[(data['CREDIT_LIMIT'].isnull()==True),'CREDIT_LIMIT']=0"
   ]
  },
  {
   "cell_type": "code",
   "execution_count": 5,
   "id": "fc880ebb",
   "metadata": {},
   "outputs": [
    {
     "data": {
      "text/plain": [
       "BALANCE                   0\n",
       "CASH_ADVANCE_FREQUENCY    0\n",
       "PRC_FULL_PAYMENT          0\n",
       "MINIMUM_PAYMENTS          0\n",
       "PAYMENTS                  0\n",
       "dtype: int64"
      ]
     },
     "execution_count": 5,
     "metadata": {},
     "output_type": "execute_result"
    }
   ],
   "source": [
    "data.isnull().sum().sort_values(ascending=False).head()"
   ]
  },
  {
   "cell_type": "code",
   "execution_count": 6,
   "id": "3ab8b3ee",
   "metadata": {},
   "outputs": [
    {
     "data": {
      "text/plain": [
       "(8950, 17)"
      ]
     },
     "execution_count": 6,
     "metadata": {},
     "output_type": "execute_result"
    }
   ],
   "source": [
    "\n",
    "scale = StandardScaler()\n",
    "X = scale.fit_transform(data)\n",
    "X.shape"
   ]
  },
  {
   "cell_type": "code",
   "execution_count": 64,
   "id": "e561ae17",
   "metadata": {},
   "outputs": [
    {
     "data": {
      "text/plain": [
       "array([[-0.73198937, -0.24943448, -0.42489974, ..., -0.2973097 ,\n",
       "        -0.52555097,  0.36067954],\n",
       "       [ 0.78696085,  0.13432467, -0.46955188, ...,  0.10204243,\n",
       "         0.2342269 ,  0.36067954],\n",
       "       [ 0.44713513,  0.51808382, -0.10766823, ..., -0.08848934,\n",
       "        -0.52555097,  0.36067954],\n",
       "       ...,\n",
       "       [-0.7403981 , -0.18547673, -0.40196519, ..., -0.32175099,\n",
       "         0.32919999, -4.12276757],\n",
       "       [-0.74517423, -0.18547673, -0.46955188, ..., -0.33316552,\n",
       "         0.32919999, -4.12276757],\n",
       "       [-0.57257511, -0.88903307,  0.04214581, ..., -0.31923775,\n",
       "        -0.52555097, -4.12276757]])"
      ]
     },
     "execution_count": 64,
     "metadata": {},
     "output_type": "execute_result"
    }
   ],
   "source": [
    "X"
   ]
  },
  {
   "cell_type": "code",
   "execution_count": 62,
   "id": "41522a31",
   "metadata": {},
   "outputs": [],
   "source": [
    "# plt.scatter(X[:,0],X[:,1])"
   ]
  },
  {
   "cell_type": "code",
   "execution_count": 8,
   "id": "f606a651",
   "metadata": {},
   "outputs": [],
   "source": [
    "\n",
    "class Kmeans:\n",
    "    def __init__(self, X, K):\n",
    "        self.X = X\n",
    "        self.Output = {}\n",
    "        self.Centroids = np.array([]).reshape(self.X.shape[1], 0)\n",
    "        self.K = K\n",
    "        self.m = self.X.shape[0]\n",
    "\n",
    "    def kmeanspp(self, X, K):\n",
    "        i = rd.randint(0, X.shape[0])\n",
    "        Centroid_temp = np.array([X[i]])\n",
    "        for k in range(1, K):\n",
    "            D = np.array([])\n",
    "            for x in X:\n",
    "                D = np.append(D, np.min(np.sum((x - Centroid_temp)**2)))\n",
    "            prob = D / np.sum(D)\n",
    "            c_prob = np.cumsum(prob)\n",
    "            r = rd.random()\n",
    "            i = 0\n",
    "            for j, p in enumerate(c_prob):\n",
    "                if r < p:\n",
    "                    i = j   \n",
    "                    break\n",
    "            Centroid_temp = np.append(Centroid_temp, [X[i]], axis=0)\n",
    "        return Centroid_temp.T\n",
    "\n",
    "    def fit(self, n_iter):\n",
    "        # Randomly Initialize the centroids\n",
    "        self.Centroids = self.kmeanspp(self.X, self.K)\n",
    "\n",
    "        for n in range(n_iter):\n",
    "            EuclideanDistance = np.array([]).reshape(self.m, 0)\n",
    "            for k in range(self.K):\n",
    "                tempDist = np.linalg.norm(self.X - self.Centroids[:, k].reshape(1, -1), axis=1)\n",
    "                EuclideanDistance = np.c_[EuclideanDistance, tempDist]\n",
    "            C = np.argmin(EuclideanDistance, axis=1) + 1\n",
    "            Y = {}\n",
    "            for k in range(self.K):\n",
    "                Y[k + 1] = np.array([]).reshape(self.X.shape[1], 0)\n",
    "            for i in range(self.m):\n",
    "                Y[C[i]] = np.c_[Y[C[i]], self.X[i]]\n",
    "\n",
    "            for k in range(self.K):\n",
    "                Y[k + 1] = Y[k + 1].T \n",
    "            for k in range(self.K):\n",
    "                self.Centroids[:, k] = np.mean(Y[k + 1], axis=0)\n",
    "\n",
    "            self.Output = Y\n",
    "\n",
    "    def predict(self):\n",
    "        return self.Output, self.Centroids.T\n",
    "\n",
    "    # def WCSS(self):\n",
    "    #     wcss = 0\n",
    "    #     for k in range(self.K):\n",
    "    #         wcss += np.sum(np.linalg.norm(\n",
    "    #             self.Output[k + 1] - self.Centroids[:, k], axis=1)**2)\n",
    "    #     return wcss\n",
    "\n"
   ]
  },
  {
   "cell_type": "code",
   "execution_count": 9,
   "id": "17c92473",
   "metadata": {},
   "outputs": [],
   "source": [
    "m=X.shape[0]\n",
    "n_iter=200"
   ]
  },
  {
   "cell_type": "code",
   "execution_count": 10,
   "id": "d0966be6",
   "metadata": {},
   "outputs": [],
   "source": [
    "# to find optimum number of clusters use elbow method\n",
    "WCSS_array=np.array([])\n",
    "for K in range(1,11):\n",
    "    kmeans=Kmeans(X,K)\n",
    "    kmeans.fit(n_iter)\n",
    "    Output,Centroids=kmeans.predict()\n",
    "    wcss=0\n",
    "    for k in range(K):\n",
    "        wcss+=np.sum((Output[k+1]-Centroids[k,:])**2)\n",
    "    WCSS_array=np.append(WCSS_array,wcss)"
   ]
  },
  {
   "cell_type": "code",
   "execution_count": 11,
   "id": "62bc1bb0",
   "metadata": {},
   "outputs": [
    {
     "data": {
      "image/png": "[encoded data removed]",
      "text/plain": [
       "<Figure size 640x480 with 1 Axes>"
      ]
     },
     "metadata": {},
     "output_type": "display_data"
    }
   ],
   "source": [
    "K_array=np.arange(1,11,1)\n",
    "plt.plot(K_array,WCSS_array)\n",
    "plt.xlabel('Number of Clusters')\n",
    "plt.ylabel('within-cluster sums of squares (WCSS)')\n",
    "plt.title('Elbow method to determine optimum number of clusters')\n",
    "plt.show()"
   ]
  },
  {
   "cell_type": "code",
   "execution_count": 12,
   "id": "47f084b7",
   "metadata": {},
   "outputs": [
    {
     "name": "stdout",
     "output_type": "stream",
     "text": [
      "Optimal K value :  5\n"
     ]
    }
   ],
   "source": [
    "bestK = 5\n",
    "print('Optimal K value : ', bestK)"
   ]
  },
  {
   "cell_type": "code",
   "execution_count": 13,
   "id": "93056db7",
   "metadata": {},
   "outputs": [
    {
     "data": {
      "text/plain": [
       "5"
      ]
     },
     "execution_count": 13,
     "metadata": {},
     "output_type": "execute_result"
    }
   ],
   "source": [
    "from kneed import KneeLocator\n",
    "kl = KneeLocator(range(1, 11), WCSS_array,\n",
    "                 curve='convex', direction='decreasing')\n",
    "kl.elbow\n"
   ]
  },
  {
   "cell_type": "code",
   "execution_count": 67,
   "id": "a8caad7f",
   "metadata": {},
   "outputs": [
    {
     "name": "stdout",
     "output_type": "stream",
     "text": [
      "{1: array([[ 8.39748862e+00,  5.18083823e-01,  9.83223198e+00,\n",
      "         5.33597923e+00,  1.34357504e+01, -4.66785554e-01,\n",
      "         1.26984323e+00,  1.83542311e+00,  1.59919919e+00,\n",
      "        -6.75348858e-01, -4.76069817e-01,  8.09816781e+00,\n",
      "         3.71176005e+00,  7.35272968e+00,  7.61476901e+00,\n",
      "        -5.25550971e-01,  3.60679544e-01],\n",
      "       [ 1.71366294e+00,  5.18083823e-01,  1.47607525e+01,\n",
      "         1.56374671e+01,  6.17202138e+00, -4.66785554e-01,\n",
      "         1.26984323e+00,  2.67345108e+00,  1.59919919e+00,\n",
      "        -6.75348858e-01, -4.76069817e-01,  3.35087283e+00,\n",
      "         1.92541723e+00,  8.60795990e+00,  4.86821243e-01,\n",
      "        -2.40635125e-01,  3.60679544e-01],\n",
      "       [ 5.72437981e+00,  5.18083823e-01,  1.87441639e+01,\n",
      "         2.41184111e+01,  1.68888255e-02, -4.66785554e-01,\n",
      "         8.54575518e-01,  1.55608157e+00,  1.31419973e-01,\n",
      "        -6.75348858e-01, -4.76069817e-01,  5.72452032e+00,\n",
      "         3.43693808e+00,  1.18600238e+01,  6.45608254e+00,\n",
      "        -2.40635125e-01,  3.60679544e-01],\n",
      "       [ 5.18334057e-01,  5.18083823e-01,  1.18881357e+01,\n",
      "         1.30527868e+01,  4.12914253e+00, -4.66785554e-01,\n",
      "         1.26984323e+00,  2.67345108e+00, -7.82645695e-02,\n",
      "        -6.75348858e-01, -4.76069817e-01,  3.99457385e+00,\n",
      "         3.29952709e+00,  7.87457836e+00, -1.28411459e-01,\n",
      "         2.89345285e+00,  3.60679544e-01],\n",
      "       [ 4.79627674e+00,  5.18083823e-01,  2.24835098e+01,\n",
      "         2.42010659e+01,  8.69994504e+00, -2.00617480e-01,\n",
      "         1.26984323e+00,  2.67345108e+00,  1.38951716e+00,\n",
      "        -2.58913330e-01, -3.29533900e-01,  3.47156677e+00,\n",
      "         4.94845892e+00,  1.56127752e+01,  9.16187831e-01,\n",
      "         3.29199985e-01,  3.60679544e-01],\n",
      "       [ 4.45971222e-01,  5.18083823e-01,  1.26160921e+01,\n",
      "         1.35200613e+01,  4.99137929e+00, -4.66785554e-01,\n",
      "         1.26984323e+00,  2.67345108e+00,  1.38951716e+00,\n",
      "        -6.75348858e-01, -4.76069817e-01,  2.22439606e+00,\n",
      "         1.23836230e+00,  8.81614076e+00, -1.26981436e-01,\n",
      "         2.89345285e+00,  3.60679544e-01],\n",
      "       [-3.95112293e-02,  5.18083823e-01,  6.36628460e+00,\n",
      "         1.13477413e+00,  1.29581258e+01, -4.66785554e-01,\n",
      "         1.26984323e+00,  1.27673668e+00,  1.59919919e+00,\n",
      "        -6.75348858e-01, -4.76069817e-01,  8.21886175e+00,\n",
      "         3.02470512e+00,  4.39720814e+00, -2.11170950e-01,\n",
      "         2.89345285e+00,  3.60679544e-01],\n",
      "       [ 1.37158006e+00,  5.18083823e-01,  5.40541158e+00,\n",
      "         6.21088839e+00,  1.37084968e+00,  6.63679512e+00,\n",
      "         1.26984323e+00,  1.55608157e+00,  1.59919919e+00,\n",
      "         1.82327430e+00,  2.30811261e+00,  4.31642435e+00,\n",
      "         3.43693808e+00,  1.03510499e+01,  2.63115835e-01,\n",
      "         8.99035095e-01,  3.60679544e-01],\n",
      "       [ 2.44056400e-01,  5.18083823e-01,  7.67886113e+00,\n",
      "         6.42894541e+00,  6.34197838e+00, -4.66785554e-01,\n",
      "         1.26984323e+00,  2.67345108e+00,  1.59919919e+00,\n",
      "        -6.75348858e-01, -4.76069817e-01,  6.44868396e+00,\n",
      "         4.12399301e+00,  6.14321923e+00, -1.35564397e-01,\n",
      "         6.14115831e-01,  3.60679544e-01],\n",
      "       [ 7.41763865e-01,  9.59483337e-02,  1.19723616e+01,\n",
      "         8.77606031e+00,  1.21779536e+01, -4.66785554e-01,\n",
      "         1.02068310e+00,  2.00302870e+00,  1.09596031e+00,\n",
      "        -6.75348858e-01, -4.76069817e-01,  1.62092636e+00,\n",
      "         6.45997977e+00,  8.57505824e+00, -1.06151233e-01,\n",
      "         2.46607738e+00, -1.13380283e+00],\n",
      "       [ 1.58131368e-01,  5.18083823e-01,  1.01771347e+01,\n",
      "         9.15955341e+00,  7.23256894e+00, -4.66785554e-01,\n",
      "         1.26984323e+00,  2.67345108e+00,  1.59919919e+00,\n",
      "        -6.75348858e-01, -4.76069817e-01,  5.04058799e+00,\n",
      "         3.71176005e+00,  7.19372904e+00, -1.40786907e-01,\n",
      "         2.89345285e+00,  3.60679544e-01],\n",
      "       [ 1.17523245e+00,  5.18083823e-01,  1.82715767e+01,\n",
      "         1.44301435e+01,  1.66828811e+01, -4.66785554e-01,\n",
      "         1.26984323e+00,  2.67345108e+00,  1.59919919e+00,\n",
      "        -6.75348858e-01, -4.76069817e-01,  1.38110143e+01,\n",
      "         3.71176005e+00,  1.11442749e+01, -5.58596106e-02,\n",
      "         2.89345285e+00,  3.60679544e-01],\n",
      "       [ 3.16491838e+00,  5.18083823e-01,  1.15196291e+01,\n",
      "         1.47791323e+01,  8.98302222e-02, -4.66785554e-01,\n",
      "         1.26984323e+00,  2.67345108e+00,  5.50784026e-01,\n",
      "        -6.75348858e-01, -4.76069817e-01,  1.66115767e+00,\n",
      "         3.43693808e+00,  5.47239834e+00,  6.98450409e-01,\n",
      "         4.42841393e-02,  3.60679544e-01],\n",
      "       [ 5.81226911e-01,  5.18083823e-01,  9.73519547e+00,\n",
      "         1.27787831e+01, -4.54576230e-01,  3.78128463e-01,\n",
      "         1.26984323e+00,  2.67345108e+00, -9.16995191e-01,\n",
      "        -2.58913330e-01,  1.10073852e-01,  2.30485868e+00,\n",
      "         2.33765019e+00,  7.12188133e+00, -1.16058303e-01,\n",
      "         2.60853701e+00,  3.60679544e-01],\n",
      "       [ 3.48081851e+00,  5.18083823e-01,  1.14088366e+01,\n",
      "         1.20819923e+01,  4.77859300e+00, -4.66785554e-01,\n",
      "         1.26984323e+00,  2.67345108e+00,  1.59919919e+00,\n",
      "        -6.75348858e-01, -4.76069817e-01,  4.87966274e+00,\n",
      "         2.74988315e+00,  8.32227855e+00,  8.93737364e-01,\n",
      "        -5.25550971e-01,  3.60679544e-01],\n",
      "       [ 8.77877230e-01,  5.18083823e-01,  1.77389337e+01,\n",
      "         2.00093379e+01,  5.18397288e+00, -4.66785554e-01,\n",
      "         1.26984323e+00,  2.67345108e+00,  1.59919919e+00,\n",
      "        -6.75348858e-01, -4.76069817e-01,  7.25331023e+00,\n",
      "         3.71176005e+00,  1.17829487e+01, -5.04978153e-02,\n",
      "         2.89345285e+00,  3.60679544e-01],\n",
      "       [ 9.07853050e-01,  5.18083823e-01,  1.41801669e+01,\n",
      "         1.11290012e+01,  1.30754668e+01, -4.66785554e-01,\n",
      "         1.26984323e+00,  1.55608157e+00,  1.17983262e+00,\n",
      "        -6.75348858e-01, -4.76069817e-01,  4.27619304e+00,\n",
      "         8.26129338e-01,  7.18830657e+00,  1.53711124e-01,\n",
      "         1.46886679e+00,  3.60679544e-01],\n",
      "       [-2.46945223e-02,  5.18083823e-01,  6.88075315e+00,\n",
      "         7.24572691e+00,  2.95714812e+00, -4.66785554e-01,\n",
      "         1.26984323e+00,  2.39410954e+00,  1.38951716e+00,\n",
      "        -6.75348858e-01, -4.76069817e-01,  6.85099709e+00,\n",
      "        -4.10569537e-01,  4.37547083e+00, -2.24016385e-01,\n",
      "         2.60853701e+00,  3.60679544e-01],\n",
      "       [ 4.84195794e+00,  5.18083823e-01,  6.60199551e+00,\n",
      "         1.07095300e+00,  1.36321702e+01, -4.66785554e-01,\n",
      "         1.26984323e+00,  9.97395136e-01,  1.59919919e+00,\n",
      "        -6.75348858e-01, -4.76069817e-01,  1.13971355e+01,\n",
      "         2.06282821e+00,  4.93015242e+00,  4.63152089e+00,\n",
      "        -5.25550971e-01,  3.60679544e-01],\n",
      "       [ 2.11591978e+00,  5.18083823e-01,  1.00063707e+01,\n",
      "         1.11806461e+01,  3.11945268e+00, -4.66785554e-01,\n",
      "         1.26984323e+00,  2.67345108e+00,  5.50784026e-01,\n",
      "        -6.75348858e-01, -4.76069817e-01,  2.90832839e+00,\n",
      "         2.74988315e+00,  6.42859166e+00,  4.84707415e-01,\n",
      "        -5.25550971e-01,  3.60679544e-01],\n",
      "       [ 4.83653942e+00,  5.18083823e-01,  6.40430445e+00,\n",
      "        -3.56934022e-01,  1.57859430e+01,  1.16537871e+00,\n",
      "         1.26984323e+00, -6.78660808e-01,  1.59919919e+00,\n",
      "        -2.58913330e-01, -1.82997983e-01,  1.33684699e+01,\n",
      "         2.50254337e+00,  3.33947657e+00,  4.04611280e+00,\n",
      "        -5.25550971e-01,  3.60679544e-01],\n",
      "       [ 3.42824597e+00,  5.18083823e-01,  9.08881118e+00,\n",
      "         9.80369312e+00,  3.47894009e+00, -4.66785554e-01,\n",
      "         1.26984323e+00,  2.67345108e+00,  1.59919919e+00,\n",
      "        -6.75348858e-01, -4.76069817e-01,  7.61539205e+00,\n",
      "         3.43693808e+00,  3.89276045e+00,  8.18803022e-01,\n",
      "        -2.40635125e-01,  3.60679544e-01],\n",
      "       [ 6.95538072e-01,  5.18083823e-01,  1.25378057e+01,\n",
      "         8.44294089e+00,  1.41253319e+01, -2.43101964e-01,\n",
      "         1.26984323e+00,  1.55608157e+00,  1.59919919e+00,\n",
      "        -2.58913330e-01, -3.29533900e-01,  2.58647788e+00,\n",
      "         2.06282821e+00,  9.01815659e+00, -1.13269683e-01,\n",
      "         1.96099820e+00,  3.60679544e-01],\n",
      "       [ 6.88715413e-01,  5.18083823e-01,  1.59736527e+01,\n",
      "         2.01803770e+01,  6.99293412e-01, -4.66785554e-01,\n",
      "         1.26984323e+00,  2.67345108e+00,  1.17983262e+00,\n",
      "        -6.75348858e-01, -4.76069817e-01,  1.32477759e+01,\n",
      "         2.06282821e+00,  9.38322652e+00, -2.86700787e-02,\n",
      "         2.03870190e+00,  3.60679544e-01],\n",
      "       [-1.42050342e-01, -2.55199361e+00,  7.92963863e+00,\n",
      "         1.04546409e+01, -4.54576230e-01, -4.66785554e-01,\n",
      "        -8.06490346e-01, -1.19974376e-01, -9.16995191e-01,\n",
      "        -6.75348858e-01, -4.76069817e-01, -4.71101937e-01,\n",
      "         3.71176005e+00,  1.69222790e+01,  1.35181033e-01,\n",
      "        -5.25550971e-01,  3.60679544e-01],\n",
      "       [ 2.11558728e-01,  5.18083823e-01,  9.24127907e+00,\n",
      "         7.47961721e+00,  8.10494628e+00, -4.66785554e-01,\n",
      "         1.26984323e+00,  2.67345108e+00,  1.59919919e+00,\n",
      "        -6.75348858e-01, -4.76069817e-01,  3.23017889e+00,\n",
      "         1.51318427e+00,  5.27557263e+00, -1.81168174e-01,\n",
      "         2.89345285e+00,  3.60679544e-01],\n",
      "       [ 2.59049742e+00,  5.18083823e-01,  4.91348441e+00,\n",
      "         1.50534997e+00,  8.84548503e+00,  6.74980721e+00,\n",
      "         1.26984323e+00,  2.67345108e+00,  1.59919919e+00,\n",
      "         4.32189746e+00,  6.55765421e+00,  1.17994486e+01,\n",
      "         2.61247216e+00,  6.35215337e+00,  3.35221853e-01,\n",
      "         4.42841393e-02,  3.60679544e-01],\n",
      "       [ 1.19929696e+00, -6.33193633e-01,  1.00616148e+01,\n",
      "        -3.56934022e-01,  2.44268887e+01, -4.66785554e-01,\n",
      "         2.40425861e-02, -6.78660808e-01,  1.31419973e-01,\n",
      "        -6.75348858e-01, -4.76069817e-01, -1.09020117e-01,\n",
      "         5.08586991e+00,  2.42761806e+00,  3.47431761e-01,\n",
      "        -5.25550971e-01,  3.60679544e-01],\n",
      "       [ 2.30982607e+00,  5.18083823e-01,  9.87522722e+00,\n",
      "         1.29590342e+01, -4.54576230e-01,  8.83843149e+00,\n",
      "        -3.91225126e-01,  4.38708704e-01, -9.16995191e-01,\n",
      "         2.65615035e+00,  4.65268729e+00,  1.01745666e+00,\n",
      "         8.26129338e-01,  1.30328494e+01,  2.53905265e+00,\n",
      "         3.29199985e-01,  3.60679544e-01],\n",
      "       [ 6.80104384e-01, -2.49434481e-01,  1.20670392e+01,\n",
      "         1.56175189e+01, -1.55666898e-01, -4.66785554e-01,\n",
      "         2.31675196e-01,  9.97395136e-01, -7.07313165e-01,\n",
      "        -6.75348858e-01, -4.76069817e-01,  7.35837464e-01,\n",
      "         7.00962372e+00,  9.77437956e+00,  4.71766949e+00,\n",
      "         2.03870190e+00,  3.60679544e-01]]), 2: array([[ 0.78696085,  0.13432467, -0.46955188, ...,  0.10204243,\n",
      "         0.2342269 ,  0.36067954],\n",
      "       [ 2.556788  ,  0.51808382,  0.28480729, ...,  0.5462328 ,\n",
      "        -0.52555097,  0.36067954],\n",
      "       [ 1.07411348, -0.24943448,  1.51889621, ...,  0.25320148,\n",
      "        -0.52555097,  0.36067954],\n",
      "       ...,\n",
      "       [-0.36107195,  0.51808382, -0.44614929, ..., -0.30230403,\n",
      "        -0.52555097, -3.37552638],\n",
      "       [ 0.29150723,  0.51808382, -0.09923862, ..., -0.16305905,\n",
      "        -0.52555097, -3.37552638],\n",
      "       [ 2.11538746, -0.18547673, -0.36913136, ...,  0.01197266,\n",
      "        -0.52555097, -4.12276757]]), 3: array([[ 0.44713513,  0.51808382, -0.10766823, ..., -0.08848934,\n",
      "        -0.52555097,  0.36067954],\n",
      "       [ 0.11787839,  0.51808382,  0.15449229, ...,  0.67352623,\n",
      "        -0.52555097,  0.36067954],\n",
      "       [ 0.12452002,  0.51808382, -0.26538766, ..., -0.12926697,\n",
      "        -0.52555097,  0.36067954],\n",
      "       ...,\n",
      "       [-0.73795032,  0.51808382, -0.33329263, ..., -0.33610631,\n",
      "         1.18395094, -4.12276757],\n",
      "       [-0.74242339,  0.51808382, -0.32913633, ..., -0.35703495,\n",
      "        -0.52555097, -4.12276757],\n",
      "       [-0.7403981 , -0.18547673, -0.40196519, ..., -0.32175099,\n",
      "         0.32919999, -4.12276757]]), 4: array([[-0.73198937, -0.24943448, -0.42489974, ..., -0.2973097 ,\n",
      "        -0.52555097,  0.36067954],\n",
      "       [ 0.04909914, -1.01695278,  0.23205785, ..., -0.35703495,\n",
      "        -0.52555097,  0.36067954],\n",
      "       [-0.3587753 ,  0.51808382, -0.46206305, ..., -0.25223788,\n",
      "        -0.52555097,  0.36067954],\n",
      "       ...,\n",
      "       [-0.65863978, -0.18547673,  0.00445827, ..., -0.35703495,\n",
      "        -0.52555097, -4.12276757],\n",
      "       [-0.74517423, -0.18547673, -0.46955188, ..., -0.33316552,\n",
      "         0.32919999, -4.12276757],\n",
      "       [-0.57257511, -0.88903307,  0.04214581, ..., -0.31923775,\n",
      "        -0.52555097, -4.12276757]]), 5: array([[-0.45027722,  0.51808382,  2.84940849, ..., -0.27224137,\n",
      "         2.89345285,  0.36067954],\n",
      "       [ 2.30855218,  0.51808382,  2.50723451, ...,  0.35352796,\n",
      "        -0.52555097,  0.36067954],\n",
      "       [ 1.192941  ,  0.51808382,  0.64466896, ...,  0.30274003,\n",
      "        -0.52555097,  0.36067954],\n",
      "       ...,\n",
      "       [-0.57468397,  0.13432467,  3.30011435, ..., -0.26295344,\n",
      "         2.13367499,  0.36067954],\n",
      "       [-0.71394964,  0.51808382,  0.40812959, ..., -0.28333134,\n",
      "         2.89345285,  0.36067954],\n",
      "       [ 0.46561739,  0.13432467,  2.16737269, ..., -0.09890159,\n",
      "        -0.52555097,  0.36067954]])}\n"
     ]
    }
   ],
   "source": [
    "K = 5\n",
    "kmeans=Kmeans(X,K)\n",
    "kmeans.fit(n_iter)\n",
    "Output,Centroids=kmeans.predict()\n",
    "print(Output)\n"
   ]
  },
  {
   "cell_type": "code",
   "execution_count": null,
   "id": "48d87969",
   "metadata": {},
   "outputs": [],
   "source": []
  },
  {
   "cell_type": "code",
   "execution_count": 69,
   "id": "2476df93",
   "metadata": {},
   "outputs": [
    {
     "data": {
      "image/png": "[encoded data removed]",
      "text/plain": [
       "<Figure size 640x480 with 1 Axes>"
      ]
     },
     "metadata": {},
     "output_type": "display_data"
    }
   ],
   "source": [
    "color = ['red', 'blue', 'green', 'cyan', 'magenta']\n",
    "labels = ['cluster1', 'cluster2', 'cluster3', 'cluster4', 'cluster5']\n",
    "for k in range(K):\n",
    "    plt.scatter(Output[k+1][:, 0], Output[k+1]\n",
    "                [:, 1], c=color[k], label=labels[k])\n",
    "plt.scatter(Centroids[:, 0], Centroids[:, 1],\n",
    "            s=300, c='yellow', label='Centroids')\n",
    "plt.title('Clusters of customers')\n",
    "# plt.xlabel('Annual Income (k$)')\n",
    "# plt.ylabel('Spending Score (1-100)')\n",
    "plt.legend()\n",
    "plt.show()"
   ]
  },
  {
   "cell_type": "code",
   "execution_count": 46,
   "id": "f2f0f63c",
   "metadata": {},
   "outputs": [
    {
     "data": {
      "image/png": "[encoded data removed]",
      "text/plain": [
       "<Figure size 640x480 with 1 Axes>"
      ]
     },
     "metadata": {},
     "output_type": "display_data"
    }
   ],
   "source": [
    "from sklearn.cluster import KMeans\n",
    "\n",
    "wcss = []\n",
    "cluster = []\n",
    "for i in range(1, 11):\n",
    "    kmeans = KMeans(max_iter=200,n_clusters = i, init = 'k-means++', random_state = 42)\n",
    "    # kmeans.fit(X)\n",
    "    cluster.append(kmeans.fit_predict(X))\n",
    "    wcss.append(kmeans.inertia_)\n",
    "plt.plot(range(1, 11), wcss)\n",
    "plt.title('The Elbow Method')\n",
    "plt.xlabel('Number of clusters')\n",
    "plt.ylabel('WCSS')\n",
    "plt.show()"
   ]
  },
  {
   "cell_type": "code",
   "execution_count": 47,
   "id": "3b0cab30",
   "metadata": {},
   "outputs": [
    {
     "name": "stdout",
     "output_type": "stream",
     "text": [
      "Optimal K value :  5\n"
     ]
    }
   ],
   "source": [
    "bestK = 5\n",
    "print('Optimal K value : ', bestK)"
   ]
  },
  {
   "cell_type": "code",
   "execution_count": 23,
   "id": "9e491ea8",
   "metadata": {},
   "outputs": [
    {
     "name": "stdout",
     "output_type": "stream",
     "text": [
      "5\n"
     ]
    }
   ],
   "source": [
    "from kneed import KneeLocator\n",
    "kl = KneeLocator(range(1,11),wcss,curve='convex',direction='decreasing')\n",
    "print(kl.elbow+1)"
   ]
  },
  {
   "cell_type": "markdown",
   "metadata": {},
   "source": []
  },
  {
   "cell_type": "code",
   "execution_count": 50,
   "id": "6dd38547",
   "metadata": {},
   "outputs": [
    {
     "data": {
      "text/plain": [
       "2    3913\n",
       "3    2416\n",
       "0    1383\n",
       "1    1152\n",
       "4      86\n",
       "Name: count, dtype: int64"
      ]
     },
     "execution_count": 50,
     "metadata": {},
     "output_type": "execute_result"
    }
   ],
   "source": [
    "temp = pd.DataFrame(cluster[kl.elbow])\n",
    "temp.value_counts()"
   ]
  },
  {
   "cell_type": "code",
   "execution_count": 59,
   "id": "75a4a3f6",
   "metadata": {},
   "outputs": [],
   "source": [
    "# Fitting K-Means to the dataset\n",
    "kmeans = KMeans(n_clusters = 5, init = 'k-means++', random_state = 10)\n",
    "y_kmeans = kmeans.fit_predict(X)"
   ]
  },
  {
   "cell_type": "code",
   "execution_count": 73,
   "id": "bc49bf42",
   "metadata": {},
   "outputs": [
    {
     "ename": "AttributeError",
     "evalue": "'Kmeans' object has no attribute 'cluster_centers_'",
     "output_type": "error",
     "traceback": [
      "\u001b[1;31m---------------------------------------------------------------------------\u001b[0m",
      "\u001b[1;31mAttributeError\u001b[0m                            Traceback (most recent call last)",
      "\u001b[1;32mc:\\Users\\Lenovo\\Desktop\\college1\\Labs\\semester 5\\Machine Learning\\2101227_Lab7\\Lab7.ipynb Cell 24\u001b[0m line \u001b[0;36m1\n\u001b[0;32m      <a href='vscode-notebook-cell:/c%3A/Users/Lenovo/Desktop/college1/Labs/semester%205/Machine%20Learning/2101227_Lab7/Lab7.ipynb#X32sZmlsZQ%3D%3D?line=7'>8</a>\u001b[0m plt\u001b[39m.\u001b[39mscatter(X[y_kmeans \u001b[39m==\u001b[39m \u001b[39m3\u001b[39m, \u001b[39m0\u001b[39m], X[y_kmeans \u001b[39m==\u001b[39m \u001b[39m3\u001b[39m, \u001b[39m1\u001b[39m],\n\u001b[0;32m      <a href='vscode-notebook-cell:/c%3A/Users/Lenovo/Desktop/college1/Labs/semester%205/Machine%20Learning/2101227_Lab7/Lab7.ipynb#X32sZmlsZQ%3D%3D?line=8'>9</a>\u001b[0m             s\u001b[39m=\u001b[39m\u001b[39m100\u001b[39m, c\u001b[39m=\u001b[39m\u001b[39m'\u001b[39m\u001b[39mcyan\u001b[39m\u001b[39m'\u001b[39m, label\u001b[39m=\u001b[39m\u001b[39m'\u001b[39m\u001b[39mCluster 4\u001b[39m\u001b[39m'\u001b[39m)\n\u001b[0;32m     <a href='vscode-notebook-cell:/c%3A/Users/Lenovo/Desktop/college1/Labs/semester%205/Machine%20Learning/2101227_Lab7/Lab7.ipynb#X32sZmlsZQ%3D%3D?line=9'>10</a>\u001b[0m plt\u001b[39m.\u001b[39mscatter(X[y_kmeans \u001b[39m==\u001b[39m \u001b[39m4\u001b[39m, \u001b[39m0\u001b[39m], X[y_kmeans \u001b[39m==\u001b[39m \u001b[39m4\u001b[39m, \u001b[39m1\u001b[39m],\n\u001b[0;32m     <a href='vscode-notebook-cell:/c%3A/Users/Lenovo/Desktop/college1/Labs/semester%205/Machine%20Learning/2101227_Lab7/Lab7.ipynb#X32sZmlsZQ%3D%3D?line=10'>11</a>\u001b[0m             s\u001b[39m=\u001b[39m\u001b[39m100\u001b[39m, c\u001b[39m=\u001b[39m\u001b[39m'\u001b[39m\u001b[39mmagenta\u001b[39m\u001b[39m'\u001b[39m, label\u001b[39m=\u001b[39m\u001b[39m'\u001b[39m\u001b[39mCluster 5\u001b[39m\u001b[39m'\u001b[39m)\n\u001b[1;32m---> <a href='vscode-notebook-cell:/c%3A/Users/Lenovo/Desktop/college1/Labs/semester%205/Machine%20Learning/2101227_Lab7/Lab7.ipynb#X32sZmlsZQ%3D%3D?line=11'>12</a>\u001b[0m plt\u001b[39m.\u001b[39mscatter(kmeans\u001b[39m.\u001b[39;49mcluster_centers_[:, \u001b[39m0\u001b[39m], kmeans\u001b[39m.\u001b[39mcluster_centers_[\n\u001b[0;32m     <a href='vscode-notebook-cell:/c%3A/Users/Lenovo/Desktop/college1/Labs/semester%205/Machine%20Learning/2101227_Lab7/Lab7.ipynb#X32sZmlsZQ%3D%3D?line=12'>13</a>\u001b[0m             :, \u001b[39m1\u001b[39m], s\u001b[39m=\u001b[39m\u001b[39m300\u001b[39m, c\u001b[39m=\u001b[39m\u001b[39m'\u001b[39m\u001b[39myellow\u001b[39m\u001b[39m'\u001b[39m, label\u001b[39m=\u001b[39m\u001b[39m'\u001b[39m\u001b[39mCentroids\u001b[39m\u001b[39m'\u001b[39m)\n\u001b[0;32m     <a href='vscode-notebook-cell:/c%3A/Users/Lenovo/Desktop/college1/Labs/semester%205/Machine%20Learning/2101227_Lab7/Lab7.ipynb#X32sZmlsZQ%3D%3D?line=13'>14</a>\u001b[0m plt\u001b[39m.\u001b[39mtitle(\u001b[39m'\u001b[39m\u001b[39mClusters of customers\u001b[39m\u001b[39m'\u001b[39m)\n\u001b[0;32m     <a href='vscode-notebook-cell:/c%3A/Users/Lenovo/Desktop/college1/Labs/semester%205/Machine%20Learning/2101227_Lab7/Lab7.ipynb#X32sZmlsZQ%3D%3D?line=14'>15</a>\u001b[0m plt\u001b[39m.\u001b[39mxlabel(\u001b[39m'\u001b[39m\u001b[39mAnnual Income (k$)\u001b[39m\u001b[39m'\u001b[39m)\n",
      "\u001b[1;31mAttributeError\u001b[0m: 'Kmeans' object has no attribute 'cluster_centers_'"
     ]
    },
    {
     "data": {
      "image/png": "[encoded data removed]",
      "text/plain": [
       "<Figure size 640x480 with 1 Axes>"
      ]
     },
     "metadata": {},
     "output_type": "display_data"
    }
   ],
   "source": [
    "# Visualising the clusters\n",
    "plt.scatter(X[y_kmeans == 0, 0], X[y_kmeans == 0, 1],\n",
    "            s=100, c='red', label='Cluster 1')\n",
    "plt.scatter(X[y_kmeans == 1, 0], X[y_kmeans == 1, 1],\n",
    "            s=100, c='blue', label='Cluster 2')\n",
    "plt.scatter(X[y_kmeans == 2, 0], X[y_kmeans == 2, 1],\n",
    "            s=100, c='green', label='Cluster 3')\n",
    "plt.scatter(X[y_kmeans == 3, 0], X[y_kmeans == 3, 1],\n",
    "            s=100, c='cyan', label='Cluster 4')\n",
    "plt.scatter(X[y_kmeans == 4, 0], X[y_kmeans == 4, 1],\n",
    "            s=100, c='magenta', label='Cluster 5')\n",
    "plt.scatter(kmeans.cluster_centers_[:, 0], kmeans.cluster_centers_[\n",
    "            :, 1], s=300, c='yellow', label='Centroids')\n",
    "plt.title('Clusters of customers')\n",
    "plt.xlabel('Annual Income (k$)')\n",
    "plt.ylabel('Spending Score (1-100)')\n",
    "plt.legend()\n",
    "plt.show()\n"
   ]
  },
  {
   "cell_type": "code",
   "execution_count": null,
   "id": "f6873c66",
   "metadata": {},
   "outputs": [],
   "source": []
  },
  {
   "cell_type": "code",
   "execution_count": null,
   "id": "a4572f34",
   "metadata": {},
   "outputs": [],
   "source": []
  },
  {
   "cell_type": "code",
   "execution_count": null,
   "id": "cd2923aa",
   "metadata": {},
   "outputs": [],
   "source": []
  },
  {
   "cell_type": "code",
   "execution_count": null,
   "id": "fee09123",
   "metadata": {},
   "outputs": [],
   "source": []
  },
  {
   "cell_type": "code",
   "execution_count": null,
   "id": "c93ebcef",
   "metadata": {},
   "outputs": [],
   "source": []
  },
  {
   "cell_type": "code",
   "execution_count": null,
   "id": "2cf1ffab",
   "metadata": {},
   "outputs": [],
   "source": []
  },
  {
   "cell_type": "code",
   "execution_count": 17,
   "id": "5c9743db",
   "metadata": {},
   "outputs": [],
   "source": [
    "\n",
    "# class Kmeans:\n",
    "#     def __init__(self,X,K):\n",
    "#         self.X=X\n",
    "#         self.Output={}\n",
    "#         self.Centroids=np.array([]).reshape(self.X.shape[1],0)\n",
    "#         self.K=K\n",
    "#         self.m=self.X.shape[0]\n",
    "\n",
    "#     def kmeanspp(self,X,K):\n",
    "#         i=rd.randint(0,X.shape[0])\n",
    "#         Centroid_temp=np.array([X[i]])\n",
    "#         for k in range(1,K):\n",
    "#             D=np.array([])\n",
    "#             for x in X:\n",
    "#                 D=np.append(D,np.min(np.sum((x-Centroid_temp)**2)))\n",
    "#             prob=D/np.sum(D)\n",
    "#             cummulative_prob=np.cumsum(prob)\n",
    "#             r=rd.random()\n",
    "#             i=0\n",
    "#             for j,p in enumerate(cummulative_prob):\n",
    "#                 if r<p:\n",
    "#                     i=j\n",
    "#                     break\n",
    "#             Centroid_temp=np.append(Centroid_temp,[X[i]],axis=0)\n",
    "#         return Centroid_temp.T\n",
    "\n",
    "#     def fit(self,n_iter):\n",
    "#         #randomly Initialize the centroids\n",
    "#         self.Centroids=self.kmeanspp(self.X,self.K)\n",
    "\n",
    "#         #compute euclidian distances and assign clusters\n",
    "#         for n in range(n_iter):\n",
    "#             EuclidianDistance=np.array([]).reshape(self.m,0)\n",
    "#             for k in range(self.K):\n",
    "#                 tempDist=np.sum((self.X-self.Centroids[:,k])**2,axis=1)\n",
    "#                 EuclidianDistance=np.c_[EuclidianDistance,tempDist]\n",
    "#             C=np.argmin(EuclidianDistance,axis=1)+1\n",
    "#             #adjust the centroids\n",
    "#             Y={}\n",
    "#             for k in range(self.K):\n",
    "#                 Y[k+1]=np.array([]).reshape(17,0)\n",
    "#             for i in range(self.m):\n",
    "#                 Y[C[i]]=np.c_[Y[C[i]],self.X[i]]\n",
    "\n",
    "#             for k in range(self.K):\n",
    "#                 Y[k+1]=Y[k+1].T\n",
    "#             for k in range(self.K):\n",
    "#                 self.Centroids[:,k]=np.mean(Y[k+1],axis=0)\n",
    "\n",
    "#             self.Output=Y\n",
    "\n",
    "\n",
    "#     def predict(self):\n",
    "#         return self.Output,self.Centroids.T\n",
    "\n",
    "#     def WCSS(self):\n",
    "#         wcss=0\n",
    "#         for k in range(self.K):\n",
    "#             wcss+=np.sum((self.Output[k+1]-self.Centroids[:,k])**2)\n",
    "#         return wcss\n"
   ]
  }
 ],
 "metadata": {
  "kernelspec": {
   "display_name": "Python 3 (ipykernel)",
   "language": "python",
   "name": "python3"
  },
  "language_info": {
   "codemirror_mode": {
    "name": "ipython",
    "version": 3
   },
   "file_extension": ".py",
   "mimetype": "text/x-python",
   "name": "python",
   "nbconvert_exporter": "python",
   "pygments_lexer": "ipython3",
   "version": "3.11.2"
  }
 },
 "nbformat": 4,
 "nbformat_minor": 5
}
