{
 "cells": [
  {
   "cell_type": "code",
   "execution_count": 1,
   "id": "fbad02fe",
   "metadata": {},
   "outputs": [],
   "source": [
    "import numpy as np\n",
    "import matplotlib.pyplot as plt"
   ]
  },
  {
   "cell_type": "code",
   "execution_count": 2,
   "id": "28750830",
   "metadata": {},
   "outputs": [],
   "source": [
    "input_size = 5  # no_of_features\n",
    "layers = [4, 3]  # no. of neurons in 1st and 2nd layer\n",
    "output_class = 2"
   ]
  },
  {
   "cell_type": "markdown",
   "id": "bcc09c7c",
   "metadata": {},
   "source": [
    "# Multilayer Neural Network"
   ]
  },
  {
   "cell_type": "code",
   "execution_count": 3,
   "id": "546893ba",
   "metadata": {},
   "outputs": [],
   "source": [
    "def softmax(a):\n",
    "    e_pa = np.exp(a)\n",
    "    ans = e_pa / np.sum(e_pa, axis=1, keepdims=True)\n",
    "    return ans"
   ]
  },
  {
   "cell_type": "code",
   "execution_count": 4,
   "id": "e8099b34",
   "metadata": {},
   "outputs": [
    {
     "name": "stdout",
     "output_type": "stream",
     "text": [
      "[[4.53978687e-05 9.99954602e-01]]\n"
     ]
    }
   ],
   "source": [
    "a = np.array([[10, 20]])\n",
    "result = softmax(a)\n",
    "print(result)"
   ]
  },
  {
   "cell_type": "code",
   "execution_count": 5,
   "id": "aea89d8c",
   "metadata": {},
   "outputs": [],
   "source": [
    "class NeuralNetwork:\n",
    "    def __init__(self, input_size, layers, output_size):\n",
    "        np.random.seed(0)\n",
    "\n",
    "        model = {}  #Dictionary\n",
    "\n",
    "        #First Layer\n",
    "        model['W1'] = np.random.randn(input_size, layers[0])\n",
    "        model['b1'] = np.zeros((1, layers[0]))\n",
    "\n",
    "        #Second Layer\n",
    "        model['W2'] = np.random.randn(layers[0], layers[1])\n",
    "        model['b2'] = np.zeros((1, layers[1]))\n",
    "\n",
    "        #Third/Output Layer\n",
    "        model['W3'] = np.random.randn(layers[1], output_size)\n",
    "        model['b3'] = np.zeros((1, output_size))\n",
    "\n",
    "        self.model = model\n",
    "        self.activation_outputs = None\n",
    "\n",
    "    def forward(self, x):\n",
    "\n",
    "        W1, W2, W3 = self.model['W1'], self.model['W2'], self.model['W3']\n",
    "        b1, b2, b3 = self.model['b1'], self.model['b2'], self.model['b3']\n",
    "\n",
    "        z1 = np.dot(x, W1) + b1\n",
    "        a1 = np.tanh(z1)\n",
    "\n",
    "        z2 = np.dot(a1, W2) + b2\n",
    "        a2 = np.tanh(z2)\n",
    "\n",
    "        z3 = np.dot(a2, W3) + b3\n",
    "        y_ = softmax(z3)\n",
    "\n",
    "        self.activation_outputs = (a1, a2, y_)\n",
    "        return y_\n",
    "\n",
    "    def backward(self, x, y, learning_rate=0.001):\n",
    "        W1, W2, W3 = self.model['W1'], self.model['W2'], self.model['W3']\n",
    "        b1, b2, b3 = self.model['b1'], self.model['b2'], self.model['b3']\n",
    "        m = x.shape[0]\n",
    "\n",
    "        a1, a2, y_ = self.activation_outputs\n",
    "\n",
    "        delta3 = y_ - y\n",
    "        dw3 = np.dot(a2.T, delta3)\n",
    "        db3 = np.sum(delta3, axis=0)\n",
    "\n",
    "        delta2 = (1 - np.square(a2)) * np.dot(delta3, W3.T)\n",
    "        dw2 = np.dot(a1.T, delta2)\n",
    "        db2 = np.sum(delta2, axis=0)\n",
    "\n",
    "        delta1 = (1 - np.square(a1)) * np.dot(delta2, W2.T)\n",
    "        dw1 = np.dot(x.T, delta1)\n",
    "        db1 = np.sum(delta1, axis=0)\n",
    "\n",
    "        #Update the Model Parameters using Gradient Descent\n",
    "        self.model[\"W1\"] -= learning_rate * dw1\n",
    "        self.model['b1'] -= learning_rate * db1\n",
    "\n",
    "        self.model[\"W2\"] -= learning_rate * dw2\n",
    "        self.model['b2'] -= learning_rate * db2\n",
    "\n",
    "        self.model[\"W3\"] -= learning_rate * dw3\n",
    "        self.model['b3'] -= learning_rate * db3\n",
    "\n",
    "    def predict(self, x):\n",
    "        y_out = self.forward(x)\n",
    "        return np.argmax(y_out, axis=1)\n",
    "\n",
    "    def summary(self):\n",
    "        W1, W2, W3 = self.model['W1'], self.model['W2'], self.model['W3']\n",
    "        a1, a2, y_ = self.activation_outputs\n",
    "\n",
    "        print(\"W1 \", W1.shape)\n",
    "        print(\"A1 \", a1.shape)\n",
    "\n",
    "        print(\"W2 \", W2.shape)\n",
    "        print(\"A2 \", a2.shape)\n",
    "\n",
    "        print(\"W3 \", W3.shape)\n",
    "        print(\"Y_ \", y_.shape)"
   ]
  },
  {
   "cell_type": "code",
   "execution_count": 6,
   "id": "d656b616",
   "metadata": {},
   "outputs": [],
   "source": [
    "def loss(y_oht, p):\n",
    "    l = -np.mean(y_oht * np.log(p))\n",
    "    return l\n",
    "\n",
    "\n",
    "def one_hot(y, depth):\n",
    "\n",
    "    m = y.shape[0]\n",
    "    y_oht = np.zeros((m, depth))\n",
    "    y_oht[np.arange(m), y] = 1\n",
    "    return y_oht"
   ]
  },
  {
   "cell_type": "code",
   "execution_count": 7,
   "id": "a1a81e8d",
   "metadata": {},
   "outputs": [],
   "source": [
    "def train(X, Y, model, epochs, learning_rate, logs=True):\n",
    "    training_loss = []\n",
    "\n",
    "    classes = 2\n",
    "    Y_OHT = one_hot(Y, classes)\n",
    "\n",
    "    for ix in range(epochs):\n",
    "\n",
    "        Y_ = model.forward(X)\n",
    "        l = loss(Y_OHT, Y_)\n",
    "        training_loss.append(l)\n",
    "        model.backward(X, Y_OHT, learning_rate)\n",
    "        # model.forward()\n",
    "\n",
    "        if (logs and ix%50==0):\n",
    "            print(\"Epoch %d Loss %.4f\" % (ix, l))\n",
    "\n",
    "    return training_loss"
   ]
  },
  {
   "cell_type": "code",
   "execution_count": 8,
   "id": "829919c8",
   "metadata": {},
   "outputs": [],
   "source": [
    "def plot_decision_boundary(model, X, y, cmap=plt.cm.jet):\n",
    "\n",
    "    x_min, x_max = X[:, 0].min() - 1, X[:, 0].max() + 1\n",
    "    y_min, y_max = X[:, 1].min() - 1, X[:, 1].max() + 1\n",
    "    h = 0.01\n",
    "\n",
    "    xx, yy = np.meshgrid(np.arange(x_min, x_max, h),\n",
    "                         np.arange(y_min, y_max, h))\n",
    "\n",
    "    Z = model(np.c_[xx.ravel(), yy.ravel()])\n",
    "    Z = Z.reshape(xx.shape)\n",
    "\n",
    "    plt.contourf(xx, yy, Z, cmap=plt.cm.Spectral)\n",
    "    plt.ylabel('x2')\n",
    "    plt.xlabel('x1')\n",
    "    plt.style.use(\"seaborn\")\n",
    "    plt.scatter(X[:, 0], X[:, 1], c=y, cmap=plt.cm.jet)\n",
    "    plt.show()"
   ]
  },
  {
   "cell_type": "markdown",
   "id": "768a8711",
   "metadata": {},
   "source": [
    "# Dataset"
   ]
  },
  {
   "cell_type": "code",
   "execution_count": 9,
   "id": "16334f8b",
   "metadata": {},
   "outputs": [],
   "source": [
    "# Generate random data samples\n",
    "np.random.seed(10)\n",
    "num_samples = 1000\n",
    "num_features = 5\n",
    "X = np.random.randn(num_samples, num_features)\n",
    "Y = np.random.randint(0, 2, num_samples)"
   ]
  },
  {
   "cell_type": "code",
   "execution_count": 10,
   "metadata": {},
   "outputs": [
    {
     "data": {
      "text/plain": [
       "array([[ 1.3315865 ,  0.71527897, -1.54540029, -0.00838385,  0.62133597],\n",
       "       [-0.72008556,  0.26551159,  0.10854853,  0.00429143, -0.17460021],\n",
       "       [ 0.43302619,  1.20303737, -0.96506567,  1.02827408,  0.22863013],\n",
       "       ...,\n",
       "       [-1.2924998 , -0.10768601, -0.13185048,  1.21725896, -0.76590725],\n",
       "       [-0.60274058, -1.87806495, -0.77239814,  0.21401293, -0.02636137],\n",
       "       [ 1.15352129, -0.71904634, -1.44255419,  0.38838999,  0.70120839]])"
      ]
     },
     "execution_count": 10,
     "metadata": {},
     "output_type": "execute_result"
    }
   ],
   "source": [
    "X"
   ]
  },
  {
   "cell_type": "code",
   "execution_count": 11,
   "metadata": {},
   "outputs": [
    {
     "data": {
      "text/plain": [
       "array([0, 1, 0, 1, 0, 0, 1, 0, 0, 1, 0, 1, 1, 1, 0, 1, 1, 1, 0, 1, 1, 1,\n",
       "       0, 1, 0, 0, 1, 0, 1, 1, 1, 0, 1, 1, 0, 1, 0, 0, 1, 0, 0, 0, 1, 1,\n",
       "       0, 1, 0, 1, 0, 0, 0, 0, 1, 0, 1, 1, 0, 1, 0, 1, 0, 0, 0, 1, 0, 1,\n",
       "       0, 0, 1, 1, 1, 0, 1, 1, 0, 1, 0, 1, 1, 1, 0, 1, 1, 0, 1, 1, 1, 1,\n",
       "       0, 1, 1, 1, 0, 0, 0, 0, 1, 1, 0, 0, 1, 0, 0, 1, 1, 1, 0, 0, 1, 0,\n",
       "       0, 1, 1, 0, 1, 1, 1, 1, 1, 1, 1, 0, 0, 1, 1, 0, 1, 0, 1, 1, 1, 1,\n",
       "       0, 0, 0, 0, 0, 0, 1, 1, 1, 1, 0, 1, 0, 1, 0, 0, 1, 1, 1, 0, 0, 0,\n",
       "       0, 0, 1, 1, 1, 0, 1, 0, 1, 1, 1, 0, 1, 0, 0, 0, 1, 0, 0, 1, 0, 1,\n",
       "       0, 1, 1, 0, 0, 1, 1, 1, 1, 0, 1, 0, 0, 0, 0, 0, 1, 0, 1, 0, 1, 0,\n",
       "       0, 1, 0, 1, 0, 1, 0, 1, 0, 0, 0, 0, 1, 0, 0, 0, 0, 1, 1, 1, 1, 0,\n",
       "       1, 0, 1, 0, 0, 1, 1, 0, 0, 1, 1, 1, 1, 0, 0, 1, 0, 1, 0, 0, 1, 1,\n",
       "       1, 1, 0, 1, 0, 1, 1, 0, 0, 0, 1, 1, 1, 0, 0, 0, 0, 0, 1, 1, 0, 0,\n",
       "       1, 0, 0, 1, 1, 1, 1, 1, 0, 0, 0, 1, 1, 1, 0, 0, 0, 1, 0, 1, 0, 1,\n",
       "       0, 0, 0, 1, 0, 0, 0, 0, 1, 1, 0, 0, 1, 1, 1, 1, 1, 0, 0, 0, 0, 1,\n",
       "       1, 0, 1, 0, 1, 0, 1, 1, 1, 0, 0, 1, 0, 1, 0, 0, 1, 1, 0, 0, 0, 1,\n",
       "       0, 1, 0, 0, 1, 0, 0, 0, 1, 0, 0, 1, 0, 1, 0, 1, 1, 1, 0, 1, 1, 0,\n",
       "       0, 0, 1, 0, 1, 0, 1, 1, 0, 1, 1, 0, 0, 0, 0, 0, 0, 1, 0, 1, 0, 1,\n",
       "       0, 0, 1, 0, 1, 0, 0, 0, 1, 0, 1, 1, 0, 0, 0, 1, 1, 1, 1, 0, 0, 1,\n",
       "       0, 0, 0, 0, 0, 0, 1, 1, 1, 0, 0, 0, 1, 0, 1, 1, 1, 1, 1, 1, 1, 1,\n",
       "       0, 0, 0, 0, 1, 1, 1, 0, 1, 1, 1, 1, 1, 0, 0, 0, 0, 1, 0, 1, 1, 1,\n",
       "       1, 1, 0, 1, 0, 0, 1, 1, 1, 1, 1, 0, 1, 0, 1, 0, 0, 0, 0, 0, 1, 0,\n",
       "       0, 1, 1, 0, 1, 0, 0, 1, 0, 1, 0, 1, 1, 0, 0, 1, 0, 0, 0, 0, 0, 1,\n",
       "       0, 0, 1, 1, 0, 1, 0, 0, 0, 0, 0, 1, 1, 0, 0, 1, 1, 1, 0, 1, 1, 1,\n",
       "       0, 0, 1, 0, 0, 0, 0, 0, 0, 0, 0, 1, 0, 1, 1, 0, 1, 0, 0, 1, 0, 0,\n",
       "       0, 1, 1, 0, 0, 1, 0, 0, 0, 0, 0, 0, 1, 1, 1, 1, 0, 0, 0, 1, 0, 1,\n",
       "       0, 1, 1, 0, 0, 1, 0, 1, 0, 1, 0, 1, 1, 0, 1, 0, 0, 0, 1, 0, 0, 0,\n",
       "       0, 1, 0, 0, 1, 0, 0, 0, 0, 1, 1, 1, 1, 0, 1, 1, 0, 0, 0, 0, 0, 0,\n",
       "       0, 0, 1, 1, 0, 1, 0, 1, 0, 1, 1, 1, 1, 1, 1, 1, 1, 1, 1, 0, 0, 1,\n",
       "       1, 1, 1, 0, 0, 1, 0, 1, 1, 1, 1, 0, 0, 0, 1, 1, 1, 0, 0, 0, 1, 0,\n",
       "       0, 1, 1, 1, 0, 1, 0, 0, 0, 1, 0, 0, 0, 1, 1, 1, 0, 1, 1, 1, 0, 0,\n",
       "       0, 0, 0, 1, 1, 0, 0, 1, 0, 1, 1, 0, 0, 0, 1, 1, 1, 1, 1, 1, 0, 0,\n",
       "       1, 1, 1, 0, 1, 0, 1, 1, 0, 1, 1, 0, 1, 0, 0, 0, 1, 0, 0, 1, 1, 0,\n",
       "       1, 1, 0, 0, 0, 0, 1, 1, 0, 0, 0, 1, 1, 1, 1, 0, 1, 1, 1, 0, 1, 0,\n",
       "       1, 1, 1, 0, 1, 0, 0, 0, 1, 1, 1, 0, 1, 1, 0, 0, 1, 1, 1, 1, 0, 0,\n",
       "       1, 0, 0, 1, 1, 0, 1, 1, 0, 0, 1, 0, 0, 0, 0, 1, 0, 0, 0, 0, 1, 0,\n",
       "       0, 1, 1, 0, 1, 1, 1, 1, 0, 0, 0, 0, 1, 0, 1, 0, 0, 0, 1, 0, 0, 1,\n",
       "       0, 0, 1, 1, 0, 0, 1, 1, 1, 0, 1, 1, 0, 0, 1, 1, 1, 0, 1, 1, 0, 0,\n",
       "       0, 1, 0, 1, 1, 1, 1, 0, 0, 0, 0, 1, 1, 0, 1, 1, 0, 1, 0, 1, 0, 1,\n",
       "       0, 1, 0, 1, 0, 0, 1, 0, 1, 0, 0, 0, 0, 0, 0, 1, 0, 1, 1, 0, 1, 1,\n",
       "       0, 1, 0, 1, 1, 0, 0, 1, 1, 0, 0, 0, 1, 0, 0, 1, 1, 1, 1, 1, 0, 1,\n",
       "       0, 1, 0, 1, 0, 0, 0, 1, 0, 0, 0, 1, 1, 0, 0, 1, 1, 0, 1, 1, 0, 0,\n",
       "       1, 0, 0, 0, 0, 1, 0, 0, 0, 0, 1, 1, 0, 0, 0, 1, 0, 1, 0, 1, 0, 1,\n",
       "       0, 1, 1, 1, 0, 1, 1, 0, 1, 1, 1, 0, 1, 1, 1, 0, 0, 0, 1, 1, 0, 0,\n",
       "       1, 1, 1, 1, 1, 1, 0, 1, 0, 0, 0, 0, 0, 1, 0, 1, 0, 0, 0, 1, 0, 0,\n",
       "       1, 0, 0, 0, 0, 1, 0, 0, 0, 0, 1, 0, 0, 0, 0, 0, 0, 1, 1, 0, 0, 0,\n",
       "       1, 0, 1, 0, 0, 0, 0, 0, 1, 0])"
      ]
     },
     "execution_count": 11,
     "metadata": {},
     "output_type": "execute_result"
    }
   ],
   "source": [
    "Y "
   ]
  },
  {
   "cell_type": "code",
   "execution_count": 12,
   "id": "2e94e6bc",
   "metadata": {},
   "outputs": [],
   "source": [
    "model = NeuralNetwork(input_size=5, layers=[4, 3], output_size=2)"
   ]
  },
  {
   "cell_type": "code",
   "execution_count": 13,
   "id": "451d5704",
   "metadata": {},
   "outputs": [
    {
     "data": {
      "text/plain": [
       "(1, 1000, 2)"
      ]
     },
     "execution_count": 13,
     "metadata": {},
     "output_type": "execute_result"
    }
   ],
   "source": [
    "model.forward([X]).shape"
   ]
  },
  {
   "cell_type": "code",
   "execution_count": 14,
   "id": "030b8779",
   "metadata": {},
   "outputs": [
    {
     "name": "stdout",
     "output_type": "stream",
     "text": [
      "W1  (5, 4)\n",
      "A1  (1, 1000, 4)\n",
      "W2  (4, 3)\n",
      "A2  (1, 1000, 3)\n",
      "W3  (3, 2)\n",
      "Y_  (1, 1000, 2)\n"
     ]
    }
   ],
   "source": [
    "model.summary()"
   ]
  },
  {
   "cell_type": "code",
   "execution_count": 15,
   "id": "e178a35d",
   "metadata": {},
   "outputs": [
    {
     "name": "stdout",
     "output_type": "stream",
     "text": [
      "Epoch 0 Loss 0.3925\n",
      "Epoch 50 Loss 0.3440\n",
      "Epoch 100 Loss 0.3429\n",
      "Epoch 150 Loss 0.3420\n",
      "Epoch 200 Loss 0.3411\n",
      "Epoch 250 Loss 0.3402\n",
      "Epoch 300 Loss 0.3391\n",
      "Epoch 350 Loss 0.3380\n",
      "Epoch 400 Loss 0.3370\n",
      "Epoch 450 Loss 0.3363\n"
     ]
    }
   ],
   "source": [
    "losses = train(X, Y, model, 500, 0.001)\n",
    "# print(losses)"
   ]
  },
  {
   "cell_type": "code",
   "execution_count": 16,
   "id": "8cc152bd",
   "metadata": {},
   "outputs": [
    {
     "data": {
      "image/png": "[encoded data removed]",
      "text/plain": [
       "<Figure size 640x480 with 1 Axes>"
      ]
     },
     "metadata": {},
     "output_type": "display_data"
    }
   ],
   "source": [
    "plt.plot(losses)\n",
    "plt.xlabel(\"Epoch\")\n",
    "plt.ylabel(\"Loss\")\n",
    "plt.show()"
   ]
  },
  {
   "cell_type": "code",
   "execution_count": 17,
   "id": "69a4cd12",
   "metadata": {},
   "outputs": [
    {
     "data": {
      "image/png": "[encoded data removed]",
      "text/plain": [
       "<Figure size 500x500 with 1 Axes>"
      ]
     },
     "metadata": {},
     "output_type": "display_data"
    }
   ],
   "source": [
    "fig = plt.figure(figsize=(5, 5))\n",
    "ax = fig.add_axes([0, 0, 1, 1])\n",
    "labels1 = ['zeros', 'ones']\n",
    "lab_colors = ['blue', 'orange']\n",
    "lab_counts = np.unique(model.predict(X), return_counts=True)[1]\n",
    "ax.bar(labels1, lab_counts, color=lab_colors)\n",
    "plt.show()"
   ]
  },
  {
   "cell_type": "code",
   "execution_count": 18,
   "id": "56f28d22",
   "metadata": {},
   "outputs": [
    {
     "data": {
      "text/plain": [
       "(array([0, 1], dtype=int64), array([748, 252], dtype=int64))"
      ]
     },
     "execution_count": 18,
     "metadata": {},
     "output_type": "execute_result"
    }
   ],
   "source": [
    "np.unique(model.predict(X), return_counts=True)"
   ]
  },
  {
   "cell_type": "code",
   "execution_count": 19,
   "id": "e0c711b0",
   "metadata": {},
   "outputs": [
    {
     "name": "stdout",
     "output_type": "stream",
     "text": [
      "Training accuracy is 56.99999999999999%\n"
     ]
    }
   ],
   "source": [
    "outputs = model.predict(X)\n",
    "training_accuracy = np.sum(outputs == Y) / Y.shape[0]\n",
    "print(f\"Training accuracy is {training_accuracy*100}%\")"
   ]
  },
  {
   "cell_type": "code",
   "execution_count": null,
   "id": "87592061",
   "metadata": {},
   "outputs": [],
   "source": []
  }
 ],
 "metadata": {
  "kernelspec": {
   "display_name": "Python 3 (ipykernel)",
   "language": "python",
   "name": "python3"
  },
  "language_info": {
   "codemirror_mode": {
    "name": "ipython",
    "version": 3
   },
   "file_extension": ".py",
   "mimetype": "text/x-python",
   "name": "python",
   "nbconvert_exporter": "python",
   "pygments_lexer": "ipython3",
   "version": "3.11.2"
  }
 },
 "nbformat": 4,
 "nbformat_minor": 5
}
