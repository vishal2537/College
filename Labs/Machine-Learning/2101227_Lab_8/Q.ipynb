{
 "cells": [
  {
   "cell_type": "code",
   "execution_count": 1,
   "metadata": {},
   "outputs": [],
   "source": [
    "import pandas as pd\n",
    "import numpy as np\n",
    "from sklearn.preprocessing import StandardScaler\n",
    "from sklearn.preprocessing import MinMaxScaler\n",
    "from sklearn.metrics import silhouette_score\n",
    "from sklearn.cluster import DBSCAN\n"
   ]
  },
  {
   "cell_type": "code",
   "execution_count": 2,
   "metadata": {},
   "outputs": [
    {
     "data": {
      "text/html": [
       "<div>\n",
       "<style scoped>\n",
       "    .dataframe tbody tr th:only-of-type {\n",
       "        vertical-align: middle;\n",
       "    }\n",
       "\n",
       "    .dataframe tbody tr th {\n",
       "        vertical-align: top;\n",
       "    }\n",
       "\n",
       "    .dataframe thead th {\n",
       "        text-align: right;\n",
       "    }\n",
       "</style>\n",
       "<table border=\"1\" class=\"dataframe\">\n",
       "  <thead>\n",
       "    <tr style=\"text-align: right;\">\n",
       "      <th></th>\n",
       "      <th>longitude</th>\n",
       "      <th>latitude</th>\n",
       "      <th>housing_median_age</th>\n",
       "      <th>total_rooms</th>\n",
       "      <th>total_bedrooms</th>\n",
       "      <th>population</th>\n",
       "      <th>households</th>\n",
       "      <th>median_income</th>\n",
       "      <th>median_house_value</th>\n",
       "    </tr>\n",
       "  </thead>\n",
       "  <tbody>\n",
       "    <tr>\n",
       "      <th>0</th>\n",
       "      <td>-122.23</td>\n",
       "      <td>37.88</td>\n",
       "      <td>41.0</td>\n",
       "      <td>880.0</td>\n",
       "      <td>129.0</td>\n",
       "      <td>322.0</td>\n",
       "      <td>126.0</td>\n",
       "      <td>8.3252</td>\n",
       "      <td>452600.0</td>\n",
       "    </tr>\n",
       "    <tr>\n",
       "      <th>1</th>\n",
       "      <td>-122.22</td>\n",
       "      <td>37.86</td>\n",
       "      <td>21.0</td>\n",
       "      <td>7099.0</td>\n",
       "      <td>1106.0</td>\n",
       "      <td>2401.0</td>\n",
       "      <td>1138.0</td>\n",
       "      <td>8.3014</td>\n",
       "      <td>358500.0</td>\n",
       "    </tr>\n",
       "    <tr>\n",
       "      <th>2</th>\n",
       "      <td>-122.24</td>\n",
       "      <td>37.85</td>\n",
       "      <td>52.0</td>\n",
       "      <td>1467.0</td>\n",
       "      <td>190.0</td>\n",
       "      <td>496.0</td>\n",
       "      <td>177.0</td>\n",
       "      <td>7.2574</td>\n",
       "      <td>352100.0</td>\n",
       "    </tr>\n",
       "    <tr>\n",
       "      <th>3</th>\n",
       "      <td>-122.25</td>\n",
       "      <td>37.85</td>\n",
       "      <td>52.0</td>\n",
       "      <td>1274.0</td>\n",
       "      <td>235.0</td>\n",
       "      <td>558.0</td>\n",
       "      <td>219.0</td>\n",
       "      <td>5.6431</td>\n",
       "      <td>341300.0</td>\n",
       "    </tr>\n",
       "    <tr>\n",
       "      <th>4</th>\n",
       "      <td>-122.25</td>\n",
       "      <td>37.85</td>\n",
       "      <td>52.0</td>\n",
       "      <td>1627.0</td>\n",
       "      <td>280.0</td>\n",
       "      <td>565.0</td>\n",
       "      <td>259.0</td>\n",
       "      <td>3.8462</td>\n",
       "      <td>342200.0</td>\n",
       "    </tr>\n",
       "  </tbody>\n",
       "</table>\n",
       "</div>"
      ],
      "text/plain": [
       "   longitude  latitude  housing_median_age  total_rooms  total_bedrooms   \n",
       "0    -122.23     37.88                41.0        880.0           129.0  \\\n",
       "1    -122.22     37.86                21.0       7099.0          1106.0   \n",
       "2    -122.24     37.85                52.0       1467.0           190.0   \n",
       "3    -122.25     37.85                52.0       1274.0           235.0   \n",
       "4    -122.25     37.85                52.0       1627.0           280.0   \n",
       "\n",
       "   population  households  median_income  median_house_value  \n",
       "0       322.0       126.0         8.3252            452600.0  \n",
       "1      2401.0      1138.0         8.3014            358500.0  \n",
       "2       496.0       177.0         7.2574            352100.0  \n",
       "3       558.0       219.0         5.6431            341300.0  \n",
       "4       565.0       259.0         3.8462            342200.0  "
      ]
     },
     "execution_count": 2,
     "metadata": {},
     "output_type": "execute_result"
    }
   ],
   "source": [
    "df = pd.read_csv(\"housing.csv\")\n",
    "df = df.drop(['ocean_proximity'], axis=1)\n",
    "df.head()"
   ]
  },
  {
   "cell_type": "code",
   "execution_count": 3,
   "metadata": {},
   "outputs": [
    {
     "data": {
      "text/plain": [
       "total_bedrooms        207\n",
       "longitude               0\n",
       "latitude                0\n",
       "housing_median_age      0\n",
       "total_rooms             0\n",
       "dtype: int64"
      ]
     },
     "execution_count": 3,
     "metadata": {},
     "output_type": "execute_result"
    }
   ],
   "source": [
    "df.isnull().sum().sort_values(ascending=False).head()\n"
   ]
  },
  {
   "cell_type": "code",
   "execution_count": 4,
   "metadata": {},
   "outputs": [],
   "source": [
    "df.loc[(df['total_bedrooms'].isnull() == True), 'total_bedrooms'] = 0\n"
   ]
  },
  {
   "cell_type": "code",
   "execution_count": 5,
   "metadata": {},
   "outputs": [
    {
     "data": {
      "text/plain": [
       "longitude             0\n",
       "latitude              0\n",
       "housing_median_age    0\n",
       "total_rooms           0\n",
       "total_bedrooms        0\n",
       "dtype: int64"
      ]
     },
     "execution_count": 5,
     "metadata": {},
     "output_type": "execute_result"
    }
   ],
   "source": [
    "df.isnull().sum().sort_values(ascending=False).head()"
   ]
  },
  {
   "cell_type": "code",
   "execution_count": 6,
   "metadata": {},
   "outputs": [
    {
     "data": {
      "text/plain": [
       "array([[0.21115538, 0.5674814 , 0.78431373, ..., 0.02055583, 0.53966842,\n",
       "        0.90226638],\n",
       "       [0.21215139, 0.565356  , 0.39215686, ..., 0.18697583, 0.53802706,\n",
       "        0.70824656],\n",
       "       [0.21015936, 0.5642933 , 1.        , ..., 0.02894261, 0.46602805,\n",
       "        0.69505074],\n",
       "       ...,\n",
       "       [0.31175299, 0.73219979, 0.31372549, ..., 0.07104095, 0.08276438,\n",
       "        0.15938285],\n",
       "       [0.30179283, 0.73219979, 0.33333333, ..., 0.05722743, 0.09429525,\n",
       "        0.14371281],\n",
       "       [0.30976096, 0.72582359, 0.29411765, ..., 0.08699227, 0.13025338,\n",
       "        0.15340349]])"
      ]
     },
     "execution_count": 6,
     "metadata": {},
     "output_type": "execute_result"
    }
   ],
   "source": [
    "scaler = MinMaxScaler()\n",
    "df = scaler.fit_transform(df)\n",
    "df\n"
   ]
  },
  {
   "cell_type": "code",
   "execution_count": 7,
   "metadata": {},
   "outputs": [],
   "source": [
    "# Modify your silhouette_coefficient function to handle single-point clusters\n",
    "def silhouette_coefficient(X, labels):\n",
    "    num_samples = len(X)\n",
    "    cluster_labels = np.unique(labels)\n",
    "    num_clusters = len(cluster_labels)\n",
    "\n",
    "    if num_clusters == 1:\n",
    "        return 0.0  # Silhouette Coefficient undefined for one cluster\n",
    "\n",
    "    s = 0.0\n",
    "    for i in range(num_samples):\n",
    "        a_i = 0.0\n",
    "        b_i = float('inf')\n",
    "        if i >= len(labels):\n",
    "            continue  # Handle cases where the index is out of range\n",
    "        cluster_i = labels[i]  # Cluster label of the current point\n",
    "        if np.sum(labels == cluster_i) <= 1:  # Handle single-point clusters\n",
    "            continue\n",
    "        for j in range(num_samples):\n",
    "            if i != j:\n",
    "                if j >= len(labels):\n",
    "                    continue  # Handle cases where the index is out of range\n",
    "                if labels[j] == cluster_i:\n",
    "                    a_i += np.linalg.norm(X[i] - X[j])\n",
    "                else:\n",
    "                    b_ij = np.mean([np.linalg.norm(X[i] - X[p])\n",
    "                                   for p in range(num_samples) if labels[p] == labels[j]])\n",
    "                    b_i = min(b_i, b_ij)\n",
    "\n",
    "        s_i = (b_i - a_i) / max(a_i, b_i)\n",
    "        s += s_i\n",
    "\n",
    "    return s / num_samples\n"
   ]
  },
  {
   "cell_type": "code",
   "execution_count": 8,
   "metadata": {},
   "outputs": [],
   "source": [
    "def dbscan(data, eps, min_samples):\n",
    "    # Helper function to calculate Euclidean distance between two points\n",
    "    def euclidean_distance(point1, point2):\n",
    "        return np.linalg.norm(point1 - point2)\n",
    "\n",
    "    # Helper function to find neighboring points\n",
    "    def find_neighbors(point_index, epsilon):\n",
    "        neighbors = []\n",
    "        for i in range(len(data)):\n",
    "            if i != point_index and euclidean_distance(data[point_index], data[i]) <= epsilon:\n",
    "                neighbors.append(i)\n",
    "        return neighbors\n",
    "\n",
    "    # Initialize labels (0: unvisited, -1: noise, positive integers: cluster labels)\n",
    "    labels = [0] * len(data)\n",
    "    cluster_label = 0\n",
    "\n",
    "    for point_index in range(len(data)):\n",
    "        if labels[point_index] != 0:\n",
    "            continue\n",
    "\n",
    "        neighbors = find_neighbors(point_index, eps)\n",
    "\n",
    "        if len(neighbors) < min_samples:\n",
    "            labels[point_index] = -1  # Mark as noise\n",
    "        else:\n",
    "            cluster_label += 1\n",
    "            labels[point_index] = cluster_label\n",
    "\n",
    "            i = 0\n",
    "            while i < len(neighbors):\n",
    "                current_neighbor = neighbors[i]\n",
    "\n",
    "                if labels[current_neighbor] == -1:\n",
    "                    labels[current_neighbor] = cluster_label\n",
    "\n",
    "                if labels[current_neighbor] == 0:\n",
    "                    labels[current_neighbor] = cluster_label\n",
    "                    new_neighbors = find_neighbors(current_neighbor, eps)\n",
    "\n",
    "                    if len(new_neighbors) >= min_samples:\n",
    "                        neighbors += new_neighbors\n",
    "\n",
    "                i += 1\n",
    "\n",
    "    return labels   \n"
   ]
  },
  {
   "cell_type": "code",
   "execution_count": 9,
   "metadata": {},
   "outputs": [
    {
     "name": "stdout",
     "output_type": "stream",
     "text": [
      "Best parameters: eps=0.5, min_samples=5, Best Silhouette Coefficient=0.6245720645625877\n"
     ]
    }
   ],
   "source": [
    "\n",
    "# 1. Set your DBSCAN parameters\n",
    "eps = 0.5\n",
    "min_samples = 5\n",
    "\n",
    "# 2. Run DBSCAN on the scaled data\n",
    "labels = dbscan(df, eps, min_samples)\n",
    "\n",
    "# db = DBSCAN(eps=0.5, min_samples=5).fit(df)\n",
    "# labels = db.labels_\n",
    "\n",
    "# 3. Filter out noise points (-1) and get valid data\n",
    "valid_labels = [label for label in labels if label != -1]\n",
    "valid_data = df[labels != -1]\n",
    "\n",
    "# # 4. Calculate Silhouette Coefficient for the best parameters\n",
    "silhouette_avg = silhouette_score(valid_data, valid_labels)\n",
    "# silhouette_avg = silhouette_score(df, labels)\n",
    "\n",
    "print(\n",
    "    f\"Best parameters: eps={eps}, min_samples={min_samples}, Best Silhouette Coefficient={silhouette_avg}\")\n"
   ]
  },
  {
   "cell_type": "code",
   "execution_count": 10,
   "metadata": {},
   "outputs": [
    {
     "name": "stdout",
     "output_type": "stream",
     "text": [
      "Silhouette Score for eps=0.5 and min_pts=5: 0.6245720645625877\n"
     ]
    }
   ],
   "source": [
    "# Calculate Silhouette Score\n",
    "silhouette_avg = silhouette_score(df, labels)                                               \n",
    "print(f\"Silhouette Score for eps=0.5 and min_pts=5: {silhouette_avg}\")          "
   ]
  },
  {
   "cell_type": "code",
   "execution_count": 13,
   "metadata": {},
   "outputs": [
    {
     "name": "stdout",
     "output_type": "stream",
     "text": [
      "Best parameters: eps=0.01, min_samples=3, Best Silhouette Coefficient=-0.2091164468712811\n"
     ]
    }
   ],
   "source": [
    "\n",
    "# 1. Set your DBSCAN parameters\n",
    "eps = 0.01\n",
    "min_samples = 3\n",
    "\n",
    "# 2. Run DBSCAN on the scaled data\n",
    "labels = dbscan(df, eps, min_samples)\n",
    "\n",
    "# 3. Filter out noise points (-1) and get valid data\n",
    "valid_labels = [label for label in labels if label != -1]\n",
    "valid_data = df[labels != -1]\n",
    "\n",
    "# # 4. Calculate Silhouette Coefficient for the best parameters\n",
    "silhouette_avg = silhouette_score(valid_data, valid_labels)\n",
    "\n",
    "print(\n",
    "    f\"Best parameters: eps={eps}, min_samples={min_samples}, Best Silhouette Coefficient={silhouette_avg}\")\n"
   ]
  },
  {
   "cell_type": "code",
   "execution_count": 14,
   "metadata": {},
   "outputs": [
    {
     "name": "stdout",
     "output_type": "stream",
     "text": [
      "Best parameters: eps=0.1, min_samples=6, Best Silhouette Coefficient=-0.3827686941565909\n"
     ]
    }
   ],
   "source": [
    "\n",
    "# 1. Set your DBSCAN parameters\n",
    "eps = 0.1\n",
    "min_samples = 6\n",
    "\n",
    "# 2. Run DBSCAN on the scaled data\n",
    "labels = dbscan(df, eps, min_samples)\n",
    "\n",
    "# 3. Filter out noise points (-1) and get valid data\n",
    "valid_labels = [label for label in labels if label != -1]\n",
    "valid_data = df[labels != -1]\n",
    "\n",
    "# # 4. Calculate Silhouette Coefficient for the best parameters\n",
    "silhouette_avg = silhouette_score(valid_data, valid_labels)\n",
    "\n",
    "print(\n",
    "    f\"Best parameters: eps={eps}, min_samples={min_samples}, Best Silhouette Coefficient={silhouette_avg}\")\n"
   ]
  },
  {
   "cell_type": "code",
   "execution_count": 16,
   "metadata": {},
   "outputs": [
    {
     "name": "stdout",
     "output_type": "stream",
     "text": [
      "Best parameters: eps=0.2, min_samples=9, Best Silhouette Coefficient=0.36298796879455447\n"
     ]
    }
   ],
   "source": [
    "\n",
    "# 1. Set your DBSCAN parameters\n",
    "eps = 0.2\n",
    "min_samples = 9\n",
    "\n",
    "# 2. Run DBSCAN on the scaled data\n",
    "labels = dbscan(df, eps, min_samples)\n",
    "# db = DBSCAN(eps=0.2, min_samples=9).fit(df)\n",
    "# labels = db.labels_\n",
    "\n",
    "# 3. Filter out noise points (-1) and get valid data\n",
    "valid_labels = [label for label in labels if label != -1]\n",
    "valid_data = df[labels != -1]\n",
    "\n",
    "# # 4. Calculate Silhouette Coefficient for the best parameters\n",
    "silhouette_avg = silhouette_score(valid_data, valid_labels)\n",
    "# silhouette_avg = silhouette_score(df, labels)\n",
    "\n",
    "print(\n",
    "    f\"Best parameters: eps={eps}, min_samples={min_samples}, Best Silhouette Coefficient={silhouette_avg}\")\n"
   ]
  },
  {
   "cell_type": "code",
   "execution_count": 26,
   "metadata": {},
   "outputs": [
    {
     "name": "stdout",
     "output_type": "stream",
     "text": [
      "Best parameters: eps=0.6, min_samples=15, Best Silhouette Coefficient=0.6267714862377932\n"
     ]
    }
   ],
   "source": [
    "\n",
    "# 1. Set your DBSCAN parameters\n",
    "eps = 0.6\n",
    "min_samples = 15\n",
    "\n",
    "# 2. Run DBSCAN on the scaled data\n",
    "labels = dbscan(df, eps, min_samples)\n",
    "# db = DBSCAN(eps=0.6, min_samples=15).fit(df)\n",
    "# labels = db.labels_\n",
    "\n",
    "# 3. Filter out noise points (-1) and get valid data\n",
    "valid_labels = [label for label in labels if label != -1]\n",
    "valid_data = df[labels != -1]\n",
    "\n",
    "# # 4. Calculate Silhouette Coefficient for the best parameters\n",
    "silhouette_avg = silhouette_score(valid_data, valid_labels)\n",
    "# silhouette_avg = silhouette_score(df, labels)\n",
    "\n",
    "print(\n",
    "    f\"Best parameters: eps={eps}, min_samples={min_samples}, Best Silhouette Coefficient={silhouette_avg}\")\n"
   ]
  },
  {
   "cell_type": "code",
   "execution_count": null,
   "metadata": {},
   "outputs": [],
   "source": []
  },
  {
   "cell_type": "code",
   "execution_count": null,
   "metadata": {},
   "outputs": [],
   "source": []
  },
  {
   "cell_type": "code",
   "execution_count": null,
   "metadata": {},
   "outputs": [],
   "source": []
  },
  {
   "cell_type": "code",
   "execution_count": null,
   "metadata": {},
   "outputs": [],
   "source": []
  },
  {
   "cell_type": "code",
   "execution_count": null,
   "metadata": {},
   "outputs": [],
   "source": []
  },
  {
   "cell_type": "code",
   "execution_count": null,
   "metadata": {},
   "outputs": [],
   "source": []
  },
  {
   "cell_type": "code",
   "execution_count": 25,
   "metadata": {},
   "outputs": [],
   "source": [
    "\n",
    "# # 1. Set your DBSCAN parameters\n",
    "# eps = 0.7\n",
    "# min_samples = 9\n",
    "\n",
    "# # 2. Run DBSCAN on the scaled data\n",
    "# # labels = dbscan(df, eps, min_samples)\n",
    "\n",
    "# db = DBSCAN(eps=0.8, min_samples=12).fit(df)\n",
    "# labels = db.labels_\n",
    "\n",
    "\n",
    "# # 3. Filter out noise points (-1) and get valid data\n",
    "# valid_labels = [label for label in labels if label != -1]\n",
    "# valid_data = df[labels != -1]\n",
    "\n",
    "# # # 4. Calculate Silhouette Coefficient for the best parameters\n",
    "# # silhouette_avg = silhouette_score(valid_data, valid_labels)\n",
    "# silhouette_avg = silhouette_score(df, labels)\n",
    "\n",
    "# print(\n",
    "#     f\"Best parameters: eps={eps}, min_samples={min_samples}, Best Silhouette Coefficient={silhouette_avg}\")\n"
   ]
  },
  {
   "cell_type": "code",
   "execution_count": 24,
   "metadata": {},
   "outputs": [],
   "source": [
    "# # Set parameters for DBSCAN\n",
    "# eps_values = [0.01, 0.1, 0.2, 0.5, 0.8, 1.0]\n",
    "# min_samples_values = [3, 6, 9, 12, 15, 18]\n",
    "\n",
    "# # Initialize the best_silhouette value\n",
    "# best_silhouette = -1.0\n",
    "\n",
    "# # Iterate through different combinations of eps and min_samples\n",
    "# for i in range(len(eps_values)):\n",
    "#     eps = eps_values[i]\n",
    "#     min_samples = min_samples_values[i]\n",
    "\n",
    "#     # Fit DBSCAN to the data\n",
    "#     db = DBSCAN(eps=eps, min_samples=min_samples).fit(df)\n",
    "#     # labels = db.fit_predict(df)\n",
    "    \n",
    "#     # db = DBSCAN(eps=0.5, min_samples=5).fit(X)\n",
    "#     labels = db.labels_\n",
    "#     # print(labels)\n",
    "\n",
    "#     # Filter out noise points (-1)\n",
    "#     valid_labels = [label for label in labels if label != -1]\n",
    "#     valid_data = df[labels != -1]\n",
    "\n",
    "#     # Calculate Silhouette Coefficient\n",
    "#     silhouette_avg = silhouette_score(valid_data, valid_labels)\n",
    "\n",
    "#     print(\n",
    "#         f\"eps={eps}, min_samples={min_samples}, Silhouette Coefficient={silhouette_avg}\")\n",
    "\n",
    "#     if silhouette_avg > best_silhouette:\n",
    "#         best_silhouette = silhouette_avg\n",
    "#         best_eps = eps\n",
    "#         best_min_samples = min_samples\n",
    "\n",
    "# print(\n",
    "#     f\"Best parameters: eps={best_eps}, min_samples={best_min_samples}, Best Silhouette Coefficient={best_silhouette}\")\n"
   ]
  },
  {
   "cell_type": "code",
   "execution_count": null,
   "metadata": {},
   "outputs": [],
   "source": [
    "            "
   ]
  }
 ],
 "metadata": {
  "kernelspec": {
   "display_name": "Python 3",
   "language": "python",
   "name": "python3"
  },
  "language_info": {
   "codemirror_mode": {
    "name": "ipython",
    "version": 3
   },
   "file_extension": ".py",
   "mimetype": "text/x-python",
   "name": "python",
   "nbconvert_exporter": "python",
   "pygments_lexer": "ipython3",
   "version": "3.11.2"
  }
 },
 "nbformat": 4,
 "nbformat_minor": 2
}
