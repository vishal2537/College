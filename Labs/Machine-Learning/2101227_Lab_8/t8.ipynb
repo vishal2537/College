{
 "cells": [
  {
   "cell_type": "code",
   "execution_count": 14,
   "id": "c153cc51",
   "metadata": {},
   "outputs": [],
   "source": [
    "import numpy as np \n",
    "import pandas as pd \n",
    "from sklearn.preprocessing import LabelEncoder\n",
    "from sklearn.preprocessing import MinMaxScaler\n",
    "from sklearn.preprocessing import StandardScaler"
   ]
  },
  {
   "cell_type": "code",
   "execution_count": 15,
   "id": "c400c13c",
   "metadata": {},
   "outputs": [
    {
     "name": "stdout",
     "output_type": "stream",
     "text": [
      "(20640, 10)\n"
     ]
    },
    {
     "data": {
      "text/html": [
       "<div>\n",
       "<style scoped>\n",
       "    .dataframe tbody tr th:only-of-type {\n",
       "        vertical-align: middle;\n",
       "    }\n",
       "\n",
       "    .dataframe tbody tr th {\n",
       "        vertical-align: top;\n",
       "    }\n",
       "\n",
       "    .dataframe thead th {\n",
       "        text-align: right;\n",
       "    }\n",
       "</style>\n",
       "<table border=\"1\" class=\"dataframe\">\n",
       "  <thead>\n",
       "    <tr style=\"text-align: right;\">\n",
       "      <th></th>\n",
       "      <th>longitude</th>\n",
       "      <th>latitude</th>\n",
       "      <th>housing_median_age</th>\n",
       "      <th>total_rooms</th>\n",
       "      <th>total_bedrooms</th>\n",
       "      <th>population</th>\n",
       "      <th>households</th>\n",
       "      <th>median_income</th>\n",
       "      <th>median_house_value</th>\n",
       "      <th>ocean_proximity</th>\n",
       "    </tr>\n",
       "  </thead>\n",
       "  <tbody>\n",
       "    <tr>\n",
       "      <th>0</th>\n",
       "      <td>-122.23</td>\n",
       "      <td>37.88</td>\n",
       "      <td>41.0</td>\n",
       "      <td>880.0</td>\n",
       "      <td>129.0</td>\n",
       "      <td>322.0</td>\n",
       "      <td>126.0</td>\n",
       "      <td>8.3252</td>\n",
       "      <td>452600.0</td>\n",
       "      <td>NEAR BAY</td>\n",
       "    </tr>\n",
       "    <tr>\n",
       "      <th>1</th>\n",
       "      <td>-122.22</td>\n",
       "      <td>37.86</td>\n",
       "      <td>21.0</td>\n",
       "      <td>7099.0</td>\n",
       "      <td>1106.0</td>\n",
       "      <td>2401.0</td>\n",
       "      <td>1138.0</td>\n",
       "      <td>8.3014</td>\n",
       "      <td>358500.0</td>\n",
       "      <td>NEAR BAY</td>\n",
       "    </tr>\n",
       "    <tr>\n",
       "      <th>2</th>\n",
       "      <td>-122.24</td>\n",
       "      <td>37.85</td>\n",
       "      <td>52.0</td>\n",
       "      <td>1467.0</td>\n",
       "      <td>190.0</td>\n",
       "      <td>496.0</td>\n",
       "      <td>177.0</td>\n",
       "      <td>7.2574</td>\n",
       "      <td>352100.0</td>\n",
       "      <td>NEAR BAY</td>\n",
       "    </tr>\n",
       "    <tr>\n",
       "      <th>3</th>\n",
       "      <td>-122.25</td>\n",
       "      <td>37.85</td>\n",
       "      <td>52.0</td>\n",
       "      <td>1274.0</td>\n",
       "      <td>235.0</td>\n",
       "      <td>558.0</td>\n",
       "      <td>219.0</td>\n",
       "      <td>5.6431</td>\n",
       "      <td>341300.0</td>\n",
       "      <td>NEAR BAY</td>\n",
       "    </tr>\n",
       "    <tr>\n",
       "      <th>4</th>\n",
       "      <td>-122.25</td>\n",
       "      <td>37.85</td>\n",
       "      <td>52.0</td>\n",
       "      <td>1627.0</td>\n",
       "      <td>280.0</td>\n",
       "      <td>565.0</td>\n",
       "      <td>259.0</td>\n",
       "      <td>3.8462</td>\n",
       "      <td>342200.0</td>\n",
       "      <td>NEAR BAY</td>\n",
       "    </tr>\n",
       "  </tbody>\n",
       "</table>\n",
       "</div>"
      ],
      "text/plain": [
       "   longitude  latitude  housing_median_age  total_rooms  total_bedrooms  \\\n",
       "0    -122.23     37.88                41.0        880.0           129.0   \n",
       "1    -122.22     37.86                21.0       7099.0          1106.0   \n",
       "2    -122.24     37.85                52.0       1467.0           190.0   \n",
       "3    -122.25     37.85                52.0       1274.0           235.0   \n",
       "4    -122.25     37.85                52.0       1627.0           280.0   \n",
       "\n",
       "   population  households  median_income  median_house_value ocean_proximity  \n",
       "0       322.0       126.0         8.3252            452600.0        NEAR BAY  \n",
       "1      2401.0      1138.0         8.3014            358500.0        NEAR BAY  \n",
       "2       496.0       177.0         7.2574            352100.0        NEAR BAY  \n",
       "3       558.0       219.0         5.6431            341300.0        NEAR BAY  \n",
       "4       565.0       259.0         3.8462            342200.0        NEAR BAY  "
      ]
     },
     "execution_count": 15,
     "metadata": {},
     "output_type": "execute_result"
    }
   ],
   "source": [
    "data= pd.read_csv(\"housing.csv\")\n",
    "print(data.shape)\n",
    "data.head()"
   ]
  },
  {
   "cell_type": "markdown",
   "id": "ff2756c2",
   "metadata": {},
   "source": [
    "# Data Preprocessing"
   ]
  },
  {
   "cell_type": "code",
   "execution_count": 16,
   "id": "4d8f559a",
   "metadata": {},
   "outputs": [
    {
     "data": {
      "text/plain": [
       "longitude               0\n",
       "latitude                0\n",
       "housing_median_age      0\n",
       "total_rooms             0\n",
       "total_bedrooms        207\n",
       "population              0\n",
       "households              0\n",
       "median_income           0\n",
       "median_house_value      0\n",
       "ocean_proximity         0\n",
       "dtype: int64"
      ]
     },
     "execution_count": 16,
     "metadata": {},
     "output_type": "execute_result"
    }
   ],
   "source": [
    "# checking for missing values\n",
    "# number of instances where values are missing in different columns\n",
    "data.isnull().sum()"
   ]
  },
  {
   "cell_type": "code",
   "execution_count": 17,
   "id": "4d3ba4a9",
   "metadata": {},
   "outputs": [
    {
     "data": {
      "text/plain": [
       "longitude             0\n",
       "latitude              0\n",
       "housing_median_age    0\n",
       "total_rooms           0\n",
       "total_bedrooms        0\n",
       "population            0\n",
       "households            0\n",
       "median_income         0\n",
       "median_house_value    0\n",
       "ocean_proximity       0\n",
       "dtype: int64"
      ]
     },
     "execution_count": 17,
     "metadata": {},
     "output_type": "execute_result"
    }
   ],
   "source": [
    "# dropping data points where total_bedrooms is empty\n",
    "data = data.dropna(subset=[\"total_bedrooms\"])\n",
    "\n",
    "# Alternative : replacing missing values with thier mean\n",
    "# data.loc[(data['total_bedrooms'].isnull()==True),'total_bedrooms']=data['total_bedrooms'].mean()\n",
    "\n",
    "data.isnull().sum()"
   ]
  },
  {
   "cell_type": "code",
   "execution_count": 18,
   "id": "78b91aec",
   "metadata": {},
   "outputs": [
    {
     "data": {
      "text/plain": [
       "<1H OCEAN     9034\n",
       "INLAND        6496\n",
       "NEAR OCEAN    2628\n",
       "NEAR BAY      2270\n",
       "ISLAND           5\n",
       "Name: ocean_proximity, dtype: int64"
      ]
     },
     "execution_count": 18,
     "metadata": {},
     "output_type": "execute_result"
    }
   ],
   "source": [
    "data[\"ocean_proximity\"].value_counts()"
   ]
  },
  {
   "cell_type": "code",
   "execution_count": 19,
   "id": "0c3c092c",
   "metadata": {},
   "outputs": [],
   "source": [
    "label_encoder = LabelEncoder()\n",
    "# adding a new column ocean_proximity_N\n",
    "data['ocean_proximity_N']=label_encoder.fit_transform(data['ocean_proximity'])\n",
    "# dropping ocean_proximity\n",
    "data.drop('ocean_proximity', inplace=True, axis=1)\n",
    "data.drop('ocean_proximity_N', inplace=True, axis=1)"
   ]
  },
  {
   "cell_type": "code",
   "execution_count": 20,
   "id": "9fbc3572",
   "metadata": {},
   "outputs": [
    {
     "name": "stdout",
     "output_type": "stream",
     "text": [
      "(5000, 9)\n"
     ]
    },
    {
     "data": {
      "text/html": [
       "<div>\n",
       "<style scoped>\n",
       "    .dataframe tbody tr th:only-of-type {\n",
       "        vertical-align: middle;\n",
       "    }\n",
       "\n",
       "    .dataframe tbody tr th {\n",
       "        vertical-align: top;\n",
       "    }\n",
       "\n",
       "    .dataframe thead th {\n",
       "        text-align: right;\n",
       "    }\n",
       "</style>\n",
       "<table border=\"1\" class=\"dataframe\">\n",
       "  <thead>\n",
       "    <tr style=\"text-align: right;\">\n",
       "      <th></th>\n",
       "      <th>longitude</th>\n",
       "      <th>latitude</th>\n",
       "      <th>housing_median_age</th>\n",
       "      <th>total_rooms</th>\n",
       "      <th>total_bedrooms</th>\n",
       "      <th>population</th>\n",
       "      <th>households</th>\n",
       "      <th>median_income</th>\n",
       "      <th>median_house_value</th>\n",
       "    </tr>\n",
       "  </thead>\n",
       "  <tbody>\n",
       "    <tr>\n",
       "      <th>0</th>\n",
       "      <td>-122.23</td>\n",
       "      <td>37.88</td>\n",
       "      <td>41.0</td>\n",
       "      <td>880.0</td>\n",
       "      <td>129.0</td>\n",
       "      <td>322.0</td>\n",
       "      <td>126.0</td>\n",
       "      <td>8.3252</td>\n",
       "      <td>452600.0</td>\n",
       "    </tr>\n",
       "    <tr>\n",
       "      <th>1</th>\n",
       "      <td>-122.22</td>\n",
       "      <td>37.86</td>\n",
       "      <td>21.0</td>\n",
       "      <td>7099.0</td>\n",
       "      <td>1106.0</td>\n",
       "      <td>2401.0</td>\n",
       "      <td>1138.0</td>\n",
       "      <td>8.3014</td>\n",
       "      <td>358500.0</td>\n",
       "    </tr>\n",
       "    <tr>\n",
       "      <th>2</th>\n",
       "      <td>-122.24</td>\n",
       "      <td>37.85</td>\n",
       "      <td>52.0</td>\n",
       "      <td>1467.0</td>\n",
       "      <td>190.0</td>\n",
       "      <td>496.0</td>\n",
       "      <td>177.0</td>\n",
       "      <td>7.2574</td>\n",
       "      <td>352100.0</td>\n",
       "    </tr>\n",
       "    <tr>\n",
       "      <th>3</th>\n",
       "      <td>-122.25</td>\n",
       "      <td>37.85</td>\n",
       "      <td>52.0</td>\n",
       "      <td>1274.0</td>\n",
       "      <td>235.0</td>\n",
       "      <td>558.0</td>\n",
       "      <td>219.0</td>\n",
       "      <td>5.6431</td>\n",
       "      <td>341300.0</td>\n",
       "    </tr>\n",
       "    <tr>\n",
       "      <th>4</th>\n",
       "      <td>-122.25</td>\n",
       "      <td>37.85</td>\n",
       "      <td>52.0</td>\n",
       "      <td>1627.0</td>\n",
       "      <td>280.0</td>\n",
       "      <td>565.0</td>\n",
       "      <td>259.0</td>\n",
       "      <td>3.8462</td>\n",
       "      <td>342200.0</td>\n",
       "    </tr>\n",
       "  </tbody>\n",
       "</table>\n",
       "</div>"
      ],
      "text/plain": [
       "   longitude  latitude  housing_median_age  total_rooms  total_bedrooms  \\\n",
       "0    -122.23     37.88                41.0        880.0           129.0   \n",
       "1    -122.22     37.86                21.0       7099.0          1106.0   \n",
       "2    -122.24     37.85                52.0       1467.0           190.0   \n",
       "3    -122.25     37.85                52.0       1274.0           235.0   \n",
       "4    -122.25     37.85                52.0       1627.0           280.0   \n",
       "\n",
       "   population  households  median_income  median_house_value  \n",
       "0       322.0       126.0         8.3252            452600.0  \n",
       "1      2401.0      1138.0         8.3014            358500.0  \n",
       "2       496.0       177.0         7.2574            352100.0  \n",
       "3       558.0       219.0         5.6431            341300.0  \n",
       "4       565.0       259.0         3.8462            342200.0  "
      ]
     },
     "execution_count": 20,
     "metadata": {},
     "output_type": "execute_result"
    }
   ],
   "source": [
    "# taking only first 5000 data samples to reduce computation time\n",
    "data = data.iloc[:5000, :]\n",
    "\n",
    "# scale = StandardScaler()\n",
    "# X = scale.fit_transform(data)\n",
    "\n",
    "# Scale the numerical features to be between 0 and 1\n",
    "scaler = MinMaxScaler()\n",
    "X = scaler.fit_transform(data)\n",
    "\n",
    "print(data.shape)\n",
    "data.head()"
   ]
  },
  {
   "cell_type": "markdown",
   "id": "6e6d6de3",
   "metadata": {},
   "source": [
    "# DBSCAN"
   ]
  },
  {
   "cell_type": "code",
   "execution_count": 21,
   "id": "c7e024c8",
   "metadata": {},
   "outputs": [],
   "source": [
    "import math\n",
    "import time"
   ]
  },
  {
   "cell_type": "code",
   "execution_count": 22,
   "id": "47b6309f",
   "metadata": {},
   "outputs": [],
   "source": [
    "# Calculate the Silhouette Coefficient\n",
    "def silhouette_coefficient(X, labels):\n",
    "    num_samples = len(X)\n",
    "    cluster_labels = np.unique(labels)\n",
    "    num_clusters = len(cluster_labels)\n",
    "\n",
    "    if num_clusters == 1:\n",
    "        return 0.0  # Silhouette Coefficient undefined for one cluster\n",
    "\n",
    "    s = 0.0\n",
    "    for i in range(num_samples):\n",
    "        a_i = 0.0\n",
    "        b_i = float('inf')\n",
    "        cluster_i = labels[i]  # Cluster label of the current point\n",
    "        for j in range(num_samples):\n",
    "            if i != j:\n",
    "                if labels[j] == cluster_i:\n",
    "                    a_i += np.linalg.norm(X[i] - X[j])\n",
    "                else:\n",
    "                    b_ij = np.mean([np.linalg.norm(X[i] - X[p])\n",
    "                                   for p in range(num_samples) if labels[p] == labels[j]])\n",
    "                    b_i = min(b_i, b_ij)\n",
    "\n",
    "        s_i = (b_i - a_i) / max(a_i, b_i)\n",
    "        s += s_i\n",
    "\n",
    "    return s / num_samples\n"
   ]
  },
  {
   "cell_type": "code",
   "execution_count": 23,
   "id": "7b7f6736",
   "metadata": {},
   "outputs": [],
   "source": [
    "def getNeighbours(data, corePoint, eps):\n",
    "    \n",
    "    def EuclideanDistance(p1, p2):\n",
    "        return  np.sqrt(np.sum(np.square(p1 - p2)))\n",
    "    \n",
    "    neighbours = []\n",
    "    \n",
    "    for i in range(len(data)):\n",
    "        dist = EuclideanDistance(data[i], data[corePoint])\n",
    "        \n",
    "        if dist < eps:\n",
    "            neighbours.append(i)\n",
    "            \n",
    "    return neighbours"
   ]
  },
  {
   "cell_type": "code",
   "execution_count": 24,
   "id": "71f06ddf",
   "metadata": {},
   "outputs": [],
   "source": [
    "def dbScan(data, eps, MinPts):\n",
    "    \n",
    "    def growCluster(data, labels, corePoint, \n",
    "                    neighbours, clusterID, eps, MinPts):\n",
    "        labels[corePoint] = clusterID\n",
    "        i = 0\n",
    "        while i < len(neighbours):    \n",
    "            nh = neighbours[i]\n",
    "\n",
    "            if labels[nh] == -1:\n",
    "                labels[nh] = clusterID\n",
    "            elif labels[nh] == 0:\n",
    "                labels[nh] = clusterID\n",
    "                PnNeighbours = getNeighbours(data, nh, eps)\n",
    "\n",
    "                if len(PnNeighbours) >= MinPts:\n",
    "                    neighbours = neighbours + PnNeighbours\n",
    "            i += 1\n",
    "            \n",
    "    labels = np.zeros(len(data))\n",
    "    clusterID = 0\n",
    "    \n",
    "    for p in range(len(data)):\n",
    "        if labels[p] == 0:\n",
    "            neighbours = getNeighbours(data, p, eps)\n",
    "            \n",
    "            if len(neighbours) < MinPts:\n",
    "                labels[p] = -1\n",
    "            else:\n",
    "                clusterID += 1\n",
    "                growCluster(data, labels, p, neighbours, \n",
    "                            clusterID, eps, MinPts)\n",
    "                \n",
    "    return labels"
   ]
  },
  {
   "cell_type": "code",
   "execution_count": 25,
   "id": "b5bf414b",
   "metadata": {},
   "outputs": [],
   "source": [
    "def numNoise(labels):\n",
    "    \"\"\"\n",
    "    @param labels: Predicted labels\n",
    "    @return number of noise determined by cluster algorithm \n",
    "    \"\"\"\n",
    "    return int(abs(np.sum(labels[labels < 0])))\n",
    "    \n",
    "def nClusters(labels):\n",
    "    \"\"\"\n",
    "    @param labels: Predicted labels\n",
    "    @return number of cluseters \n",
    "    \"\"\"\n",
    "    return len(np.unique(labels[labels > 0]))"
   ]
  },
  {
   "cell_type": "code",
   "execution_count": 26,
   "id": "eede34ac",
   "metadata": {},
   "outputs": [],
   "source": [
    "sT = time.time()\n",
    "labels = dbScan(X, 0.5, 5)\n",
    "eT = time.time()"
   ]
  },
  {
   "cell_type": "code",
   "execution_count": 27,
   "id": "31e5aada",
   "metadata": {},
   "outputs": [
    {
     "name": "stdout",
     "output_type": "stream",
     "text": [
      "DBSCAN took 118.317 seconds\n",
      "Number of clusters = 1\n",
      "Number of noise points = 1\n"
     ]
    }
   ],
   "source": [
    "print('DBSCAN took {:.3f} seconds'.format(eT-sT))\n",
    "print('Number of clusters = {}'.format(nClusters(labels)))\n",
    "print('Number of noise points = {}'.format(numNoise(labels)))"
   ]
  },
  {
   "cell_type": "code",
   "execution_count": 28,
   "id": "02be0d57",
   "metadata": {},
   "outputs": [],
   "source": [
    "# score = silhouette_coefficient(X, labels)\n",
    "# print('silhouette_coefficient', score)"
   ]
  },
  {
   "cell_type": "code",
   "execution_count": 29,
   "id": "c314b26f",
   "metadata": {},
   "outputs": [
    {
     "name": "stdout",
     "output_type": "stream",
     "text": [
      "Silhouette Score for eps=0.5 and min_pts=5: 0.5016937576906915\n"
     ]
    }
   ],
   "source": [
    "# Calculate Silhouette Score\n",
    "silhouette_avg = silhouette_score(data, labels)\n",
    "print(f\"Silhouette Score for eps=0.5 and min_pts=5: {silhouette_avg}\")"
   ]
  },
  {
   "cell_type": "markdown",
   "id": "2ac4d9cd",
   "metadata": {},
   "source": [
    "# Verify with sklearn"
   ]
  },
  {
   "cell_type": "code",
   "execution_count": 30,
   "id": "eb158ea1",
   "metadata": {},
   "outputs": [
    {
     "name": "stdout",
     "output_type": "stream",
     "text": [
      "Number of clusters = 1\n"
     ]
    }
   ],
   "source": [
    "from sklearn.cluster import DBSCAN\n",
    "db = DBSCAN(eps = 0.5, min_samples = 5).fit(X)\n",
    "labels1 = db.labels_\n",
    "print('Number of clusters = {}'.format(nClusters(labels1) + 1))"
   ]
  },
  {
   "cell_type": "code",
   "execution_count": 31,
   "id": "b8fcf04d",
   "metadata": {},
   "outputs": [
    {
     "name": "stdout",
     "output_type": "stream",
     "text": [
      "Silhouette Score for eps=0.5 and min_pts=5: 0.5016937576906915\n"
     ]
    }
   ],
   "source": [
    "from sklearn.metrics import silhouette_score\n",
    "silhouette_avg = silhouette_score(data, labels1)\n",
    "print(f\"Silhouette Score for eps=0.5 and min_pts=5: {silhouette_avg}\")"
   ]
  },
  {
   "cell_type": "markdown",
   "id": "9152f523",
   "metadata": {},
   "source": [
    "# Test for different values of Eps and Min_points"
   ]
  },
  {
   "cell_type": "code",
   "execution_count": 33,
   "id": "51e76bd2",
   "metadata": {},
   "outputs": [
    {
     "name": "stdout",
     "output_type": "stream",
     "text": [
      "Number of clusters = 13\n",
      "Silhouette Score for eps=0.5 and min_pts=5: -0.6078854612073233\n"
     ]
    }
   ],
   "source": [
    "# eps = 0.1 min_samples = 6\n",
    "from sklearn.cluster import DBSCAN\n",
    "db = DBSCAN(eps = 0.1, min_samples = 6).fit(X)\n",
    "labels1 = db.labels_\n",
    "print('Number of clusters = {}'.format(nClusters(labels1) + 1))\n",
    "from sklearn.metrics import silhouette_score\n",
    "silhouette_avg = silhouette_score(data, labels1)\n",
    "print(f\"Silhouette Score for eps=0.5 and min_pts=5: {silhouette_avg}\")"
   ]
  },
  {
   "cell_type": "code",
   "execution_count": 34,
   "id": "a012b6ec",
   "metadata": {},
   "outputs": [
    {
     "name": "stdout",
     "output_type": "stream",
     "text": [
      "Number of clusters = 2\n",
      "Silhouette Score for eps=0.5 and min_pts=5: -0.2222213987714873\n"
     ]
    }
   ],
   "source": [
    "# eps = 0.2 min_samples = 9\n",
    "from sklearn.cluster import DBSCAN\n",
    "db = DBSCAN(eps = 0.2, min_samples = 9).fit(X)\n",
    "labels1 = db.labels_\n",
    "print('Number of clusters = {}'.format(nClusters(labels1) + 1))\n",
    "from sklearn.metrics import silhouette_score\n",
    "silhouette_avg = silhouette_score(data, labels1)\n",
    "print(f\"Silhouette Score for eps=0.5 and min_pts=5: {silhouette_avg}\")"
   ]
  },
  {
   "cell_type": "code",
   "execution_count": 36,
   "id": "8cc3bdbc",
   "metadata": {},
   "outputs": [
    {
     "name": "stdout",
     "output_type": "stream",
     "text": [
      "Number of clusters = 1\n",
      "Silhouette Score for eps=0.5 and min_pts=5: 0.3582920361087843\n"
     ]
    }
   ],
   "source": [
    "# eps = 0.5 min_samples = 12\n",
    "from sklearn.cluster import DBSCAN\n",
    "db = DBSCAN(eps = 0.5, min_samples = 12).fit(X)\n",
    "labels1 = db.labels_\n",
    "print('Number of clusters = {}'.format(nClusters(labels1) + 1))\n",
    "from sklearn.metrics import silhouette_score\n",
    "silhouette_avg = silhouette_score(data, labels1)\n",
    "print(f\"Silhouette Score for eps=0.5 and min_pts=5: {silhouette_avg}\")"
   ]
  },
  {
   "cell_type": "code",
   "execution_count": 43,
   "id": "4325e6bd",
   "metadata": {},
   "outputs": [
    {
     "name": "stdout",
     "output_type": "stream",
     "text": [
      "Number of clusters = 1\n",
      "Silhouette Score for eps=0.5 and min_pts=5: 0.5016937576906915\n"
     ]
    }
   ],
   "source": [
    "# eps = 0.6 min_samples = 15\n",
    "from sklearn.cluster import DBSCAN\n",
    "db = DBSCAN(eps = 0.6, min_samples = 15).fit(X)\n",
    "labels1 = db.labels_\n",
    "print('Number of clusters = {}'.format(nClusters(labels1) + 1))\n",
    "from sklearn.metrics import silhouette_score\n",
    "silhouette_avg = silhouette_score(data, labels1)\n",
    "print(f\"Silhouette Score for eps=0.5 and min_pts=5: {silhouette_avg}\")"
   ]
  },
  {
   "cell_type": "code",
   "execution_count": 46,
   "id": "2070aa7c",
   "metadata": {},
   "outputs": [
    {
     "name": "stdout",
     "output_type": "stream",
     "text": [
      "Number of clusters = 1\n",
      "Silhouette Score for eps=0.5 and min_pts=5: 0.5016937576906915\n"
     ]
    }
   ],
   "source": [
    "# eps = 0.7 min_samples = 18\n",
    "from sklearn.cluster import DBSCAN\n",
    "db = DBSCAN(eps = 0.6, min_samples = 18).fit(X)\n",
    "labels1 = db.labels_\n",
    "print('Number of clusters = {}'.format(nClusters(labels1) + 1))\n",
    "from sklearn.metrics import silhouette_score\n",
    "silhouette_avg = silhouette_score(data, labels1)\n",
    "print(f\"Silhouette Score for eps=0.5 and min_pts=5: {silhouette_avg}\")"
   ]
  },
  {
   "cell_type": "code",
   "execution_count": null,
   "id": "84eebff2",
   "metadata": {},
   "outputs": [],
   "source": []
  }
 ],
 "metadata": {
  "kernelspec": {
   "display_name": "Python 3 (ipykernel)",
   "language": "python",
   "name": "python3"
  },
  "language_info": {
   "codemirror_mode": {
    "name": "ipython",
    "version": 3
   },
   "file_extension": ".py",
   "mimetype": "text/x-python",
   "name": "python",
   "nbconvert_exporter": "python",
   "pygments_lexer": "ipython3",
   "version": "3.11.1"
  }
 },
 "nbformat": 4,
 "nbformat_minor": 5
}
